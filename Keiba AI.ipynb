{
 "cells": [
  {
   "cell_type": "markdown",
   "metadata": {},
   "source": [
    "# レース結果取得"
   ]
  },
  {
   "cell_type": "markdown",
   "metadata": {},
   "source": [
    "## 各種インポート"
   ]
  },
  {
   "cell_type": "code",
   "execution_count": 56,
   "metadata": {},
   "outputs": [],
   "source": [
    "import pandas as pd\n",
    "import time\n",
    "from tqdm import tqdm_notebook as tqdm\n",
    "import requests\n",
    "from bs4 import BeautifulSoup\n",
    "import re"
   ]
  },
  {
   "cell_type": "code",
   "execution_count": 53,
   "metadata": {
    "code_folding": [
     0
    ]
   },
   "outputs": [],
   "source": [
    "def scraping_race_result(id_list, pre_race_results={}):\n",
    "    race_results = pre_race_results\n",
    "    \n",
    "    for race_id in tqdm(id_list):\n",
    "        if race_id in pre_race_results.keys():\n",
    "            continue\n",
    "        try:\n",
    "            url='https://db.netkeiba.com/race/' + race_id\n",
    "            df = pd.read_html(url)[0]\n",
    "            \n",
    "            #horse_idとjockey_idを入れる\n",
    "            html = requests.get(url)\n",
    "            html.encoding = 'EUC-JP'\n",
    "            soup = BeautifulSoup(html.text, 'html.parser')\n",
    "            \n",
    "            horse_id_list = []\n",
    "            horse_a_list = soup.find('table',attrs={'summary':'レース結果'})\\\n",
    "                .find_all('a',attrs={'href':re.compile('^/horse')})\n",
    "            for a in horse_a_list:\n",
    "                horse_id = re.findall(r'\\d+', a['href'])\n",
    "                horse_id_list.append(horse_id[0])\n",
    "                \n",
    "            jockey_id_list = []\n",
    "            jockey_a_list = soup.find('table',attrs={'summary':'レース結果'})\\\n",
    "                .find_all('a',attrs={'href':re.compile('^/jockey')})\n",
    "            for a in jockey_a_list:\n",
    "                jockey_id = re.findall(r'\\d+', a['href'])\n",
    "                jockey_id_list.append(jockey_id[0])\n",
    "                \n",
    "            df['horse_id'] = horse_id_list\n",
    "            df['jockey_id'] = jockey_id_list\n",
    "            \n",
    "            race_results[race_id] = df\n",
    "            \n",
    "            time.sleep(0.1)\n",
    "        except IndexError:\n",
    "            continue\n",
    "        except:\n",
    "            break\n",
    "    return race_results"
   ]
  },
  {
   "cell_type": "markdown",
   "metadata": {},
   "source": [
    "年＋場所（01:札幌,02:函館,03:福島,04:新潟,05:東京,06:中山,07:中京,08:京都,09:阪神,10:小倉）＋回＋月日＋ラウンド"
   ]
  },
  {
   "cell_type": "code",
   "execution_count": 52,
   "metadata": {},
   "outputs": [],
   "source": [
    "race_id_list = []\n",
    "for place in range(1,11,1):\n",
    "    for kai in range(1,6,1):\n",
    "        for day in range(1,9,1):\n",
    "            for r in range(1,13,1):\n",
    "                race_id = '2019' + str(place).zfill(2) + str(kai).zfill(2) + str(day).zfill(2) + str(r).zfill(2)\n",
    "                race_id_list.append(race_id)"
   ]
  },
  {
   "cell_type": "code",
   "execution_count": 54,
   "metadata": {},
   "outputs": [
    {
     "name": "stderr",
     "output_type": "stream",
     "text": [
      "C:\\Users\\owner\\anaconda3\\lib\\site-packages\\ipykernel_launcher.py:4: TqdmDeprecationWarning: This function will be removed in tqdm==5.0.0\n",
      "Please use `tqdm.notebook.tqdm` instead of `tqdm.tqdm_notebook`\n",
      "  after removing the cwd from sys.path.\n"
     ]
    },
    {
     "data": {
      "application/vnd.jupyter.widget-view+json": {
       "model_id": "283d465f83ab4ec8bdf94d1256e40992",
       "version_major": 2,
       "version_minor": 0
      },
      "text/plain": [
       "HBox(children=(FloatProgress(value=0.0, max=4800.0), HTML(value='')))"
      ]
     },
     "metadata": {},
     "output_type": "display_data"
    },
    {
     "name": "stdout",
     "output_type": "stream",
     "text": [
      "\n"
     ]
    }
   ],
   "source": [
    "result_2019 = scraping_race_result(race_id_list)"
   ]
  },
  {
   "cell_type": "code",
   "execution_count": 59,
   "metadata": {},
   "outputs": [],
   "source": [
    "result_2019 = dict_to_pd(result_2019)\n",
    "result_2019.to_pickle('result_2019.pickle')"
   ]
  },
  {
   "cell_type": "code",
   "execution_count": 58,
   "metadata": {},
   "outputs": [],
   "source": [
    "#スクレイピング後に辞書型からDataFrame型に変換\n",
    "def dict_to_pd(data):\n",
    "    for key in data.keys():\n",
    "        data[key].index = [key]*len(data[key])\n",
    "    df = pd.concat([data[key] for key in data.keys()],sort=False)\n",
    "    return df"
   ]
  },
  {
   "cell_type": "markdown",
   "metadata": {},
   "source": [
    "## スクレイピング後のデータ"
   ]
  },
  {
   "cell_type": "code",
   "execution_count": 259,
   "metadata": {},
   "outputs": [
    {
     "data": {
      "text/html": [
       "<div>\n",
       "<style scoped>\n",
       "    .dataframe tbody tr th:only-of-type {\n",
       "        vertical-align: middle;\n",
       "    }\n",
       "\n",
       "    .dataframe tbody tr th {\n",
       "        vertical-align: top;\n",
       "    }\n",
       "\n",
       "    .dataframe thead th {\n",
       "        text-align: right;\n",
       "    }\n",
       "</style>\n",
       "<table border=\"1\" class=\"dataframe\">\n",
       "  <thead>\n",
       "    <tr style=\"text-align: right;\">\n",
       "      <th></th>\n",
       "      <th>着順</th>\n",
       "      <th>枠番</th>\n",
       "      <th>馬番</th>\n",
       "      <th>馬名</th>\n",
       "      <th>性齢</th>\n",
       "      <th>斤量</th>\n",
       "      <th>騎手</th>\n",
       "      <th>タイム</th>\n",
       "      <th>着差</th>\n",
       "      <th>単勝</th>\n",
       "      <th>人気</th>\n",
       "      <th>馬体重</th>\n",
       "      <th>調教師</th>\n",
       "      <th>horse_id</th>\n",
       "      <th>jockey_id</th>\n",
       "    </tr>\n",
       "  </thead>\n",
       "  <tbody>\n",
       "    <tr>\n",
       "      <th>202106030811</th>\n",
       "      <td>1</td>\n",
       "      <td>4</td>\n",
       "      <td>7</td>\n",
       "      <td>エフフォーリア</td>\n",
       "      <td>牡3</td>\n",
       "      <td>57.0</td>\n",
       "      <td>横山武史</td>\n",
       "      <td>2:00.6</td>\n",
       "      <td>NaN</td>\n",
       "      <td>3.7</td>\n",
       "      <td>2.0</td>\n",
       "      <td>504(-10)</td>\n",
       "      <td>[東] 鹿戸雄一</td>\n",
       "      <td>2018105027</td>\n",
       "      <td>01170</td>\n",
       "    </tr>\n",
       "    <tr>\n",
       "      <th>202106030811</th>\n",
       "      <td>2</td>\n",
       "      <td>7</td>\n",
       "      <td>13</td>\n",
       "      <td>タイトルホルダー</td>\n",
       "      <td>牡3</td>\n",
       "      <td>57.0</td>\n",
       "      <td>田辺裕信</td>\n",
       "      <td>2:01.1</td>\n",
       "      <td>3</td>\n",
       "      <td>17</td>\n",
       "      <td>8.0</td>\n",
       "      <td>462(-4)</td>\n",
       "      <td>[東] 栗田徹</td>\n",
       "      <td>2018103559</td>\n",
       "      <td>01075</td>\n",
       "    </tr>\n",
       "    <tr>\n",
       "      <th>202106030811</th>\n",
       "      <td>3</td>\n",
       "      <td>2</td>\n",
       "      <td>3</td>\n",
       "      <td>ステラヴェローチェ</td>\n",
       "      <td>牡3</td>\n",
       "      <td>57.0</td>\n",
       "      <td>吉田隼人</td>\n",
       "      <td>2:01.1</td>\n",
       "      <td>クビ</td>\n",
       "      <td>14.3</td>\n",
       "      <td>6.0</td>\n",
       "      <td>500(0)</td>\n",
       "      <td>[西] 須貝尚介</td>\n",
       "      <td>2018104980</td>\n",
       "      <td>01095</td>\n",
       "    </tr>\n",
       "    <tr>\n",
       "      <th>202106030811</th>\n",
       "      <td>4</td>\n",
       "      <td>1</td>\n",
       "      <td>1</td>\n",
       "      <td>アドマイヤハダル</td>\n",
       "      <td>牡3</td>\n",
       "      <td>57.0</td>\n",
       "      <td>ルメール</td>\n",
       "      <td>2:01.2</td>\n",
       "      <td>クビ</td>\n",
       "      <td>8.8</td>\n",
       "      <td>3.0</td>\n",
       "      <td>482(-2)</td>\n",
       "      <td>[西] 大久保龍</td>\n",
       "      <td>2018105092</td>\n",
       "      <td>05339</td>\n",
       "    </tr>\n",
       "    <tr>\n",
       "      <th>202106030811</th>\n",
       "      <td>5</td>\n",
       "      <td>3</td>\n",
       "      <td>6</td>\n",
       "      <td>ヨーホーレイク</td>\n",
       "      <td>牡3</td>\n",
       "      <td>57.0</td>\n",
       "      <td>岩田望来</td>\n",
       "      <td>2:01.2</td>\n",
       "      <td>クビ</td>\n",
       "      <td>21.5</td>\n",
       "      <td>11.0</td>\n",
       "      <td>504(-2)</td>\n",
       "      <td>[西] 友道康夫</td>\n",
       "      <td>2018105012</td>\n",
       "      <td>01174</td>\n",
       "    </tr>\n",
       "  </tbody>\n",
       "</table>\n",
       "</div>"
      ],
      "text/plain": [
       "             着順  枠番  馬番         馬名  性齢    斤量    騎手     タイム   着差    単勝    人気  \\\n",
       "202106030811  1   4   7    エフフォーリア  牡3  57.0  横山武史  2:00.6  NaN   3.7   2.0   \n",
       "202106030811  2   7  13   タイトルホルダー  牡3  57.0  田辺裕信  2:01.1    3    17   8.0   \n",
       "202106030811  3   2   3  ステラヴェローチェ  牡3  57.0  吉田隼人  2:01.1   クビ  14.3   6.0   \n",
       "202106030811  4   1   1   アドマイヤハダル  牡3  57.0  ルメール  2:01.2   クビ   8.8   3.0   \n",
       "202106030811  5   3   6    ヨーホーレイク  牡3  57.0  岩田望来  2:01.2   クビ  21.5  11.0   \n",
       "\n",
       "                   馬体重       調教師    horse_id jockey_id  \n",
       "202106030811  504(-10)  [東] 鹿戸雄一  2018105027     01170  \n",
       "202106030811   462(-4)   [東] 栗田徹  2018103559     01075  \n",
       "202106030811    500(0)  [西] 須貝尚介  2018104980     01095  \n",
       "202106030811   482(-2)  [西] 大久保龍  2018105092     05339  \n",
       "202106030811   504(-2)  [西] 友道康夫  2018105012     01174  "
      ]
     },
     "execution_count": 259,
     "metadata": {},
     "output_type": "execute_result"
    }
   ],
   "source": [
    "result = pd.read_pickle('result_2020.pickle')\n",
    "result.head()"
   ]
  },
  {
   "cell_type": "markdown",
   "metadata": {},
   "source": [
    "# レース情報取得"
   ]
  },
  {
   "cell_type": "code",
   "execution_count": 261,
   "metadata": {},
   "outputs": [
    {
     "data": {
      "text/plain": [
       "3121"
      ]
     },
     "execution_count": 261,
     "metadata": {},
     "output_type": "execute_result"
    }
   ],
   "source": [
    "race_id_list = result.index.unique()\n",
    "len(race_id_list)"
   ]
  },
  {
   "cell_type": "code",
   "execution_count": 10,
   "metadata": {
    "code_folding": [
     0
    ]
   },
   "outputs": [],
   "source": [
    "def scrape_race_info(race_id_list):\n",
    "    race_infos = {}\n",
    "    \n",
    "    for race_id in tqdm(race_id_list):\n",
    "        try:\n",
    "            url = 'https://db.netkeiba.com/race/' +race_id\n",
    "            html = requests.get(url)\n",
    "            html.encoding = 'EUC-JP'\n",
    "            soup = BeautifulSoup(html.text, 'html.parser')\n",
    "\n",
    "            texts = soup.find('div',attrs=['class','data_intro']).find_all('p')[0].text + \\\n",
    "                soup.find('div',attrs=['class','data_intro']).find_all('p')[1].text\n",
    "            info = re.findall(r'\\w+', texts)\n",
    "            #infoに含まれるtextの内容によって項目を判断\n",
    "            info_dict = {}\n",
    "            for text in info:\n",
    "                if text in ['芝','ダート']:\n",
    "                    info_dict['race_type'] = text\n",
    "                if '障' in text:\n",
    "                    info_dict['race_type'] = '障害'\n",
    "                if 'm' in text:\n",
    "                    info_dict['course_len'] = re.findall(r'\\d+',text)[0]\n",
    "                if text in ['良','稍重','重','不良']:\n",
    "                    info_dict['ground_state'] = text\n",
    "                if text in ['曇','晴','雨','小雨','小雪','雪']:\n",
    "                    info_dict['weather'] = text\n",
    "                if '年' in text:\n",
    "                    info_dict['date'] = text\n",
    "            race_infos[race_id] = info_dict\n",
    "            time.sleep(0.1)\n",
    "        except IndexError:\n",
    "            continue\n",
    "        except:\n",
    "            break\n",
    "    return pd.DataFrame(race_infos).T"
   ]
  },
  {
   "cell_type": "markdown",
   "metadata": {},
   "source": [
    "## スクレイピング後のデータ"
   ]
  },
  {
   "cell_type": "code",
   "execution_count": 258,
   "metadata": {},
   "outputs": [
    {
     "data": {
      "text/plain": [
       "3120"
      ]
     },
     "execution_count": 258,
     "metadata": {},
     "output_type": "execute_result"
    }
   ],
   "source": [
    "race_infos = pd.read_pickle('race_infos.pickle')\n",
    "race_infos.index.nunique()"
   ]
  },
  {
   "cell_type": "markdown",
   "metadata": {},
   "source": [
    "## データをマージして前処理"
   ]
  },
  {
   "cell_type": "code",
   "execution_count": 17,
   "metadata": {
    "code_folding": [
     0
    ]
   },
   "outputs": [],
   "source": [
    "def preprocessing(race_result):\n",
    "    df = race_result.copy()\n",
    "    #着順から数字以外を含むデータを除く\n",
    "    df = df[-df[\"着順\"].astype(str).str.contains(\"\\D\")] \n",
    "    #性齢を性と齢に分ける\n",
    "    df[\"性\"] = df[\"性齢\"].map(lambda x: str(x)[0])\n",
    "    df[\"齢\"] = df[\"性齢\"].map(lambda x: str(x)[1:]).astype(int)\n",
    "    #馬体重を体重と体重増減に分ける\n",
    "    df[\"体重\"] = df[\"馬体重\"].str.split('(',expand=True)[0].astype(int)\n",
    "    df[\"体重増減\"] = df[\"馬体重\"].str.split('(',expand=True)[1].str[:-1].astype(int)\n",
    "    #型変換と不要列削除\n",
    "    df[\"単勝\"] = df[\"単勝\"].astype(float)\n",
    "    df[\"着順\"] = df[\"着順\"].astype(int)\n",
    "    df[\"人気\"] = df[\"人気\"].astype(int)\n",
    "    df.drop(['性齢','馬体重','タイム','着差','調教師'], axis=1,inplace=True)\n",
    "    df['date'] = pd.to_datetime(df['date'], format='%Y年%m月%d日')\n",
    "    df['course_len'] = df['course_len'].astype(int)\n",
    "    \n",
    "    return df"
   ]
  },
  {
   "cell_type": "code",
   "execution_count": 18,
   "metadata": {},
   "outputs": [],
   "source": [
    "result_addinfo = result.merge(race_infos, left_index=True, right_index=True, how='inner')\n",
    "result_addinfo = preprocessing(result_addinfo)"
   ]
  },
  {
   "cell_type": "code",
   "execution_count": 7,
   "metadata": {},
   "outputs": [
    {
     "data": {
      "text/html": [
       "<div>\n",
       "<style scoped>\n",
       "    .dataframe tbody tr th:only-of-type {\n",
       "        vertical-align: middle;\n",
       "    }\n",
       "\n",
       "    .dataframe tbody tr th {\n",
       "        vertical-align: top;\n",
       "    }\n",
       "\n",
       "    .dataframe thead th {\n",
       "        text-align: right;\n",
       "    }\n",
       "</style>\n",
       "<table border=\"1\" class=\"dataframe\">\n",
       "  <thead>\n",
       "    <tr style=\"text-align: right;\">\n",
       "      <th></th>\n",
       "      <th>着順</th>\n",
       "      <th>枠番</th>\n",
       "      <th>馬番</th>\n",
       "      <th>馬名</th>\n",
       "      <th>斤量</th>\n",
       "      <th>騎手</th>\n",
       "      <th>単勝</th>\n",
       "      <th>人気</th>\n",
       "      <th>性</th>\n",
       "      <th>齢</th>\n",
       "      <th>体重</th>\n",
       "      <th>体重増減</th>\n",
       "      <th>course_len</th>\n",
       "      <th>weather</th>\n",
       "      <th>race_type</th>\n",
       "      <th>ground_state</th>\n",
       "      <th>date</th>\n",
       "    </tr>\n",
       "  </thead>\n",
       "  <tbody>\n",
       "    <tr>\n",
       "      <th>202001010101</th>\n",
       "      <td>1</td>\n",
       "      <td>6</td>\n",
       "      <td>6</td>\n",
       "      <td>ウインルーア</td>\n",
       "      <td>54.0</td>\n",
       "      <td>横山武史</td>\n",
       "      <td>16.0</td>\n",
       "      <td>3.0</td>\n",
       "      <td>牝</td>\n",
       "      <td>2</td>\n",
       "      <td>438</td>\n",
       "      <td>4</td>\n",
       "      <td>1800</td>\n",
       "      <td>曇</td>\n",
       "      <td>芝</td>\n",
       "      <td>良</td>\n",
       "      <td>2020-07-25</td>\n",
       "    </tr>\n",
       "    <tr>\n",
       "      <th>202001010101</th>\n",
       "      <td>2</td>\n",
       "      <td>2</td>\n",
       "      <td>2</td>\n",
       "      <td>アークライト</td>\n",
       "      <td>54.0</td>\n",
       "      <td>ルメール</td>\n",
       "      <td>1.9</td>\n",
       "      <td>2.0</td>\n",
       "      <td>牡</td>\n",
       "      <td>2</td>\n",
       "      <td>510</td>\n",
       "      <td>0</td>\n",
       "      <td>1800</td>\n",
       "      <td>曇</td>\n",
       "      <td>芝</td>\n",
       "      <td>良</td>\n",
       "      <td>2020-07-25</td>\n",
       "    </tr>\n",
       "    <tr>\n",
       "      <th>202001010101</th>\n",
       "      <td>3</td>\n",
       "      <td>3</td>\n",
       "      <td>3</td>\n",
       "      <td>ギャラントウォリア</td>\n",
       "      <td>54.0</td>\n",
       "      <td>池添謙一</td>\n",
       "      <td>1.8</td>\n",
       "      <td>1.0</td>\n",
       "      <td>牡</td>\n",
       "      <td>2</td>\n",
       "      <td>482</td>\n",
       "      <td>-6</td>\n",
       "      <td>1800</td>\n",
       "      <td>曇</td>\n",
       "      <td>芝</td>\n",
       "      <td>良</td>\n",
       "      <td>2020-07-25</td>\n",
       "    </tr>\n",
       "    <tr>\n",
       "      <th>202001010101</th>\n",
       "      <td>4</td>\n",
       "      <td>1</td>\n",
       "      <td>1</td>\n",
       "      <td>ジュンブーケ</td>\n",
       "      <td>52.0</td>\n",
       "      <td>亀田温心</td>\n",
       "      <td>22.2</td>\n",
       "      <td>4.0</td>\n",
       "      <td>牝</td>\n",
       "      <td>2</td>\n",
       "      <td>442</td>\n",
       "      <td>0</td>\n",
       "      <td>1800</td>\n",
       "      <td>曇</td>\n",
       "      <td>芝</td>\n",
       "      <td>良</td>\n",
       "      <td>2020-07-25</td>\n",
       "    </tr>\n",
       "    <tr>\n",
       "      <th>202001010101</th>\n",
       "      <td>5</td>\n",
       "      <td>4</td>\n",
       "      <td>4</td>\n",
       "      <td>キタノマンゲツ</td>\n",
       "      <td>54.0</td>\n",
       "      <td>藤岡康太</td>\n",
       "      <td>55.7</td>\n",
       "      <td>5.0</td>\n",
       "      <td>牡</td>\n",
       "      <td>2</td>\n",
       "      <td>426</td>\n",
       "      <td>-8</td>\n",
       "      <td>1800</td>\n",
       "      <td>曇</td>\n",
       "      <td>芝</td>\n",
       "      <td>良</td>\n",
       "      <td>2020-07-25</td>\n",
       "    </tr>\n",
       "  </tbody>\n",
       "</table>\n",
       "</div>"
      ],
      "text/plain": [
       "              着順  枠番  馬番         馬名    斤量    騎手    単勝   人気  性  齢   体重  体重増減  \\\n",
       "202001010101   1   6   6     ウインルーア  54.0  横山武史  16.0  3.0  牝  2  438     4   \n",
       "202001010101   2   2   2     アークライト  54.0  ルメール   1.9  2.0  牡  2  510     0   \n",
       "202001010101   3   3   3  ギャラントウォリア  54.0  池添謙一   1.8  1.0  牡  2  482    -6   \n",
       "202001010101   4   1   1     ジュンブーケ  52.0  亀田温心  22.2  4.0  牝  2  442     0   \n",
       "202001010101   5   4   4    キタノマンゲツ  54.0  藤岡康太  55.7  5.0  牡  2  426    -8   \n",
       "\n",
       "              course_len weather race_type ground_state       date  \n",
       "202001010101        1800       曇         芝            良 2020-07-25  \n",
       "202001010101        1800       曇         芝            良 2020-07-25  \n",
       "202001010101        1800       曇         芝            良 2020-07-25  \n",
       "202001010101        1800       曇         芝            良 2020-07-25  \n",
       "202001010101        1800       曇         芝            良 2020-07-25  "
      ]
     },
     "execution_count": 7,
     "metadata": {},
     "output_type": "execute_result"
    }
   ],
   "source": [
    "result_addinfo = pd.read_pickle('result_addinfo.pickle')\n",
    "result_addinfo.head()"
   ]
  },
  {
   "cell_type": "markdown",
   "metadata": {},
   "source": [
    "# 馬ごとの過去成績を取得"
   ]
  },
  {
   "cell_type": "code",
   "execution_count": 34,
   "metadata": {},
   "outputs": [],
   "source": [
    "horse_id_list = result_addinfo['horse_id'].unique()"
   ]
  },
  {
   "cell_type": "code",
   "execution_count": 35,
   "metadata": {},
   "outputs": [],
   "source": [
    "def scraping_horse_result(id_list, pre_horse_results={}):\n",
    "    horse_results = pre_horse_results\n",
    "    \n",
    "    for horse_id in tqdm(id_list):\n",
    "        if horse_id in horse_results.keys():\n",
    "            continue\n",
    "        try:\n",
    "            url='https://db.netkeiba.com/horse/' + horse_id\n",
    "            df = pd.read_html(url)[3]\n",
    "            horse_results[horse_id] = df\n",
    "            time.sleep(0.1)\n",
    "        except IndexError:\n",
    "            continue\n",
    "        except:\n",
    "            break\n",
    "    return horse_results"
   ]
  },
  {
   "cell_type": "code",
   "execution_count": 36,
   "metadata": {},
   "outputs": [
    {
     "name": "stderr",
     "output_type": "stream",
     "text": [
      "C:\\Users\\owner\\anaconda3\\lib\\site-packages\\ipykernel_launcher.py:4: TqdmDeprecationWarning: This function will be removed in tqdm==5.0.0\n",
      "Please use `tqdm.notebook.tqdm` instead of `tqdm.tqdm_notebook`\n",
      "  after removing the cwd from sys.path.\n"
     ]
    },
    {
     "data": {
      "application/vnd.jupyter.widget-view+json": {
       "model_id": "8e69982d36e449538a05652ad9e36ff5",
       "version_major": 2,
       "version_minor": 0
      },
      "text/plain": [
       "HBox(children=(FloatProgress(value=0.0, max=11344.0), HTML(value='')))"
      ]
     },
     "metadata": {},
     "output_type": "display_data"
    }
   ],
   "source": [
    "horse_results = scraping_horse_result(horse_id_list)\n",
    "\n",
    "for key in horse_results.keys():\n",
    "    horse_results[key].index = [key]*len(horse_results[key])\n",
    "    \n",
    "horse_results = pd.DataFrame(pd.concat([horse_results[key] for key in horse_results.keys()],sort=False))"
   ]
  },
  {
   "cell_type": "markdown",
   "metadata": {},
   "source": [
    "## スクレイピング後のデータ"
   ]
  },
  {
   "cell_type": "code",
   "execution_count": 172,
   "metadata": {},
   "outputs": [
    {
     "data": {
      "text/html": [
       "<div>\n",
       "<style scoped>\n",
       "    .dataframe tbody tr th:only-of-type {\n",
       "        vertical-align: middle;\n",
       "    }\n",
       "\n",
       "    .dataframe tbody tr th {\n",
       "        vertical-align: top;\n",
       "    }\n",
       "\n",
       "    .dataframe thead th {\n",
       "        text-align: right;\n",
       "    }\n",
       "</style>\n",
       "<table border=\"1\" class=\"dataframe\">\n",
       "  <thead>\n",
       "    <tr style=\"text-align: right;\">\n",
       "      <th></th>\n",
       "      <th>日付</th>\n",
       "      <th>開催</th>\n",
       "      <th>天気</th>\n",
       "      <th>R</th>\n",
       "      <th>レース名</th>\n",
       "      <th>映像</th>\n",
       "      <th>頭数</th>\n",
       "      <th>枠番</th>\n",
       "      <th>馬番</th>\n",
       "      <th>オッズ</th>\n",
       "      <th>...</th>\n",
       "      <th>ﾀｲﾑ指数</th>\n",
       "      <th>通過</th>\n",
       "      <th>ペース</th>\n",
       "      <th>上り</th>\n",
       "      <th>馬体重</th>\n",
       "      <th>厩舎ｺﾒﾝﾄ</th>\n",
       "      <th>備考</th>\n",
       "      <th>勝ち馬(2着馬)</th>\n",
       "      <th>賞金</th>\n",
       "      <th>受賞歴</th>\n",
       "    </tr>\n",
       "  </thead>\n",
       "  <tbody>\n",
       "    <tr>\n",
       "      <th>2018101626</th>\n",
       "      <td>2021/04/11</td>\n",
       "      <td>3中山6</td>\n",
       "      <td>晴</td>\n",
       "      <td>7.0</td>\n",
       "      <td>3歳1勝クラス</td>\n",
       "      <td>NaN</td>\n",
       "      <td>10.0</td>\n",
       "      <td>1.0</td>\n",
       "      <td>1.0</td>\n",
       "      <td>52.9</td>\n",
       "      <td>...</td>\n",
       "      <td>**</td>\n",
       "      <td>5-6-6-5</td>\n",
       "      <td>38.0-34.7</td>\n",
       "      <td>34.6</td>\n",
       "      <td>450(+2)</td>\n",
       "      <td>NaN</td>\n",
       "      <td>NaN</td>\n",
       "      <td>ミヤビハイディ</td>\n",
       "      <td>NaN</td>\n",
       "      <td>NaN</td>\n",
       "    </tr>\n",
       "    <tr>\n",
       "      <th>2018101626</th>\n",
       "      <td>2021/03/27</td>\n",
       "      <td>3中山1</td>\n",
       "      <td>晴</td>\n",
       "      <td>6.0</td>\n",
       "      <td>3歳1勝クラス</td>\n",
       "      <td>NaN</td>\n",
       "      <td>8.0</td>\n",
       "      <td>8.0</td>\n",
       "      <td>8.0</td>\n",
       "      <td>72.1</td>\n",
       "      <td>...</td>\n",
       "      <td>**</td>\n",
       "      <td>8-8-8-8</td>\n",
       "      <td>36.3-36.6</td>\n",
       "      <td>36.3</td>\n",
       "      <td>448(+4)</td>\n",
       "      <td>NaN</td>\n",
       "      <td>NaN</td>\n",
       "      <td>スペシャルドラマ</td>\n",
       "      <td>NaN</td>\n",
       "      <td>NaN</td>\n",
       "    </tr>\n",
       "    <tr>\n",
       "      <th>2018101626</th>\n",
       "      <td>2021/03/13</td>\n",
       "      <td>2中山5</td>\n",
       "      <td>雨</td>\n",
       "      <td>7.0</td>\n",
       "      <td>3歳1勝クラス</td>\n",
       "      <td>NaN</td>\n",
       "      <td>11.0</td>\n",
       "      <td>6.0</td>\n",
       "      <td>7.0</td>\n",
       "      <td>99.2</td>\n",
       "      <td>...</td>\n",
       "      <td>**</td>\n",
       "      <td>9-9-7-8</td>\n",
       "      <td>37.5-38.2</td>\n",
       "      <td>40.5</td>\n",
       "      <td>444(0)</td>\n",
       "      <td>NaN</td>\n",
       "      <td>NaN</td>\n",
       "      <td>ヴァイスメテオール</td>\n",
       "      <td>NaN</td>\n",
       "      <td>NaN</td>\n",
       "    </tr>\n",
       "  </tbody>\n",
       "</table>\n",
       "<p>3 rows × 29 columns</p>\n",
       "</div>"
      ],
      "text/plain": [
       "                    日付    開催 天気    R     レース名  映像    頭数   枠番   馬番   オッズ  ...  \\\n",
       "2018101626  2021/04/11  3中山6  晴  7.0  3歳1勝クラス NaN  10.0  1.0  1.0  52.9  ...   \n",
       "2018101626  2021/03/27  3中山1  晴  6.0  3歳1勝クラス NaN   8.0  8.0  8.0  72.1  ...   \n",
       "2018101626  2021/03/13  2中山5  雨  7.0  3歳1勝クラス NaN  11.0  6.0  7.0  99.2  ...   \n",
       "\n",
       "            ﾀｲﾑ指数       通過        ペース    上り      馬体重 厩舎ｺﾒﾝﾄ  備考   勝ち馬(2着馬)  \\\n",
       "2018101626     **  5-6-6-5  38.0-34.7  34.6  450(+2)    NaN NaN    ミヤビハイディ   \n",
       "2018101626     **  8-8-8-8  36.3-36.6  36.3  448(+4)    NaN NaN   スペシャルドラマ   \n",
       "2018101626     **  9-9-7-8  37.5-38.2  40.5   444(0)    NaN NaN  ヴァイスメテオール   \n",
       "\n",
       "            賞金  受賞歴  \n",
       "2018101626 NaN  NaN  \n",
       "2018101626 NaN  NaN  \n",
       "2018101626 NaN  NaN  \n",
       "\n",
       "[3 rows x 29 columns]"
      ]
     },
     "execution_count": 172,
     "metadata": {},
     "output_type": "execute_result"
    }
   ],
   "source": [
    "horse_results = pd.read_pickle('horse_data.pickle')\n",
    "horse_results.head(3)"
   ]
  },
  {
   "cell_type": "code",
   "execution_count": 175,
   "metadata": {},
   "outputs": [
    {
     "data": {
      "text/plain": [
       "Index(['日付', '開催', '天気', 'R', 'レース名', '映像', '頭数', '枠番', '馬番', 'オッズ', '人気',\n",
       "       '着順', '騎手', '斤量', '距離', '馬場', '馬場指数', 'タイム', '着差', 'ﾀｲﾑ指数', '通過', 'ペース',\n",
       "       '上り', '馬体重', '厩舎ｺﾒﾝﾄ', '備考', '勝ち馬(2着馬)', '賞金', '受賞歴'],\n",
       "      dtype='object')"
      ]
     },
     "execution_count": 175,
     "metadata": {},
     "output_type": "execute_result"
    }
   ],
   "source": [
    "horse_results.columns"
   ]
  },
  {
   "cell_type": "markdown",
   "metadata": {},
   "source": [
    "## HorseResultsクラス"
   ]
  },
  {
   "cell_type": "code",
   "execution_count": 239,
   "metadata": {},
   "outputs": [],
   "source": [
    "class HorseResults:\n",
    "    def __init__(self, horse_results):\n",
    "        self.horse_results = horse_results[['日付','R','賞金','開催','距離','タイム']]\n",
    "        self.preprocessing()\n",
    "        \n",
    "    @classmethod\n",
    "    def read_pickle(cls, path_list):\n",
    "        df = pd.concat([pd.read_pickle(path) for path in path_list])\n",
    "        return cls(df)\n",
    "        \n",
    "    def preprocessing(self):\n",
    "        df = self.horse_results.copy()\n",
    "        df = df[-df['R'].isnull()]\n",
    "        df['賞金'] = df['賞金'].fillna(0).astype('int')\n",
    "        df['日付'] = pd.to_datetime(df['日付'])\n",
    "        df.rename(columns={'R':'着順'}, inplace=True)\n",
    "        df['着順'] = df['着順'].astype('int')\n",
    "        \n",
    "        #開催場所\n",
    "        place_dict = {'札幌':'01', '函館':'02', '福島':'03', '新潟':'04', '東京':'05', \n",
    "                      '中山':'06', '中京':'07', '京都':'08', '阪神':'09','小倉':'10'}\n",
    "        df['開催'] = df['開催'].str.extract(r'(\\D+)')[0].map(place_dict).fillna('11')\n",
    "        #距離\n",
    "        df['距離'] = df['距離'].str.extract(r'(\\D+)')\n",
    "        #タイム\n",
    "        def to_second(x):\n",
    "            info = re.findall(r'(\\d+)', str(x))\n",
    "            if len(info)==3:\n",
    "                second = int(info[0]) * 60 + int(info[1])\n",
    "            else:\n",
    "                second = 0        \n",
    "            return second\n",
    "        \n",
    "        df['タイム'] = df['タイム'].map(lambda x : to_second(x))\n",
    "        \n",
    "        self.horse_results = df\n",
    "    \n",
    "    def average(self, horse_id_list, date, n_samples='all'):\n",
    "        target_df = self.horse_results[self.horse_results.index.isin(horse_id_list)]\n",
    "        #平均する対象をレース日付以前のうち直近n_samplesのデータのみに限定する（古いデータを反映させないため）\n",
    "        if n_samples=='all':\n",
    "            filtered_df = target_df[target_df['日付'] < date]\n",
    "        elif n_samples > 0:\n",
    "            filtered_df = target_df[target_df['日付'] < date].sort_values('日付', ascending=False).groupby(level=0).head(n_samples)\n",
    "        else:\n",
    "            raise Exception('n_samples must be >0')\n",
    "        \n",
    "        filtered_df = filtered_df.groupby(level=0)[['着順','賞金']].mean()\n",
    "        filtered_df.rename(columns={'着順':'着順_{}R'.format(n_samples),'賞金':'賞金_{}R'.format(n_samples)}, inplace=True)\n",
    "        return filtered_df\n",
    "    \n",
    "    def merge(self, results, date, n_samples):\n",
    "        df = results[results['date'] == date]\n",
    "        horse_id_list = df['horse_id']\n",
    "        merged_df = df.merge(self.average(horse_id_list, date, n_samples), left_on='horse_id', right_index=True, how='left')\n",
    "        return merged_df\n",
    "    \n",
    "    def merge_all(self, results, n_samples='all'):\n",
    "        date_list = results['date'].unique()\n",
    "        #レース結果の同じ日付のかたまりごとに1行ずつhorse_idにひもづくその日付以前の戦績の平均を算出し（average）、\n",
    "        #レース結果のかたまりにマージする(merge)という意味\n",
    "        merged_df = pd.concat([self.merge(results, date, n_samples) for date in tqdm(date_list)]) \n",
    "        return merged_df"
   ]
  },
  {
   "cell_type": "code",
   "execution_count": 240,
   "metadata": {},
   "outputs": [],
   "source": [
    "hr = HorseResults(horse_results)"
   ]
  },
  {
   "cell_type": "code",
   "execution_count": 241,
   "metadata": {},
   "outputs": [
    {
     "data": {
      "text/html": [
       "<div>\n",
       "<style scoped>\n",
       "    .dataframe tbody tr th:only-of-type {\n",
       "        vertical-align: middle;\n",
       "    }\n",
       "\n",
       "    .dataframe tbody tr th {\n",
       "        vertical-align: top;\n",
       "    }\n",
       "\n",
       "    .dataframe thead th {\n",
       "        text-align: right;\n",
       "    }\n",
       "</style>\n",
       "<table border=\"1\" class=\"dataframe\">\n",
       "  <thead>\n",
       "    <tr style=\"text-align: right;\">\n",
       "      <th></th>\n",
       "      <th>日付</th>\n",
       "      <th>着順</th>\n",
       "      <th>賞金</th>\n",
       "      <th>開催</th>\n",
       "      <th>距離</th>\n",
       "      <th>タイム</th>\n",
       "    </tr>\n",
       "  </thead>\n",
       "  <tbody>\n",
       "    <tr>\n",
       "      <th>2018101626</th>\n",
       "      <td>2021-04-11</td>\n",
       "      <td>7</td>\n",
       "      <td>0</td>\n",
       "      <td>06</td>\n",
       "      <td>芝</td>\n",
       "      <td>110</td>\n",
       "    </tr>\n",
       "    <tr>\n",
       "      <th>2018101626</th>\n",
       "      <td>2021-03-27</td>\n",
       "      <td>6</td>\n",
       "      <td>0</td>\n",
       "      <td>06</td>\n",
       "      <td>芝</td>\n",
       "      <td>110</td>\n",
       "    </tr>\n",
       "    <tr>\n",
       "      <th>2018101626</th>\n",
       "      <td>2021-03-13</td>\n",
       "      <td>7</td>\n",
       "      <td>0</td>\n",
       "      <td>06</td>\n",
       "      <td>芝</td>\n",
       "      <td>131</td>\n",
       "    </tr>\n",
       "    <tr>\n",
       "      <th>2018101626</th>\n",
       "      <td>2020-10-03</td>\n",
       "      <td>9</td>\n",
       "      <td>0</td>\n",
       "      <td>06</td>\n",
       "      <td>芝</td>\n",
       "      <td>123</td>\n",
       "    </tr>\n",
       "    <tr>\n",
       "      <th>2018101626</th>\n",
       "      <td>2020-09-05</td>\n",
       "      <td>11</td>\n",
       "      <td>0</td>\n",
       "      <td>01</td>\n",
       "      <td>芝</td>\n",
       "      <td>109</td>\n",
       "    </tr>\n",
       "    <tr>\n",
       "      <th>...</th>\n",
       "      <td>...</td>\n",
       "      <td>...</td>\n",
       "      <td>...</td>\n",
       "      <td>...</td>\n",
       "      <td>...</td>\n",
       "      <td>...</td>\n",
       "    </tr>\n",
       "    <tr>\n",
       "      <th>2014102720</th>\n",
       "      <td>2017-02-19</td>\n",
       "      <td>2</td>\n",
       "      <td>130</td>\n",
       "      <td>08</td>\n",
       "      <td>ダ</td>\n",
       "      <td>74</td>\n",
       "    </tr>\n",
       "    <tr>\n",
       "      <th>2014102720</th>\n",
       "      <td>2017-02-12</td>\n",
       "      <td>5</td>\n",
       "      <td>0</td>\n",
       "      <td>08</td>\n",
       "      <td>芝</td>\n",
       "      <td>97</td>\n",
       "    </tr>\n",
       "    <tr>\n",
       "      <th>2014102720</th>\n",
       "      <td>2017-01-21</td>\n",
       "      <td>5</td>\n",
       "      <td>0</td>\n",
       "      <td>08</td>\n",
       "      <td>芝</td>\n",
       "      <td>125</td>\n",
       "    </tr>\n",
       "    <tr>\n",
       "      <th>2014102720</th>\n",
       "      <td>2016-12-25</td>\n",
       "      <td>4</td>\n",
       "      <td>0</td>\n",
       "      <td>09</td>\n",
       "      <td>芝</td>\n",
       "      <td>125</td>\n",
       "    </tr>\n",
       "    <tr>\n",
       "      <th>2014102720</th>\n",
       "      <td>2016-12-11</td>\n",
       "      <td>5</td>\n",
       "      <td>280</td>\n",
       "      <td>07</td>\n",
       "      <td>芝</td>\n",
       "      <td>125</td>\n",
       "    </tr>\n",
       "  </tbody>\n",
       "</table>\n",
       "<p>171663 rows × 6 columns</p>\n",
       "</div>"
      ],
      "text/plain": [
       "                   日付  着順   賞金  開催 距離  タイム\n",
       "2018101626 2021-04-11   7    0  06  芝  110\n",
       "2018101626 2021-03-27   6    0  06  芝  110\n",
       "2018101626 2021-03-13   7    0  06  芝  131\n",
       "2018101626 2020-10-03   9    0  06  芝  123\n",
       "2018101626 2020-09-05  11    0  01  芝  109\n",
       "...               ...  ..  ...  .. ..  ...\n",
       "2014102720 2017-02-19   2  130  08  ダ   74\n",
       "2014102720 2017-02-12   5    0  08  芝   97\n",
       "2014102720 2017-01-21   5    0  08  芝  125\n",
       "2014102720 2016-12-25   4    0  09  芝  125\n",
       "2014102720 2016-12-11   5  280  07  芝  125\n",
       "\n",
       "[171663 rows x 6 columns]"
      ]
     },
     "execution_count": 241,
     "metadata": {},
     "output_type": "execute_result"
    }
   ],
   "source": [
    "hr.horse_results"
   ]
  },
  {
   "cell_type": "code",
   "execution_count": 242,
   "metadata": {},
   "outputs": [
    {
     "data": {
      "text/html": [
       "<div>\n",
       "<style scoped>\n",
       "    .dataframe tbody tr th:only-of-type {\n",
       "        vertical-align: middle;\n",
       "    }\n",
       "\n",
       "    .dataframe tbody tr th {\n",
       "        vertical-align: top;\n",
       "    }\n",
       "\n",
       "    .dataframe thead th {\n",
       "        text-align: right;\n",
       "    }\n",
       "</style>\n",
       "<table border=\"1\" class=\"dataframe\">\n",
       "  <thead>\n",
       "    <tr style=\"text-align: right;\">\n",
       "      <th></th>\n",
       "      <th>着順</th>\n",
       "      <th>枠番</th>\n",
       "      <th>馬番</th>\n",
       "      <th>馬名</th>\n",
       "      <th>斤量</th>\n",
       "      <th>騎手</th>\n",
       "      <th>単勝</th>\n",
       "      <th>人気</th>\n",
       "      <th>horse_id</th>\n",
       "      <th>jockey_id</th>\n",
       "      <th>性</th>\n",
       "      <th>齢</th>\n",
       "      <th>体重</th>\n",
       "      <th>体重増減</th>\n",
       "      <th>course_len</th>\n",
       "      <th>weather</th>\n",
       "      <th>race_type</th>\n",
       "      <th>ground_state</th>\n",
       "      <th>date</th>\n",
       "    </tr>\n",
       "  </thead>\n",
       "  <tbody>\n",
       "    <tr>\n",
       "      <th>202001010101</th>\n",
       "      <td>1</td>\n",
       "      <td>6</td>\n",
       "      <td>6</td>\n",
       "      <td>ウインルーア</td>\n",
       "      <td>54.0</td>\n",
       "      <td>横山武史</td>\n",
       "      <td>16.0</td>\n",
       "      <td>3</td>\n",
       "      <td>2018101626</td>\n",
       "      <td>01170</td>\n",
       "      <td>牝</td>\n",
       "      <td>2</td>\n",
       "      <td>438</td>\n",
       "      <td>4</td>\n",
       "      <td>1800</td>\n",
       "      <td>曇</td>\n",
       "      <td>芝</td>\n",
       "      <td>良</td>\n",
       "      <td>2020-07-25</td>\n",
       "    </tr>\n",
       "    <tr>\n",
       "      <th>202001010101</th>\n",
       "      <td>2</td>\n",
       "      <td>2</td>\n",
       "      <td>2</td>\n",
       "      <td>アークライト</td>\n",
       "      <td>54.0</td>\n",
       "      <td>ルメール</td>\n",
       "      <td>1.9</td>\n",
       "      <td>2</td>\n",
       "      <td>2018105193</td>\n",
       "      <td>05339</td>\n",
       "      <td>牡</td>\n",
       "      <td>2</td>\n",
       "      <td>510</td>\n",
       "      <td>0</td>\n",
       "      <td>1800</td>\n",
       "      <td>曇</td>\n",
       "      <td>芝</td>\n",
       "      <td>良</td>\n",
       "      <td>2020-07-25</td>\n",
       "    </tr>\n",
       "  </tbody>\n",
       "</table>\n",
       "</div>"
      ],
      "text/plain": [
       "              着順  枠番  馬番      馬名    斤量    騎手    単勝  人気    horse_id jockey_id  \\\n",
       "202001010101   1   6   6  ウインルーア  54.0  横山武史  16.0   3  2018101626     01170   \n",
       "202001010101   2   2   2  アークライト  54.0  ルメール   1.9   2  2018105193     05339   \n",
       "\n",
       "              性  齢   体重  体重増減  course_len weather race_type ground_state  \\\n",
       "202001010101  牝  2  438     4        1800       曇         芝            良   \n",
       "202001010101  牡  2  510     0        1800       曇         芝            良   \n",
       "\n",
       "                   date  \n",
       "202001010101 2020-07-25  \n",
       "202001010101 2020-07-25  "
      ]
     },
     "execution_count": 242,
     "metadata": {},
     "output_type": "execute_result"
    }
   ],
   "source": [
    "result_addinfo = pd.read_pickle('result_addinfo_p.pickle')\n",
    "result_addinfo.head(2)"
   ]
  },
  {
   "cell_type": "code",
   "execution_count": 243,
   "metadata": {},
   "outputs": [
    {
     "name": "stderr",
     "output_type": "stream",
     "text": [
      "C:\\Users\\owner\\anaconda3\\lib\\site-packages\\ipykernel_launcher.py:62: TqdmDeprecationWarning: This function will be removed in tqdm==5.0.0\n",
      "Please use `tqdm.notebook.tqdm` instead of `tqdm.tqdm_notebook`\n"
     ]
    },
    {
     "data": {
      "application/vnd.jupyter.widget-view+json": {
       "model_id": "70906acb06d448e793518fdaa3692558",
       "version_major": 2,
       "version_minor": 0
      },
      "text/plain": [
       "HBox(children=(FloatProgress(value=0.0, max=104.0), HTML(value='')))"
      ]
     },
     "metadata": {},
     "output_type": "display_data"
    },
    {
     "name": "stdout",
     "output_type": "stream",
     "text": [
      "\n"
     ]
    }
   ],
   "source": [
    "result_5R = hr.merge_all(result_addinfo, n_samples=5)"
   ]
  },
  {
   "cell_type": "markdown",
   "metadata": {},
   "source": [
    "## マージ後のデータ"
   ]
  },
  {
   "cell_type": "code",
   "execution_count": 103,
   "metadata": {},
   "outputs": [
    {
     "data": {
      "text/html": [
       "<div>\n",
       "<style scoped>\n",
       "    .dataframe tbody tr th:only-of-type {\n",
       "        vertical-align: middle;\n",
       "    }\n",
       "\n",
       "    .dataframe tbody tr th {\n",
       "        vertical-align: top;\n",
       "    }\n",
       "\n",
       "    .dataframe thead th {\n",
       "        text-align: right;\n",
       "    }\n",
       "</style>\n",
       "<table border=\"1\" class=\"dataframe\">\n",
       "  <thead>\n",
       "    <tr style=\"text-align: right;\">\n",
       "      <th></th>\n",
       "      <th>着順</th>\n",
       "      <th>枠番</th>\n",
       "      <th>馬番</th>\n",
       "      <th>馬名</th>\n",
       "      <th>斤量</th>\n",
       "      <th>騎手</th>\n",
       "      <th>単勝</th>\n",
       "      <th>人気</th>\n",
       "      <th>horse_id</th>\n",
       "      <th>jockey_id</th>\n",
       "      <th>...</th>\n",
       "      <th>齢</th>\n",
       "      <th>体重</th>\n",
       "      <th>体重増減</th>\n",
       "      <th>course_len</th>\n",
       "      <th>weather</th>\n",
       "      <th>race_type</th>\n",
       "      <th>ground_state</th>\n",
       "      <th>date</th>\n",
       "      <th>着順_5R</th>\n",
       "      <th>賞金_5R</th>\n",
       "    </tr>\n",
       "  </thead>\n",
       "  <tbody>\n",
       "    <tr>\n",
       "      <th>202001010101</th>\n",
       "      <td>1</td>\n",
       "      <td>6</td>\n",
       "      <td>6</td>\n",
       "      <td>ウインルーア</td>\n",
       "      <td>54.0</td>\n",
       "      <td>横山武史</td>\n",
       "      <td>16.0</td>\n",
       "      <td>3</td>\n",
       "      <td>2018101626</td>\n",
       "      <td>01170</td>\n",
       "      <td>...</td>\n",
       "      <td>2</td>\n",
       "      <td>438</td>\n",
       "      <td>4</td>\n",
       "      <td>1800</td>\n",
       "      <td>曇</td>\n",
       "      <td>芝</td>\n",
       "      <td>良</td>\n",
       "      <td>2020-07-25</td>\n",
       "      <td>6.0</td>\n",
       "      <td>0.0</td>\n",
       "    </tr>\n",
       "    <tr>\n",
       "      <th>202001010101</th>\n",
       "      <td>2</td>\n",
       "      <td>2</td>\n",
       "      <td>2</td>\n",
       "      <td>アークライト</td>\n",
       "      <td>54.0</td>\n",
       "      <td>ルメール</td>\n",
       "      <td>1.9</td>\n",
       "      <td>2</td>\n",
       "      <td>2018105193</td>\n",
       "      <td>05339</td>\n",
       "      <td>...</td>\n",
       "      <td>2</td>\n",
       "      <td>510</td>\n",
       "      <td>0</td>\n",
       "      <td>1800</td>\n",
       "      <td>曇</td>\n",
       "      <td>芝</td>\n",
       "      <td>良</td>\n",
       "      <td>2020-07-25</td>\n",
       "      <td>5.0</td>\n",
       "      <td>280.0</td>\n",
       "    </tr>\n",
       "    <tr>\n",
       "      <th>202001010101</th>\n",
       "      <td>3</td>\n",
       "      <td>3</td>\n",
       "      <td>3</td>\n",
       "      <td>ギャラントウォリア</td>\n",
       "      <td>54.0</td>\n",
       "      <td>池添謙一</td>\n",
       "      <td>1.8</td>\n",
       "      <td>1</td>\n",
       "      <td>2018104800</td>\n",
       "      <td>01032</td>\n",
       "      <td>...</td>\n",
       "      <td>2</td>\n",
       "      <td>482</td>\n",
       "      <td>-6</td>\n",
       "      <td>1800</td>\n",
       "      <td>曇</td>\n",
       "      <td>芝</td>\n",
       "      <td>良</td>\n",
       "      <td>2020-07-25</td>\n",
       "      <td>5.0</td>\n",
       "      <td>280.0</td>\n",
       "    </tr>\n",
       "    <tr>\n",
       "      <th>202001010101</th>\n",
       "      <td>4</td>\n",
       "      <td>1</td>\n",
       "      <td>1</td>\n",
       "      <td>ジュンブーケ</td>\n",
       "      <td>52.0</td>\n",
       "      <td>亀田温心</td>\n",
       "      <td>22.2</td>\n",
       "      <td>4</td>\n",
       "      <td>2018102410</td>\n",
       "      <td>01176</td>\n",
       "      <td>...</td>\n",
       "      <td>2</td>\n",
       "      <td>442</td>\n",
       "      <td>0</td>\n",
       "      <td>1800</td>\n",
       "      <td>曇</td>\n",
       "      <td>芝</td>\n",
       "      <td>良</td>\n",
       "      <td>2020-07-25</td>\n",
       "      <td>5.0</td>\n",
       "      <td>70.0</td>\n",
       "    </tr>\n",
       "    <tr>\n",
       "      <th>202001010101</th>\n",
       "      <td>5</td>\n",
       "      <td>4</td>\n",
       "      <td>4</td>\n",
       "      <td>キタノマンゲツ</td>\n",
       "      <td>54.0</td>\n",
       "      <td>藤岡康太</td>\n",
       "      <td>55.7</td>\n",
       "      <td>5</td>\n",
       "      <td>2018100828</td>\n",
       "      <td>01116</td>\n",
       "      <td>...</td>\n",
       "      <td>2</td>\n",
       "      <td>426</td>\n",
       "      <td>-8</td>\n",
       "      <td>1800</td>\n",
       "      <td>曇</td>\n",
       "      <td>芝</td>\n",
       "      <td>良</td>\n",
       "      <td>2020-07-25</td>\n",
       "      <td>5.0</td>\n",
       "      <td>0.0</td>\n",
       "    </tr>\n",
       "  </tbody>\n",
       "</table>\n",
       "<p>5 rows × 21 columns</p>\n",
       "</div>"
      ],
      "text/plain": [
       "              着順  枠番  馬番         馬名    斤量    騎手    単勝  人気    horse_id  \\\n",
       "202001010101   1   6   6     ウインルーア  54.0  横山武史  16.0   3  2018101626   \n",
       "202001010101   2   2   2     アークライト  54.0  ルメール   1.9   2  2018105193   \n",
       "202001010101   3   3   3  ギャラントウォリア  54.0  池添謙一   1.8   1  2018104800   \n",
       "202001010101   4   1   1     ジュンブーケ  52.0  亀田温心  22.2   4  2018102410   \n",
       "202001010101   5   4   4    キタノマンゲツ  54.0  藤岡康太  55.7   5  2018100828   \n",
       "\n",
       "             jockey_id  ...  齢   体重  体重増減  course_len  weather race_type  \\\n",
       "202001010101     01170  ...  2  438     4        1800        曇         芝   \n",
       "202001010101     05339  ...  2  510     0        1800        曇         芝   \n",
       "202001010101     01032  ...  2  482    -6        1800        曇         芝   \n",
       "202001010101     01176  ...  2  442     0        1800        曇         芝   \n",
       "202001010101     01116  ...  2  426    -8        1800        曇         芝   \n",
       "\n",
       "             ground_state       date 着順_5R  賞金_5R  \n",
       "202001010101            良 2020-07-25   6.0    0.0  \n",
       "202001010101            良 2020-07-25   5.0  280.0  \n",
       "202001010101            良 2020-07-25   5.0  280.0  \n",
       "202001010101            良 2020-07-25   5.0   70.0  \n",
       "202001010101            良 2020-07-25   5.0    0.0  \n",
       "\n",
       "[5 rows x 21 columns]"
      ]
     },
     "execution_count": 103,
     "metadata": {},
     "output_type": "execute_result"
    }
   ],
   "source": [
    "result_5R.head()"
   ]
  },
  {
   "cell_type": "markdown",
   "metadata": {},
   "source": [
    "# レースごとの払い戻しデータを取得"
   ]
  },
  {
   "cell_type": "code",
   "execution_count": 143,
   "metadata": {},
   "outputs": [],
   "source": [
    "from urllib.request import urlopen\n",
    "\n",
    "def scraping_return_tables(id_list):\n",
    "    return_tables = {}\n",
    "    for race_id in tqdm(id_list):\n",
    "        try:\n",
    "            url='https://db.netkeiba.com/race/' + race_id\n",
    "            f = urlopen(url)\n",
    "            html = f.read()#バイト型の文字列\n",
    "            html = html.replace(b'<br />', b'br')\n",
    "            dfs = pd.read_html(html)\n",
    "            return_tables[race_id] = pd.concat([dfs[1], dfs[2]])\n",
    "            time.sleep(0.1)\n",
    "        except IndexError:\n",
    "            continue\n",
    "        except:\n",
    "            break\n",
    "            \n",
    "    for key in return_tables.keys():\n",
    "        return_tables[key].index = [key]*len(return_tables[key])\n",
    "        \n",
    "    return_tables_pd = pd.concat([return_tables[key] for key in return_tables.keys()],sort=False)\n",
    "    return return_tables_pd"
   ]
  },
  {
   "cell_type": "markdown",
   "metadata": {},
   "source": [
    "## スクレイピング後のデータ"
   ]
  },
  {
   "cell_type": "code",
   "execution_count": 129,
   "metadata": {},
   "outputs": [
    {
     "data": {
      "text/html": [
       "<div>\n",
       "<style scoped>\n",
       "    .dataframe tbody tr th:only-of-type {\n",
       "        vertical-align: middle;\n",
       "    }\n",
       "\n",
       "    .dataframe tbody tr th {\n",
       "        vertical-align: top;\n",
       "    }\n",
       "\n",
       "    .dataframe thead th {\n",
       "        text-align: right;\n",
       "    }\n",
       "</style>\n",
       "<table border=\"1\" class=\"dataframe\">\n",
       "  <thead>\n",
       "    <tr style=\"text-align: right;\">\n",
       "      <th></th>\n",
       "      <th>0</th>\n",
       "      <th>1</th>\n",
       "      <th>2</th>\n",
       "      <th>3</th>\n",
       "    </tr>\n",
       "  </thead>\n",
       "  <tbody>\n",
       "    <tr>\n",
       "      <th>202010020706</th>\n",
       "      <td>単勝</td>\n",
       "      <td>4</td>\n",
       "      <td>1350</td>\n",
       "      <td>5</td>\n",
       "    </tr>\n",
       "    <tr>\n",
       "      <th>202010020706</th>\n",
       "      <td>複勝</td>\n",
       "      <td>4br12br9</td>\n",
       "      <td>470br160br400</td>\n",
       "      <td>8br2br6</td>\n",
       "    </tr>\n",
       "    <tr>\n",
       "      <th>202010020706</th>\n",
       "      <td>枠連</td>\n",
       "      <td>2 - 6</td>\n",
       "      <td>2460</td>\n",
       "      <td>7</td>\n",
       "    </tr>\n",
       "    <tr>\n",
       "      <th>202010020706</th>\n",
       "      <td>馬連</td>\n",
       "      <td>4 - 12</td>\n",
       "      <td>2630</td>\n",
       "      <td>9</td>\n",
       "    </tr>\n",
       "    <tr>\n",
       "      <th>202010020706</th>\n",
       "      <td>ワイド</td>\n",
       "      <td>4 - 12br4 - 9br9 - 12</td>\n",
       "      <td>890br3,800br930</td>\n",
       "      <td>8br39br10</td>\n",
       "    </tr>\n",
       "    <tr>\n",
       "      <th>...</th>\n",
       "      <td>...</td>\n",
       "      <td>...</td>\n",
       "      <td>...</td>\n",
       "      <td>...</td>\n",
       "    </tr>\n",
       "    <tr>\n",
       "      <th>202006050804</th>\n",
       "      <td>馬連</td>\n",
       "      <td>6 - 11</td>\n",
       "      <td>610</td>\n",
       "      <td>1</td>\n",
       "    </tr>\n",
       "    <tr>\n",
       "      <th>202006050804</th>\n",
       "      <td>ワイド</td>\n",
       "      <td>6 - 11br6 - 9br9 - 11</td>\n",
       "      <td>280br1,010br1,520</td>\n",
       "      <td>1br9br16</td>\n",
       "    </tr>\n",
       "    <tr>\n",
       "      <th>202006050804</th>\n",
       "      <td>馬単</td>\n",
       "      <td>6 → 11</td>\n",
       "      <td>960</td>\n",
       "      <td>1</td>\n",
       "    </tr>\n",
       "    <tr>\n",
       "      <th>202006050804</th>\n",
       "      <td>三連複</td>\n",
       "      <td>6 - 9 - 11</td>\n",
       "      <td>3900</td>\n",
       "      <td>9</td>\n",
       "    </tr>\n",
       "    <tr>\n",
       "      <th>202006050804</th>\n",
       "      <td>三連単</td>\n",
       "      <td>6 → 11 → 9</td>\n",
       "      <td>11450</td>\n",
       "      <td>19</td>\n",
       "    </tr>\n",
       "  </tbody>\n",
       "</table>\n",
       "<p>7451 rows × 4 columns</p>\n",
       "</div>"
      ],
      "text/plain": [
       "                0                      1                  2          3\n",
       "202010020706   単勝                      4               1350          5\n",
       "202010020706   複勝               4br12br9      470br160br400    8br2br6\n",
       "202010020706   枠連                  2 - 6               2460          7\n",
       "202010020706   馬連                 4 - 12               2630          9\n",
       "202010020706  ワイド  4 - 12br4 - 9br9 - 12    890br3,800br930  8br39br10\n",
       "...           ...                    ...                ...        ...\n",
       "202006050804   馬連                 6 - 11                610          1\n",
       "202006050804  ワイド  6 - 11br6 - 9br9 - 11  280br1,010br1,520   1br9br16\n",
       "202006050804   馬単                 6 → 11                960          1\n",
       "202006050804  三連複             6 - 9 - 11               3900          9\n",
       "202006050804  三連単             6 → 11 → 9              11450         19\n",
       "\n",
       "[7451 rows x 4 columns]"
      ]
     },
     "execution_count": 129,
     "metadata": {},
     "output_type": "execute_result"
    }
   ],
   "source": [
    "return_tables = pd.read_pickle('return_tables.pickle')\n",
    "return_tables"
   ]
  },
  {
   "cell_type": "markdown",
   "metadata": {},
   "source": [
    "## Returnクラス"
   ]
  },
  {
   "cell_type": "code",
   "execution_count": 85,
   "metadata": {
    "code_folding": []
   },
   "outputs": [],
   "source": [
    "class Return:\n",
    "    def __init__(self, return_tables):\n",
    "        self.return_tables = return_tables\n",
    "    \n",
    "    @classmethod\n",
    "    def read_pickle(cls, path_list):\n",
    "        df = pd.concat([pd.read_pickle(path) for path in path_list])\n",
    "        return cls(df)\n",
    "    \n",
    "    @property\n",
    "    def tan(self):\n",
    "        tan = self.return_tables[self.return_tables[0] == '単勝'][[1,2]]\n",
    "        tan.columns = ['win', 'return']\n",
    "        \n",
    "        for column in tan.columns:\n",
    "            tan[column] = pd.to_numeric(tan[column], errors='coerce')\n",
    "        return tan\n",
    "    \n",
    "    @property\n",
    "    def fuku(self):\n",
    "        fuku = self.return_tables[self.return_tables[0] == '複勝'][[1,2]]\n",
    "        #勝ち馬の馬番\n",
    "        wins = fuku[1].str.split('br', expand = True).drop([3,4], axis=1)\n",
    "        wins.columns = ['win_0', 'win_1', 'win_2']\n",
    "        #払い戻し\n",
    "        returns = fuku[2].str.split('br', expand = True).drop([3,4], axis=1)\n",
    "        returns.columns = ['return_0', 'return_1', 'return_2']\n",
    "        \n",
    "        df = pd.concat([wins, returns], axis=1)\n",
    "        for column in df.columns:\n",
    "            df[column] = df[column].str.replace(',','')\n",
    "        return df.fillna(0).astype(int)\n",
    "    \n",
    "    @property\n",
    "    def umaren(self):\n",
    "        umaren = self.return_tables[self.return_tables[0] == '馬連'][[1,2]]\n",
    "        wins = umaren[1].str.split('-', expand = True)[[0,1]].add_prefix('win_')\n",
    "        returns = umaren[2].rename('return')\n",
    "        \n",
    "        df = pd.concat([wins, returns], axis=1)\n",
    "        return df.apply(lambda x: pd.to_numeric(x, errors='coerce')) #brを含むものをNaNにする"
   ]
  },
  {
   "cell_type": "code",
   "execution_count": 86,
   "metadata": {},
   "outputs": [],
   "source": [
    "rt = Return.read_pickle(['return_tables.pickle'])"
   ]
  },
  {
   "cell_type": "markdown",
   "metadata": {},
   "source": [
    "# 血統データ取得"
   ]
  },
  {
   "cell_type": "code",
   "execution_count": null,
   "metadata": {
    "code_folding": []
   },
   "outputs": [],
   "source": [
    "def scraping_peds(id_list, pre_peds={}):\n",
    "    peds = pre_peds\n",
    "    \n",
    "    for horse_id in tqdm(id_list):\n",
    "        if horse_id in pre_peds.keys():\n",
    "            continue\n",
    "        try:\n",
    "            url='https://db.netkeiba.com/horse/ped/' + horse_id\n",
    "            df = pd.read_html(url)[0]\n",
    "            generations = {}\n",
    "            for i in reversed(range(5)):\n",
    "                generations[i] = df[i] #若い世代から順に\n",
    "                df.drop([i], axis=1, inplace=True)\n",
    "                df = df.drop_duplicates()\n",
    "                \n",
    "            ped = pd.concat(generations[i] for i in range(5)).rename(horse_id)\n",
    "            peds[horse_id] = ped.reset_index(drop=True)\n",
    "            time.sleep(0.1)\n",
    "        except IndexError:\n",
    "            continue\n",
    "        except Exception as e:\n",
    "            print(e)\n",
    "            break\n",
    "    return peds"
   ]
  },
  {
   "cell_type": "code",
   "execution_count": 246,
   "metadata": {},
   "outputs": [
    {
     "data": {
      "text/plain": [
       "11389"
      ]
     },
     "execution_count": 246,
     "metadata": {},
     "output_type": "execute_result"
    }
   ],
   "source": [
    "horse_id_list = horse_results.index.unique()\n",
    "peds = scraping_peds(horse_id_list)\n",
    "peds = pd.concat([peds[horse_id] for horse_id in peds], axis=1).T\n",
    "peds = peds.add_prefix('peds_')"
   ]
  },
  {
   "cell_type": "markdown",
   "metadata": {},
   "source": [
    "## スクレイピング後のデータ"
   ]
  },
  {
   "cell_type": "code",
   "execution_count": 247,
   "metadata": {},
   "outputs": [
    {
     "data": {
      "text/html": [
       "<div>\n",
       "<style scoped>\n",
       "    .dataframe tbody tr th:only-of-type {\n",
       "        vertical-align: middle;\n",
       "    }\n",
       "\n",
       "    .dataframe tbody tr th {\n",
       "        vertical-align: top;\n",
       "    }\n",
       "\n",
       "    .dataframe thead th {\n",
       "        text-align: right;\n",
       "    }\n",
       "</style>\n",
       "<table border=\"1\" class=\"dataframe\">\n",
       "  <thead>\n",
       "    <tr style=\"text-align: right;\">\n",
       "      <th></th>\n",
       "      <th>peds_0</th>\n",
       "      <th>peds_1</th>\n",
       "      <th>peds_2</th>\n",
       "      <th>peds_3</th>\n",
       "      <th>peds_4</th>\n",
       "      <th>peds_5</th>\n",
       "      <th>peds_6</th>\n",
       "      <th>peds_7</th>\n",
       "      <th>peds_8</th>\n",
       "      <th>peds_9</th>\n",
       "      <th>...</th>\n",
       "      <th>peds_52</th>\n",
       "      <th>peds_53</th>\n",
       "      <th>peds_54</th>\n",
       "      <th>peds_55</th>\n",
       "      <th>peds_56</th>\n",
       "      <th>peds_57</th>\n",
       "      <th>peds_58</th>\n",
       "      <th>peds_59</th>\n",
       "      <th>peds_60</th>\n",
       "      <th>peds_61</th>\n",
       "    </tr>\n",
       "  </thead>\n",
       "  <tbody>\n",
       "    <tr>\n",
       "      <th>2018101626</th>\n",
       "      <td>ゴールドシップ 2009 芦毛 [血統][産駒] Halo系</td>\n",
       "      <td>コスモエルデスト 2011 鹿毛 [血統][産駒] FNo.[14-f]</td>\n",
       "      <td>ステイゴールド 1994 黒鹿毛 [血統][産駒]</td>\n",
       "      <td>ポイントフラッグ 1998 芦毛 [血統][産駒]</td>\n",
       "      <td>ブラックホーク 1994 鹿毛 [血統][産駒]</td>\n",
       "      <td>ビューティアイ 2005 黒鹿毛 [血統][産駒]</td>\n",
       "      <td>サンデーサイレンス Sunday Silence(米) 1986 青鹿毛 [血統][産駒]</td>\n",
       "      <td>ゴールデンサッシュ 1988 栗毛 [血統][産駒]</td>\n",
       "      <td>メジロマックイーン 1987 芦毛 [血統][産駒]</td>\n",
       "      <td>パストラリズム 1987 黒鹿毛 [血統][産駒]</td>\n",
       "      <td>...</td>\n",
       "      <td>Chieftain</td>\n",
       "      <td>Level Sands</td>\n",
       "      <td>Halo</td>\n",
       "      <td>Wishing Well</td>\n",
       "      <td>Carr de Naskra</td>\n",
       "      <td>Mawgrit</td>\n",
       "      <td>Danzig</td>\n",
       "      <td>Razyana</td>\n",
       "      <td>リアルシャダイ</td>\n",
       "      <td>マックスビューティ</td>\n",
       "    </tr>\n",
       "    <tr>\n",
       "      <th>2018105193</th>\n",
       "      <td>ディープインパクト 2002 鹿毛 [血統][産駒] Halo系</td>\n",
       "      <td>ヒストリックスター 2005 鹿毛 [血統][産駒] FNo.[9-f]</td>\n",
       "      <td>サンデーサイレンス Sunday Silence(米) 1986 青鹿毛 [血統][産駒]</td>\n",
       "      <td>ウインドインハーヘア Wind in Her Hair(愛) 1991 鹿毛 [血統][産駒]</td>\n",
       "      <td>ファルブラヴ Falbrav(愛) 1998 鹿毛 [血統][産駒]</td>\n",
       "      <td>ベガ 1990 鹿毛 [血統][産駒]</td>\n",
       "      <td>Halo 1969 黒鹿毛 [血統][産駒]</td>\n",
       "      <td>Wishing Well 1975 鹿毛 [血統][産駒]</td>\n",
       "      <td>Alzao 1980 鹿毛 [血統][産駒]</td>\n",
       "      <td>Burghclere 1977 鹿毛 [血統][産駒]</td>\n",
       "      <td>...</td>\n",
       "      <td>Lithiot</td>\n",
       "      <td>Nenana Road</td>\n",
       "      <td>Kalamoun</td>\n",
       "      <td>State Pension</td>\n",
       "      <td>Hornbeam</td>\n",
       "      <td>Priddy Fair</td>\n",
       "      <td>Nearctic</td>\n",
       "      <td>Natalma</td>\n",
       "      <td>Tom Fool</td>\n",
       "      <td>Brazen</td>\n",
       "    </tr>\n",
       "  </tbody>\n",
       "</table>\n",
       "<p>2 rows × 62 columns</p>\n",
       "</div>"
      ],
      "text/plain": [
       "                                      peds_0  \\\n",
       "2018101626    ゴールドシップ 2009 芦毛 [血統][産駒] Halo系   \n",
       "2018105193  ディープインパクト 2002 鹿毛 [血統][産駒] Halo系   \n",
       "\n",
       "                                          peds_1  \\\n",
       "2018101626  コスモエルデスト 2011 鹿毛 [血統][産駒] FNo.[14-f]   \n",
       "2018105193  ヒストリックスター 2005 鹿毛 [血統][産駒] FNo.[9-f]   \n",
       "\n",
       "                                                   peds_2  \\\n",
       "2018101626                      ステイゴールド 1994 黒鹿毛 [血統][産駒]   \n",
       "2018105193  サンデーサイレンス Sunday Silence(米) 1986 青鹿毛 [血統][産駒]   \n",
       "\n",
       "                                                     peds_3  \\\n",
       "2018101626                        ポイントフラッグ 1998 芦毛 [血統][産駒]   \n",
       "2018105193  ウインドインハーヘア Wind in Her Hair(愛) 1991 鹿毛 [血統][産駒]   \n",
       "\n",
       "                                        peds_4                     peds_5  \\\n",
       "2018101626            ブラックホーク 1994 鹿毛 [血統][産駒]  ビューティアイ 2005 黒鹿毛 [血統][産駒]   \n",
       "2018105193  ファルブラヴ Falbrav(愛) 1998 鹿毛 [血統][産駒]        ベガ 1990 鹿毛 [血統][産駒]   \n",
       "\n",
       "                                                   peds_6  \\\n",
       "2018101626  サンデーサイレンス Sunday Silence(米) 1986 青鹿毛 [血統][産駒]   \n",
       "2018105193                         Halo 1969 黒鹿毛 [血統][産駒]   \n",
       "\n",
       "                                   peds_7                      peds_8  \\\n",
       "2018101626     ゴールデンサッシュ 1988 栗毛 [血統][産駒]  メジロマックイーン 1987 芦毛 [血統][産駒]   \n",
       "2018105193  Wishing Well 1975 鹿毛 [血統][産駒]      Alzao 1980 鹿毛 [血統][産駒]   \n",
       "\n",
       "                                 peds_9  ...    peds_52      peds_53  \\\n",
       "2018101626    パストラリズム 1987 黒鹿毛 [血統][産駒]  ...  Chieftain  Level Sands   \n",
       "2018105193  Burghclere 1977 鹿毛 [血統][産駒]  ...    Lithiot  Nenana Road   \n",
       "\n",
       "             peds_54        peds_55         peds_56      peds_57   peds_58  \\\n",
       "2018101626      Halo   Wishing Well  Carr de Naskra      Mawgrit    Danzig   \n",
       "2018105193  Kalamoun  State Pension        Hornbeam  Priddy Fair  Nearctic   \n",
       "\n",
       "            peds_59   peds_60    peds_61  \n",
       "2018101626  Razyana   リアルシャダイ  マックスビューティ  \n",
       "2018105193  Natalma  Tom Fool     Brazen  \n",
       "\n",
       "[2 rows x 62 columns]"
      ]
     },
     "execution_count": 247,
     "metadata": {},
     "output_type": "execute_result"
    }
   ],
   "source": [
    "peds = pd.read_pickle('peds.pickle')\n",
    "peds.head(2)"
   ]
  },
  {
   "cell_type": "code",
   "execution_count": 251,
   "metadata": {},
   "outputs": [
    {
     "data": {
      "text/html": [
       "<div>\n",
       "<style scoped>\n",
       "    .dataframe tbody tr th:only-of-type {\n",
       "        vertical-align: middle;\n",
       "    }\n",
       "\n",
       "    .dataframe tbody tr th {\n",
       "        vertical-align: top;\n",
       "    }\n",
       "\n",
       "    .dataframe thead th {\n",
       "        text-align: right;\n",
       "    }\n",
       "</style>\n",
       "<table border=\"1\" class=\"dataframe\">\n",
       "  <thead>\n",
       "    <tr style=\"text-align: right;\">\n",
       "      <th></th>\n",
       "      <th>着順</th>\n",
       "      <th>枠番</th>\n",
       "      <th>馬番</th>\n",
       "      <th>馬名</th>\n",
       "      <th>斤量</th>\n",
       "      <th>騎手</th>\n",
       "      <th>単勝</th>\n",
       "      <th>人気</th>\n",
       "      <th>horse_id</th>\n",
       "      <th>jockey_id</th>\n",
       "      <th>...</th>\n",
       "      <th>peds_52</th>\n",
       "      <th>peds_53</th>\n",
       "      <th>peds_54</th>\n",
       "      <th>peds_55</th>\n",
       "      <th>peds_56</th>\n",
       "      <th>peds_57</th>\n",
       "      <th>peds_58</th>\n",
       "      <th>peds_59</th>\n",
       "      <th>peds_60</th>\n",
       "      <th>peds_61</th>\n",
       "    </tr>\n",
       "  </thead>\n",
       "  <tbody>\n",
       "    <tr>\n",
       "      <th>202001010101</th>\n",
       "      <td>1</td>\n",
       "      <td>6</td>\n",
       "      <td>6</td>\n",
       "      <td>ウインルーア</td>\n",
       "      <td>54.0</td>\n",
       "      <td>横山武史</td>\n",
       "      <td>16.0</td>\n",
       "      <td>3</td>\n",
       "      <td>2018101626</td>\n",
       "      <td>01170</td>\n",
       "      <td>...</td>\n",
       "      <td>Chieftain</td>\n",
       "      <td>Level Sands</td>\n",
       "      <td>Halo</td>\n",
       "      <td>Wishing Well</td>\n",
       "      <td>Carr de Naskra</td>\n",
       "      <td>Mawgrit</td>\n",
       "      <td>Danzig</td>\n",
       "      <td>Razyana</td>\n",
       "      <td>リアルシャダイ</td>\n",
       "      <td>マックスビューティ</td>\n",
       "    </tr>\n",
       "    <tr>\n",
       "      <th>202001010101</th>\n",
       "      <td>2</td>\n",
       "      <td>2</td>\n",
       "      <td>2</td>\n",
       "      <td>アークライト</td>\n",
       "      <td>54.0</td>\n",
       "      <td>ルメール</td>\n",
       "      <td>1.9</td>\n",
       "      <td>2</td>\n",
       "      <td>2018105193</td>\n",
       "      <td>05339</td>\n",
       "      <td>...</td>\n",
       "      <td>Lithiot</td>\n",
       "      <td>Nenana Road</td>\n",
       "      <td>Kalamoun</td>\n",
       "      <td>State Pension</td>\n",
       "      <td>Hornbeam</td>\n",
       "      <td>Priddy Fair</td>\n",
       "      <td>Nearctic</td>\n",
       "      <td>Natalma</td>\n",
       "      <td>Tom Fool</td>\n",
       "      <td>Brazen</td>\n",
       "    </tr>\n",
       "    <tr>\n",
       "      <th>202001010101</th>\n",
       "      <td>3</td>\n",
       "      <td>3</td>\n",
       "      <td>3</td>\n",
       "      <td>ギャラントウォリア</td>\n",
       "      <td>54.0</td>\n",
       "      <td>池添謙一</td>\n",
       "      <td>1.8</td>\n",
       "      <td>1</td>\n",
       "      <td>2018104800</td>\n",
       "      <td>01032</td>\n",
       "      <td>...</td>\n",
       "      <td>Welsh Pageant</td>\n",
       "      <td>Electric Flash</td>\n",
       "      <td>Sir Gaylord</td>\n",
       "      <td>Little Hut</td>\n",
       "      <td>Claude</td>\n",
       "      <td>Ribasha</td>\n",
       "      <td>Thatch</td>\n",
       "      <td>Last Call</td>\n",
       "      <td>Mummy's Pet</td>\n",
       "      <td>Goosie-Gantlet</td>\n",
       "    </tr>\n",
       "    <tr>\n",
       "      <th>202001010101</th>\n",
       "      <td>4</td>\n",
       "      <td>1</td>\n",
       "      <td>1</td>\n",
       "      <td>ジュンブーケ</td>\n",
       "      <td>52.0</td>\n",
       "      <td>亀田温心</td>\n",
       "      <td>22.2</td>\n",
       "      <td>4</td>\n",
       "      <td>2018102410</td>\n",
       "      <td>01176</td>\n",
       "      <td>...</td>\n",
       "      <td>Bustino</td>\n",
       "      <td>Zerbinetta</td>\n",
       "      <td>Danzig</td>\n",
       "      <td>Foreign Courier</td>\n",
       "      <td>Ahonoora</td>\n",
       "      <td>Balidaress</td>\n",
       "      <td>Arctic Tern</td>\n",
       "      <td>Beaune</td>\n",
       "      <td>Nureyev</td>\n",
       "      <td>Unite</td>\n",
       "    </tr>\n",
       "    <tr>\n",
       "      <th>202001010101</th>\n",
       "      <td>5</td>\n",
       "      <td>4</td>\n",
       "      <td>4</td>\n",
       "      <td>キタノマンゲツ</td>\n",
       "      <td>54.0</td>\n",
       "      <td>藤岡康太</td>\n",
       "      <td>55.7</td>\n",
       "      <td>5</td>\n",
       "      <td>2018100828</td>\n",
       "      <td>01116</td>\n",
       "      <td>...</td>\n",
       "      <td>Lithiot</td>\n",
       "      <td>Nenana Road</td>\n",
       "      <td>Nearctic</td>\n",
       "      <td>Natalma</td>\n",
       "      <td>Victoria Park</td>\n",
       "      <td>Lady Angela</td>\n",
       "      <td>Herbager</td>\n",
       "      <td>Silver Sari</td>\n",
       "      <td>Crimson Satan</td>\n",
       "      <td>Bright Prospect</td>\n",
       "    </tr>\n",
       "  </tbody>\n",
       "</table>\n",
       "<p>5 rows × 83 columns</p>\n",
       "</div>"
      ],
      "text/plain": [
       "              着順  枠番  馬番         馬名    斤量    騎手    単勝  人気    horse_id  \\\n",
       "202001010101   1   6   6     ウインルーア  54.0  横山武史  16.0   3  2018101626   \n",
       "202001010101   2   2   2     アークライト  54.0  ルメール   1.9   2  2018105193   \n",
       "202001010101   3   3   3  ギャラントウォリア  54.0  池添謙一   1.8   1  2018104800   \n",
       "202001010101   4   1   1     ジュンブーケ  52.0  亀田温心  22.2   4  2018102410   \n",
       "202001010101   5   4   4    キタノマンゲツ  54.0  藤岡康太  55.7   5  2018100828   \n",
       "\n",
       "             jockey_id  ...        peds_52         peds_53      peds_54  \\\n",
       "202001010101     01170  ...      Chieftain     Level Sands         Halo   \n",
       "202001010101     05339  ...        Lithiot     Nenana Road     Kalamoun   \n",
       "202001010101     01032  ...  Welsh Pageant  Electric Flash  Sir Gaylord   \n",
       "202001010101     01176  ...        Bustino      Zerbinetta       Danzig   \n",
       "202001010101     01116  ...        Lithiot     Nenana Road     Nearctic   \n",
       "\n",
       "                      peds_55         peds_56      peds_57      peds_58  \\\n",
       "202001010101     Wishing Well  Carr de Naskra      Mawgrit       Danzig   \n",
       "202001010101    State Pension        Hornbeam  Priddy Fair     Nearctic   \n",
       "202001010101       Little Hut          Claude      Ribasha       Thatch   \n",
       "202001010101  Foreign Courier        Ahonoora   Balidaress  Arctic Tern   \n",
       "202001010101          Natalma   Victoria Park  Lady Angela     Herbager   \n",
       "\n",
       "                  peds_59        peds_60          peds_61  \n",
       "202001010101      Razyana        リアルシャダイ        マックスビューティ  \n",
       "202001010101      Natalma       Tom Fool           Brazen  \n",
       "202001010101    Last Call    Mummy's Pet   Goosie-Gantlet  \n",
       "202001010101       Beaune        Nureyev            Unite  \n",
       "202001010101  Silver Sari  Crimson Satan  Bright Prospect  \n",
       "\n",
       "[5 rows x 83 columns]"
      ]
     },
     "execution_count": 251,
     "metadata": {},
     "output_type": "execute_result"
    }
   ],
   "source": [
    "results_ped = result_5R.merge(peds, left_on='horse_id', right_index=True, how='left')\n",
    "results_ped.head()"
   ]
  },
  {
   "cell_type": "markdown",
   "metadata": {},
   "source": [
    "## Pedsクラス"
   ]
  },
  {
   "cell_type": "code",
   "execution_count": 68,
   "metadata": {},
   "outputs": [],
   "source": [
    "from sklearn.preprocessing import LabelEncoder\n",
    "\n",
    "class Peds:\n",
    "    def __init__(self, peds):\n",
    "        self.peds = peds\n",
    "        self.peds_en = pd.DataFrame()\n",
    "        \n",
    "    @classmethod\n",
    "    def read_pickle(cls, path_list):\n",
    "        df = pd.concat([pd.read_pickle(path) for path in path_list])\n",
    "        return cls(df)\n",
    "    \n",
    "    def encode(self):\n",
    "        df = self.peds.copy()\n",
    "        for column in df.columns:\n",
    "            df[column] = LabelEncoder().fit_transform(df[column].fillna('Na'))\n",
    "        self.peds_en = df.astype('category')"
   ]
  },
  {
   "cell_type": "code",
   "execution_count": 69,
   "metadata": {},
   "outputs": [],
   "source": [
    "pe = Peds.read_pickle(['peds.pickle'])\n",
    "pe.encode()"
   ]
  },
  {
   "cell_type": "code",
   "execution_count": 70,
   "metadata": {},
   "outputs": [
    {
     "data": {
      "text/html": [
       "<div>\n",
       "<style scoped>\n",
       "    .dataframe tbody tr th:only-of-type {\n",
       "        vertical-align: middle;\n",
       "    }\n",
       "\n",
       "    .dataframe tbody tr th {\n",
       "        vertical-align: top;\n",
       "    }\n",
       "\n",
       "    .dataframe thead th {\n",
       "        text-align: right;\n",
       "    }\n",
       "</style>\n",
       "<table border=\"1\" class=\"dataframe\">\n",
       "  <thead>\n",
       "    <tr style=\"text-align: right;\">\n",
       "      <th></th>\n",
       "      <th>peds_0</th>\n",
       "      <th>peds_1</th>\n",
       "      <th>peds_2</th>\n",
       "      <th>peds_3</th>\n",
       "      <th>peds_4</th>\n",
       "      <th>peds_5</th>\n",
       "      <th>peds_6</th>\n",
       "      <th>peds_7</th>\n",
       "      <th>peds_8</th>\n",
       "      <th>peds_9</th>\n",
       "      <th>...</th>\n",
       "      <th>peds_52</th>\n",
       "      <th>peds_53</th>\n",
       "      <th>peds_54</th>\n",
       "      <th>peds_55</th>\n",
       "      <th>peds_56</th>\n",
       "      <th>peds_57</th>\n",
       "      <th>peds_58</th>\n",
       "      <th>peds_59</th>\n",
       "      <th>peds_60</th>\n",
       "      <th>peds_61</th>\n",
       "    </tr>\n",
       "  </thead>\n",
       "  <tbody>\n",
       "    <tr>\n",
       "      <th>2018101626</th>\n",
       "      <td>253</td>\n",
       "      <td>2123</td>\n",
       "      <td>165</td>\n",
       "      <td>370</td>\n",
       "      <td>762</td>\n",
       "      <td>4026</td>\n",
       "      <td>96</td>\n",
       "      <td>168</td>\n",
       "      <td>230</td>\n",
       "      <td>372</td>\n",
       "      <td>...</td>\n",
       "      <td>56</td>\n",
       "      <td>333</td>\n",
       "      <td>63</td>\n",
       "      <td>370</td>\n",
       "      <td>72</td>\n",
       "      <td>485</td>\n",
       "      <td>87</td>\n",
       "      <td>821</td>\n",
       "      <td>1312</td>\n",
       "      <td>3114</td>\n",
       "    </tr>\n",
       "    <tr>\n",
       "      <th>2018105193</th>\n",
       "      <td>338</td>\n",
       "      <td>4804</td>\n",
       "      <td>154</td>\n",
       "      <td>237</td>\n",
       "      <td>749</td>\n",
       "      <td>4445</td>\n",
       "      <td>35</td>\n",
       "      <td>152</td>\n",
       "      <td>6</td>\n",
       "      <td>33</td>\n",
       "      <td>...</td>\n",
       "      <td>182</td>\n",
       "      <td>415</td>\n",
       "      <td>78</td>\n",
       "      <td>330</td>\n",
       "      <td>178</td>\n",
       "      <td>617</td>\n",
       "      <td>246</td>\n",
       "      <td>668</td>\n",
       "      <td>926</td>\n",
       "      <td>305</td>\n",
       "    </tr>\n",
       "    <tr>\n",
       "      <th>2018104800</th>\n",
       "      <td>289</td>\n",
       "      <td>5971</td>\n",
       "      <td>145</td>\n",
       "      <td>396</td>\n",
       "      <td>279</td>\n",
       "      <td>489</td>\n",
       "      <td>75</td>\n",
       "      <td>3</td>\n",
       "      <td>198</td>\n",
       "      <td>356</td>\n",
       "      <td>...</td>\n",
       "      <td>374</td>\n",
       "      <td>162</td>\n",
       "      <td>155</td>\n",
       "      <td>190</td>\n",
       "      <td>88</td>\n",
       "      <td>672</td>\n",
       "      <td>389</td>\n",
       "      <td>538</td>\n",
       "      <td>561</td>\n",
       "      <td>923</td>\n",
       "    </tr>\n",
       "    <tr>\n",
       "      <th>2018102410</th>\n",
       "      <td>224</td>\n",
       "      <td>7325</td>\n",
       "      <td>175</td>\n",
       "      <td>256</td>\n",
       "      <td>346</td>\n",
       "      <td>5456</td>\n",
       "      <td>96</td>\n",
       "      <td>162</td>\n",
       "      <td>156</td>\n",
       "      <td>191</td>\n",
       "      <td>...</td>\n",
       "      <td>51</td>\n",
       "      <td>645</td>\n",
       "      <td>35</td>\n",
       "      <td>106</td>\n",
       "      <td>9</td>\n",
       "      <td>50</td>\n",
       "      <td>19</td>\n",
       "      <td>89</td>\n",
       "      <td>606</td>\n",
       "      <td>2418</td>\n",
       "    </tr>\n",
       "    <tr>\n",
       "      <th>2018100828</th>\n",
       "      <td>446</td>\n",
       "      <td>3244</td>\n",
       "      <td>141</td>\n",
       "      <td>291</td>\n",
       "      <td>749</td>\n",
       "      <td>3521</td>\n",
       "      <td>46</td>\n",
       "      <td>189</td>\n",
       "      <td>203</td>\n",
       "      <td>319</td>\n",
       "      <td>...</td>\n",
       "      <td>182</td>\n",
       "      <td>415</td>\n",
       "      <td>109</td>\n",
       "      <td>230</td>\n",
       "      <td>451</td>\n",
       "      <td>417</td>\n",
       "      <td>153</td>\n",
       "      <td>930</td>\n",
       "      <td>204</td>\n",
       "      <td>315</td>\n",
       "    </tr>\n",
       "    <tr>\n",
       "      <th>...</th>\n",
       "      <td>...</td>\n",
       "      <td>...</td>\n",
       "      <td>...</td>\n",
       "      <td>...</td>\n",
       "      <td>...</td>\n",
       "      <td>...</td>\n",
       "      <td>...</td>\n",
       "      <td>...</td>\n",
       "      <td>...</td>\n",
       "      <td>...</td>\n",
       "      <td>...</td>\n",
       "      <td>...</td>\n",
       "      <td>...</td>\n",
       "      <td>...</td>\n",
       "      <td>...</td>\n",
       "      <td>...</td>\n",
       "      <td>...</td>\n",
       "      <td>...</td>\n",
       "      <td>...</td>\n",
       "      <td>...</td>\n",
       "      <td>...</td>\n",
       "    </tr>\n",
       "    <tr>\n",
       "      <th>2018109169</th>\n",
       "      <td>290</td>\n",
       "      <td>2300</td>\n",
       "      <td>75</td>\n",
       "      <td>106</td>\n",
       "      <td>668</td>\n",
       "      <td>2523</td>\n",
       "      <td>13</td>\n",
       "      <td>113</td>\n",
       "      <td>86</td>\n",
       "      <td>245</td>\n",
       "      <td>...</td>\n",
       "      <td>432</td>\n",
       "      <td>606</td>\n",
       "      <td>17</td>\n",
       "      <td>146</td>\n",
       "      <td>361</td>\n",
       "      <td>108</td>\n",
       "      <td>484</td>\n",
       "      <td>1131</td>\n",
       "      <td>1050</td>\n",
       "      <td>2789</td>\n",
       "    </tr>\n",
       "    <tr>\n",
       "      <th>2017104830</th>\n",
       "      <td>282</td>\n",
       "      <td>3891</td>\n",
       "      <td>182</td>\n",
       "      <td>282</td>\n",
       "      <td>450</td>\n",
       "      <td>371</td>\n",
       "      <td>96</td>\n",
       "      <td>157</td>\n",
       "      <td>178</td>\n",
       "      <td>337</td>\n",
       "      <td>...</td>\n",
       "      <td>119</td>\n",
       "      <td>308</td>\n",
       "      <td>178</td>\n",
       "      <td>365</td>\n",
       "      <td>106</td>\n",
       "      <td>693</td>\n",
       "      <td>174</td>\n",
       "      <td>663</td>\n",
       "      <td>413</td>\n",
       "      <td>659</td>\n",
       "    </tr>\n",
       "    <tr>\n",
       "      <th>2017101519</th>\n",
       "      <td>345</td>\n",
       "      <td>5319</td>\n",
       "      <td>141</td>\n",
       "      <td>325</td>\n",
       "      <td>748</td>\n",
       "      <td>3133</td>\n",
       "      <td>46</td>\n",
       "      <td>189</td>\n",
       "      <td>198</td>\n",
       "      <td>377</td>\n",
       "      <td>...</td>\n",
       "      <td>220</td>\n",
       "      <td>493</td>\n",
       "      <td>139</td>\n",
       "      <td>152</td>\n",
       "      <td>275</td>\n",
       "      <td>939</td>\n",
       "      <td>147</td>\n",
       "      <td>198</td>\n",
       "      <td>960</td>\n",
       "      <td>1501</td>\n",
       "    </tr>\n",
       "    <tr>\n",
       "      <th>2018106621</th>\n",
       "      <td>435</td>\n",
       "      <td>6246</td>\n",
       "      <td>139</td>\n",
       "      <td>375</td>\n",
       "      <td>646</td>\n",
       "      <td>4387</td>\n",
       "      <td>72</td>\n",
       "      <td>26</td>\n",
       "      <td>206</td>\n",
       "      <td>307</td>\n",
       "      <td>...</td>\n",
       "      <td>424</td>\n",
       "      <td>702</td>\n",
       "      <td>129</td>\n",
       "      <td>119</td>\n",
       "      <td>270</td>\n",
       "      <td>757</td>\n",
       "      <td>287</td>\n",
       "      <td>903</td>\n",
       "      <td>580</td>\n",
       "      <td>2422</td>\n",
       "    </tr>\n",
       "    <tr>\n",
       "      <th>2014102720</th>\n",
       "      <td>186</td>\n",
       "      <td>2489</td>\n",
       "      <td>145</td>\n",
       "      <td>402</td>\n",
       "      <td>604</td>\n",
       "      <td>3384</td>\n",
       "      <td>75</td>\n",
       "      <td>3</td>\n",
       "      <td>212</td>\n",
       "      <td>359</td>\n",
       "      <td>...</td>\n",
       "      <td>202</td>\n",
       "      <td>159</td>\n",
       "      <td>199</td>\n",
       "      <td>388</td>\n",
       "      <td>502</td>\n",
       "      <td>962</td>\n",
       "      <td>243</td>\n",
       "      <td>606</td>\n",
       "      <td>1087</td>\n",
       "      <td>2636</td>\n",
       "    </tr>\n",
       "  </tbody>\n",
       "</table>\n",
       "<p>11389 rows × 62 columns</p>\n",
       "</div>"
      ],
      "text/plain": [
       "           peds_0 peds_1 peds_2 peds_3 peds_4 peds_5 peds_6 peds_7 peds_8  \\\n",
       "2018101626    253   2123    165    370    762   4026     96    168    230   \n",
       "2018105193    338   4804    154    237    749   4445     35    152      6   \n",
       "2018104800    289   5971    145    396    279    489     75      3    198   \n",
       "2018102410    224   7325    175    256    346   5456     96    162    156   \n",
       "2018100828    446   3244    141    291    749   3521     46    189    203   \n",
       "...           ...    ...    ...    ...    ...    ...    ...    ...    ...   \n",
       "2018109169    290   2300     75    106    668   2523     13    113     86   \n",
       "2017104830    282   3891    182    282    450    371     96    157    178   \n",
       "2017101519    345   5319    141    325    748   3133     46    189    198   \n",
       "2018106621    435   6246    139    375    646   4387     72     26    206   \n",
       "2014102720    186   2489    145    402    604   3384     75      3    212   \n",
       "\n",
       "           peds_9  ... peds_52 peds_53 peds_54 peds_55 peds_56 peds_57  \\\n",
       "2018101626    372  ...      56     333      63     370      72     485   \n",
       "2018105193     33  ...     182     415      78     330     178     617   \n",
       "2018104800    356  ...     374     162     155     190      88     672   \n",
       "2018102410    191  ...      51     645      35     106       9      50   \n",
       "2018100828    319  ...     182     415     109     230     451     417   \n",
       "...           ...  ...     ...     ...     ...     ...     ...     ...   \n",
       "2018109169    245  ...     432     606      17     146     361     108   \n",
       "2017104830    337  ...     119     308     178     365     106     693   \n",
       "2017101519    377  ...     220     493     139     152     275     939   \n",
       "2018106621    307  ...     424     702     129     119     270     757   \n",
       "2014102720    359  ...     202     159     199     388     502     962   \n",
       "\n",
       "           peds_58 peds_59 peds_60 peds_61  \n",
       "2018101626      87     821    1312    3114  \n",
       "2018105193     246     668     926     305  \n",
       "2018104800     389     538     561     923  \n",
       "2018102410      19      89     606    2418  \n",
       "2018100828     153     930     204     315  \n",
       "...            ...     ...     ...     ...  \n",
       "2018109169     484    1131    1050    2789  \n",
       "2017104830     174     663     413     659  \n",
       "2017101519     147     198     960    1501  \n",
       "2018106621     287     903     580    2422  \n",
       "2014102720     243     606    1087    2636  \n",
       "\n",
       "[11389 rows x 62 columns]"
      ]
     },
     "execution_count": 70,
     "metadata": {},
     "output_type": "execute_result"
    }
   ],
   "source": [
    "pe.peds_en"
   ]
  },
  {
   "cell_type": "markdown",
   "metadata": {},
   "source": [
    "# 前処理"
   ]
  },
  {
   "cell_type": "markdown",
   "metadata": {},
   "source": [
    "## データをカテゴリ変数化、ダミー変数化"
   ]
  },
  {
   "cell_type": "code",
   "execution_count": 252,
   "metadata": {},
   "outputs": [],
   "source": [
    "def process_categorical(df, target_columns):\n",
    "    df2 = df.copy()\n",
    "    for column in target_columns:\n",
    "        df2[column] = LabelEncoder().fit_transform(df2[column].fillna('Na'))\n",
    "        \n",
    "    df2 = pd.get_dummies(df2)\n",
    "    \n",
    "    for column in target_columns:\n",
    "        df2[column] = df2[column].astype('category')\n",
    "        \n",
    "    return df2"
   ]
  },
  {
   "cell_type": "code",
   "execution_count": 253,
   "metadata": {},
   "outputs": [],
   "source": [
    "#3着以内に入るかどうかを判定するrank列を追加し、不要な列を削除\n",
    "results_ped[\"rank\"] = results_ped[\"着順\"].map(lambda x:1 if x <4 else 0)\n",
    "results_ped.drop([\"馬名\",\"着順\",\"騎手\",\"単勝\",\"人気\"],axis=1, inplace=True)"
   ]
  },
  {
   "cell_type": "code",
   "execution_count": 254,
   "metadata": {},
   "outputs": [],
   "source": [
    "cat_columns = ['horse_id'] + list(peds.columns)\n",
    "results_d = process_categorical(results_ped, cat_columns)"
   ]
  },
  {
   "cell_type": "code",
   "execution_count": 94,
   "metadata": {},
   "outputs": [
    {
     "data": {
      "text/html": [
       "<div>\n",
       "<style scoped>\n",
       "    .dataframe tbody tr th:only-of-type {\n",
       "        vertical-align: middle;\n",
       "    }\n",
       "\n",
       "    .dataframe tbody tr th {\n",
       "        vertical-align: top;\n",
       "    }\n",
       "\n",
       "    .dataframe thead th {\n",
       "        text-align: right;\n",
       "    }\n",
       "</style>\n",
       "<table border=\"1\" class=\"dataframe\">\n",
       "  <thead>\n",
       "    <tr style=\"text-align: right;\">\n",
       "      <th></th>\n",
       "      <th>枠番</th>\n",
       "      <th>馬番</th>\n",
       "      <th>斤量</th>\n",
       "      <th>horse_id</th>\n",
       "      <th>齢</th>\n",
       "      <th>体重</th>\n",
       "      <th>体重増減</th>\n",
       "      <th>course_len</th>\n",
       "      <th>date</th>\n",
       "      <th>着順_5R</th>\n",
       "      <th>...</th>\n",
       "      <th>weather_曇</th>\n",
       "      <th>weather_雨</th>\n",
       "      <th>weather_雪</th>\n",
       "      <th>race_type_ダート</th>\n",
       "      <th>race_type_芝</th>\n",
       "      <th>race_type_障害</th>\n",
       "      <th>ground_state_不良</th>\n",
       "      <th>ground_state_稍重</th>\n",
       "      <th>ground_state_良</th>\n",
       "      <th>ground_state_重</th>\n",
       "    </tr>\n",
       "  </thead>\n",
       "  <tbody>\n",
       "    <tr>\n",
       "      <th>202001010101</th>\n",
       "      <td>6</td>\n",
       "      <td>6</td>\n",
       "      <td>54.0</td>\n",
       "      <td>8763</td>\n",
       "      <td>2</td>\n",
       "      <td>438</td>\n",
       "      <td>4</td>\n",
       "      <td>1800</td>\n",
       "      <td>2020-07-25</td>\n",
       "      <td>6.0</td>\n",
       "      <td>...</td>\n",
       "      <td>1</td>\n",
       "      <td>0</td>\n",
       "      <td>0</td>\n",
       "      <td>0</td>\n",
       "      <td>1</td>\n",
       "      <td>0</td>\n",
       "      <td>0</td>\n",
       "      <td>0</td>\n",
       "      <td>1</td>\n",
       "      <td>0</td>\n",
       "    </tr>\n",
       "    <tr>\n",
       "      <th>202001010101</th>\n",
       "      <td>2</td>\n",
       "      <td>2</td>\n",
       "      <td>54.0</td>\n",
       "      <td>10421</td>\n",
       "      <td>2</td>\n",
       "      <td>510</td>\n",
       "      <td>0</td>\n",
       "      <td>1800</td>\n",
       "      <td>2020-07-25</td>\n",
       "      <td>5.0</td>\n",
       "      <td>...</td>\n",
       "      <td>1</td>\n",
       "      <td>0</td>\n",
       "      <td>0</td>\n",
       "      <td>0</td>\n",
       "      <td>1</td>\n",
       "      <td>0</td>\n",
       "      <td>0</td>\n",
       "      <td>0</td>\n",
       "      <td>1</td>\n",
       "      <td>0</td>\n",
       "    </tr>\n",
       "    <tr>\n",
       "      <th>202001010101</th>\n",
       "      <td>3</td>\n",
       "      <td>3</td>\n",
       "      <td>54.0</td>\n",
       "      <td>10170</td>\n",
       "      <td>2</td>\n",
       "      <td>482</td>\n",
       "      <td>-6</td>\n",
       "      <td>1800</td>\n",
       "      <td>2020-07-25</td>\n",
       "      <td>5.0</td>\n",
       "      <td>...</td>\n",
       "      <td>1</td>\n",
       "      <td>0</td>\n",
       "      <td>0</td>\n",
       "      <td>0</td>\n",
       "      <td>1</td>\n",
       "      <td>0</td>\n",
       "      <td>0</td>\n",
       "      <td>0</td>\n",
       "      <td>1</td>\n",
       "      <td>0</td>\n",
       "    </tr>\n",
       "    <tr>\n",
       "      <th>202001010101</th>\n",
       "      <td>1</td>\n",
       "      <td>1</td>\n",
       "      <td>52.0</td>\n",
       "      <td>9127</td>\n",
       "      <td>2</td>\n",
       "      <td>442</td>\n",
       "      <td>0</td>\n",
       "      <td>1800</td>\n",
       "      <td>2020-07-25</td>\n",
       "      <td>5.0</td>\n",
       "      <td>...</td>\n",
       "      <td>1</td>\n",
       "      <td>0</td>\n",
       "      <td>0</td>\n",
       "      <td>0</td>\n",
       "      <td>1</td>\n",
       "      <td>0</td>\n",
       "      <td>0</td>\n",
       "      <td>0</td>\n",
       "      <td>1</td>\n",
       "      <td>0</td>\n",
       "    </tr>\n",
       "    <tr>\n",
       "      <th>202001010101</th>\n",
       "      <td>4</td>\n",
       "      <td>4</td>\n",
       "      <td>54.0</td>\n",
       "      <td>8488</td>\n",
       "      <td>2</td>\n",
       "      <td>426</td>\n",
       "      <td>-8</td>\n",
       "      <td>1800</td>\n",
       "      <td>2020-07-25</td>\n",
       "      <td>5.0</td>\n",
       "      <td>...</td>\n",
       "      <td>1</td>\n",
       "      <td>0</td>\n",
       "      <td>0</td>\n",
       "      <td>0</td>\n",
       "      <td>1</td>\n",
       "      <td>0</td>\n",
       "      <td>0</td>\n",
       "      <td>0</td>\n",
       "      <td>1</td>\n",
       "      <td>0</td>\n",
       "    </tr>\n",
       "  </tbody>\n",
       "</table>\n",
       "<p>5 rows × 263 columns</p>\n",
       "</div>"
      ],
      "text/plain": [
       "              枠番  馬番    斤量 horse_id  齢   体重  体重増減  course_len       date  \\\n",
       "202001010101   6   6  54.0     8763  2  438     4        1800 2020-07-25   \n",
       "202001010101   2   2  54.0    10421  2  510     0        1800 2020-07-25   \n",
       "202001010101   3   3  54.0    10170  2  482    -6        1800 2020-07-25   \n",
       "202001010101   1   1  52.0     9127  2  442     0        1800 2020-07-25   \n",
       "202001010101   4   4  54.0     8488  2  426    -8        1800 2020-07-25   \n",
       "\n",
       "              着順_5R  ...  weather_曇 weather_雨 weather_雪 race_type_ダート  \\\n",
       "202001010101    6.0  ...          1         0         0             0   \n",
       "202001010101    5.0  ...          1         0         0             0   \n",
       "202001010101    5.0  ...          1         0         0             0   \n",
       "202001010101    5.0  ...          1         0         0             0   \n",
       "202001010101    5.0  ...          1         0         0             0   \n",
       "\n",
       "             race_type_芝 race_type_障害 ground_state_不良 ground_state_稍重  \\\n",
       "202001010101           1            0               0               0   \n",
       "202001010101           1            0               0               0   \n",
       "202001010101           1            0               0               0   \n",
       "202001010101           1            0               0               0   \n",
       "202001010101           1            0               0               0   \n",
       "\n",
       "             ground_state_良 ground_state_重  \n",
       "202001010101              1              0  \n",
       "202001010101              1              0  \n",
       "202001010101              1              0  \n",
       "202001010101              1              0  \n",
       "202001010101              1              0  \n",
       "\n",
       "[5 rows x 263 columns]"
      ]
     },
     "execution_count": 94,
     "metadata": {},
     "output_type": "execute_result"
    }
   ],
   "source": [
    "results_d = pd.read_pickle('results_d.pickle')\n",
    "results_d.head()"
   ]
  },
  {
   "cell_type": "code",
   "execution_count": 13,
   "metadata": {},
   "outputs": [],
   "source": [
    "def split_data(df, test_size=0.3):\n",
    "    sorted_id_list = df.sort_values('date').index.unique()\n",
    "    train_id_list = sorted_id_list[:round(len(sorted_id_list)*(1-test_size))]\n",
    "    test_id_list = sorted_id_list[round(len(sorted_id_list)*(1-test_size)):]\n",
    "    train =df.loc[train_id_list]\n",
    "    test = df.loc[test_id_list]\n",
    "    train.drop(['date'],axis=1,inplace=True)\n",
    "    test.drop(['date'],axis=1,inplace=True)\n",
    "    return train, test"
   ]
  },
  {
   "cell_type": "code",
   "execution_count": 14,
   "metadata": {},
   "outputs": [],
   "source": [
    "#被説明変数をrankにし、訓練データとテストデータに分割\n",
    "train, test = split_data(results_d)\n",
    "X_train = train.drop(['rank'], axis=1)\n",
    "y_train = train['rank']\n",
    "X_test = test.drop(['rank'], axis=1)\n",
    "y_test = test['rank']"
   ]
  },
  {
   "cell_type": "markdown",
   "metadata": {},
   "source": [
    "# モデル作成と結果検証"
   ]
  },
  {
   "cell_type": "markdown",
   "metadata": {},
   "source": [
    "## ModelEvaluatorクラス"
   ]
  },
  {
   "cell_type": "code",
   "execution_count": 126,
   "metadata": {
    "code_folding": []
   },
   "outputs": [],
   "source": [
    "from scipy.special import comb\n",
    "\n",
    "class ModelEvaluator:\n",
    "    def __init__(self, model, return_table, std=True):\n",
    "        self.model = model\n",
    "        self.tan = Return(return_table).tan\n",
    "        self.fuku = Return(return_table).fuku\n",
    "        self.umaren = Return(return_table).umaren\n",
    "        self.std = std\n",
    "        \n",
    "    def predict_proba(self, X):\n",
    "        proba = pd.Series(self.model.predict_proba(X)[:,1], index=X.index)\n",
    "        if self.std:\n",
    "            standard_scaler = lambda x: (x-x.mean())/x.std()\n",
    "            proba = proba.groupby(level=0).transform(standard_scaler) #標準化\n",
    "            proba = (proba - proba.min())/(proba.max() - proba.min()) #MinMaxスケーリング\n",
    "        return proba\n",
    "    \n",
    "    def predict(self, X, threshold=0.5):\n",
    "        y_pred = self.predict_proba(X)\n",
    "        return [0 if p<threshold else 1 for p in y_pred]\n",
    "    \n",
    "    def score(self, y_true, X):\n",
    "        return roc_auc_score(y_true, self.predict_proba(X))\n",
    "    \n",
    "    def feature_importance(self, X, n_display=20):\n",
    "        importances = pd.DataFrame({'features': X.columns, 'importance': self.model.feature_importances_})\n",
    "        return importances.sort_values('importance', ascending=False)[:n_display]\n",
    "    \n",
    "    def pred_table(self, X, threshold=0.5, bet_only=True):\n",
    "        pred_table = X.copy()[['馬番']]\n",
    "        pred_table['pred'] = self.predict(X, threshold)\n",
    "        if bet_only:\n",
    "            return pred_table[pred_table['pred']==1]['馬番']\n",
    "        else:\n",
    "            return pred_table\n",
    "    \n",
    "    def tan_return(self, X, threshold=0.5):\n",
    "        pred_table = self.pred_table(X, threshold)\n",
    "        n_bets = len(pred_table)\n",
    "        money = -100*n_bets\n",
    "        df = self.tan.copy()\n",
    "        df = df.merge(pred_table, left_index=True, right_index=True, how='right')\n",
    "       \n",
    "        money +=df[df['win']==df['馬番']]['return'].sum()\n",
    "        return n_bets, money\n",
    "            \n",
    "    def fuku_return(self, X, threshold=0.5):\n",
    "        pred_table = self.pred_table(X, threshold)\n",
    "        n_bets = len(pred_table)\n",
    "        money = -100*n_bets\n",
    "        df = self.fuku.copy()\n",
    "        df = df.merge(pred_table, left_index=True, right_index=True, how='right')\n",
    "        for i in range(3):\n",
    "            money +=df[df['win_{}'.format(i)]==df['馬番']]['return_{}'.format(i)].sum()\n",
    "        return n_bets, money\n",
    "    \n",
    "    def umaren_return(self, X, threshold=0.5):\n",
    "        pred_table = self.pred_table(X, threshold)\n",
    "        hit = {}\n",
    "        n_bets = 0\n",
    "        for race_id, preds in pred_table.groupby(level=0):\n",
    "            n_bets += comb(len(preds), 2) #レースごとに3着以内予想馬から2頭を選ぶ買い方の数\n",
    "            hit[race_id] = set(self.umaren.loc[race_id][['win_0', 'win_1']]).issubset(set(preds)) #bool値が入る\n",
    "        money = (self.umaren.index.map(hit).values * self.umaren['return']).sum()\n",
    "        return n_bets, money\n",
    "        "
   ]
  },
  {
   "cell_type": "code",
   "execution_count": 159,
   "metadata": {
    "code_folding": []
   },
   "outputs": [],
   "source": [
    "#回収率計算\n",
    "def gain(return_func, X, n_samples=100, lower=50, min_threshold=0.5): \n",
    "    gain = {}\n",
    "    for i in tqdm(range(n_samples)):\n",
    "        threshold = min_threshold+ (1-min_threshold) * (i/n_samples) #threshold0.5から1までを100等分\n",
    "        n_bets, money =return_func(X, threshold)\n",
    "        if n_bets>lower:\n",
    "            gain[n_bets] = (n_bets*100+ money)/(n_bets*100)\n",
    "    return pd.Series(gain)"
   ]
  },
  {
   "cell_type": "code",
   "execution_count": 129,
   "metadata": {
    "code_folding": [
     3
    ]
   },
   "outputs": [
    {
     "name": "stdout",
     "output_type": "stream",
     "text": [
      "[LightGBM] [Warning] min_data_in_leaf is set=300, min_child_samples=20 will be ignored. Current value: min_data_in_leaf=300\n"
     ]
    },
    {
     "data": {
      "text/plain": [
       "LGBMClassifier(class_weight='balanced', min_data_in_leaf=300, n_estimators=70,\n",
       "               num_leaves=3, random_state=100)"
      ]
     },
     "execution_count": 129,
     "metadata": {},
     "output_type": "execute_result"
    }
   ],
   "source": [
    "import lightgbm as lgb\n",
    "from sklearn.metrics import roc_curve, roc_auc_score\n",
    "\n",
    "params = {\n",
    "    'num_leaves':3, #デフォルトは34\n",
    "    'n_estimators':70,\n",
    "    'min_data_in_leaf':300,\n",
    "    'class_weight':'balanced',\n",
    "    'random_state':100\n",
    "}\n",
    "\n",
    "lgb_clf = lgb.LGBMClassifier(**params)\n",
    "lgb_clf.fit(X_train.values, y_train.values) "
   ]
  },
  {
   "cell_type": "code",
   "execution_count": 130,
   "metadata": {},
   "outputs": [],
   "source": [
    "me = ModelEvaluator(lgb_clf, return_tables)"
   ]
  },
  {
   "cell_type": "code",
   "execution_count": 132,
   "metadata": {
    "collapsed": true
   },
   "outputs": [
    {
     "data": {
      "text/html": [
       "<div>\n",
       "<style scoped>\n",
       "    .dataframe tbody tr th:only-of-type {\n",
       "        vertical-align: middle;\n",
       "    }\n",
       "\n",
       "    .dataframe tbody tr th {\n",
       "        vertical-align: top;\n",
       "    }\n",
       "\n",
       "    .dataframe thead th {\n",
       "        text-align: right;\n",
       "    }\n",
       "</style>\n",
       "<table border=\"1\" class=\"dataframe\">\n",
       "  <thead>\n",
       "    <tr style=\"text-align: right;\">\n",
       "      <th></th>\n",
       "      <th>features</th>\n",
       "      <th>importance</th>\n",
       "    </tr>\n",
       "  </thead>\n",
       "  <tbody>\n",
       "    <tr>\n",
       "      <th>9</th>\n",
       "      <td>賞金_5R</td>\n",
       "      <td>32</td>\n",
       "    </tr>\n",
       "    <tr>\n",
       "      <th>3</th>\n",
       "      <td>horse_id</td>\n",
       "      <td>22</td>\n",
       "    </tr>\n",
       "    <tr>\n",
       "      <th>128</th>\n",
       "      <td>jockey_id_01088</td>\n",
       "      <td>12</td>\n",
       "    </tr>\n",
       "    <tr>\n",
       "      <th>5</th>\n",
       "      <td>体重</td>\n",
       "      <td>12</td>\n",
       "    </tr>\n",
       "    <tr>\n",
       "      <th>215</th>\n",
       "      <td>jockey_id_05339</td>\n",
       "      <td>12</td>\n",
       "    </tr>\n",
       "    <tr>\n",
       "      <th>2</th>\n",
       "      <td>斤量</td>\n",
       "      <td>7</td>\n",
       "    </tr>\n",
       "    <tr>\n",
       "      <th>93</th>\n",
       "      <td>jockey_id_01014</td>\n",
       "      <td>7</td>\n",
       "    </tr>\n",
       "    <tr>\n",
       "      <th>8</th>\n",
       "      <td>着順_5R</td>\n",
       "      <td>6</td>\n",
       "    </tr>\n",
       "    <tr>\n",
       "      <th>78</th>\n",
       "      <td>jockey_id_00666</td>\n",
       "      <td>5</td>\n",
       "    </tr>\n",
       "    <tr>\n",
       "      <th>42</th>\n",
       "      <td>peds_32</td>\n",
       "      <td>3</td>\n",
       "    </tr>\n",
       "  </tbody>\n",
       "</table>\n",
       "</div>"
      ],
      "text/plain": [
       "            features  importance\n",
       "9              賞金_5R          32\n",
       "3           horse_id          22\n",
       "128  jockey_id_01088          12\n",
       "5                 体重          12\n",
       "215  jockey_id_05339          12\n",
       "2                 斤量           7\n",
       "93   jockey_id_01014           7\n",
       "8              着順_5R           6\n",
       "78   jockey_id_00666           5\n",
       "42           peds_32           3"
      ]
     },
     "execution_count": 132,
     "metadata": {},
     "output_type": "execute_result"
    }
   ],
   "source": [
    "#特徴量\n",
    "me.feature_importance(X_test).head(10) "
   ]
  },
  {
   "cell_type": "code",
   "execution_count": 133,
   "metadata": {
    "collapsed": true
   },
   "outputs": [
    {
     "name": "stderr",
     "output_type": "stream",
     "text": [
      "C:\\Users\\owner\\anaconda3\\lib\\site-packages\\ipykernel_launcher.py:3: TqdmDeprecationWarning: This function will be removed in tqdm==5.0.0\n",
      "Please use `tqdm.notebook.tqdm` instead of `tqdm.tqdm_notebook`\n",
      "  This is separate from the ipykernel package so we can avoid doing imports until\n"
     ]
    },
    {
     "data": {
      "application/vnd.jupyter.widget-view+json": {
       "model_id": "b5f55b5820e0425c86134366bc6fd0e0",
       "version_major": 2,
       "version_minor": 0
      },
      "text/plain": [
       "HBox(children=(FloatProgress(value=0.0), HTML(value='')))"
      ]
     },
     "metadata": {},
     "output_type": "display_data"
    },
    {
     "name": "stdout",
     "output_type": "stream",
     "text": [
      "\n"
     ]
    }
   ],
   "source": [
    "fuku = gain(me.fuku_return, X_test)"
   ]
  },
  {
   "cell_type": "code",
   "execution_count": 135,
   "metadata": {},
   "outputs": [
    {
     "data": {
      "text/plain": [
       "<matplotlib.axes._subplots.AxesSubplot at 0x243b6169c08>"
      ]
     },
     "execution_count": 135,
     "metadata": {},
     "output_type": "execute_result"
    },
    {
     "data": {
      "image/png": "[encoded data removed]",
      "text/plain": [
       "<Figure size 432x288 with 1 Axes>"
      ]
     },
     "metadata": {
      "needs_background": "light"
     },
     "output_type": "display_data"
    }
   ],
   "source": [
    "fuku.plot()"
   ]
  },
  {
   "cell_type": "markdown",
   "metadata": {},
   "source": [
    "## パラメータチューニング"
   ]
  },
  {
   "cell_type": "code",
   "execution_count": 95,
   "metadata": {},
   "outputs": [],
   "source": [
    "#訓練データをさらに分割\n",
    "def split_data(df, test_size=0.3):\n",
    "    sorted_id_list = df.sort_values('date').index.unique()\n",
    "    train_id_list = sorted_id_list[:round(len(sorted_id_list)*(1-test_size))]\n",
    "    test_id_list = sorted_id_list[round(len(sorted_id_list)*(1-test_size)):]\n",
    "    train =df.loc[train_id_list]\n",
    "    test = df.loc[test_id_list]\n",
    "    return train, test\n",
    "\n",
    "train, test = split_data(results_d)\n",
    "train, valid = split_data(train)"
   ]
  },
  {
   "cell_type": "code",
   "execution_count": 96,
   "metadata": {},
   "outputs": [],
   "source": [
    "X_train = train.drop(['rank', 'date'], axis=1)\n",
    "y_train = train['rank']\n",
    "X_valid = valid.drop(['rank', 'date'], axis=1)\n",
    "y_valid = valid['rank']\n",
    "X_test = test.drop(['rank', 'date'], axis=1)\n",
    "y_test = test['rank']"
   ]
  },
  {
   "cell_type": "markdown",
   "metadata": {},
   "source": [
    "* 訓練データ→検証データの学習をパラメータを変えながら実行\n",
    "* verbose_eval：何回の学習でパラメータを変えるか\n",
    "* early_stopping_rounds：パラメータの種類（下記では10）を変更しても精度が上がらない場合学習を止める"
   ]
  },
  {
   "cell_type": "code",
   "execution_count": 30,
   "metadata": {
    "collapsed": true
   },
   "outputs": [
    {
     "name": "stderr",
     "output_type": "stream",
     "text": [
      "\u001b[32m[I 2021-06-23 10:28:51,279]\u001b[0m A new study created in memory with name: no-name-d5d06b06-d4b4-48ea-b6b1-22c8504b150a\u001b[0m\n",
      "\n",
      "\n",
      "  0%|                                                                                            | 0/7 [00:00<?, ?it/s]\u001b[A\u001b[A\n",
      "\n",
      "feature_fraction, val_score: inf:   0%|                                                          | 0/7 [00:00<?, ?it/s]\u001b[A\u001b[A"
     ]
    },
    {
     "name": "stdout",
     "output_type": "stream",
     "text": [
      "[LightGBM] [Info] Number of positive: 4590, number of negative: 16705\n",
      "[LightGBM] [Warning] Auto-choosing col-wise multi-threading, the overhead of testing was 0.015050 seconds.\n",
      "You can set `force_col_wise=true` to remove the overhead.\n",
      "[LightGBM] [Info] Total Bins 12168\n",
      "[LightGBM] [Info] Number of data points in the train set: 21295, number of used features: 244\n",
      "[LightGBM] [Info] [binary:BoostFromScore]: pavg=0.215544 -> initscore=-1.291828\n",
      "[LightGBM] [Info] Start training from score -1.291828\n",
      "Training until validation scores don't improve for 10 rounds\n"
     ]
    },
    {
     "name": "stderr",
     "output_type": "stream",
     "text": [
      "\n",
      "\n",
      "feature_fraction, val_score: 0.490683:   0%|                                                     | 0/7 [00:02<?, ?it/s]\u001b[A\u001b[A\n",
      "\n",
      "feature_fraction, val_score: 0.490683:  14%|######4                                      | 1/7 [00:02<00:13,  2.19s/it]\u001b[A\u001b[A\u001b[32m[I 2021-06-23 10:28:53,490]\u001b[0m Trial 0 finished with value: 0.4906833225987821 and parameters: {'feature_fraction': 1.0}. Best is trial 0 with value: 0.4906833225987821.\u001b[0m\n",
      "\n",
      "\n",
      "feature_fraction, val_score: 0.490683:  14%|######4                                      | 1/7 [00:02<00:13,  2.19s/it]\u001b[A\u001b[A"
     ]
    },
    {
     "name": "stdout",
     "output_type": "stream",
     "text": [
      "Early stopping, best iteration is:\n",
      "[30]\tvalid_0's binary_logloss: 0.437682\tvalid_1's binary_logloss: 0.490683\n",
      "[LightGBM] [Info] Number of positive: 4590, number of negative: 16705\n",
      "[LightGBM] [Warning] Auto-choosing col-wise multi-threading, the overhead of testing was 0.013554 seconds.\n",
      "You can set `force_col_wise=true` to remove the overhead.\n",
      "[LightGBM] [Info] Total Bins 12168\n",
      "[LightGBM] [Info] Number of data points in the train set: 21295, number of used features: 244\n",
      "[LightGBM] [Info] [binary:BoostFromScore]: pavg=0.215544 -> initscore=-1.291828\n",
      "[LightGBM] [Info] Start training from score -1.291828\n",
      "Training until validation scores don't improve for 10 rounds\n"
     ]
    },
    {
     "name": "stderr",
     "output_type": "stream",
     "text": [
      "\n",
      "\n",
      "feature_fraction, val_score: 0.490672:  14%|######4                                      | 1/7 [00:04<00:13,  2.19s/it]\u001b[A\u001b[A\n",
      "\n",
      "feature_fraction, val_score: 0.490672:  29%|############8                                | 2/7 [00:04<00:10,  2.12s/it]\u001b[A\u001b[A\u001b[32m[I 2021-06-23 10:28:55,439]\u001b[0m Trial 1 finished with value: 0.4906724771021838 and parameters: {'feature_fraction': 0.6}. Best is trial 1 with value: 0.4906724771021838.\u001b[0m\n",
      "\n",
      "\n",
      "feature_fraction, val_score: 0.490672:  29%|############8                                | 2/7 [00:04<00:10,  2.12s/it]\u001b[A\u001b[A"
     ]
    },
    {
     "name": "stdout",
     "output_type": "stream",
     "text": [
      "Early stopping, best iteration is:\n",
      "[39]\tvalid_0's binary_logloss: 0.428829\tvalid_1's binary_logloss: 0.490672\n",
      "[LightGBM] [Info] Number of positive: 4590, number of negative: 16705\n",
      "[LightGBM] [Warning] Auto-choosing col-wise multi-threading, the overhead of testing was 0.019536 seconds.\n",
      "You can set `force_col_wise=true` to remove the overhead.\n",
      "[LightGBM] [Info] Total Bins 12168\n",
      "[LightGBM] [Info] Number of data points in the train set: 21295, number of used features: 244\n",
      "[LightGBM] [Info] [binary:BoostFromScore]: pavg=0.215544 -> initscore=-1.291828\n",
      "[LightGBM] [Info] Start training from score -1.291828\n",
      "Training until validation scores don't improve for 10 rounds\n"
     ]
    },
    {
     "name": "stderr",
     "output_type": "stream",
     "text": [
      "\n",
      "\n",
      "feature_fraction, val_score: 0.489143:  29%|############8                                | 2/7 [00:06<00:10,  2.12s/it]\u001b[A\u001b[A\n",
      "\n",
      "feature_fraction, val_score: 0.489143:  43%|###################2                         | 3/7 [00:06<00:08,  2.23s/it]\u001b[A\u001b[A\u001b[32m[I 2021-06-23 10:28:57,932]\u001b[0m Trial 2 finished with value: 0.48914323349374766 and parameters: {'feature_fraction': 0.7}. Best is trial 2 with value: 0.48914323349374766.\u001b[0m\n",
      "\n",
      "\n",
      "feature_fraction, val_score: 0.489143:  43%|###################2                         | 3/7 [00:06<00:08,  2.23s/it]\u001b[A\u001b[A"
     ]
    },
    {
     "name": "stdout",
     "output_type": "stream",
     "text": [
      "Early stopping, best iteration is:\n",
      "[52]\tvalid_0's binary_logloss: 0.414071\tvalid_1's binary_logloss: 0.489143\n",
      "[LightGBM] [Info] Number of positive: 4590, number of negative: 16705\n",
      "[LightGBM] [Warning] Auto-choosing col-wise multi-threading, the overhead of testing was 0.011114 seconds.\n",
      "You can set `force_col_wise=true` to remove the overhead.\n",
      "[LightGBM] [Info] Total Bins 12168\n",
      "[LightGBM] [Info] Number of data points in the train set: 21295, number of used features: 244\n",
      "[LightGBM] [Info] [binary:BoostFromScore]: pavg=0.215544 -> initscore=-1.291828\n",
      "[LightGBM] [Info] Start training from score -1.291828\n",
      "Training until validation scores don't improve for 10 rounds\n"
     ]
    },
    {
     "name": "stderr",
     "output_type": "stream",
     "text": [
      "\n",
      "\n",
      "feature_fraction, val_score: 0.489143:  43%|###################2                         | 3/7 [00:08<00:08,  2.23s/it]\u001b[A\u001b[A\n",
      "\n",
      "feature_fraction, val_score: 0.489143:  57%|#########################7                   | 4/7 [00:08<00:06,  2.23s/it]\u001b[A\u001b[A\u001b[32m[I 2021-06-23 10:29:00,156]\u001b[0m Trial 3 finished with value: 0.49040462120355366 and parameters: {'feature_fraction': 0.5}. Best is trial 2 with value: 0.48914323349374766.\u001b[0m\n",
      "\n",
      "\n",
      "feature_fraction, val_score: 0.489143:  57%|#########################7                   | 4/7 [00:08<00:06,  2.23s/it]\u001b[A\u001b[A"
     ]
    },
    {
     "name": "stdout",
     "output_type": "stream",
     "text": [
      "Early stopping, best iteration is:\n",
      "[42]\tvalid_0's binary_logloss: 0.426167\tvalid_1's binary_logloss: 0.490405\n",
      "[LightGBM] [Info] Number of positive: 4590, number of negative: 16705\n",
      "[LightGBM] [Warning] Auto-choosing col-wise multi-threading, the overhead of testing was 0.036603 seconds.\n",
      "You can set `force_col_wise=true` to remove the overhead.\n",
      "[LightGBM] [Info] Total Bins 12168\n",
      "[LightGBM] [Info] Number of data points in the train set: 21295, number of used features: 244\n",
      "[LightGBM] [Info] [binary:BoostFromScore]: pavg=0.215544 -> initscore=-1.291828\n",
      "[LightGBM] [Info] Start training from score -1.291828\n",
      "Training until validation scores don't improve for 10 rounds\n"
     ]
    },
    {
     "name": "stderr",
     "output_type": "stream",
     "text": [
      "\n",
      "\n",
      "feature_fraction, val_score: 0.489143:  57%|#########################7                   | 4/7 [00:11<00:06,  2.23s/it]\u001b[A\u001b[A\n",
      "\n",
      "feature_fraction, val_score: 0.489143:  71%|################################1            | 5/7 [00:11<00:04,  2.21s/it]\u001b[A\u001b[A\u001b[32m[I 2021-06-23 10:29:02,328]\u001b[0m Trial 4 finished with value: 0.48991816285561557 and parameters: {'feature_fraction': 0.4}. Best is trial 2 with value: 0.48914323349374766.\u001b[0m\n",
      "\n",
      "\n",
      "feature_fraction, val_score: 0.489143:  71%|################################1            | 5/7 [00:11<00:04,  2.21s/it]\u001b[A\u001b[A"
     ]
    },
    {
     "name": "stdout",
     "output_type": "stream",
     "text": [
      "Early stopping, best iteration is:\n",
      "[60]\tvalid_0's binary_logloss: 0.411393\tvalid_1's binary_logloss: 0.489918\n",
      "[LightGBM] [Info] Number of positive: 4590, number of negative: 16705\n",
      "[LightGBM] [Warning] Auto-choosing col-wise multi-threading, the overhead of testing was 0.020383 seconds.\n",
      "You can set `force_col_wise=true` to remove the overhead.\n",
      "[LightGBM] [Info] Total Bins 12168\n",
      "[LightGBM] [Info] Number of data points in the train set: 21295, number of used features: 244\n",
      "[LightGBM] [Info] [binary:BoostFromScore]: pavg=0.215544 -> initscore=-1.291828\n",
      "[LightGBM] [Info] Start training from score -1.291828\n",
      "Training until validation scores don't improve for 10 rounds\n"
     ]
    },
    {
     "name": "stderr",
     "output_type": "stream",
     "text": [
      "\n",
      "\n",
      "feature_fraction, val_score: 0.489143:  71%|################################1            | 5/7 [00:13<00:04,  2.21s/it]\u001b[A\u001b[A\n",
      "\n",
      "feature_fraction, val_score: 0.489143:  86%|######################################5      | 6/7 [00:13<00:02,  2.22s/it]\u001b[A\u001b[A\u001b[32m[I 2021-06-23 10:29:04,554]\u001b[0m Trial 5 finished with value: 0.49089718788543435 and parameters: {'feature_fraction': 0.8}. Best is trial 2 with value: 0.48914323349374766.\u001b[0m\n",
      "\n",
      "\n",
      "feature_fraction, val_score: 0.489143:  86%|######################################5      | 6/7 [00:13<00:02,  2.22s/it]\u001b[A\u001b[A"
     ]
    },
    {
     "name": "stdout",
     "output_type": "stream",
     "text": [
      "Early stopping, best iteration is:\n",
      "[44]\tvalid_0's binary_logloss: 0.421158\tvalid_1's binary_logloss: 0.490897\n",
      "[LightGBM] [Info] Number of positive: 4590, number of negative: 16705\n",
      "[LightGBM] [Warning] Auto-choosing col-wise multi-threading, the overhead of testing was 0.013982 seconds.\n",
      "You can set `force_col_wise=true` to remove the overhead.\n",
      "[LightGBM] [Info] Total Bins 12168\n",
      "[LightGBM] [Info] Number of data points in the train set: 21295, number of used features: 244\n",
      "[LightGBM] [Info] [binary:BoostFromScore]: pavg=0.215544 -> initscore=-1.291828\n",
      "[LightGBM] [Info] Start training from score -1.291828\n",
      "Training until validation scores don't improve for 10 rounds\n"
     ]
    },
    {
     "name": "stderr",
     "output_type": "stream",
     "text": [
      "\n",
      "\n",
      "feature_fraction, val_score: 0.489143:  86%|######################################5      | 6/7 [00:15<00:02,  2.22s/it]\u001b[A\u001b[A\n",
      "\n",
      "feature_fraction, val_score: 0.489143: 100%|#############################################| 7/7 [00:15<00:00,  2.19s/it]\u001b[A\u001b[A\u001b[32m[I 2021-06-23 10:29:06,685]\u001b[0m Trial 6 finished with value: 0.4903356954131549 and parameters: {'feature_fraction': 0.8999999999999999}. Best is trial 2 with value: 0.48914323349374766.\u001b[0m\n",
      "feature_fraction, val_score: 0.489143: 100%|#############################################| 7/7 [00:15<00:00,  2.20s/it]\n",
      "\n",
      "\n",
      "  0%|                                                                                           | 0/20 [00:00<?, ?it/s]\u001b[A\u001b[A\n",
      "\n",
      "num_leaves, val_score: 0.489143:   0%|                                                          | 0/20 [00:00<?, ?it/s]\u001b[A\u001b[A"
     ]
    },
    {
     "name": "stdout",
     "output_type": "stream",
     "text": [
      "Early stopping, best iteration is:\n",
      "[42]\tvalid_0's binary_logloss: 0.422729\tvalid_1's binary_logloss: 0.490336\n",
      "[LightGBM] [Info] Number of positive: 4590, number of negative: 16705\n",
      "[LightGBM] [Warning] Auto-choosing col-wise multi-threading, the overhead of testing was 0.013019 seconds.\n",
      "You can set `force_col_wise=true` to remove the overhead.\n",
      "[LightGBM] [Info] Total Bins 12168\n",
      "[LightGBM] [Info] Number of data points in the train set: 21295, number of used features: 244\n",
      "[LightGBM] [Info] [binary:BoostFromScore]: pavg=0.215544 -> initscore=-1.291828\n",
      "[LightGBM] [Info] Start training from score -1.291828\n",
      "Training until validation scores don't improve for 10 rounds\n"
     ]
    },
    {
     "name": "stderr",
     "output_type": "stream",
     "text": [
      "\n",
      "\n",
      "num_leaves, val_score: 0.489143:   0%|                                                          | 0/20 [00:02<?, ?it/s]\u001b[A\u001b[A\n",
      "\n",
      "num_leaves, val_score: 0.489143:   5%|##5                                               | 1/20 [00:02<00:42,  2.26s/it]\u001b[A\u001b[A\u001b[32m[I 2021-06-23 10:29:08,965]\u001b[0m Trial 7 finished with value: 0.4891565427938946 and parameters: {'num_leaves': 75}. Best is trial 7 with value: 0.4891565427938946.\u001b[0m\n",
      "\n",
      "\n",
      "num_leaves, val_score: 0.489143:   5%|##5                                               | 1/20 [00:02<00:42,  2.26s/it]\u001b[A\u001b[A"
     ]
    },
    {
     "name": "stdout",
     "output_type": "stream",
     "text": [
      "Early stopping, best iteration is:\n",
      "[31]\tvalid_0's binary_logloss: 0.388395\tvalid_1's binary_logloss: 0.489157\n",
      "[LightGBM] [Info] Number of positive: 4590, number of negative: 16705\n",
      "[LightGBM] [Warning] Auto-choosing col-wise multi-threading, the overhead of testing was 0.016008 seconds.\n",
      "You can set `force_col_wise=true` to remove the overhead.\n",
      "[LightGBM] [Info] Total Bins 12168\n",
      "[LightGBM] [Info] Number of data points in the train set: 21295, number of used features: 244\n",
      "[LightGBM] [Info] [binary:BoostFromScore]: pavg=0.215544 -> initscore=-1.291828\n",
      "[LightGBM] [Info] Start training from score -1.291828\n",
      "Training until validation scores don't improve for 10 rounds\n"
     ]
    },
    {
     "name": "stderr",
     "output_type": "stream",
     "text": [
      "\n",
      "\n",
      "num_leaves, val_score: 0.489143:   5%|##5                                               | 1/20 [00:04<00:42,  2.26s/it]\u001b[A\u001b[A\n",
      "\n",
      "num_leaves, val_score: 0.489143:  10%|#####                                             | 2/20 [00:04<00:41,  2.32s/it]\u001b[A\u001b[A\u001b[32m[I 2021-06-23 10:29:11,426]\u001b[0m Trial 8 finished with value: 0.49215877790934837 and parameters: {'num_leaves': 97}. Best is trial 7 with value: 0.4891565427938946.\u001b[0m\n",
      "\n",
      "\n",
      "num_leaves, val_score: 0.489143:  10%|#####                                             | 2/20 [00:04<00:41,  2.32s/it]\u001b[A\u001b[A"
     ]
    },
    {
     "name": "stdout",
     "output_type": "stream",
     "text": [
      "Early stopping, best iteration is:\n",
      "[28]\tvalid_0's binary_logloss: 0.37566\tvalid_1's binary_logloss: 0.492159\n",
      "[LightGBM] [Info] Number of positive: 4590, number of negative: 16705\n",
      "[LightGBM] [Warning] Auto-choosing col-wise multi-threading, the overhead of testing was 0.013213 seconds.\n",
      "You can set `force_col_wise=true` to remove the overhead.\n",
      "[LightGBM] [Info] Total Bins 12168\n",
      "[LightGBM] [Info] Number of data points in the train set: 21295, number of used features: 244\n",
      "[LightGBM] [Info] [binary:BoostFromScore]: pavg=0.215544 -> initscore=-1.291828\n",
      "[LightGBM] [Info] Start training from score -1.291828\n",
      "Training until validation scores don't improve for 10 rounds\n"
     ]
    },
    {
     "name": "stderr",
     "output_type": "stream",
     "text": [
      "\n",
      "\n",
      "num_leaves, val_score: 0.489017:  10%|#####                                             | 2/20 [00:06<00:41,  2.32s/it]\u001b[A\u001b[A\n",
      "\n",
      "num_leaves, val_score: 0.489017:  15%|#######5                                          | 3/20 [00:06<00:38,  2.25s/it]\u001b[A\u001b[A\u001b[32m[I 2021-06-23 10:29:13,520]\u001b[0m Trial 9 finished with value: 0.4890170242002899 and parameters: {'num_leaves': 36}. Best is trial 9 with value: 0.4890170242002899.\u001b[0m\n",
      "\n",
      "\n",
      "num_leaves, val_score: 0.489017:  15%|#######5                                          | 3/20 [00:06<00:38,  2.25s/it]\u001b[A\u001b[A"
     ]
    },
    {
     "name": "stdout",
     "output_type": "stream",
     "text": [
      "Early stopping, best iteration is:\n",
      "[46]\tvalid_0's binary_logloss: 0.411226\tvalid_1's binary_logloss: 0.489017\n",
      "[LightGBM] [Info] Number of positive: 4590, number of negative: 16705\n",
      "[LightGBM] [Warning] Auto-choosing col-wise multi-threading, the overhead of testing was 0.015036 seconds.\n",
      "You can set `force_col_wise=true` to remove the overhead.\n",
      "[LightGBM] [Info] Total Bins 12168\n",
      "[LightGBM] [Info] Number of data points in the train set: 21295, number of used features: 244\n",
      "[LightGBM] [Info] [binary:BoostFromScore]: pavg=0.215544 -> initscore=-1.291828\n",
      "[LightGBM] [Info] Start training from score -1.291828\n",
      "Training until validation scores don't improve for 10 rounds\n"
     ]
    },
    {
     "name": "stderr",
     "output_type": "stream",
     "text": [
      "\n",
      "\n",
      "num_leaves, val_score: 0.489017:  15%|#######5                                          | 3/20 [00:09<00:38,  2.25s/it]\u001b[A\u001b[A\n",
      "\n",
      "num_leaves, val_score: 0.489017:  20%|##########                                        | 4/20 [00:09<00:40,  2.53s/it]\u001b[A\u001b[A\u001b[32m[I 2021-06-23 10:29:16,696]\u001b[0m Trial 10 finished with value: 0.4973784773824547 and parameters: {'num_leaves': 243}. Best is trial 9 with value: 0.4890170242002899.\u001b[0m\n",
      "\n",
      "\n",
      "num_leaves, val_score: 0.489017:  20%|##########                                        | 4/20 [00:10<00:40,  2.53s/it]\u001b[A\u001b[A"
     ]
    },
    {
     "name": "stdout",
     "output_type": "stream",
     "text": [
      "Early stopping, best iteration is:\n",
      "[18]\tvalid_0's binary_logloss: 0.338954\tvalid_1's binary_logloss: 0.497378\n",
      "[LightGBM] [Info] Number of positive: 4590, number of negative: 16705\n",
      "[LightGBM] [Warning] Auto-choosing col-wise multi-threading, the overhead of testing was 0.013752 seconds.\n",
      "You can set `force_col_wise=true` to remove the overhead.\n",
      "[LightGBM] [Info] Total Bins 12168\n",
      "[LightGBM] [Info] Number of data points in the train set: 21295, number of used features: 244\n",
      "[LightGBM] [Info] [binary:BoostFromScore]: pavg=0.215544 -> initscore=-1.291828\n",
      "[LightGBM] [Info] Start training from score -1.291828\n",
      "Training until validation scores don't improve for 10 rounds\n"
     ]
    },
    {
     "name": "stderr",
     "output_type": "stream",
     "text": [
      "\n",
      "\n",
      "num_leaves, val_score: 0.489017:  20%|##########                                        | 4/20 [00:12<00:40,  2.53s/it]\u001b[A\u001b[A\n",
      "\n",
      "num_leaves, val_score: 0.489017:  25%|############5                                     | 5/20 [00:12<00:39,  2.63s/it]\u001b[A\u001b[A\u001b[32m[I 2021-06-23 10:29:19,550]\u001b[0m Trial 11 finished with value: 0.4957564135259376 and parameters: {'num_leaves': 239}. Best is trial 9 with value: 0.4890170242002899.\u001b[0m\n",
      "\n",
      "\n",
      "num_leaves, val_score: 0.489017:  25%|############5                                     | 5/20 [00:12<00:39,  2.63s/it]\u001b[A\u001b[A"
     ]
    },
    {
     "name": "stdout",
     "output_type": "stream",
     "text": [
      "Early stopping, best iteration is:\n",
      "[14]\tvalid_0's binary_logloss: 0.366713\tvalid_1's binary_logloss: 0.495756\n",
      "[LightGBM] [Info] Number of positive: 4590, number of negative: 16705\n",
      "[LightGBM] [Warning] Auto-choosing col-wise multi-threading, the overhead of testing was 0.013483 seconds.\n",
      "You can set `force_col_wise=true` to remove the overhead.\n",
      "[LightGBM] [Info] Total Bins 12168\n",
      "[LightGBM] [Info] Number of data points in the train set: 21295, number of used features: 244\n",
      "[LightGBM] [Info] [binary:BoostFromScore]: pavg=0.215544 -> initscore=-1.291828\n",
      "[LightGBM] [Info] Start training from score -1.291828\n",
      "Training until validation scores don't improve for 10 rounds\n"
     ]
    },
    {
     "name": "stderr",
     "output_type": "stream",
     "text": [
      "\n",
      "\n",
      "num_leaves, val_score: 0.489017:  25%|############5                                     | 5/20 [00:15<00:39,  2.63s/it]\u001b[A\u001b[A\n",
      "\n",
      "num_leaves, val_score: 0.489017:  30%|###############                                   | 6/20 [00:15<00:35,  2.51s/it]\u001b[A\u001b[A\u001b[32m[I 2021-06-23 10:29:21,785]\u001b[0m Trial 12 finished with value: 0.49028739093055235 and parameters: {'num_leaves': 67}. Best is trial 9 with value: 0.4890170242002899.\u001b[0m\n",
      "\n",
      "\n",
      "num_leaves, val_score: 0.489017:  30%|###############                                   | 6/20 [00:15<00:35,  2.51s/it]\u001b[A\u001b[A"
     ]
    },
    {
     "name": "stdout",
     "output_type": "stream",
     "text": [
      "Early stopping, best iteration is:\n",
      "[27]\tvalid_0's binary_logloss: 0.404827\tvalid_1's binary_logloss: 0.490287\n",
      "[LightGBM] [Info] Number of positive: 4590, number of negative: 16705\n",
      "[LightGBM] [Warning] Auto-choosing col-wise multi-threading, the overhead of testing was 0.014231 seconds.\n",
      "You can set `force_col_wise=true` to remove the overhead.\n",
      "[LightGBM] [Info] Total Bins 12168\n",
      "[LightGBM] [Info] Number of data points in the train set: 21295, number of used features: 244\n",
      "[LightGBM] [Info] [binary:BoostFromScore]: pavg=0.215544 -> initscore=-1.291828\n",
      "[LightGBM] [Info] Start training from score -1.291828\n",
      "Training until validation scores don't improve for 10 rounds\n"
     ]
    },
    {
     "name": "stderr",
     "output_type": "stream",
     "text": [
      "\n",
      "\n",
      "num_leaves, val_score: 0.489017:  30%|###############                                   | 6/20 [00:17<00:35,  2.51s/it]\u001b[A\u001b[A\n",
      "\n",
      "num_leaves, val_score: 0.489017:  35%|#################5                                | 7/20 [00:17<00:31,  2.42s/it]\u001b[A\u001b[A\u001b[32m[I 2021-06-23 10:29:23,994]\u001b[0m Trial 13 finished with value: 0.492270649643295 and parameters: {'num_leaves': 77}. Best is trial 9 with value: 0.4890170242002899.\u001b[0m\n",
      "\n",
      "\n",
      "num_leaves, val_score: 0.489017:  35%|#################5                                | 7/20 [00:17<00:31,  2.42s/it]\u001b[A\u001b[A"
     ]
    },
    {
     "name": "stdout",
     "output_type": "stream",
     "text": [
      "Early stopping, best iteration is:\n",
      "[24]\tvalid_0's binary_logloss: 0.404095\tvalid_1's binary_logloss: 0.492271\n",
      "[LightGBM] [Info] Number of positive: 4590, number of negative: 16705\n",
      "[LightGBM] [Warning] Auto-choosing col-wise multi-threading, the overhead of testing was 0.013510 seconds.\n",
      "You can set `force_col_wise=true` to remove the overhead.\n",
      "[LightGBM] [Info] Total Bins 12168\n",
      "[LightGBM] [Info] Number of data points in the train set: 21295, number of used features: 244\n",
      "[LightGBM] [Info] [binary:BoostFromScore]: pavg=0.215544 -> initscore=-1.291828\n",
      "[LightGBM] [Info] Start training from score -1.291828\n",
      "Training until validation scores don't improve for 10 rounds\n"
     ]
    },
    {
     "name": "stderr",
     "output_type": "stream",
     "text": [
      "\n",
      "\n",
      "num_leaves, val_score: 0.489017:  35%|#################5                                | 7/20 [00:20<00:31,  2.42s/it]\u001b[A\u001b[A\n",
      "\n",
      "num_leaves, val_score: 0.489017:  40%|####################                              | 8/20 [00:20<00:30,  2.54s/it]\u001b[A\u001b[A\u001b[32m[I 2021-06-23 10:29:26,817]\u001b[0m Trial 14 finished with value: 0.4940933808279574 and parameters: {'num_leaves': 122}. Best is trial 9 with value: 0.4890170242002899.\u001b[0m\n",
      "\n",
      "\n",
      "num_leaves, val_score: 0.489017:  40%|####################                              | 8/20 [00:20<00:30,  2.54s/it]\u001b[A\u001b[A"
     ]
    },
    {
     "name": "stdout",
     "output_type": "stream",
     "text": [
      "Early stopping, best iteration is:\n",
      "[33]\tvalid_0's binary_logloss: 0.341758\tvalid_1's binary_logloss: 0.494093\n",
      "[LightGBM] [Info] Number of positive: 4590, number of negative: 16705\n",
      "[LightGBM] [Warning] Auto-choosing col-wise multi-threading, the overhead of testing was 0.013339 seconds.\n",
      "You can set `force_col_wise=true` to remove the overhead.\n",
      "[LightGBM] [Info] Total Bins 12168\n",
      "[LightGBM] [Info] Number of data points in the train set: 21295, number of used features: 244\n",
      "[LightGBM] [Info] [binary:BoostFromScore]: pavg=0.215544 -> initscore=-1.291828\n",
      "[LightGBM] [Info] Start training from score -1.291828\n",
      "Training until validation scores don't improve for 10 rounds\n"
     ]
    },
    {
     "name": "stderr",
     "output_type": "stream",
     "text": [
      "\n",
      "\n",
      "num_leaves, val_score: 0.489017:  40%|####################                              | 8/20 [00:23<00:30,  2.54s/it]\u001b[A\u001b[A\n",
      "\n",
      "num_leaves, val_score: 0.489017:  45%|######################5                           | 9/20 [00:23<00:30,  2.80s/it]\u001b[A\u001b[A\u001b[32m[I 2021-06-23 10:29:30,225]\u001b[0m Trial 15 finished with value: 0.49842657844933663 and parameters: {'num_leaves': 255}. Best is trial 9 with value: 0.4890170242002899.\u001b[0m\n",
      "\n",
      "\n",
      "num_leaves, val_score: 0.489017:  45%|######################5                           | 9/20 [00:23<00:30,  2.80s/it]\u001b[A\u001b[A"
     ]
    },
    {
     "name": "stdout",
     "output_type": "stream",
     "text": [
      "Early stopping, best iteration is:\n",
      "[22]\tvalid_0's binary_logloss: 0.310508\tvalid_1's binary_logloss: 0.498427\n",
      "[LightGBM] [Info] Number of positive: 4590, number of negative: 16705\n",
      "[LightGBM] [Warning] Auto-choosing col-wise multi-threading, the overhead of testing was 0.022175 seconds.\n",
      "You can set `force_col_wise=true` to remove the overhead.\n",
      "[LightGBM] [Info] Total Bins 12168\n",
      "[LightGBM] [Info] Number of data points in the train set: 21295, number of used features: 244\n",
      "[LightGBM] [Info] [binary:BoostFromScore]: pavg=0.215544 -> initscore=-1.291828\n",
      "[LightGBM] [Info] Start training from score -1.291828\n",
      "Training until validation scores don't improve for 10 rounds\n"
     ]
    },
    {
     "name": "stderr",
     "output_type": "stream",
     "text": [
      "\n",
      "\n",
      "num_leaves, val_score: 0.489017:  45%|######################5                           | 9/20 [00:25<00:30,  2.80s/it]\u001b[A\u001b[A\n",
      "\n",
      "num_leaves, val_score: 0.489017:  50%|########################5                        | 10/20 [00:25<00:25,  2.57s/it]\u001b[A\u001b[A\u001b[32m[I 2021-06-23 10:29:32,265]\u001b[0m Trial 16 finished with value: 0.48960600161441065 and parameters: {'num_leaves': 30}. Best is trial 9 with value: 0.4890170242002899.\u001b[0m\n",
      "\n",
      "\n",
      "num_leaves, val_score: 0.489017:  50%|########################5                        | 10/20 [00:25<00:25,  2.57s/it]\u001b[A\u001b[A"
     ]
    },
    {
     "name": "stdout",
     "output_type": "stream",
     "text": [
      "Early stopping, best iteration is:\n",
      "[48]\tvalid_0's binary_logloss: 0.420179\tvalid_1's binary_logloss: 0.489606\n",
      "[LightGBM] [Info] Number of positive: 4590, number of negative: 16705\n",
      "[LightGBM] [Warning] Auto-choosing col-wise multi-threading, the overhead of testing was 0.015215 seconds.\n",
      "You can set `force_col_wise=true` to remove the overhead.\n",
      "[LightGBM] [Info] Total Bins 12168\n",
      "[LightGBM] [Info] Number of data points in the train set: 21295, number of used features: 244\n",
      "[LightGBM] [Info] [binary:BoostFromScore]: pavg=0.215544 -> initscore=-1.291828\n",
      "[LightGBM] [Info] Start training from score -1.291828\n",
      "Training until validation scores don't improve for 10 rounds\n"
     ]
    },
    {
     "name": "stderr",
     "output_type": "stream",
     "text": [
      "\n",
      "\n",
      "num_leaves, val_score: 0.489017:  50%|########################5                        | 10/20 [00:28<00:25,  2.57s/it]\u001b[A\u001b[A\n",
      "\n",
      "num_leaves, val_score: 0.489017:  55%|##########################9                      | 11/20 [00:28<00:24,  2.76s/it]\u001b[A\u001b[A\u001b[32m[I 2021-06-23 10:29:35,465]\u001b[0m Trial 17 finished with value: 0.4955358588836276 and parameters: {'num_leaves': 189}. Best is trial 9 with value: 0.4890170242002899.\u001b[0m\n",
      "\n",
      "\n",
      "num_leaves, val_score: 0.489017:  55%|##########################9                      | 11/20 [00:28<00:24,  2.76s/it]\u001b[A\u001b[A"
     ]
    },
    {
     "name": "stdout",
     "output_type": "stream",
     "text": [
      "Early stopping, best iteration is:\n",
      "[22]\tvalid_0's binary_logloss: 0.341313\tvalid_1's binary_logloss: 0.495536\n",
      "[LightGBM] [Info] Number of positive: 4590, number of negative: 16705\n",
      "[LightGBM] [Warning] Auto-choosing col-wise multi-threading, the overhead of testing was 0.013422 seconds.\n",
      "You can set `force_col_wise=true` to remove the overhead.\n",
      "[LightGBM] [Info] Total Bins 12168\n",
      "[LightGBM] [Info] Number of data points in the train set: 21295, number of used features: 244\n",
      "[LightGBM] [Info] [binary:BoostFromScore]: pavg=0.215544 -> initscore=-1.291828\n",
      "[LightGBM] [Info] Start training from score -1.291828\n",
      "Training until validation scores don't improve for 10 rounds\n",
      "[100]\tvalid_0's binary_logloss: 0.481988\tvalid_1's binary_logloss: 0.493817\n"
     ]
    },
    {
     "name": "stderr",
     "output_type": "stream",
     "text": [
      "\n",
      "\n",
      "num_leaves, val_score: 0.489017:  55%|##########################9                      | 11/20 [00:30<00:24,  2.76s/it]\u001b[A\u001b[A\n",
      "\n",
      "num_leaves, val_score: 0.489017:  60%|#############################4                   | 12/20 [00:30<00:20,  2.53s/it]\u001b[A\u001b[A\u001b[32m[I 2021-06-23 10:29:37,477]\u001b[0m Trial 18 finished with value: 0.49162762397352033 and parameters: {'num_leaves': 2}. Best is trial 9 with value: 0.4890170242002899.\u001b[0m\n",
      "\n",
      "\n",
      "num_leaves, val_score: 0.489017:  60%|#############################4                   | 12/20 [00:30<00:20,  2.53s/it]\u001b[A\u001b[A"
     ]
    },
    {
     "name": "stdout",
     "output_type": "stream",
     "text": [
      "[200]\tvalid_0's binary_logloss: 0.476994\tvalid_1's binary_logloss: 0.491717\n",
      "Early stopping, best iteration is:\n",
      "[195]\tvalid_0's binary_logloss: 0.477174\tvalid_1's binary_logloss: 0.491628\n",
      "[LightGBM] [Info] Number of positive: 4590, number of negative: 16705\n",
      "[LightGBM] [Warning] Auto-choosing col-wise multi-threading, the overhead of testing was 0.013664 seconds.\n",
      "You can set `force_col_wise=true` to remove the overhead.\n",
      "[LightGBM] [Info] Total Bins 12168\n",
      "[LightGBM] [Info] Number of data points in the train set: 21295, number of used features: 244\n",
      "[LightGBM] [Info] [binary:BoostFromScore]: pavg=0.215544 -> initscore=-1.291828\n",
      "[LightGBM] [Info] Start training from score -1.291828\n",
      "Training until validation scores don't improve for 10 rounds\n"
     ]
    },
    {
     "name": "stderr",
     "output_type": "stream",
     "text": [
      "\n",
      "\n",
      "num_leaves, val_score: 0.489017:  60%|#############################4                   | 12/20 [00:32<00:20,  2.53s/it]\u001b[A\u001b[A\n",
      "\n",
      "num_leaves, val_score: 0.489017:  65%|###############################8                 | 13/20 [00:32<00:16,  2.42s/it]\u001b[A\u001b[A\u001b[32m[I 2021-06-23 10:29:39,611]\u001b[0m Trial 19 finished with value: 0.4898661279952681 and parameters: {'num_leaves': 32}. Best is trial 9 with value: 0.4890170242002899.\u001b[0m\n",
      "\n",
      "\n",
      "num_leaves, val_score: 0.489017:  65%|###############################8                 | 13/20 [00:32<00:16,  2.42s/it]\u001b[A\u001b[A"
     ]
    },
    {
     "name": "stdout",
     "output_type": "stream",
     "text": [
      "Early stopping, best iteration is:\n",
      "[43]\tvalid_0's binary_logloss: 0.421672\tvalid_1's binary_logloss: 0.489866\n",
      "[LightGBM] [Info] Number of positive: 4590, number of negative: 16705\n",
      "[LightGBM] [Warning] Auto-choosing col-wise multi-threading, the overhead of testing was 0.013092 seconds.\n",
      "You can set `force_col_wise=true` to remove the overhead.\n",
      "[LightGBM] [Info] Total Bins 12168\n",
      "[LightGBM] [Info] Number of data points in the train set: 21295, number of used features: 244\n",
      "[LightGBM] [Info] [binary:BoostFromScore]: pavg=0.215544 -> initscore=-1.291828\n",
      "[LightGBM] [Info] Start training from score -1.291828\n",
      "Training until validation scores don't improve for 10 rounds\n"
     ]
    },
    {
     "name": "stderr",
     "output_type": "stream",
     "text": [
      "\n",
      "\n",
      "num_leaves, val_score: 0.489017:  65%|###############################8                 | 13/20 [00:35<00:16,  2.42s/it]\u001b[A\u001b[A\n",
      "\n",
      "num_leaves, val_score: 0.489017:  70%|##################################3              | 14/20 [00:35<00:14,  2.49s/it]\u001b[A\u001b[A\u001b[32m[I 2021-06-23 10:29:42,269]\u001b[0m Trial 20 finished with value: 0.4942894185551945 and parameters: {'num_leaves': 162}. Best is trial 9 with value: 0.4890170242002899.\u001b[0m\n",
      "\n",
      "\n",
      "num_leaves, val_score: 0.489017:  70%|##################################3              | 14/20 [00:35<00:14,  2.49s/it]\u001b[A\u001b[A"
     ]
    },
    {
     "name": "stdout",
     "output_type": "stream",
     "text": [
      "Early stopping, best iteration is:\n",
      "[20]\tvalid_0's binary_logloss: 0.364222\tvalid_1's binary_logloss: 0.494289\n",
      "[LightGBM] [Info] Number of positive: 4590, number of negative: 16705\n",
      "[LightGBM] [Warning] Auto-choosing col-wise multi-threading, the overhead of testing was 0.015988 seconds.\n",
      "You can set `force_col_wise=true` to remove the overhead.\n",
      "[LightGBM] [Info] Total Bins 12168\n",
      "[LightGBM] [Info] Number of data points in the train set: 21295, number of used features: 244\n",
      "[LightGBM] [Info] [binary:BoostFromScore]: pavg=0.215544 -> initscore=-1.291828\n",
      "[LightGBM] [Info] Start training from score -1.291828\n",
      "Training until validation scores don't improve for 10 rounds\n"
     ]
    },
    {
     "name": "stderr",
     "output_type": "stream",
     "text": [
      "\n",
      "\n",
      "num_leaves, val_score: 0.489017:  70%|##################################3              | 14/20 [00:37<00:14,  2.49s/it]\u001b[A\u001b[A\n",
      "\n",
      "num_leaves, val_score: 0.489017:  75%|####################################7            | 15/20 [00:37<00:11,  2.39s/it]\u001b[A\u001b[A\u001b[32m[I 2021-06-23 10:29:44,440]\u001b[0m Trial 21 finished with value: 0.4906074301816082 and parameters: {'num_leaves': 41}. Best is trial 9 with value: 0.4890170242002899.\u001b[0m\n",
      "\n",
      "\n",
      "num_leaves, val_score: 0.489017:  75%|####################################7            | 15/20 [00:37<00:11,  2.39s/it]\u001b[A\u001b[A"
     ]
    },
    {
     "name": "stdout",
     "output_type": "stream",
     "text": [
      "Early stopping, best iteration is:\n",
      "[42]\tvalid_0's binary_logloss: 0.408769\tvalid_1's binary_logloss: 0.490607\n",
      "[LightGBM] [Info] Number of positive: 4590, number of negative: 16705\n",
      "[LightGBM] [Warning] Auto-choosing col-wise multi-threading, the overhead of testing was 0.019094 seconds.\n",
      "You can set `force_col_wise=true` to remove the overhead.\n",
      "[LightGBM] [Info] Total Bins 12168\n",
      "[LightGBM] [Info] Number of data points in the train set: 21295, number of used features: 244\n",
      "[LightGBM] [Info] [binary:BoostFromScore]: pavg=0.215544 -> initscore=-1.291828\n",
      "[LightGBM] [Info] Start training from score -1.291828\n",
      "Training until validation scores don't improve for 10 rounds\n",
      "[100]\tvalid_0's binary_logloss: 0.475038\tvalid_1's binary_logloss: 0.491137\n"
     ]
    },
    {
     "name": "stderr",
     "output_type": "stream",
     "text": [
      "\n",
      "\n",
      "num_leaves, val_score: 0.489017:  75%|####################################7            | 15/20 [00:39<00:11,  2.39s/it]\u001b[A\u001b[A\n",
      "\n",
      "num_leaves, val_score: 0.489017:  80%|#######################################2         | 16/20 [00:39<00:09,  2.31s/it]\u001b[A\u001b[A\u001b[32m[I 2021-06-23 10:29:46,558]\u001b[0m Trial 22 finished with value: 0.48930327153051256 and parameters: {'num_leaves': 3}. Best is trial 9 with value: 0.4890170242002899.\u001b[0m\n",
      "\n",
      "\n",
      "num_leaves, val_score: 0.489017:  80%|#######################################2         | 16/20 [00:39<00:09,  2.31s/it]\u001b[A\u001b[A"
     ]
    },
    {
     "name": "stdout",
     "output_type": "stream",
     "text": [
      "[200]\tvalid_0's binary_logloss: 0.467392\tvalid_1's binary_logloss: 0.489415\n",
      "Early stopping, best iteration is:\n",
      "[190]\tvalid_0's binary_logloss: 0.468025\tvalid_1's binary_logloss: 0.489303\n",
      "[LightGBM] [Info] Number of positive: 4590, number of negative: 16705\n",
      "[LightGBM] [Warning] Auto-choosing col-wise multi-threading, the overhead of testing was 0.012883 seconds.\n",
      "You can set `force_col_wise=true` to remove the overhead.\n",
      "[LightGBM] [Info] Total Bins 12168\n",
      "[LightGBM] [Info] Number of data points in the train set: 21295, number of used features: 244\n",
      "[LightGBM] [Info] [binary:BoostFromScore]: pavg=0.215544 -> initscore=-1.291828\n",
      "[LightGBM] [Info] Start training from score -1.291828\n",
      "Training until validation scores don't improve for 10 rounds\n"
     ]
    },
    {
     "name": "stderr",
     "output_type": "stream",
     "text": [
      "\n",
      "\n",
      "num_leaves, val_score: 0.489017:  80%|#######################################2         | 16/20 [00:42<00:09,  2.31s/it]\u001b[A\u001b[A\n",
      "\n",
      "num_leaves, val_score: 0.489017:  85%|#########################################6       | 17/20 [00:42<00:07,  2.36s/it]\u001b[A\u001b[A\u001b[32m[I 2021-06-23 10:29:49,020]\u001b[0m Trial 23 finished with value: 0.49215877790934837 and parameters: {'num_leaves': 97}. Best is trial 9 with value: 0.4890170242002899.\u001b[0m\n",
      "\n",
      "\n",
      "num_leaves, val_score: 0.489017:  85%|#########################################6       | 17/20 [00:42<00:07,  2.36s/it]\u001b[A\u001b[A"
     ]
    },
    {
     "name": "stdout",
     "output_type": "stream",
     "text": [
      "Early stopping, best iteration is:\n",
      "[28]\tvalid_0's binary_logloss: 0.37566\tvalid_1's binary_logloss: 0.492159\n",
      "[LightGBM] [Info] Number of positive: 4590, number of negative: 16705\n",
      "[LightGBM] [Warning] Auto-choosing col-wise multi-threading, the overhead of testing was 0.015884 seconds.\n",
      "You can set `force_col_wise=true` to remove the overhead.\n",
      "[LightGBM] [Info] Total Bins 12168\n",
      "[LightGBM] [Info] Number of data points in the train set: 21295, number of used features: 244\n",
      "[LightGBM] [Info] [binary:BoostFromScore]: pavg=0.215544 -> initscore=-1.291828\n",
      "[LightGBM] [Info] Start training from score -1.291828\n",
      "Training until validation scores don't improve for 10 rounds\n"
     ]
    },
    {
     "name": "stderr",
     "output_type": "stream",
     "text": [
      "\n",
      "\n",
      "num_leaves, val_score: 0.489017:  85%|#########################################6       | 17/20 [00:44<00:07,  2.36s/it]\u001b[A\u001b[A\n",
      "\n",
      "num_leaves, val_score: 0.489017:  90%|############################################1    | 18/20 [00:44<00:04,  2.36s/it]\u001b[A\u001b[A\u001b[32m[I 2021-06-23 10:29:51,381]\u001b[0m Trial 24 finished with value: 0.49049482243500403 and parameters: {'num_leaves': 58}. Best is trial 9 with value: 0.4890170242002899.\u001b[0m\n",
      "\n",
      "\n",
      "num_leaves, val_score: 0.489017:  90%|############################################1    | 18/20 [00:44<00:04,  2.36s/it]\u001b[A\u001b[A"
     ]
    },
    {
     "name": "stdout",
     "output_type": "stream",
     "text": [
      "Early stopping, best iteration is:\n",
      "[39]\tvalid_0's binary_logloss: 0.390379\tvalid_1's binary_logloss: 0.490495\n",
      "[LightGBM] [Info] Number of positive: 4590, number of negative: 16705\n",
      "[LightGBM] [Warning] Auto-choosing col-wise multi-threading, the overhead of testing was 0.014091 seconds.\n",
      "You can set `force_col_wise=true` to remove the overhead.\n",
      "[LightGBM] [Info] Total Bins 12168\n",
      "[LightGBM] [Info] Number of data points in the train set: 21295, number of used features: 244\n",
      "[LightGBM] [Info] [binary:BoostFromScore]: pavg=0.215544 -> initscore=-1.291828\n",
      "[LightGBM] [Info] Start training from score -1.291828\n",
      "Training until validation scores don't improve for 10 rounds\n"
     ]
    },
    {
     "name": "stderr",
     "output_type": "stream",
     "text": [
      "\n",
      "\n",
      "num_leaves, val_score: 0.489017:  90%|############################################1    | 18/20 [00:47<00:04,  2.36s/it]\u001b[A\u001b[A\n",
      "\n",
      "num_leaves, val_score: 0.489017:  95%|##############################################5  | 19/20 [00:47<00:02,  2.50s/it]\u001b[A\u001b[A\u001b[32m[I 2021-06-23 10:29:54,196]\u001b[0m Trial 25 finished with value: 0.4949901555365115 and parameters: {'num_leaves': 134}. Best is trial 9 with value: 0.4890170242002899.\u001b[0m\n",
      "\n",
      "\n",
      "num_leaves, val_score: 0.489017:  95%|##############################################5  | 19/20 [00:47<00:02,  2.50s/it]\u001b[A\u001b[A"
     ]
    },
    {
     "name": "stdout",
     "output_type": "stream",
     "text": [
      "Early stopping, best iteration is:\n",
      "[26]\tvalid_0's binary_logloss: 0.355564\tvalid_1's binary_logloss: 0.49499\n",
      "[LightGBM] [Info] Number of positive: 4590, number of negative: 16705\n",
      "[LightGBM] [Warning] Auto-choosing col-wise multi-threading, the overhead of testing was 0.020920 seconds.\n",
      "You can set `force_col_wise=true` to remove the overhead.\n",
      "[LightGBM] [Info] Total Bins 12168\n",
      "[LightGBM] [Info] Number of data points in the train set: 21295, number of used features: 244\n",
      "[LightGBM] [Info] [binary:BoostFromScore]: pavg=0.215544 -> initscore=-1.291828\n",
      "[LightGBM] [Info] Start training from score -1.291828\n",
      "Training until validation scores don't improve for 10 rounds\n",
      "[100]\tvalid_0's binary_logloss: 0.481988\tvalid_1's binary_logloss: 0.493817\n"
     ]
    },
    {
     "name": "stderr",
     "output_type": "stream",
     "text": [
      "\n",
      "\n",
      "num_leaves, val_score: 0.489017:  95%|##############################################5  | 19/20 [00:49<00:02,  2.50s/it]\u001b[A\u001b[A\n",
      "\n",
      "num_leaves, val_score: 0.489017: 100%|#################################################| 20/20 [00:49<00:00,  2.38s/it]\u001b[A\u001b[A\u001b[32m[I 2021-06-23 10:29:56,308]\u001b[0m Trial 26 finished with value: 0.49162762397352033 and parameters: {'num_leaves': 2}. Best is trial 9 with value: 0.4890170242002899.\u001b[0m\n",
      "num_leaves, val_score: 0.489017: 100%|#################################################| 20/20 [00:49<00:00,  2.48s/it]\n",
      "\n",
      "\n",
      "  0%|                                                                                           | 0/10 [00:00<?, ?it/s]\u001b[A\u001b[A\n",
      "\n",
      "bagging, val_score: 0.489017:   0%|                                                             | 0/10 [00:00<?, ?it/s]\u001b[A\u001b[A"
     ]
    },
    {
     "name": "stdout",
     "output_type": "stream",
     "text": [
      "[200]\tvalid_0's binary_logloss: 0.476994\tvalid_1's binary_logloss: 0.491717\n",
      "Early stopping, best iteration is:\n",
      "[195]\tvalid_0's binary_logloss: 0.477174\tvalid_1's binary_logloss: 0.491628\n",
      "[LightGBM] [Info] Number of positive: 4590, number of negative: 16705\n",
      "[LightGBM] [Warning] Auto-choosing col-wise multi-threading, the overhead of testing was 0.025321 seconds.\n",
      "You can set `force_col_wise=true` to remove the overhead.\n",
      "[LightGBM] [Info] Total Bins 12168\n",
      "[LightGBM] [Info] Number of data points in the train set: 21295, number of used features: 244\n",
      "[LightGBM] [Info] [binary:BoostFromScore]: pavg=0.215544 -> initscore=-1.291828\n",
      "[LightGBM] [Info] Start training from score -1.291828\n",
      "Training until validation scores don't improve for 10 rounds\n"
     ]
    },
    {
     "name": "stderr",
     "output_type": "stream",
     "text": [
      "\n",
      "\n",
      "bagging, val_score: 0.489017:   0%|                                                             | 0/10 [00:01<?, ?it/s]\u001b[A\u001b[A\n",
      "\n",
      "bagging, val_score: 0.489017:  10%|#####3                                               | 1/10 [00:01<00:17,  1.95s/it]\u001b[A\u001b[A\u001b[32m[I 2021-06-23 10:29:58,282]\u001b[0m Trial 27 finished with value: 0.4919600327407065 and parameters: {'bagging_fraction': 0.6354892948991177, 'bagging_freq': 4}. Best is trial 27 with value: 0.4919600327407065.\u001b[0m\n",
      "\n",
      "\n",
      "bagging, val_score: 0.489017:  10%|#####3                                               | 1/10 [00:01<00:17,  1.95s/it]\u001b[A\u001b[A"
     ]
    },
    {
     "name": "stdout",
     "output_type": "stream",
     "text": [
      "Early stopping, best iteration is:\n",
      "[29]\tvalid_0's binary_logloss: 0.433806\tvalid_1's binary_logloss: 0.49196\n",
      "[LightGBM] [Info] Number of positive: 4590, number of negative: 16705\n",
      "[LightGBM] [Warning] Auto-choosing col-wise multi-threading, the overhead of testing was 0.014484 seconds.\n",
      "You can set `force_col_wise=true` to remove the overhead.\n",
      "[LightGBM] [Info] Total Bins 12168\n",
      "[LightGBM] [Info] Number of data points in the train set: 21295, number of used features: 244\n",
      "[LightGBM] [Info] [binary:BoostFromScore]: pavg=0.215544 -> initscore=-1.291828\n",
      "[LightGBM] [Info] Start training from score -1.291828\n",
      "Training until validation scores don't improve for 10 rounds\n"
     ]
    },
    {
     "name": "stderr",
     "output_type": "stream",
     "text": [
      "\n",
      "\n",
      "bagging, val_score: 0.489017:  10%|#####3                                               | 1/10 [00:03<00:17,  1.95s/it]\u001b[A\u001b[A\n",
      "\n",
      "bagging, val_score: 0.489017:  20%|##########6                                          | 2/10 [00:03<00:15,  1.96s/it]\u001b[A\u001b[A\u001b[32m[I 2021-06-23 10:30:00,268]\u001b[0m Trial 28 finished with value: 0.49196332212589783 and parameters: {'bagging_fraction': 0.6307491049580696, 'bagging_freq': 6}. Best is trial 27 with value: 0.4919600327407065.\u001b[0m\n",
      "\n",
      "\n",
      "bagging, val_score: 0.489017:  20%|##########6                                          | 2/10 [00:03<00:15,  1.96s/it]\u001b[A\u001b[A"
     ]
    },
    {
     "name": "stdout",
     "output_type": "stream",
     "text": [
      "Early stopping, best iteration is:\n",
      "[31]\tvalid_0's binary_logloss: 0.432041\tvalid_1's binary_logloss: 0.491963\n",
      "[LightGBM] [Info] Number of positive: 4590, number of negative: 16705\n",
      "[LightGBM] [Warning] Auto-choosing col-wise multi-threading, the overhead of testing was 0.012893 seconds.\n",
      "You can set `force_col_wise=true` to remove the overhead.\n",
      "[LightGBM] [Info] Total Bins 12168\n",
      "[LightGBM] [Info] Number of data points in the train set: 21295, number of used features: 244\n",
      "[LightGBM] [Info] [binary:BoostFromScore]: pavg=0.215544 -> initscore=-1.291828\n",
      "[LightGBM] [Info] Start training from score -1.291828\n",
      "Training until validation scores don't improve for 10 rounds\n"
     ]
    },
    {
     "name": "stderr",
     "output_type": "stream",
     "text": [
      "\n",
      "\n",
      "bagging, val_score: 0.488382:  20%|##########6                                          | 2/10 [00:06<00:15,  1.96s/it]\u001b[A\u001b[A\n",
      "\n",
      "bagging, val_score: 0.488382:  30%|###############9                                     | 3/10 [00:06<00:14,  2.00s/it]\u001b[A\u001b[A\u001b[32m[I 2021-06-23 10:30:02,351]\u001b[0m Trial 29 finished with value: 0.48838228476860995 and parameters: {'bagging_fraction': 0.8748484604822779, 'bagging_freq': 1}. Best is trial 29 with value: 0.48838228476860995.\u001b[0m\n",
      "\n",
      "\n",
      "bagging, val_score: 0.488382:  30%|###############9                                     | 3/10 [00:06<00:14,  2.00s/it]\u001b[A\u001b[A"
     ]
    },
    {
     "name": "stdout",
     "output_type": "stream",
     "text": [
      "Early stopping, best iteration is:\n",
      "[39]\tvalid_0's binary_logloss: 0.419703\tvalid_1's binary_logloss: 0.488382\n",
      "[LightGBM] [Info] Number of positive: 4590, number of negative: 16705\n",
      "[LightGBM] [Warning] Auto-choosing col-wise multi-threading, the overhead of testing was 0.015946 seconds.\n",
      "You can set `force_col_wise=true` to remove the overhead.\n",
      "[LightGBM] [Info] Total Bins 12168\n",
      "[LightGBM] [Info] Number of data points in the train set: 21295, number of used features: 244\n",
      "[LightGBM] [Info] [binary:BoostFromScore]: pavg=0.215544 -> initscore=-1.291828\n",
      "[LightGBM] [Info] Start training from score -1.291828\n",
      "Training until validation scores don't improve for 10 rounds\n"
     ]
    },
    {
     "name": "stderr",
     "output_type": "stream",
     "text": [
      "\n",
      "\n",
      "bagging, val_score: 0.488382:  30%|###############9                                     | 3/10 [00:08<00:14,  2.00s/it]\u001b[A\u001b[A\n",
      "\n",
      "bagging, val_score: 0.488382:  40%|#####################2                               | 4/10 [00:08<00:12,  2.00s/it]\u001b[A\u001b[A\u001b[32m[I 2021-06-23 10:30:04,365]\u001b[0m Trial 30 finished with value: 0.4915584935168798 and parameters: {'bagging_fraction': 0.8300054889979509, 'bagging_freq': 4}. Best is trial 29 with value: 0.48838228476860995.\u001b[0m\n",
      "\n",
      "\n",
      "bagging, val_score: 0.488382:  40%|#####################2                               | 4/10 [00:08<00:12,  2.00s/it]\u001b[A\u001b[A"
     ]
    },
    {
     "name": "stdout",
     "output_type": "stream",
     "text": [
      "Early stopping, best iteration is:\n",
      "[25]\tvalid_0's binary_logloss: 0.440095\tvalid_1's binary_logloss: 0.491558\n",
      "[LightGBM] [Info] Number of positive: 4590, number of negative: 16705\n",
      "[LightGBM] [Warning] Auto-choosing col-wise multi-threading, the overhead of testing was 0.013554 seconds.\n",
      "You can set `force_col_wise=true` to remove the overhead.\n",
      "[LightGBM] [Info] Total Bins 12168\n",
      "[LightGBM] [Info] Number of data points in the train set: 21295, number of used features: 244\n",
      "[LightGBM] [Info] [binary:BoostFromScore]: pavg=0.215544 -> initscore=-1.291828\n",
      "[LightGBM] [Info] Start training from score -1.291828\n",
      "Training until validation scores don't improve for 10 rounds\n"
     ]
    },
    {
     "name": "stderr",
     "output_type": "stream",
     "text": [
      "\n",
      "\n",
      "bagging, val_score: 0.488382:  40%|#####################2                               | 4/10 [00:10<00:12,  2.00s/it]\u001b[A\u001b[A\n",
      "\n",
      "bagging, val_score: 0.488382:  50%|##########################5                          | 5/10 [00:10<00:10,  2.01s/it]\u001b[A\u001b[A\u001b[32m[I 2021-06-23 10:30:06,402]\u001b[0m Trial 31 finished with value: 0.48997727919624 and parameters: {'bagging_fraction': 0.8727948467065229, 'bagging_freq': 7}. Best is trial 29 with value: 0.48838228476860995.\u001b[0m\n",
      "\n",
      "\n",
      "bagging, val_score: 0.488382:  50%|##########################5                          | 5/10 [00:10<00:10,  2.01s/it]\u001b[A\u001b[A"
     ]
    },
    {
     "name": "stdout",
     "output_type": "stream",
     "text": [
      "Early stopping, best iteration is:\n",
      "[32]\tvalid_0's binary_logloss: 0.430146\tvalid_1's binary_logloss: 0.489977\n",
      "[LightGBM] [Info] Number of positive: 4590, number of negative: 16705\n",
      "[LightGBM] [Warning] Auto-choosing col-wise multi-threading, the overhead of testing was 0.013793 seconds.\n",
      "You can set `force_col_wise=true` to remove the overhead.\n",
      "[LightGBM] [Info] Total Bins 12168\n",
      "[LightGBM] [Info] Number of data points in the train set: 21295, number of used features: 244\n",
      "[LightGBM] [Info] [binary:BoostFromScore]: pavg=0.215544 -> initscore=-1.291828\n",
      "[LightGBM] [Info] Start training from score -1.291828\n",
      "Training until validation scores don't improve for 10 rounds\n"
     ]
    },
    {
     "name": "stderr",
     "output_type": "stream",
     "text": [
      "\n",
      "\n",
      "bagging, val_score: 0.488382:  50%|##########################5                          | 5/10 [00:11<00:10,  2.01s/it]\u001b[A\u001b[A\n",
      "\n",
      "bagging, val_score: 0.488382:  60%|###############################8                     | 6/10 [00:11<00:07,  1.98s/it]\u001b[A\u001b[A\u001b[32m[I 2021-06-23 10:30:08,314]\u001b[0m Trial 32 finished with value: 0.49156486208220906 and parameters: {'bagging_fraction': 0.7043746726367256, 'bagging_freq': 1}. Best is trial 29 with value: 0.48838228476860995.\u001b[0m\n",
      "\n",
      "\n",
      "bagging, val_score: 0.488382:  60%|###############################8                     | 6/10 [00:11<00:07,  1.98s/it]\u001b[A\u001b[A"
     ]
    },
    {
     "name": "stdout",
     "output_type": "stream",
     "text": [
      "Early stopping, best iteration is:\n",
      "[29]\tvalid_0's binary_logloss: 0.433245\tvalid_1's binary_logloss: 0.491565\n",
      "[LightGBM] [Info] Number of positive: 4590, number of negative: 16705\n",
      "[LightGBM] [Warning] Auto-choosing col-wise multi-threading, the overhead of testing was 0.013624 seconds.\n",
      "You can set `force_col_wise=true` to remove the overhead.\n",
      "[LightGBM] [Info] Total Bins 12168\n",
      "[LightGBM] [Info] Number of data points in the train set: 21295, number of used features: 244\n",
      "[LightGBM] [Info] [binary:BoostFromScore]: pavg=0.215544 -> initscore=-1.291828\n",
      "[LightGBM] [Info] Start training from score -1.291828\n",
      "Training until validation scores don't improve for 10 rounds\n"
     ]
    },
    {
     "name": "stderr",
     "output_type": "stream",
     "text": [
      "\n",
      "\n",
      "bagging, val_score: 0.488382:  60%|###############################8                     | 6/10 [00:13<00:07,  1.98s/it]\u001b[A\u001b[A\n",
      "\n",
      "bagging, val_score: 0.488382:  70%|#####################################                | 7/10 [00:13<00:05,  1.93s/it]\u001b[A\u001b[A\u001b[32m[I 2021-06-23 10:30:10,135]\u001b[0m Trial 33 finished with value: 0.4928865935577238 and parameters: {'bagging_fraction': 0.5792385334408622, 'bagging_freq': 5}. Best is trial 29 with value: 0.48838228476860995.\u001b[0m\n",
      "\n",
      "\n",
      "bagging, val_score: 0.488382:  70%|#####################################                | 7/10 [00:13<00:05,  1.93s/it]\u001b[A\u001b[A"
     ]
    },
    {
     "name": "stdout",
     "output_type": "stream",
     "text": [
      "Early stopping, best iteration is:\n",
      "[25]\tvalid_0's binary_logloss: 0.441507\tvalid_1's binary_logloss: 0.492887\n",
      "[LightGBM] [Info] Number of positive: 4590, number of negative: 16705\n",
      "[LightGBM] [Warning] Auto-choosing col-wise multi-threading, the overhead of testing was 0.013669 seconds.\n",
      "You can set `force_col_wise=true` to remove the overhead.\n",
      "[LightGBM] [Info] Total Bins 12168\n",
      "[LightGBM] [Info] Number of data points in the train set: 21295, number of used features: 244\n",
      "[LightGBM] [Info] [binary:BoostFromScore]: pavg=0.215544 -> initscore=-1.291828\n",
      "[LightGBM] [Info] Start training from score -1.291828\n",
      "Training until validation scores don't improve for 10 rounds\n"
     ]
    },
    {
     "name": "stderr",
     "output_type": "stream",
     "text": [
      "\n",
      "\n",
      "bagging, val_score: 0.488382:  70%|#####################################                | 7/10 [00:15<00:05,  1.93s/it]\u001b[A\u001b[A\n",
      "\n",
      "bagging, val_score: 0.488382:  80%|##########################################4          | 8/10 [00:15<00:04,  2.01s/it]\u001b[A\u001b[A\u001b[32m[I 2021-06-23 10:30:12,317]\u001b[0m Trial 34 finished with value: 0.49260826897061794 and parameters: {'bagging_fraction': 0.7812461498745709, 'bagging_freq': 7}. Best is trial 29 with value: 0.48838228476860995.\u001b[0m\n",
      "\n",
      "\n",
      "bagging, val_score: 0.488382:  80%|##########################################4          | 8/10 [00:16<00:04,  2.01s/it]\u001b[A\u001b[A"
     ]
    },
    {
     "name": "stdout",
     "output_type": "stream",
     "text": [
      "Early stopping, best iteration is:\n",
      "[45]\tvalid_0's binary_logloss: 0.412522\tvalid_1's binary_logloss: 0.492608\n",
      "[LightGBM] [Info] Number of positive: 4590, number of negative: 16705\n",
      "[LightGBM] [Warning] Auto-choosing col-wise multi-threading, the overhead of testing was 0.013414 seconds.\n",
      "You can set `force_col_wise=true` to remove the overhead.\n",
      "[LightGBM] [Info] Total Bins 12168\n",
      "[LightGBM] [Info] Number of data points in the train set: 21295, number of used features: 244\n",
      "[LightGBM] [Info] [binary:BoostFromScore]: pavg=0.215544 -> initscore=-1.291828\n",
      "[LightGBM] [Info] Start training from score -1.291828\n",
      "Training until validation scores don't improve for 10 rounds\n"
     ]
    },
    {
     "name": "stderr",
     "output_type": "stream",
     "text": [
      "\n",
      "\n",
      "bagging, val_score: 0.488382:  80%|##########################################4          | 8/10 [00:17<00:04,  2.01s/it]\u001b[A\u001b[A\n",
      "\n",
      "bagging, val_score: 0.488382:  90%|###############################################7     | 9/10 [00:17<00:01,  1.98s/it]\u001b[A\u001b[A\u001b[32m[I 2021-06-23 10:30:14,244]\u001b[0m Trial 35 finished with value: 0.4924368704700378 and parameters: {'bagging_fraction': 0.6458415494413563, 'bagging_freq': 3}. Best is trial 29 with value: 0.48838228476860995.\u001b[0m\n",
      "\n",
      "\n",
      "bagging, val_score: 0.488382:  90%|###############################################7     | 9/10 [00:17<00:01,  1.98s/it]\u001b[A\u001b[A"
     ]
    },
    {
     "name": "stdout",
     "output_type": "stream",
     "text": [
      "Early stopping, best iteration is:\n",
      "[31]\tvalid_0's binary_logloss: 0.43083\tvalid_1's binary_logloss: 0.492437\n",
      "[LightGBM] [Info] Number of positive: 4590, number of negative: 16705\n",
      "[LightGBM] [Warning] Auto-choosing col-wise multi-threading, the overhead of testing was 0.036156 seconds.\n",
      "You can set `force_col_wise=true` to remove the overhead.\n",
      "[LightGBM] [Info] Total Bins 12168\n",
      "[LightGBM] [Info] Number of data points in the train set: 21295, number of used features: 244\n",
      "[LightGBM] [Info] [binary:BoostFromScore]: pavg=0.215544 -> initscore=-1.291828\n",
      "[LightGBM] [Info] Start training from score -1.291828\n",
      "Training until validation scores don't improve for 10 rounds\n"
     ]
    },
    {
     "name": "stderr",
     "output_type": "stream",
     "text": [
      "\n",
      "\n",
      "bagging, val_score: 0.488382:  90%|###############################################7     | 9/10 [00:20<00:01,  1.98s/it]\u001b[A\u001b[A\n",
      "\n",
      "bagging, val_score: 0.488382: 100%|####################################################| 10/10 [00:20<00:00,  2.09s/it]\u001b[A\u001b[A\u001b[32m[I 2021-06-23 10:30:16,594]\u001b[0m Trial 36 finished with value: 0.4902151457514226 and parameters: {'bagging_fraction': 0.984060331071239, 'bagging_freq': 5}. Best is trial 29 with value: 0.48838228476860995.\u001b[0m\n",
      "bagging, val_score: 0.488382: 100%|####################################################| 10/10 [00:20<00:00,  2.03s/it]\n",
      "\n",
      "\n",
      "  0%|                                                                                            | 0/6 [00:00<?, ?it/s]\u001b[A\u001b[A\n",
      "\n",
      "feature_fraction_stage2, val_score: 0.488382:   0%|                                              | 0/6 [00:00<?, ?it/s]\u001b[A\u001b[A"
     ]
    },
    {
     "name": "stdout",
     "output_type": "stream",
     "text": [
      "Early stopping, best iteration is:\n",
      "[50]\tvalid_0's binary_logloss: 0.407205\tvalid_1's binary_logloss: 0.490215\n",
      "[LightGBM] [Info] Number of positive: 4590, number of negative: 16705\n",
      "[LightGBM] [Warning] Auto-choosing col-wise multi-threading, the overhead of testing was 0.014789 seconds.\n",
      "You can set `force_col_wise=true` to remove the overhead.\n",
      "[LightGBM] [Info] Total Bins 12168\n",
      "[LightGBM] [Info] Number of data points in the train set: 21295, number of used features: 244\n",
      "[LightGBM] [Info] [binary:BoostFromScore]: pavg=0.215544 -> initscore=-1.291828\n",
      "[LightGBM] [Info] Start training from score -1.291828\n",
      "Training until validation scores don't improve for 10 rounds\n"
     ]
    },
    {
     "name": "stderr",
     "output_type": "stream",
     "text": [
      "\n",
      "\n",
      "feature_fraction_stage2, val_score: 0.488382:   0%|                                              | 0/6 [00:02<?, ?it/s]\u001b[A\u001b[A\n",
      "\n",
      "feature_fraction_stage2, val_score: 0.488382:  17%|######3                               | 1/6 [00:02<00:10,  2.20s/it]\u001b[A\u001b[A\u001b[32m[I 2021-06-23 10:30:18,816]\u001b[0m Trial 37 finished with value: 0.490582383802579 and parameters: {'feature_fraction': 0.748}. Best is trial 37 with value: 0.490582383802579.\u001b[0m\n",
      "\n",
      "\n",
      "feature_fraction_stage2, val_score: 0.488382:  17%|######3                               | 1/6 [00:02<00:10,  2.20s/it]\u001b[A\u001b[A"
     ]
    },
    {
     "name": "stdout",
     "output_type": "stream",
     "text": [
      "Early stopping, best iteration is:\n",
      "[43]\tvalid_0's binary_logloss: 0.413383\tvalid_1's binary_logloss: 0.490582\n",
      "[LightGBM] [Info] Number of positive: 4590, number of negative: 16705\n",
      "[LightGBM] [Warning] Auto-choosing col-wise multi-threading, the overhead of testing was 0.013074 seconds.\n",
      "You can set `force_col_wise=true` to remove the overhead.\n",
      "[LightGBM] [Info] Total Bins 12168\n",
      "[LightGBM] [Info] Number of data points in the train set: 21295, number of used features: 244\n",
      "[LightGBM] [Info] [binary:BoostFromScore]: pavg=0.215544 -> initscore=-1.291828\n",
      "[LightGBM] [Info] Start training from score -1.291828\n",
      "Training until validation scores don't improve for 10 rounds\n"
     ]
    },
    {
     "name": "stderr",
     "output_type": "stream",
     "text": [
      "\n",
      "\n",
      "feature_fraction_stage2, val_score: 0.488382:  17%|######3                               | 1/6 [00:04<00:10,  2.20s/it]\u001b[A\u001b[A\n",
      "\n",
      "feature_fraction_stage2, val_score: 0.488382:  33%|############6                         | 2/6 [00:04<00:08,  2.15s/it]\u001b[A\u001b[A\u001b[32m[I 2021-06-23 10:30:20,835]\u001b[0m Trial 38 finished with value: 0.49068597579782985 and parameters: {'feature_fraction': 0.652}. Best is trial 37 with value: 0.490582383802579.\u001b[0m\n",
      "\n",
      "\n",
      "feature_fraction_stage2, val_score: 0.488382:  33%|############6                         | 2/6 [00:04<00:08,  2.15s/it]\u001b[A\u001b[A"
     ]
    },
    {
     "name": "stdout",
     "output_type": "stream",
     "text": [
      "Early stopping, best iteration is:\n",
      "[34]\tvalid_0's binary_logloss: 0.426069\tvalid_1's binary_logloss: 0.490686\n",
      "[LightGBM] [Info] Number of positive: 4590, number of negative: 16705\n",
      "[LightGBM] [Warning] Auto-choosing col-wise multi-threading, the overhead of testing was 0.018258 seconds.\n",
      "You can set `force_col_wise=true` to remove the overhead.\n",
      "[LightGBM] [Info] Total Bins 12168\n",
      "[LightGBM] [Info] Number of data points in the train set: 21295, number of used features: 244\n",
      "[LightGBM] [Info] [binary:BoostFromScore]: pavg=0.215544 -> initscore=-1.291828\n",
      "[LightGBM] [Info] Start training from score -1.291828\n",
      "Training until validation scores don't improve for 10 rounds\n"
     ]
    },
    {
     "name": "stderr",
     "output_type": "stream",
     "text": [
      "\n",
      "\n",
      "feature_fraction_stage2, val_score: 0.488382:  33%|############6                         | 2/6 [00:06<00:08,  2.15s/it]\u001b[A\u001b[A\n",
      "\n",
      "feature_fraction_stage2, val_score: 0.488382:  50%|###################                   | 3/6 [00:06<00:06,  2.26s/it]\u001b[A\u001b[A\u001b[32m[I 2021-06-23 10:30:23,368]\u001b[0m Trial 39 finished with value: 0.49015918116748713 and parameters: {'feature_fraction': 0.7799999999999999}. Best is trial 39 with value: 0.49015918116748713.\u001b[0m\n",
      "\n",
      "\n",
      "feature_fraction_stage2, val_score: 0.488382:  50%|###################                   | 3/6 [00:06<00:06,  2.26s/it]\u001b[A\u001b[A"
     ]
    },
    {
     "name": "stdout",
     "output_type": "stream",
     "text": [
      "Early stopping, best iteration is:\n",
      "[61]\tvalid_0's binary_logloss: 0.391997\tvalid_1's binary_logloss: 0.490159\n",
      "[LightGBM] [Info] Number of positive: 4590, number of negative: 16705\n",
      "[LightGBM] [Warning] Auto-choosing col-wise multi-threading, the overhead of testing was 0.016816 seconds.\n",
      "You can set `force_col_wise=true` to remove the overhead.\n",
      "[LightGBM] [Info] Total Bins 12168\n",
      "[LightGBM] [Info] Number of data points in the train set: 21295, number of used features: 244\n",
      "[LightGBM] [Info] [binary:BoostFromScore]: pavg=0.215544 -> initscore=-1.291828\n",
      "[LightGBM] [Info] Start training from score -1.291828\n",
      "Training until validation scores don't improve for 10 rounds\n"
     ]
    },
    {
     "name": "stderr",
     "output_type": "stream",
     "text": [
      "\n",
      "\n",
      "feature_fraction_stage2, val_score: 0.488382:  50%|###################                   | 3/6 [00:08<00:06,  2.26s/it]\u001b[A\u001b[A\n",
      "\n",
      "feature_fraction_stage2, val_score: 0.488382:  67%|#########################3            | 4/6 [00:08<00:04,  2.24s/it]\u001b[A\u001b[A\u001b[32m[I 2021-06-23 10:30:25,544]\u001b[0m Trial 40 finished with value: 0.48966240287875684 and parameters: {'feature_fraction': 0.6839999999999999}. Best is trial 40 with value: 0.48966240287875684.\u001b[0m\n",
      "\n",
      "\n",
      "feature_fraction_stage2, val_score: 0.488382:  67%|#########################3            | 4/6 [00:08<00:04,  2.24s/it]\u001b[A\u001b[A"
     ]
    },
    {
     "name": "stdout",
     "output_type": "stream",
     "text": [
      "Early stopping, best iteration is:\n",
      "[51]\tvalid_0's binary_logloss: 0.405425\tvalid_1's binary_logloss: 0.489662\n",
      "[LightGBM] [Info] Number of positive: 4590, number of negative: 16705\n",
      "[LightGBM] [Warning] Auto-choosing col-wise multi-threading, the overhead of testing was 0.021320 seconds.\n",
      "You can set `force_col_wise=true` to remove the overhead.\n",
      "[LightGBM] [Info] Total Bins 12168\n",
      "[LightGBM] [Info] Number of data points in the train set: 21295, number of used features: 244\n",
      "[LightGBM] [Info] [binary:BoostFromScore]: pavg=0.215544 -> initscore=-1.291828\n",
      "[LightGBM] [Info] Start training from score -1.291828\n",
      "Training until validation scores don't improve for 10 rounds\n"
     ]
    },
    {
     "name": "stderr",
     "output_type": "stream",
     "text": [
      "\n",
      "\n",
      "feature_fraction_stage2, val_score: 0.488382:  67%|#########################3            | 4/6 [00:11<00:04,  2.24s/it]\u001b[A\u001b[A\n",
      "\n",
      "feature_fraction_stage2, val_score: 0.488382:  83%|###############################6      | 5/6 [00:11<00:02,  2.22s/it]\u001b[A\u001b[A\u001b[32m[I 2021-06-23 10:30:27,714]\u001b[0m Trial 41 finished with value: 0.4899903379206493 and parameters: {'feature_fraction': 0.62}. Best is trial 40 with value: 0.48966240287875684.\u001b[0m\n",
      "\n",
      "\n",
      "feature_fraction_stage2, val_score: 0.488382:  83%|###############################6      | 5/6 [00:11<00:02,  2.22s/it]\u001b[A\u001b[A"
     ]
    },
    {
     "name": "stdout",
     "output_type": "stream",
     "text": [
      "Early stopping, best iteration is:\n",
      "[40]\tvalid_0's binary_logloss: 0.418442\tvalid_1's binary_logloss: 0.48999\n",
      "[LightGBM] [Info] Number of positive: 4590, number of negative: 16705\n",
      "[LightGBM] [Warning] Auto-choosing col-wise multi-threading, the overhead of testing was 0.019155 seconds.\n",
      "You can set `force_col_wise=true` to remove the overhead.\n",
      "[LightGBM] [Info] Total Bins 12168\n",
      "[LightGBM] [Info] Number of data points in the train set: 21295, number of used features: 244\n",
      "[LightGBM] [Info] [binary:BoostFromScore]: pavg=0.215544 -> initscore=-1.291828\n",
      "[LightGBM] [Info] Start training from score -1.291828\n",
      "Training until validation scores don't improve for 10 rounds\n"
     ]
    },
    {
     "name": "stderr",
     "output_type": "stream",
     "text": [
      "\n",
      "\n",
      "feature_fraction_stage2, val_score: 0.488382:  83%|###############################6      | 5/6 [00:13<00:02,  2.22s/it]\u001b[A\u001b[A\n",
      "\n",
      "feature_fraction_stage2, val_score: 0.488382: 100%|######################################| 6/6 [00:13<00:00,  2.23s/it]\u001b[A\u001b[A\u001b[32m[I 2021-06-23 10:30:29,989]\u001b[0m Trial 42 finished with value: 0.49051055798893767 and parameters: {'feature_fraction': 0.716}. Best is trial 40 with value: 0.48966240287875684.\u001b[0m\n",
      "feature_fraction_stage2, val_score: 0.488382: 100%|######################################| 6/6 [00:13<00:00,  2.23s/it]\n",
      "\n",
      "\n",
      "  0%|                                                                                           | 0/20 [00:00<?, ?it/s]\u001b[A\u001b[A\n",
      "\n",
      "regularization_factors, val_score: 0.488382:   0%|                                              | 0/20 [00:00<?, ?it/s]\u001b[A\u001b[A"
     ]
    },
    {
     "name": "stdout",
     "output_type": "stream",
     "text": [
      "Early stopping, best iteration is:\n",
      "[42]\tvalid_0's binary_logloss: 0.41481\tvalid_1's binary_logloss: 0.490511\n",
      "[LightGBM] [Info] Number of positive: 4590, number of negative: 16705\n",
      "[LightGBM] [Warning] Auto-choosing col-wise multi-threading, the overhead of testing was 0.013971 seconds.\n",
      "You can set `force_col_wise=true` to remove the overhead.\n",
      "[LightGBM] [Info] Total Bins 12168\n",
      "[LightGBM] [Info] Number of data points in the train set: 21295, number of used features: 244\n",
      "[LightGBM] [Info] [binary:BoostFromScore]: pavg=0.215544 -> initscore=-1.291828\n",
      "[LightGBM] [Info] Start training from score -1.291828\n",
      "Training until validation scores don't improve for 10 rounds\n"
     ]
    },
    {
     "name": "stderr",
     "output_type": "stream",
     "text": [
      "\n",
      "\n",
      "regularization_factors, val_score: 0.488366:   0%|                                              | 0/20 [00:02<?, ?it/s]\u001b[A\u001b[A\n",
      "\n",
      "regularization_factors, val_score: 0.488366:   5%|#9                                    | 1/20 [00:02<00:47,  2.49s/it]\u001b[A\u001b[A\u001b[32m[I 2021-06-23 10:30:32,498]\u001b[0m Trial 43 finished with value: 0.48836595511369585 and parameters: {'lambda_l1': 0.00010092563142876027, 'lambda_l2': 0.0015319564276706887}. Best is trial 43 with value: 0.48836595511369585.\u001b[0m\n",
      "\n",
      "\n",
      "regularization_factors, val_score: 0.488366:   5%|#9                                    | 1/20 [00:02<00:47,  2.49s/it]\u001b[A\u001b[A"
     ]
    },
    {
     "name": "stdout",
     "output_type": "stream",
     "text": [
      "Early stopping, best iteration is:\n",
      "[40]\tvalid_0's binary_logloss: 0.418314\tvalid_1's binary_logloss: 0.488366\n",
      "[LightGBM] [Info] Number of positive: 4590, number of negative: 16705\n",
      "[LightGBM] [Warning] Auto-choosing col-wise multi-threading, the overhead of testing was 0.014077 seconds.\n",
      "You can set `force_col_wise=true` to remove the overhead.\n",
      "[LightGBM] [Info] Total Bins 12168\n",
      "[LightGBM] [Info] Number of data points in the train set: 21295, number of used features: 244\n",
      "[LightGBM] [Info] [binary:BoostFromScore]: pavg=0.215544 -> initscore=-1.291828\n",
      "[LightGBM] [Info] Start training from score -1.291828\n",
      "Training until validation scores don't improve for 10 rounds\n"
     ]
    },
    {
     "name": "stderr",
     "output_type": "stream",
     "text": [
      "\n",
      "\n",
      "regularization_factors, val_score: 0.488366:   5%|#9                                    | 1/20 [00:04<00:47,  2.49s/it]\u001b[A\u001b[A\n",
      "\n",
      "regularization_factors, val_score: 0.488366:  10%|###8                                  | 2/20 [00:04<00:43,  2.43s/it]\u001b[A\u001b[A\u001b[32m[I 2021-06-23 10:30:34,792]\u001b[0m Trial 44 finished with value: 0.4899900954522247 and parameters: {'lambda_l1': 1.65210073026451e-08, 'lambda_l2': 3.5383759472521}. Best is trial 43 with value: 0.48836595511369585.\u001b[0m\n",
      "\n",
      "\n",
      "regularization_factors, val_score: 0.488366:  10%|###8                                  | 2/20 [00:04<00:43,  2.43s/it]\u001b[A\u001b[A"
     ]
    },
    {
     "name": "stdout",
     "output_type": "stream",
     "text": [
      "Early stopping, best iteration is:\n",
      "[34]\tvalid_0's binary_logloss: 0.43226\tvalid_1's binary_logloss: 0.48999\n",
      "[LightGBM] [Info] Number of positive: 4590, number of negative: 16705\n",
      "[LightGBM] [Warning] Auto-choosing col-wise multi-threading, the overhead of testing was 0.015013 seconds.\n",
      "You can set `force_col_wise=true` to remove the overhead.\n",
      "[LightGBM] [Info] Total Bins 12168\n",
      "[LightGBM] [Info] Number of data points in the train set: 21295, number of used features: 244\n",
      "[LightGBM] [Info] [binary:BoostFromScore]: pavg=0.215544 -> initscore=-1.291828\n",
      "[LightGBM] [Info] Start training from score -1.291828\n",
      "Training until validation scores don't improve for 10 rounds\n"
     ]
    },
    {
     "name": "stderr",
     "output_type": "stream",
     "text": [
      "\n",
      "\n",
      "regularization_factors, val_score: 0.488366:  10%|###8                                  | 2/20 [00:07<00:43,  2.43s/it]\u001b[A\u001b[A\n",
      "\n",
      "regularization_factors, val_score: 0.488366:  15%|#####7                                | 3/20 [00:07<00:41,  2.42s/it]\u001b[A\u001b[A\u001b[32m[I 2021-06-23 10:30:37,178]\u001b[0m Trial 45 finished with value: 0.49081092982284846 and parameters: {'lambda_l1': 4.122816454603244e-07, 'lambda_l2': 5.172959613262262}. Best is trial 43 with value: 0.48836595511369585.\u001b[0m\n",
      "\n",
      "\n",
      "regularization_factors, val_score: 0.488366:  15%|#####7                                | 3/20 [00:07<00:41,  2.42s/it]\u001b[A\u001b[A"
     ]
    },
    {
     "name": "stdout",
     "output_type": "stream",
     "text": [
      "Early stopping, best iteration is:\n",
      "[34]\tvalid_0's binary_logloss: 0.433822\tvalid_1's binary_logloss: 0.490811\n",
      "[LightGBM] [Info] Number of positive: 4590, number of negative: 16705\n",
      "[LightGBM] [Warning] Auto-choosing col-wise multi-threading, the overhead of testing was 0.035991 seconds.\n",
      "You can set `force_col_wise=true` to remove the overhead.\n",
      "[LightGBM] [Info] Total Bins 12168\n",
      "[LightGBM] [Info] Number of data points in the train set: 21295, number of used features: 244\n",
      "[LightGBM] [Info] [binary:BoostFromScore]: pavg=0.215544 -> initscore=-1.291828\n",
      "[LightGBM] [Info] Start training from score -1.291828\n",
      "Training until validation scores don't improve for 10 rounds\n"
     ]
    },
    {
     "name": "stderr",
     "output_type": "stream",
     "text": [
      "\n",
      "\n",
      "regularization_factors, val_score: 0.488155:  15%|#####7                                | 3/20 [00:09<00:41,  2.42s/it]\u001b[A\u001b[A\n",
      "\n",
      "regularization_factors, val_score: 0.488155:  20%|#######6                              | 4/20 [00:09<00:38,  2.41s/it]\u001b[A\u001b[A\u001b[32m[I 2021-06-23 10:30:39,553]\u001b[0m Trial 46 finished with value: 0.48815533226813074 and parameters: {'lambda_l1': 0.004898604040497841, 'lambda_l2': 1.6502555673761292e-06}. Best is trial 46 with value: 0.48815533226813074.\u001b[0m\n",
      "\n",
      "\n",
      "regularization_factors, val_score: 0.488155:  20%|#######6                              | 4/20 [00:09<00:38,  2.41s/it]\u001b[A\u001b[A"
     ]
    },
    {
     "name": "stdout",
     "output_type": "stream",
     "text": [
      "Early stopping, best iteration is:\n",
      "[39]\tvalid_0's binary_logloss: 0.419726\tvalid_1's binary_logloss: 0.488155\n",
      "[LightGBM] [Info] Number of positive: 4590, number of negative: 16705\n",
      "[LightGBM] [Warning] Auto-choosing col-wise multi-threading, the overhead of testing was 0.019391 seconds.\n",
      "You can set `force_col_wise=true` to remove the overhead.\n",
      "[LightGBM] [Info] Total Bins 12168\n",
      "[LightGBM] [Info] Number of data points in the train set: 21295, number of used features: 244\n",
      "[LightGBM] [Info] [binary:BoostFromScore]: pavg=0.215544 -> initscore=-1.291828\n",
      "[LightGBM] [Info] Start training from score -1.291828\n",
      "Training until validation scores don't improve for 10 rounds\n"
     ]
    },
    {
     "name": "stderr",
     "output_type": "stream",
     "text": [
      "\n",
      "\n",
      "regularization_factors, val_score: 0.488155:  20%|#######6                              | 4/20 [00:11<00:38,  2.41s/it]\u001b[A\u001b[A\n",
      "\n",
      "regularization_factors, val_score: 0.488155:  25%|#########5                            | 5/20 [00:12<00:36,  2.42s/it]\u001b[A\u001b[A\u001b[32m[I 2021-06-23 10:30:42,006]\u001b[0m Trial 47 finished with value: 0.4902662776736114 and parameters: {'lambda_l1': 1.5006375699020853e-06, 'lambda_l2': 0.3682831865621876}. Best is trial 46 with value: 0.48815533226813074.\u001b[0m\n",
      "\n",
      "\n",
      "regularization_factors, val_score: 0.488155:  25%|#########5                            | 5/20 [00:12<00:36,  2.42s/it]\u001b[A\u001b[A"
     ]
    },
    {
     "name": "stdout",
     "output_type": "stream",
     "text": [
      "Early stopping, best iteration is:\n",
      "[36]\tvalid_0's binary_logloss: 0.424353\tvalid_1's binary_logloss: 0.490266\n",
      "[LightGBM] [Info] Number of positive: 4590, number of negative: 16705\n",
      "[LightGBM] [Warning] Auto-choosing col-wise multi-threading, the overhead of testing was 0.013613 seconds.\n",
      "You can set `force_col_wise=true` to remove the overhead.\n",
      "[LightGBM] [Info] Total Bins 12168\n",
      "[LightGBM] [Info] Number of data points in the train set: 21295, number of used features: 244\n",
      "[LightGBM] [Info] [binary:BoostFromScore]: pavg=0.215544 -> initscore=-1.291828\n",
      "[LightGBM] [Info] Start training from score -1.291828\n",
      "Training until validation scores don't improve for 10 rounds\n"
     ]
    },
    {
     "name": "stderr",
     "output_type": "stream",
     "text": [
      "\n",
      "\n",
      "regularization_factors, val_score: 0.488155:  25%|#########5                            | 5/20 [00:14<00:36,  2.42s/it]\u001b[A\u001b[A\n",
      "\n",
      "regularization_factors, val_score: 0.488155:  30%|###########4                          | 6/20 [00:14<00:33,  2.40s/it]\u001b[A\u001b[A\u001b[32m[I 2021-06-23 10:30:44,369]\u001b[0m Trial 48 finished with value: 0.4907641448764938 and parameters: {'lambda_l1': 0.08009262183710111, 'lambda_l2': 3.7364027707415133e-07}. Best is trial 46 with value: 0.48815533226813074.\u001b[0m\n",
      "\n",
      "\n",
      "regularization_factors, val_score: 0.488155:  30%|###########4                          | 6/20 [00:14<00:33,  2.40s/it]\u001b[A\u001b[A"
     ]
    },
    {
     "name": "stdout",
     "output_type": "stream",
     "text": [
      "Early stopping, best iteration is:\n",
      "[36]\tvalid_0's binary_logloss: 0.424114\tvalid_1's binary_logloss: 0.490764\n",
      "[LightGBM] [Info] Number of positive: 4590, number of negative: 16705\n",
      "[LightGBM] [Warning] Auto-choosing col-wise multi-threading, the overhead of testing was 0.017549 seconds.\n",
      "You can set `force_col_wise=true` to remove the overhead.\n",
      "[LightGBM] [Info] Total Bins 12168\n",
      "[LightGBM] [Info] Number of data points in the train set: 21295, number of used features: 244\n",
      "[LightGBM] [Info] [binary:BoostFromScore]: pavg=0.215544 -> initscore=-1.291828\n",
      "[LightGBM] [Info] Start training from score -1.291828\n",
      "Training until validation scores don't improve for 10 rounds\n"
     ]
    },
    {
     "name": "stderr",
     "output_type": "stream",
     "text": [
      "\n",
      "\n",
      "regularization_factors, val_score: 0.488155:  30%|###########4                          | 6/20 [00:16<00:33,  2.40s/it]\u001b[A\u001b[A\n",
      "\n",
      "regularization_factors, val_score: 0.488155:  35%|#############3                        | 7/20 [00:16<00:31,  2.46s/it]\u001b[A\u001b[A\u001b[32m[I 2021-06-23 10:30:46,960]\u001b[0m Trial 49 finished with value: 0.48827027830406783 and parameters: {'lambda_l1': 3.9146952653368e-05, 'lambda_l2': 0.002545064077718234}. Best is trial 46 with value: 0.48815533226813074.\u001b[0m\n",
      "\n",
      "\n",
      "regularization_factors, val_score: 0.488155:  35%|#############3                        | 7/20 [00:16<00:31,  2.46s/it]\u001b[A\u001b[A"
     ]
    },
    {
     "name": "stdout",
     "output_type": "stream",
     "text": [
      "Early stopping, best iteration is:\n",
      "[55]\tvalid_0's binary_logloss: 0.400484\tvalid_1's binary_logloss: 0.48827\n",
      "[LightGBM] [Info] Number of positive: 4590, number of negative: 16705\n",
      "[LightGBM] [Warning] Auto-choosing col-wise multi-threading, the overhead of testing was 0.015549 seconds.\n",
      "You can set `force_col_wise=true` to remove the overhead.\n",
      "[LightGBM] [Info] Total Bins 12168\n",
      "[LightGBM] [Info] Number of data points in the train set: 21295, number of used features: 244\n",
      "[LightGBM] [Info] [binary:BoostFromScore]: pavg=0.215544 -> initscore=-1.291828\n",
      "[LightGBM] [Info] Start training from score -1.291828\n",
      "Training until validation scores don't improve for 10 rounds\n"
     ]
    },
    {
     "name": "stderr",
     "output_type": "stream",
     "text": [
      "\n",
      "\n",
      "regularization_factors, val_score: 0.488155:  35%|#############3                        | 7/20 [00:19<00:31,  2.46s/it]\u001b[A\u001b[A\n",
      "\n",
      "regularization_factors, val_score: 0.488155:  40%|###############2                      | 8/20 [00:19<00:29,  2.49s/it]\u001b[A\u001b[A\u001b[32m[I 2021-06-23 10:30:49,506]\u001b[0m Trial 50 finished with value: 0.4906902335276521 and parameters: {'lambda_l1': 0.0005188551005975501, 'lambda_l2': 0.43394743293227933}. Best is trial 46 with value: 0.48815533226813074.\u001b[0m\n",
      "\n",
      "\n",
      "regularization_factors, val_score: 0.488155:  40%|###############2                      | 8/20 [00:19<00:29,  2.49s/it]\u001b[A\u001b[A"
     ]
    },
    {
     "name": "stdout",
     "output_type": "stream",
     "text": [
      "Early stopping, best iteration is:\n",
      "[53]\tvalid_0's binary_logloss: 0.40505\tvalid_1's binary_logloss: 0.49069\n",
      "[LightGBM] [Info] Number of positive: 4590, number of negative: 16705\n",
      "[LightGBM] [Warning] Auto-choosing col-wise multi-threading, the overhead of testing was 0.018482 seconds.\n",
      "You can set `force_col_wise=true` to remove the overhead.\n",
      "[LightGBM] [Info] Total Bins 12168\n",
      "[LightGBM] [Info] Number of data points in the train set: 21295, number of used features: 244\n",
      "[LightGBM] [Info] [binary:BoostFromScore]: pavg=0.215544 -> initscore=-1.291828\n",
      "[LightGBM] [Info] Start training from score -1.291828\n",
      "Training until validation scores don't improve for 10 rounds\n"
     ]
    },
    {
     "name": "stderr",
     "output_type": "stream",
     "text": [
      "\n",
      "\n",
      "regularization_factors, val_score: 0.488155:  40%|###############2                      | 8/20 [00:22<00:29,  2.49s/it]\u001b[A\u001b[A\n",
      "\n",
      "regularization_factors, val_score: 0.488155:  45%|#################1                    | 9/20 [00:22<00:28,  2.56s/it]\u001b[A\u001b[A\u001b[32m[I 2021-06-23 10:30:52,250]\u001b[0m Trial 51 finished with value: 0.49022157111368003 and parameters: {'lambda_l1': 0.03144513700126321, 'lambda_l2': 5.89678561731961}. Best is trial 46 with value: 0.48815533226813074.\u001b[0m\n",
      "\n",
      "\n",
      "regularization_factors, val_score: 0.488155:  45%|#################1                    | 9/20 [00:22<00:28,  2.56s/it]\u001b[A\u001b[A"
     ]
    },
    {
     "name": "stdout",
     "output_type": "stream",
     "text": [
      "Early stopping, best iteration is:\n",
      "[56]\tvalid_0's binary_logloss: 0.410892\tvalid_1's binary_logloss: 0.490222\n",
      "[LightGBM] [Info] Number of positive: 4590, number of negative: 16705\n",
      "[LightGBM] [Warning] Auto-choosing col-wise multi-threading, the overhead of testing was 0.018027 seconds.\n",
      "You can set `force_col_wise=true` to remove the overhead.\n",
      "[LightGBM] [Info] Total Bins 12168\n",
      "[LightGBM] [Info] Number of data points in the train set: 21295, number of used features: 244\n",
      "[LightGBM] [Info] [binary:BoostFromScore]: pavg=0.215544 -> initscore=-1.291828\n",
      "[LightGBM] [Info] Start training from score -1.291828\n",
      "Training until validation scores don't improve for 10 rounds\n"
     ]
    },
    {
     "name": "stderr",
     "output_type": "stream",
     "text": [
      "\n",
      "\n",
      "regularization_factors, val_score: 0.488155:  45%|#################1                    | 9/20 [00:24<00:28,  2.56s/it]\u001b[A\u001b[A\n",
      "\n",
      "regularization_factors, val_score: 0.488155:  50%|##################5                  | 10/20 [00:24<00:24,  2.49s/it]\u001b[A\u001b[A\u001b[32m[I 2021-06-23 10:30:54,579]\u001b[0m Trial 52 finished with value: 0.48886310589616616 and parameters: {'lambda_l1': 1.457270169573487e-07, 'lambda_l2': 0.03139333080166209}. Best is trial 46 with value: 0.48815533226813074.\u001b[0m\n",
      "\n",
      "\n",
      "regularization_factors, val_score: 0.488155:  50%|##################5                  | 10/20 [00:24<00:24,  2.49s/it]\u001b[A\u001b[A"
     ]
    },
    {
     "name": "stdout",
     "output_type": "stream",
     "text": [
      "Early stopping, best iteration is:\n",
      "[34]\tvalid_0's binary_logloss: 0.426017\tvalid_1's binary_logloss: 0.488863\n",
      "[LightGBM] [Info] Number of positive: 4590, number of negative: 16705\n",
      "[LightGBM] [Warning] Auto-choosing col-wise multi-threading, the overhead of testing was 0.020156 seconds.\n",
      "You can set `force_col_wise=true` to remove the overhead.\n",
      "[LightGBM] [Info] Total Bins 12168\n",
      "[LightGBM] [Info] Number of data points in the train set: 21295, number of used features: 244\n",
      "[LightGBM] [Info] [binary:BoostFromScore]: pavg=0.215544 -> initscore=-1.291828\n",
      "[LightGBM] [Info] Start training from score -1.291828\n",
      "Training until validation scores don't improve for 10 rounds\n"
     ]
    },
    {
     "name": "stderr",
     "output_type": "stream",
     "text": [
      "\n",
      "\n",
      "regularization_factors, val_score: 0.488155:  50%|##################5                  | 10/20 [00:26<00:24,  2.49s/it]\u001b[A\u001b[A\n",
      "\n",
      "regularization_factors, val_score: 0.488155:  55%|####################3                | 11/20 [00:26<00:22,  2.45s/it]\u001b[A\u001b[A\u001b[32m[I 2021-06-23 10:30:56,939]\u001b[0m Trial 53 finished with value: 0.49173069258535057 and parameters: {'lambda_l1': 8.95536831513883, 'lambda_l2': 1.0355414905512514e-06}. Best is trial 46 with value: 0.48815533226813074.\u001b[0m\n",
      "\n",
      "\n",
      "regularization_factors, val_score: 0.488155:  55%|####################3                | 11/20 [00:26<00:22,  2.45s/it]\u001b[A\u001b[A"
     ]
    },
    {
     "name": "stdout",
     "output_type": "stream",
     "text": [
      "Early stopping, best iteration is:\n",
      "[40]\tvalid_0's binary_logloss: 0.43881\tvalid_1's binary_logloss: 0.491731\n",
      "[LightGBM] [Info] Number of positive: 4590, number of negative: 16705\n",
      "[LightGBM] [Warning] Auto-choosing col-wise multi-threading, the overhead of testing was 0.013902 seconds.\n",
      "You can set `force_col_wise=true` to remove the overhead.\n",
      "[LightGBM] [Info] Total Bins 12168\n",
      "[LightGBM] [Info] Number of data points in the train set: 21295, number of used features: 244\n",
      "[LightGBM] [Info] [binary:BoostFromScore]: pavg=0.215544 -> initscore=-1.291828\n",
      "[LightGBM] [Info] Start training from score -1.291828\n",
      "Training until validation scores don't improve for 10 rounds\n"
     ]
    },
    {
     "name": "stderr",
     "output_type": "stream",
     "text": [
      "\n",
      "\n",
      "regularization_factors, val_score: 0.488155:  55%|####################3                | 11/20 [00:29<00:22,  2.45s/it]\u001b[A\u001b[A\n",
      "\n",
      "regularization_factors, val_score: 0.488155:  60%|######################2              | 12/20 [00:29<00:19,  2.40s/it]\u001b[A\u001b[A\u001b[32m[I 2021-06-23 10:30:59,200]\u001b[0m Trial 54 finished with value: 0.48838224675403913 and parameters: {'lambda_l1': 0.0001447046491852206, 'lambda_l2': 1.0543579201540247e-05}. Best is trial 46 with value: 0.48815533226813074.\u001b[0m\n",
      "\n",
      "\n",
      "regularization_factors, val_score: 0.488155:  60%|######################2              | 12/20 [00:29<00:19,  2.40s/it]\u001b[A\u001b[A"
     ]
    },
    {
     "name": "stdout",
     "output_type": "stream",
     "text": [
      "Early stopping, best iteration is:\n",
      "[39]\tvalid_0's binary_logloss: 0.419703\tvalid_1's binary_logloss: 0.488382\n",
      "[LightGBM] [Info] Number of positive: 4590, number of negative: 16705\n",
      "[LightGBM] [Warning] Auto-choosing col-wise multi-threading, the overhead of testing was 0.022963 seconds.\n",
      "You can set `force_col_wise=true` to remove the overhead.\n",
      "[LightGBM] [Info] Total Bins 12168\n",
      "[LightGBM] [Info] Number of data points in the train set: 21295, number of used features: 244\n",
      "[LightGBM] [Info] [binary:BoostFromScore]: pavg=0.215544 -> initscore=-1.291828\n",
      "[LightGBM] [Info] Start training from score -1.291828\n",
      "Training until validation scores don't improve for 10 rounds\n"
     ]
    },
    {
     "name": "stderr",
     "output_type": "stream",
     "text": [
      "\n",
      "\n",
      "regularization_factors, val_score: 0.488155:  60%|######################2              | 12/20 [00:31<00:19,  2.40s/it]\u001b[A\u001b[A\n",
      "\n",
      "regularization_factors, val_score: 0.488155:  65%|########################             | 13/20 [00:31<00:16,  2.40s/it]\u001b[A\u001b[A\u001b[32m[I 2021-06-23 10:31:01,601]\u001b[0m Trial 55 finished with value: 0.48836052161006194 and parameters: {'lambda_l1': 0.007069635141294541, 'lambda_l2': 5.404018035175503e-05}. Best is trial 46 with value: 0.48815533226813074.\u001b[0m\n",
      "\n",
      "\n",
      "regularization_factors, val_score: 0.488155:  65%|########################             | 13/20 [00:31<00:16,  2.40s/it]\u001b[A\u001b[A"
     ]
    },
    {
     "name": "stdout",
     "output_type": "stream",
     "text": [
      "Early stopping, best iteration is:\n",
      "[39]\tvalid_0's binary_logloss: 0.419681\tvalid_1's binary_logloss: 0.488361\n",
      "[LightGBM] [Info] Number of positive: 4590, number of negative: 16705\n",
      "[LightGBM] [Warning] Auto-choosing col-wise multi-threading, the overhead of testing was 0.013827 seconds.\n",
      "You can set `force_col_wise=true` to remove the overhead.\n",
      "[LightGBM] [Info] Total Bins 12168\n",
      "[LightGBM] [Info] Number of data points in the train set: 21295, number of used features: 244\n",
      "[LightGBM] [Info] [binary:BoostFromScore]: pavg=0.215544 -> initscore=-1.291828\n",
      "[LightGBM] [Info] Start training from score -1.291828\n",
      "Training until validation scores don't improve for 10 rounds\n"
     ]
    },
    {
     "name": "stderr",
     "output_type": "stream",
     "text": [
      "\n",
      "\n",
      "regularization_factors, val_score: 0.488155:  65%|########################             | 13/20 [00:33<00:16,  2.40s/it]\u001b[A\u001b[A\n",
      "\n",
      "regularization_factors, val_score: 0.488155:  70%|#########################9           | 14/20 [00:33<00:14,  2.36s/it]\u001b[A\u001b[A\u001b[32m[I 2021-06-23 10:31:03,869]\u001b[0m Trial 56 finished with value: 0.4883822831047734 and parameters: {'lambda_l1': 7.148540420531381e-06, 'lambda_l2': 2.164517107974998e-08}. Best is trial 46 with value: 0.48815533226813074.\u001b[0m\n",
      "\n",
      "\n",
      "regularization_factors, val_score: 0.488155:  70%|#########################9           | 14/20 [00:33<00:14,  2.36s/it]\u001b[A\u001b[A"
     ]
    },
    {
     "name": "stdout",
     "output_type": "stream",
     "text": [
      "Early stopping, best iteration is:\n",
      "[39]\tvalid_0's binary_logloss: 0.419703\tvalid_1's binary_logloss: 0.488382\n",
      "[LightGBM] [Info] Number of positive: 4590, number of negative: 16705\n",
      "[LightGBM] [Warning] Auto-choosing col-wise multi-threading, the overhead of testing was 0.014095 seconds.\n",
      "You can set `force_col_wise=true` to remove the overhead.\n",
      "[LightGBM] [Info] Total Bins 12168\n",
      "[LightGBM] [Info] Number of data points in the train set: 21295, number of used features: 244\n",
      "[LightGBM] [Info] [binary:BoostFromScore]: pavg=0.215544 -> initscore=-1.291828\n",
      "[LightGBM] [Info] Start training from score -1.291828\n",
      "Training until validation scores don't improve for 10 rounds\n"
     ]
    },
    {
     "name": "stderr",
     "output_type": "stream",
     "text": [
      "\n",
      "\n",
      "regularization_factors, val_score: 0.488155:  70%|#########################9           | 14/20 [00:36<00:14,  2.36s/it]\u001b[A\u001b[A\n",
      "\n",
      "regularization_factors, val_score: 0.488155:  75%|###########################7         | 15/20 [00:36<00:12,  2.49s/it]\u001b[A\u001b[A\u001b[32m[I 2021-06-23 10:31:06,672]\u001b[0m Trial 57 finished with value: 0.48973498363383233 and parameters: {'lambda_l1': 2.583417037017869, 'lambda_l2': 0.0007921808455336035}. Best is trial 46 with value: 0.48815533226813074.\u001b[0m\n",
      "\n",
      "\n",
      "regularization_factors, val_score: 0.488155:  75%|###########################7         | 15/20 [00:36<00:12,  2.49s/it]\u001b[A\u001b[A"
     ]
    },
    {
     "name": "stdout",
     "output_type": "stream",
     "text": [
      "Early stopping, best iteration is:\n",
      "[67]\tvalid_0's binary_logloss: 0.396917\tvalid_1's binary_logloss: 0.489735\n",
      "[LightGBM] [Info] Number of positive: 4590, number of negative: 16705\n",
      "[LightGBM] [Warning] Auto-choosing col-wise multi-threading, the overhead of testing was 0.013349 seconds.\n",
      "You can set `force_col_wise=true` to remove the overhead.\n",
      "[LightGBM] [Info] Total Bins 12168\n",
      "[LightGBM] [Info] Number of data points in the train set: 21295, number of used features: 244\n",
      "[LightGBM] [Info] [binary:BoostFromScore]: pavg=0.215544 -> initscore=-1.291828\n",
      "[LightGBM] [Info] Start training from score -1.291828\n",
      "Training until validation scores don't improve for 10 rounds\n"
     ]
    },
    {
     "name": "stderr",
     "output_type": "stream",
     "text": [
      "\n",
      "\n",
      "regularization_factors, val_score: 0.488155:  75%|###########################7         | 15/20 [00:38<00:12,  2.49s/it]\u001b[A\u001b[A\n",
      "\n",
      "regularization_factors, val_score: 0.488155:  80%|#############################6       | 16/20 [00:38<00:09,  2.39s/it]\u001b[A\u001b[A\u001b[32m[I 2021-06-23 10:31:08,841]\u001b[0m Trial 58 finished with value: 0.4886981300016938 and parameters: {'lambda_l1': 0.0028310848038589627, 'lambda_l2': 0.008683226921824657}. Best is trial 46 with value: 0.48815533226813074.\u001b[0m\n",
      "\n",
      "\n",
      "regularization_factors, val_score: 0.488155:  80%|#############################6       | 16/20 [00:38<00:09,  2.39s/it]\u001b[A\u001b[A"
     ]
    },
    {
     "name": "stdout",
     "output_type": "stream",
     "text": [
      "Early stopping, best iteration is:\n",
      "[36]\tvalid_0's binary_logloss: 0.424074\tvalid_1's binary_logloss: 0.488698\n",
      "[LightGBM] [Info] Number of positive: 4590, number of negative: 16705\n",
      "[LightGBM] [Warning] Auto-choosing col-wise multi-threading, the overhead of testing was 0.012717 seconds.\n",
      "You can set `force_col_wise=true` to remove the overhead.\n",
      "[LightGBM] [Info] Total Bins 12168\n",
      "[LightGBM] [Info] Number of data points in the train set: 21295, number of used features: 244\n",
      "[LightGBM] [Info] [binary:BoostFromScore]: pavg=0.215544 -> initscore=-1.291828\n",
      "[LightGBM] [Info] Start training from score -1.291828\n",
      "Training until validation scores don't improve for 10 rounds\n"
     ]
    },
    {
     "name": "stderr",
     "output_type": "stream",
     "text": [
      "\n",
      "\n",
      "regularization_factors, val_score: 0.488155:  80%|#############################6       | 16/20 [00:41<00:09,  2.39s/it]\u001b[A\u001b[A\n",
      "\n",
      "regularization_factors, val_score: 0.488155:  85%|###############################4     | 17/20 [00:41<00:07,  2.37s/it]\u001b[A\u001b[A\u001b[32m[I 2021-06-23 10:31:11,156]\u001b[0m Trial 59 finished with value: 0.49024085709160264 and parameters: {'lambda_l1': 0.29378551164928296, 'lambda_l2': 1.7119520820836342e-08}. Best is trial 46 with value: 0.48815533226813074.\u001b[0m\n",
      "\n",
      "\n",
      "regularization_factors, val_score: 0.488155:  85%|###############################4     | 17/20 [00:41<00:07,  2.37s/it]\u001b[A\u001b[A"
     ]
    },
    {
     "name": "stdout",
     "output_type": "stream",
     "text": [
      "Early stopping, best iteration is:\n",
      "[43]\tvalid_0's binary_logloss: 0.415657\tvalid_1's binary_logloss: 0.490241\n",
      "[LightGBM] [Info] Number of positive: 4590, number of negative: 16705\n",
      "[LightGBM] [Warning] Auto-choosing col-wise multi-threading, the overhead of testing was 0.013246 seconds.\n",
      "You can set `force_col_wise=true` to remove the overhead.\n",
      "[LightGBM] [Info] Total Bins 12168\n",
      "[LightGBM] [Info] Number of data points in the train set: 21295, number of used features: 244\n",
      "[LightGBM] [Info] [binary:BoostFromScore]: pavg=0.215544 -> initscore=-1.291828\n",
      "[LightGBM] [Info] Start training from score -1.291828\n",
      "Training until validation scores don't improve for 10 rounds\n"
     ]
    },
    {
     "name": "stderr",
     "output_type": "stream",
     "text": [
      "\n",
      "\n",
      "regularization_factors, val_score: 0.488155:  85%|###############################4     | 17/20 [00:43<00:07,  2.37s/it]\u001b[A\u001b[A\n",
      "\n",
      "regularization_factors, val_score: 0.488155:  90%|#################################3   | 18/20 [00:43<00:04,  2.34s/it]\u001b[A\u001b[A\u001b[32m[I 2021-06-23 10:31:13,419]\u001b[0m Trial 60 finished with value: 0.4883687317375211 and parameters: {'lambda_l1': 2.2882531638127055e-05, 'lambda_l2': 2.3629730707387684e-05}. Best is trial 46 with value: 0.48815533226813074.\u001b[0m\n",
      "\n",
      "\n",
      "regularization_factors, val_score: 0.488155:  90%|#################################3   | 18/20 [00:43<00:04,  2.34s/it]\u001b[A\u001b[A"
     ]
    },
    {
     "name": "stdout",
     "output_type": "stream",
     "text": [
      "Early stopping, best iteration is:\n",
      "[39]\tvalid_0's binary_logloss: 0.419703\tvalid_1's binary_logloss: 0.488369\n",
      "[LightGBM] [Info] Number of positive: 4590, number of negative: 16705\n",
      "[LightGBM] [Warning] Auto-choosing col-wise multi-threading, the overhead of testing was 0.017853 seconds.\n",
      "You can set `force_col_wise=true` to remove the overhead.\n",
      "[LightGBM] [Info] Total Bins 12168\n",
      "[LightGBM] [Info] Number of data points in the train set: 21295, number of used features: 244\n",
      "[LightGBM] [Info] [binary:BoostFromScore]: pavg=0.215544 -> initscore=-1.291828\n",
      "[LightGBM] [Info] Start training from score -1.291828\n",
      "Training until validation scores don't improve for 10 rounds\n"
     ]
    },
    {
     "name": "stderr",
     "output_type": "stream",
     "text": [
      "\n",
      "\n",
      "regularization_factors, val_score: 0.488155:  90%|#################################3   | 18/20 [00:45<00:04,  2.34s/it]\u001b[A\u001b[A\n",
      "\n",
      "regularization_factors, val_score: 0.488155:  95%|###################################1 | 19/20 [00:45<00:02,  2.37s/it]\u001b[A\u001b[A\u001b[32m[I 2021-06-23 10:31:15,862]\u001b[0m Trial 61 finished with value: 0.4883083235137141 and parameters: {'lambda_l1': 0.0012428113680382283, 'lambda_l2': 8.989944970122136e-07}. Best is trial 46 with value: 0.48815533226813074.\u001b[0m\n",
      "\n",
      "\n",
      "regularization_factors, val_score: 0.488155:  95%|###################################1 | 19/20 [00:45<00:02,  2.37s/it]\u001b[A\u001b[A"
     ]
    },
    {
     "name": "stdout",
     "output_type": "stream",
     "text": [
      "Early stopping, best iteration is:\n",
      "[51]\tvalid_0's binary_logloss: 0.404714\tvalid_1's binary_logloss: 0.488308\n",
      "[LightGBM] [Info] Number of positive: 4590, number of negative: 16705\n",
      "[LightGBM] [Warning] Auto-choosing col-wise multi-threading, the overhead of testing was 0.014287 seconds.\n",
      "You can set `force_col_wise=true` to remove the overhead.\n",
      "[LightGBM] [Info] Total Bins 12168\n",
      "[LightGBM] [Info] Number of data points in the train set: 21295, number of used features: 244\n",
      "[LightGBM] [Info] [binary:BoostFromScore]: pavg=0.215544 -> initscore=-1.291828\n",
      "[LightGBM] [Info] Start training from score -1.291828\n",
      "Training until validation scores don't improve for 10 rounds\n"
     ]
    },
    {
     "name": "stderr",
     "output_type": "stream",
     "text": [
      "\n",
      "\n",
      "regularization_factors, val_score: 0.488155:  95%|###################################1 | 19/20 [00:48<00:02,  2.37s/it]\u001b[A\u001b[A\n",
      "\n",
      "regularization_factors, val_score: 0.488155: 100%|#####################################| 20/20 [00:48<00:00,  2.35s/it]\u001b[A\u001b[A\u001b[32m[I 2021-06-23 10:31:18,152]\u001b[0m Trial 62 finished with value: 0.48838219954732104 and parameters: {'lambda_l1': 1.6031402936267688e-05, 'lambda_l2': 0.00020301176635540533}. Best is trial 46 with value: 0.48815533226813074.\u001b[0m\n",
      "regularization_factors, val_score: 0.488155: 100%|#####################################| 20/20 [00:48<00:00,  2.41s/it]\n",
      "\n",
      "\n",
      "  0%|                                                                                            | 0/5 [00:00<?, ?it/s]\u001b[A\u001b[A\n",
      "\n",
      "min_data_in_leaf, val_score: 0.488155:   0%|                                                     | 0/5 [00:00<?, ?it/s]\u001b[A\u001b[A"
     ]
    },
    {
     "name": "stdout",
     "output_type": "stream",
     "text": [
      "Early stopping, best iteration is:\n",
      "[39]\tvalid_0's binary_logloss: 0.419704\tvalid_1's binary_logloss: 0.488382\n",
      "[LightGBM] [Info] Number of positive: 4590, number of negative: 16705\n",
      "[LightGBM] [Warning] Auto-choosing col-wise multi-threading, the overhead of testing was 0.013380 seconds.\n",
      "You can set `force_col_wise=true` to remove the overhead.\n",
      "[LightGBM] [Info] Total Bins 12168\n",
      "[LightGBM] [Info] Number of data points in the train set: 21295, number of used features: 244\n",
      "[LightGBM] [Info] [binary:BoostFromScore]: pavg=0.215544 -> initscore=-1.291828\n",
      "[LightGBM] [Info] Start training from score -1.291828\n",
      "Training until validation scores don't improve for 10 rounds\n"
     ]
    },
    {
     "name": "stderr",
     "output_type": "stream",
     "text": [
      "\n",
      "\n",
      "min_data_in_leaf, val_score: 0.488155:   0%|                                                     | 0/5 [00:02<?, ?it/s]\u001b[A\u001b[A\n",
      "\n",
      "min_data_in_leaf, val_score: 0.488155:  20%|#########                                    | 1/5 [00:02<00:09,  2.38s/it]\u001b[A\u001b[A\u001b[32m[I 2021-06-23 10:31:20,551]\u001b[0m Trial 63 finished with value: 0.4894688863207606 and parameters: {'min_child_samples': 25}. Best is trial 63 with value: 0.4894688863207606.\u001b[0m\n",
      "\n",
      "\n",
      "min_data_in_leaf, val_score: 0.488155:  20%|#########                                    | 1/5 [00:02<00:09,  2.38s/it]\u001b[A\u001b[A"
     ]
    },
    {
     "name": "stdout",
     "output_type": "stream",
     "text": [
      "Early stopping, best iteration is:\n",
      "[34]\tvalid_0's binary_logloss: 0.426441\tvalid_1's binary_logloss: 0.489469\n",
      "[LightGBM] [Info] Number of positive: 4590, number of negative: 16705\n",
      "[LightGBM] [Warning] Auto-choosing col-wise multi-threading, the overhead of testing was 0.013200 seconds.\n",
      "You can set `force_col_wise=true` to remove the overhead.\n",
      "[LightGBM] [Info] Total Bins 12168\n",
      "[LightGBM] [Info] Number of data points in the train set: 21295, number of used features: 244\n",
      "[LightGBM] [Info] [binary:BoostFromScore]: pavg=0.215544 -> initscore=-1.291828\n",
      "[LightGBM] [Info] Start training from score -1.291828\n",
      "Training until validation scores don't improve for 10 rounds\n"
     ]
    },
    {
     "name": "stderr",
     "output_type": "stream",
     "text": [
      "\n",
      "\n",
      "min_data_in_leaf, val_score: 0.488155:  20%|#########                                    | 1/5 [00:04<00:09,  2.38s/it]\u001b[A\u001b[A\n",
      "\n",
      "min_data_in_leaf, val_score: 0.488155:  40%|##################                           | 2/5 [00:04<00:06,  2.32s/it]\u001b[A\u001b[A\u001b[32m[I 2021-06-23 10:31:22,712]\u001b[0m Trial 64 finished with value: 0.4920816259004752 and parameters: {'min_child_samples': 100}. Best is trial 63 with value: 0.4894688863207606.\u001b[0m\n",
      "\n",
      "\n",
      "min_data_in_leaf, val_score: 0.488155:  40%|##################                           | 2/5 [00:04<00:06,  2.32s/it]\u001b[A\u001b[A"
     ]
    },
    {
     "name": "stdout",
     "output_type": "stream",
     "text": [
      "Early stopping, best iteration is:\n",
      "[34]\tvalid_0's binary_logloss: 0.430385\tvalid_1's binary_logloss: 0.492082\n",
      "[LightGBM] [Info] Number of positive: 4590, number of negative: 16705\n",
      "[LightGBM] [Warning] Auto-choosing col-wise multi-threading, the overhead of testing was 0.016340 seconds.\n",
      "You can set `force_col_wise=true` to remove the overhead.\n",
      "[LightGBM] [Info] Total Bins 12168\n",
      "[LightGBM] [Info] Number of data points in the train set: 21295, number of used features: 244\n",
      "[LightGBM] [Info] [binary:BoostFromScore]: pavg=0.215544 -> initscore=-1.291828\n",
      "[LightGBM] [Info] Start training from score -1.291828\n",
      "Training until validation scores don't improve for 10 rounds\n"
     ]
    },
    {
     "name": "stderr",
     "output_type": "stream",
     "text": [
      "\n",
      "\n",
      "min_data_in_leaf, val_score: 0.488155:  40%|##################                           | 2/5 [00:06<00:06,  2.32s/it]\u001b[A\u001b[A\n",
      "\n",
      "min_data_in_leaf, val_score: 0.488155:  60%|###########################                  | 3/5 [00:06<00:04,  2.31s/it]\u001b[A\u001b[A\u001b[32m[I 2021-06-23 10:31:24,994]\u001b[0m Trial 65 finished with value: 0.49104706351807015 and parameters: {'min_child_samples': 50}. Best is trial 63 with value: 0.4894688863207606.\u001b[0m\n",
      "\n",
      "\n",
      "min_data_in_leaf, val_score: 0.488155:  60%|###########################                  | 3/5 [00:06<00:04,  2.31s/it]\u001b[A\u001b[A"
     ]
    },
    {
     "name": "stdout",
     "output_type": "stream",
     "text": [
      "Early stopping, best iteration is:\n",
      "[40]\tvalid_0's binary_logloss: 0.420317\tvalid_1's binary_logloss: 0.491047\n",
      "[LightGBM] [Info] Number of positive: 4590, number of negative: 16705\n",
      "[LightGBM] [Warning] Auto-choosing col-wise multi-threading, the overhead of testing was 0.013591 seconds.\n",
      "You can set `force_col_wise=true` to remove the overhead.\n",
      "[LightGBM] [Info] Total Bins 12168\n",
      "[LightGBM] [Info] Number of data points in the train set: 21295, number of used features: 244\n",
      "[LightGBM] [Info] [binary:BoostFromScore]: pavg=0.215544 -> initscore=-1.291828\n",
      "[LightGBM] [Info] Start training from score -1.291828\n",
      "Training until validation scores don't improve for 10 rounds\n"
     ]
    },
    {
     "name": "stderr",
     "output_type": "stream",
     "text": [
      "\n",
      "\n",
      "min_data_in_leaf, val_score: 0.488155:  60%|###########################                  | 3/5 [00:09<00:04,  2.31s/it]\u001b[A\u001b[A\n",
      "\n",
      "min_data_in_leaf, val_score: 0.488155:  80%|####################################         | 4/5 [00:09<00:02,  2.32s/it]\u001b[A\u001b[A\u001b[32m[I 2021-06-23 10:31:27,339]\u001b[0m Trial 66 finished with value: 0.49002228798189124 and parameters: {'min_child_samples': 5}. Best is trial 63 with value: 0.4894688863207606.\u001b[0m\n",
      "\n",
      "\n",
      "min_data_in_leaf, val_score: 0.488155:  80%|####################################         | 4/5 [00:09<00:02,  2.32s/it]\u001b[A\u001b[A"
     ]
    },
    {
     "name": "stdout",
     "output_type": "stream",
     "text": [
      "Early stopping, best iteration is:\n",
      "[34]\tvalid_0's binary_logloss: 0.423979\tvalid_1's binary_logloss: 0.490022\n",
      "[LightGBM] [Info] Number of positive: 4590, number of negative: 16705\n",
      "[LightGBM] [Warning] Auto-choosing col-wise multi-threading, the overhead of testing was 0.023111 seconds.\n",
      "You can set `force_col_wise=true` to remove the overhead.\n",
      "[LightGBM] [Info] Total Bins 12168\n",
      "[LightGBM] [Info] Number of data points in the train set: 21295, number of used features: 244\n",
      "[LightGBM] [Info] [binary:BoostFromScore]: pavg=0.215544 -> initscore=-1.291828\n",
      "[LightGBM] [Info] Start training from score -1.291828\n",
      "Training until validation scores don't improve for 10 rounds\n"
     ]
    },
    {
     "name": "stderr",
     "output_type": "stream",
     "text": [
      "\n",
      "\n",
      "min_data_in_leaf, val_score: 0.488155:  80%|####################################         | 4/5 [00:11<00:02,  2.32s/it]\u001b[A\u001b[A\n",
      "\n",
      "min_data_in_leaf, val_score: 0.488155: 100%|#############################################| 5/5 [00:11<00:00,  2.30s/it]\u001b[A\u001b[A\u001b[32m[I 2021-06-23 10:31:29,583]\u001b[0m Trial 67 finished with value: 0.4894671308656281 and parameters: {'min_child_samples': 10}. Best is trial 67 with value: 0.4894671308656281.\u001b[0m\n",
      "min_data_in_leaf, val_score: 0.488155: 100%|#############################################| 5/5 [00:11<00:00,  2.28s/it]"
     ]
    },
    {
     "name": "stdout",
     "output_type": "stream",
     "text": [
      "Early stopping, best iteration is:\n",
      "[35]\tvalid_0's binary_logloss: 0.423547\tvalid_1's binary_logloss: 0.489467\n"
     ]
    },
    {
     "name": "stderr",
     "output_type": "stream",
     "text": [
      "\n"
     ]
    }
   ],
   "source": [
    "import optuna.integration.lightgbm as lgb_o\n",
    "\n",
    "lgb_train = lgb_o.Dataset(X_train.values, y_train.values)\n",
    "lgb_valid = lgb_o.Dataset(X_valid.values, y_valid.values)\n",
    "\n",
    "params = {\n",
    "    'objective':'binary', #2値予測の場合\n",
    "    'random_state':100\n",
    "}\n",
    "\n",
    "lgb_clf_o = lgb_o.train(params, lgb_train,\n",
    "                        valid_sets=(lgb_train, lgb_valid), \n",
    "                        verbose_eval=100, \n",
    "                        early_stopping_rounds=10)"
   ]
  },
  {
   "cell_type": "code",
   "execution_count": 31,
   "metadata": {},
   "outputs": [
    {
     "data": {
      "text/plain": [
       "{'objective': 'binary',\n",
       " 'random_state': 100,\n",
       " 'feature_pre_filter': False,\n",
       " 'lambda_l1': 0.004898604040497841,\n",
       " 'lambda_l2': 1.6502555673761292e-06,\n",
       " 'num_leaves': 36,\n",
       " 'feature_fraction': 0.7,\n",
       " 'bagging_fraction': 0.8748484604822779,\n",
       " 'bagging_freq': 1,\n",
       " 'min_child_samples': 20,\n",
       " 'num_iterations': 1000,\n",
       " 'early_stopping_round': 10}"
      ]
     },
     "execution_count": 31,
     "metadata": {},
     "output_type": "execute_result"
    }
   ],
   "source": [
    "lgb_clf_o.params"
   ]
  },
  {
   "cell_type": "markdown",
   "metadata": {},
   "source": [
    "## LightGBM"
   ]
  },
  {
   "cell_type": "code",
   "execution_count": 97,
   "metadata": {},
   "outputs": [],
   "source": [
    "#被説明変数をrankにし、訓練データとテストデータに分割\n",
    "train, test = split_data(results_d)\n",
    "X_train = train.drop(['rank','date'], axis=1)\n",
    "y_train = train['rank']\n",
    "X_test = test.drop(['rank','date'], axis=1)\n",
    "y_test = test['rank']"
   ]
  },
  {
   "cell_type": "code",
   "execution_count": 98,
   "metadata": {},
   "outputs": [
    {
     "name": "stderr",
     "output_type": "stream",
     "text": [
      "C:\\Users\\owner\\anaconda3\\lib\\site-packages\\lightgbm\\engine.py:148: UserWarning: Found `num_iterations` in params. Will use it instead of argument\n",
      "  _log_warning(\"Found `{}` in params. Will use it instead of argument\".format(alias))\n"
     ]
    },
    {
     "name": "stdout",
     "output_type": "stream",
     "text": [
      "[LightGBM] [Warning] feature_fraction is set=0.7, colsample_bytree=1.0 will be ignored. Current value: feature_fraction=0.7\n",
      "[LightGBM] [Warning] lambda_l1 is set=0.004898604040497841, reg_alpha=0.0 will be ignored. Current value: lambda_l1=0.004898604040497841\n",
      "[LightGBM] [Warning] bagging_fraction is set=0.8748484604822779, subsample=1.0 will be ignored. Current value: bagging_fraction=0.8748484604822779\n",
      "[LightGBM] [Warning] lambda_l2 is set=1.6502555673761292e-06, reg_lambda=0.0 will be ignored. Current value: lambda_l2=1.6502555673761292e-06\n",
      "[LightGBM] [Warning] bagging_freq is set=1, subsample_freq=0 will be ignored. Current value: bagging_freq=1\n"
     ]
    },
    {
     "data": {
      "text/plain": [
       "LGBMClassifier(bagging_fraction=0.8748484604822779, bagging_freq=1,\n",
       "               feature_fraction=0.7, feature_pre_filter=False,\n",
       "               lambda_l1=0.004898604040497841, lambda_l2=1.6502555673761292e-06,\n",
       "               num_iterations=1000, num_leaves=36, objective='binary',\n",
       "               random_state=100)"
      ]
     },
     "execution_count": 98,
     "metadata": {},
     "output_type": "execute_result"
    }
   ],
   "source": [
    "import lightgbm as lgb\n",
    "from sklearn.metrics import roc_curve, roc_auc_score\n",
    "\n",
    "params = {'objective': 'binary',\n",
    " 'random_state': 100,\n",
    " 'feature_pre_filter': False,\n",
    " 'lambda_l1': 0.004898604040497841,\n",
    " 'lambda_l2': 1.6502555673761292e-06,\n",
    " 'num_leaves': 36,\n",
    " 'feature_fraction': 0.7,\n",
    " 'bagging_fraction': 0.8748484604822779,\n",
    " 'bagging_freq': 1,\n",
    " 'min_child_samples': 20,\n",
    " 'num_iterations': 1000}\n",
    "\n",
    "lgb_clf = lgb.LGBMClassifier(**params)\n",
    "lgb_clf.fit(X_train.values, y_train.values) "
   ]
  },
  {
   "cell_type": "code",
   "execution_count": 163,
   "metadata": {},
   "outputs": [
    {
     "name": "stderr",
     "output_type": "stream",
     "text": [
      "C:\\Users\\owner\\anaconda3\\lib\\site-packages\\ipykernel_launcher.py:4: TqdmDeprecationWarning: This function will be removed in tqdm==5.0.0\n",
      "Please use `tqdm.notebook.tqdm` instead of `tqdm.tqdm_notebook`\n",
      "  after removing the cwd from sys.path.\n"
     ]
    },
    {
     "data": {
      "application/vnd.jupyter.widget-view+json": {
       "model_id": "17fac65036c144d3a3c613c7cb3962b1",
       "version_major": 2,
       "version_minor": 0
      },
      "text/plain": [
       "HBox(children=(FloatProgress(value=0.0), HTML(value='')))"
      ]
     },
     "metadata": {},
     "output_type": "display_data"
    },
    {
     "name": "stdout",
     "output_type": "stream",
     "text": [
      "\n"
     ]
    }
   ],
   "source": [
    "fuku2 = gain(me.fuku_return, X_test)"
   ]
  },
  {
   "cell_type": "code",
   "execution_count": 164,
   "metadata": {},
   "outputs": [
    {
     "data": {
      "text/plain": [
       "<matplotlib.axes._subplots.AxesSubplot at 0x21fcb235308>"
      ]
     },
     "execution_count": 164,
     "metadata": {},
     "output_type": "execute_result"
    },
    {
     "data": {
      "image/png": "[encoded data removed]",
      "text/plain": [
       "<Figure size 432x288 with 1 Axes>"
      ]
     },
     "metadata": {
      "needs_background": "light"
     },
     "output_type": "display_data"
    }
   ],
   "source": [
    "fuku2.plot()"
   ]
  },
  {
   "cell_type": "code",
   "execution_count": 47,
   "metadata": {
    "scrolled": true
   },
   "outputs": [
    {
     "data": {
      "text/html": [
       "<div>\n",
       "<style scoped>\n",
       "    .dataframe tbody tr th:only-of-type {\n",
       "        vertical-align: middle;\n",
       "    }\n",
       "\n",
       "    .dataframe tbody tr th {\n",
       "        vertical-align: top;\n",
       "    }\n",
       "\n",
       "    .dataframe thead th {\n",
       "        text-align: right;\n",
       "    }\n",
       "</style>\n",
       "<table border=\"1\" class=\"dataframe\">\n",
       "  <thead>\n",
       "    <tr style=\"text-align: right;\">\n",
       "      <th></th>\n",
       "      <th>features</th>\n",
       "      <th>importance</th>\n",
       "    </tr>\n",
       "  </thead>\n",
       "  <tbody>\n",
       "    <tr>\n",
       "      <th>9</th>\n",
       "      <td>賞金_5R</td>\n",
       "      <td>2154</td>\n",
       "    </tr>\n",
       "    <tr>\n",
       "      <th>8</th>\n",
       "      <td>着順_5R</td>\n",
       "      <td>1453</td>\n",
       "    </tr>\n",
       "    <tr>\n",
       "      <th>5</th>\n",
       "      <td>体重</td>\n",
       "      <td>1089</td>\n",
       "    </tr>\n",
       "    <tr>\n",
       "      <th>6</th>\n",
       "      <td>体重増減</td>\n",
       "      <td>1063</td>\n",
       "    </tr>\n",
       "    <tr>\n",
       "      <th>1</th>\n",
       "      <td>馬番</td>\n",
       "      <td>1039</td>\n",
       "    </tr>\n",
       "    <tr>\n",
       "      <th>3</th>\n",
       "      <td>horse_id</td>\n",
       "      <td>773</td>\n",
       "    </tr>\n",
       "    <tr>\n",
       "      <th>15</th>\n",
       "      <td>peds_5</td>\n",
       "      <td>718</td>\n",
       "    </tr>\n",
       "    <tr>\n",
       "      <th>11</th>\n",
       "      <td>peds_1</td>\n",
       "      <td>711</td>\n",
       "    </tr>\n",
       "    <tr>\n",
       "      <th>69</th>\n",
       "      <td>peds_59</td>\n",
       "      <td>685</td>\n",
       "    </tr>\n",
       "    <tr>\n",
       "      <th>71</th>\n",
       "      <td>peds_61</td>\n",
       "      <td>677</td>\n",
       "    </tr>\n",
       "  </tbody>\n",
       "</table>\n",
       "</div>"
      ],
      "text/plain": [
       "    features  importance\n",
       "9      賞金_5R        2154\n",
       "8      着順_5R        1453\n",
       "5         体重        1089\n",
       "6       体重増減        1063\n",
       "1         馬番        1039\n",
       "3   horse_id         773\n",
       "15    peds_5         718\n",
       "11    peds_1         711\n",
       "69   peds_59         685\n",
       "71   peds_61         677"
      ]
     },
     "execution_count": 47,
     "metadata": {},
     "output_type": "execute_result"
    }
   ],
   "source": [
    "me2.feature_importance(X_test).head(10) #モデルが複雑になるほどfeature_importanceの値は高くなる"
   ]
  },
  {
   "cell_type": "code",
   "execution_count": 102,
   "metadata": {},
   "outputs": [],
   "source": [
    "#回収率計算\n",
    "def gain2(return_func, X, n_samples=100, lower=50, min_threshold=0.5): \n",
    "    gain = {}\n",
    "    for i in tqdm(range(n_samples)):\n",
    "        threshold = min_threshold+ (1-min_threshold) * (i/n_samples) #threshold0.5から1までを100等分\n",
    "        n_bets, money = return_func(X, threshold)\n",
    "        if n_bets>lower:\n",
    "            gain[threshold] = (n_bets*100+ money)/(n_bets*100)\n",
    "    return pd.Series(gain)"
   ]
  },
  {
   "cell_type": "code",
   "execution_count": 161,
   "metadata": {},
   "outputs": [
    {
     "name": "stderr",
     "output_type": "stream",
     "text": [
      "C:\\Users\\owner\\anaconda3\\lib\\site-packages\\ipykernel_launcher.py:4: TqdmDeprecationWarning: This function will be removed in tqdm==5.0.0\n",
      "Please use `tqdm.notebook.tqdm` instead of `tqdm.tqdm_notebook`\n",
      "  after removing the cwd from sys.path.\n"
     ]
    },
    {
     "data": {
      "application/vnd.jupyter.widget-view+json": {
       "model_id": "13a167f1beed480a840a907a540e5276",
       "version_major": 2,
       "version_minor": 0
      },
      "text/plain": [
       "HBox(children=(FloatProgress(value=0.0), HTML(value='')))"
      ]
     },
     "metadata": {},
     "output_type": "display_data"
    },
    {
     "name": "stdout",
     "output_type": "stream",
     "text": [
      "\n"
     ]
    }
   ],
   "source": [
    "fuku3 = gain2(me2.fuku_return, X_test)"
   ]
  },
  {
   "cell_type": "code",
   "execution_count": 162,
   "metadata": {},
   "outputs": [
    {
     "data": {
      "text/plain": [
       "<matplotlib.axes._subplots.AxesSubplot at 0x21fdfe3ca08>"
      ]
     },
     "execution_count": 162,
     "metadata": {},
     "output_type": "execute_result"
    },
    {
     "data": {
      "image/png": "[encoded data removed]",
      "text/plain": [
       "<Figure size 432x288 with 1 Axes>"
      ]
     },
     "metadata": {
      "needs_background": "light"
     },
     "output_type": "display_data"
    }
   ],
   "source": [
    "fuku3.plot()"
   ]
  },
  {
   "cell_type": "code",
   "execution_count": 156,
   "metadata": {},
   "outputs": [
    {
     "data": {
      "text/plain": [
       "(1817.0, 15790.0)"
      ]
     },
     "execution_count": 156,
     "metadata": {},
     "output_type": "execute_result"
    }
   ],
   "source": [
    "me = ModelEvaluator(lgb_clf, return_tables)\n",
    "me.umaren_return(X_test)"
   ]
  },
  {
   "cell_type": "code",
   "execution_count": 157,
   "metadata": {},
   "outputs": [
    {
     "name": "stderr",
     "output_type": "stream",
     "text": [
      "C:\\Users\\owner\\anaconda3\\lib\\site-packages\\ipykernel_launcher.py:4: TqdmDeprecationWarning: This function will be removed in tqdm==5.0.0\n",
      "Please use `tqdm.notebook.tqdm` instead of `tqdm.tqdm_notebook`\n",
      "  after removing the cwd from sys.path.\n"
     ]
    },
    {
     "data": {
      "application/vnd.jupyter.widget-view+json": {
       "model_id": "dee4dd3391304faca18f637766ea7943",
       "version_major": 2,
       "version_minor": 0
      },
      "text/plain": [
       "HBox(children=(FloatProgress(value=0.0), HTML(value='')))"
      ]
     },
     "metadata": {},
     "output_type": "display_data"
    },
    {
     "name": "stdout",
     "output_type": "stream",
     "text": [
      "\n"
     ]
    }
   ],
   "source": [
    "umaren = gain2(me.umaren_return, X_test)"
   ]
  },
  {
   "cell_type": "code",
   "execution_count": 158,
   "metadata": {},
   "outputs": [
    {
     "data": {
      "text/plain": [
       "<matplotlib.axes._subplots.AxesSubplot at 0x21fcb2c7dc8>"
      ]
     },
     "execution_count": 158,
     "metadata": {},
     "output_type": "execute_result"
    },
    {
     "data": {
      "image/png": "[encoded data removed]",
      "text/plain": [
       "<Figure size 432x288 with 1 Axes>"
      ]
     },
     "metadata": {
      "needs_background": "light"
     },
     "output_type": "display_data"
    }
   ],
   "source": [
    "umaren.plot()"
   ]
  },
  {
   "cell_type": "code",
   "execution_count": 160,
   "metadata": {},
   "outputs": [
    {
     "name": "stderr",
     "output_type": "stream",
     "text": [
      "C:\\Users\\owner\\anaconda3\\lib\\site-packages\\ipykernel_launcher.py:4: TqdmDeprecationWarning: This function will be removed in tqdm==5.0.0\n",
      "Please use `tqdm.notebook.tqdm` instead of `tqdm.tqdm_notebook`\n",
      "  after removing the cwd from sys.path.\n"
     ]
    },
    {
     "data": {
      "application/vnd.jupyter.widget-view+json": {
       "model_id": "6cc7f89bfc4c4522a63a8c920ba4fcf7",
       "version_major": 2,
       "version_minor": 0
      },
      "text/plain": [
       "HBox(children=(FloatProgress(value=0.0), HTML(value='')))"
      ]
     },
     "metadata": {},
     "output_type": "display_data"
    },
    {
     "name": "stdout",
     "output_type": "stream",
     "text": [
      "\n"
     ]
    },
    {
     "data": {
      "text/plain": [
       "<matplotlib.axes._subplots.AxesSubplot at 0x21fdfbbfe88>"
      ]
     },
     "execution_count": 160,
     "metadata": {},
     "output_type": "execute_result"
    },
    {
     "data": {
      "image/png": "[encoded data removed]",
      "text/plain": [
       "<Figure size 432x288 with 1 Axes>"
      ]
     },
     "metadata": {
      "needs_background": "light"
     },
     "output_type": "display_data"
    }
   ],
   "source": [
    "umaren1 = gain(me.umaren_return, X_test)\n",
    "umaren1.plot()"
   ]
  },
  {
   "cell_type": "code",
   "execution_count": 152,
   "metadata": {},
   "outputs": [
    {
     "name": "stderr",
     "output_type": "stream",
     "text": [
      "C:\\Users\\owner\\anaconda3\\lib\\site-packages\\ipykernel_launcher.py:5: TqdmDeprecationWarning: This function will be removed in tqdm==5.0.0\n",
      "Please use `tqdm.notebook.tqdm` instead of `tqdm.tqdm_notebook`\n",
      "  \"\"\"\n"
     ]
    },
    {
     "data": {
      "application/vnd.jupyter.widget-view+json": {
       "model_id": "ad30af91b3354b17b877415be75e90c6",
       "version_major": 2,
       "version_minor": 0
      },
      "text/plain": [
       "HBox(children=(FloatProgress(value=0.0, max=431.0), HTML(value='')))"
      ]
     },
     "metadata": {},
     "output_type": "display_data"
    },
    {
     "name": "stdout",
     "output_type": "stream",
     "text": [
      "\n"
     ]
    }
   ],
   "source": [
    "def merge_data(new_id_list, old_data):\n",
    "    new_id_list = set(new_id_list) ^ set(old_data.index.unique().values)\n",
    "    return list(new_id_list)\n",
    "new_id_list = merge_data(results_d.index.unique(),rt)\n",
    "return_tables = scraping_return_tables(new_id_list)"
   ]
  },
  {
   "cell_type": "code",
   "execution_count": 153,
   "metadata": {},
   "outputs": [
    {
     "data": {
      "text/html": [
       "<div>\n",
       "<style scoped>\n",
       "    .dataframe tbody tr th:only-of-type {\n",
       "        vertical-align: middle;\n",
       "    }\n",
       "\n",
       "    .dataframe tbody tr th {\n",
       "        vertical-align: top;\n",
       "    }\n",
       "\n",
       "    .dataframe thead th {\n",
       "        text-align: right;\n",
       "    }\n",
       "</style>\n",
       "<table border=\"1\" class=\"dataframe\">\n",
       "  <thead>\n",
       "    <tr style=\"text-align: right;\">\n",
       "      <th></th>\n",
       "      <th>0</th>\n",
       "      <th>1</th>\n",
       "      <th>2</th>\n",
       "      <th>3</th>\n",
       "    </tr>\n",
       "  </thead>\n",
       "  <tbody>\n",
       "    <tr>\n",
       "      <th>202001010305</th>\n",
       "      <td>単勝</td>\n",
       "      <td>3</td>\n",
       "      <td>730</td>\n",
       "      <td>4</td>\n",
       "    </tr>\n",
       "    <tr>\n",
       "      <th>202001010305</th>\n",
       "      <td>複勝</td>\n",
       "      <td>3br1br9</td>\n",
       "      <td>170br140br130</td>\n",
       "      <td>4br3br2</td>\n",
       "    </tr>\n",
       "    <tr>\n",
       "      <th>202001010305</th>\n",
       "      <td>枠連</td>\n",
       "      <td>1 - 3</td>\n",
       "      <td>1550</td>\n",
       "      <td>7</td>\n",
       "    </tr>\n",
       "    <tr>\n",
       "      <th>202001010305</th>\n",
       "      <td>馬連</td>\n",
       "      <td>1 - 3</td>\n",
       "      <td>1120</td>\n",
       "      <td>5</td>\n",
       "    </tr>\n",
       "    <tr>\n",
       "      <th>202001010305</th>\n",
       "      <td>ワイド</td>\n",
       "      <td>1 - 3br3 - 9br1 - 9</td>\n",
       "      <td>430br420br350</td>\n",
       "      <td>6br5br4</td>\n",
       "    </tr>\n",
       "    <tr>\n",
       "      <th>...</th>\n",
       "      <td>...</td>\n",
       "      <td>...</td>\n",
       "      <td>...</td>\n",
       "      <td>...</td>\n",
       "    </tr>\n",
       "    <tr>\n",
       "      <th>202006050804</th>\n",
       "      <td>馬連</td>\n",
       "      <td>6 - 11</td>\n",
       "      <td>610</td>\n",
       "      <td>1</td>\n",
       "    </tr>\n",
       "    <tr>\n",
       "      <th>202006050804</th>\n",
       "      <td>ワイド</td>\n",
       "      <td>6 - 11br6 - 9br9 - 11</td>\n",
       "      <td>280br1,010br1,520</td>\n",
       "      <td>1br9br16</td>\n",
       "    </tr>\n",
       "    <tr>\n",
       "      <th>202006050804</th>\n",
       "      <td>馬単</td>\n",
       "      <td>6 → 11</td>\n",
       "      <td>960</td>\n",
       "      <td>1</td>\n",
       "    </tr>\n",
       "    <tr>\n",
       "      <th>202006050804</th>\n",
       "      <td>三連複</td>\n",
       "      <td>6 - 9 - 11</td>\n",
       "      <td>3900</td>\n",
       "      <td>9</td>\n",
       "    </tr>\n",
       "    <tr>\n",
       "      <th>202006050804</th>\n",
       "      <td>三連単</td>\n",
       "      <td>6 → 11 → 9</td>\n",
       "      <td>11450</td>\n",
       "      <td>19</td>\n",
       "    </tr>\n",
       "  </tbody>\n",
       "</table>\n",
       "<p>31317 rows × 4 columns</p>\n",
       "</div>"
      ],
      "text/plain": [
       "                0                      1                  2         3\n",
       "202001010305   単勝                      3                730         4\n",
       "202001010305   複勝                3br1br9      170br140br130   4br3br2\n",
       "202001010305   枠連                  1 - 3               1550         7\n",
       "202001010305   馬連                  1 - 3               1120         5\n",
       "202001010305  ワイド    1 - 3br3 - 9br1 - 9      430br420br350   6br5br4\n",
       "...           ...                    ...                ...       ...\n",
       "202006050804   馬連                 6 - 11                610         1\n",
       "202006050804  ワイド  6 - 11br6 - 9br9 - 11  280br1,010br1,520  1br9br16\n",
       "202006050804   馬単                 6 → 11                960         1\n",
       "202006050804  三連複             6 - 9 - 11               3900         9\n",
       "202006050804  三連単             6 → 11 → 9              11450        19\n",
       "\n",
       "[31317 rows x 4 columns]"
      ]
     },
     "execution_count": 153,
     "metadata": {},
     "output_type": "execute_result"
    }
   ],
   "source": [
    "rt = pd.concat([return_tables, rt])\n",
    "rt"
   ]
  },
  {
   "cell_type": "code",
   "execution_count": 155,
   "metadata": {},
   "outputs": [],
   "source": [
    "return_tables = pd.read_pickle('return_tables.pickle')"
   ]
  },
  {
   "cell_type": "markdown",
   "metadata": {},
   "source": [
    "# 最新の出馬表を取得"
   ]
  },
  {
   "cell_type": "code",
   "execution_count": 106,
   "metadata": {},
   "outputs": [],
   "source": [
    "from selenium.webdriver import Chrome, ChromeOptions\n",
    "import chromedriver_binary\n",
    "\n",
    "class Entry_table:\n",
    "    def __init__(self):\n",
    "        self.entry_table = pd.DataFrame()\n",
    "    \n",
    "    def scraping_table(self, race_id_list):\n",
    "        options = ChromeOptions()\n",
    "        driver = Chrome(options=options)\n",
    "        \n",
    "        for race_id in race_id_list:\n",
    "            url = 'https://race.netkeiba.com/race/shutuba.html?race_id=' + race_id\n",
    "            driver.get(url)\n",
    "            elements = driver.find_elements_by_class_name('HorseList')\n",
    "            for element in elements:\n",
    "                tds = element.find_elements_by_tag_name('td')\n",
    "                row = []\n",
    "                for td in tds:\n",
    "                    row.append(td.text)\n",
    "                    if td.get_attribute('class') in ['HorseInfo', 'Jockey']:\n",
    "                        href = td.find_element_by_tag_name('a').get_attribute('href')\n",
    "                        row.append(re.findall(r'\\d+', href)[0])\n",
    "                self.entry_table = self.entry_table.append(pd.Series(row, name = race_id))\n",
    "            \n",
    "        driver.close()\n",
    "        \n",
    "    def preprocessing(self):\n",
    "        df = self.entry_table.copy()\n",
    "        df = df[[0,1,3,4,5,6,7,8,10,11,12]]\n",
    "        self.entry_table = df\n",
    "        self.entry_table = self.entry_table.set_axis(['枠', '馬番','馬名','horse_id','性齢','斤量','騎手','jockey_id','馬体重','予想オッズ','人気'], axis=1)\n",
    "        \n",
    "    def merge_horse_results(self, horse_results, columns, n_race=5):\n",
    "        for column in columns:\n",
    "            df = horse_results.groupby(level=0).head(n_race)\n",
    "            df = df.astype(str).groupby(level=0)[column].apply(lambda x: ','.join(x))\n",
    "            df = df.str.split(',', expand=True).add_prefix('{}_'.format(column))\n",
    "            self.entry_table = self.entry_table.merge(df, left_on='horse_id', right_index=True, how='left')"
   ]
  },
  {
   "cell_type": "code",
   "execution_count": 107,
   "metadata": {
    "collapsed": true
   },
   "outputs": [
    {
     "data": {
      "text/html": [
       "<div>\n",
       "<style scoped>\n",
       "    .dataframe tbody tr th:only-of-type {\n",
       "        vertical-align: middle;\n",
       "    }\n",
       "\n",
       "    .dataframe tbody tr th {\n",
       "        vertical-align: top;\n",
       "    }\n",
       "\n",
       "    .dataframe thead th {\n",
       "        text-align: right;\n",
       "    }\n",
       "</style>\n",
       "<table border=\"1\" class=\"dataframe\">\n",
       "  <thead>\n",
       "    <tr style=\"text-align: right;\">\n",
       "      <th></th>\n",
       "      <th>枠</th>\n",
       "      <th>馬番</th>\n",
       "      <th>馬名</th>\n",
       "      <th>horse_id</th>\n",
       "      <th>性齢</th>\n",
       "      <th>斤量</th>\n",
       "      <th>騎手</th>\n",
       "      <th>jockey_id</th>\n",
       "      <th>馬体重</th>\n",
       "      <th>予想オッズ</th>\n",
       "      <th>人気</th>\n",
       "    </tr>\n",
       "  </thead>\n",
       "  <tbody>\n",
       "    <tr>\n",
       "      <th>202105030609</th>\n",
       "      <td>1</td>\n",
       "      <td>1</td>\n",
       "      <td>ベスビアナイト</td>\n",
       "      <td>2017105590</td>\n",
       "      <td>セ4</td>\n",
       "      <td>54.0</td>\n",
       "      <td>菅原明</td>\n",
       "      <td>01179</td>\n",
       "      <td>490(+2)</td>\n",
       "      <td>6.7</td>\n",
       "      <td>5</td>\n",
       "    </tr>\n",
       "    <tr>\n",
       "      <th>202105030609</th>\n",
       "      <td>2</td>\n",
       "      <td>2</td>\n",
       "      <td>エドノフェリーチェ</td>\n",
       "      <td>2017104060</td>\n",
       "      <td>牝4</td>\n",
       "      <td>54.0</td>\n",
       "      <td>津村</td>\n",
       "      <td>01092</td>\n",
       "      <td>448(-4)</td>\n",
       "      <td>5.1</td>\n",
       "      <td>3</td>\n",
       "    </tr>\n",
       "    <tr>\n",
       "      <th>202105030609</th>\n",
       "      <td>3</td>\n",
       "      <td>3</td>\n",
       "      <td>ライル</td>\n",
       "      <td>2016104868</td>\n",
       "      <td>セ5</td>\n",
       "      <td>55.0</td>\n",
       "      <td>石川</td>\n",
       "      <td>01150</td>\n",
       "      <td>490(-10)</td>\n",
       "      <td>25.6</td>\n",
       "      <td>7</td>\n",
       "    </tr>\n",
       "    <tr>\n",
       "      <th>202105030609</th>\n",
       "      <td>4</td>\n",
       "      <td>4</td>\n",
       "      <td>アスティ</td>\n",
       "      <td>2016104998</td>\n",
       "      <td>セ5</td>\n",
       "      <td>54.0</td>\n",
       "      <td>江田照</td>\n",
       "      <td>00689</td>\n",
       "      <td>430(+4)</td>\n",
       "      <td>49.4</td>\n",
       "      <td>9</td>\n",
       "    </tr>\n",
       "    <tr>\n",
       "      <th>202105030609</th>\n",
       "      <td>5</td>\n",
       "      <td>5</td>\n",
       "      <td>エカテリンブルク</td>\n",
       "      <td>2017105500</td>\n",
       "      <td>牡4</td>\n",
       "      <td>54.0</td>\n",
       "      <td>石橋脩</td>\n",
       "      <td>01077</td>\n",
       "      <td>510(+4)</td>\n",
       "      <td>35.9</td>\n",
       "      <td>8</td>\n",
       "    </tr>\n",
       "    <tr>\n",
       "      <th>202105030609</th>\n",
       "      <td>6</td>\n",
       "      <td>6</td>\n",
       "      <td>ディスカバー</td>\n",
       "      <td>2014105545</td>\n",
       "      <td>セ7</td>\n",
       "      <td>53.0</td>\n",
       "      <td>原</td>\n",
       "      <td>01184</td>\n",
       "      <td>466(-2)</td>\n",
       "      <td>201.3</td>\n",
       "      <td>11</td>\n",
       "    </tr>\n",
       "    <tr>\n",
       "      <th>202105030609</th>\n",
       "      <td>6</td>\n",
       "      <td>7</td>\n",
       "      <td>ドリームスピリット</td>\n",
       "      <td>2015102790</td>\n",
       "      <td>牡6</td>\n",
       "      <td>54.0</td>\n",
       "      <td>ルメール</td>\n",
       "      <td>05339</td>\n",
       "      <td>500(-2)</td>\n",
       "      <td>6.5</td>\n",
       "      <td>4</td>\n",
       "    </tr>\n",
       "    <tr>\n",
       "      <th>202105030609</th>\n",
       "      <td>7</td>\n",
       "      <td>8</td>\n",
       "      <td>ヒルノダカール</td>\n",
       "      <td>2016100550</td>\n",
       "      <td>牡5</td>\n",
       "      <td>56.0</td>\n",
       "      <td>北村宏</td>\n",
       "      <td>01043</td>\n",
       "      <td>512(+4)</td>\n",
       "      <td>11.1</td>\n",
       "      <td>6</td>\n",
       "    </tr>\n",
       "    <tr>\n",
       "      <th>202105030609</th>\n",
       "      <td>7</td>\n",
       "      <td>9</td>\n",
       "      <td>ペレ</td>\n",
       "      <td>2016104614</td>\n",
       "      <td>牝5</td>\n",
       "      <td>54.0</td>\n",
       "      <td>Ｍデムーロ</td>\n",
       "      <td>05212</td>\n",
       "      <td>456(-2)</td>\n",
       "      <td>3.7</td>\n",
       "      <td>2</td>\n",
       "    </tr>\n",
       "    <tr>\n",
       "      <th>202105030609</th>\n",
       "      <td>8</td>\n",
       "      <td>10</td>\n",
       "      <td>レッドクーゲル</td>\n",
       "      <td>2016103041</td>\n",
       "      <td>牡5</td>\n",
       "      <td>53.0</td>\n",
       "      <td>吉田豊</td>\n",
       "      <td>00733</td>\n",
       "      <td>440(-4)</td>\n",
       "      <td>80.7</td>\n",
       "      <td>10</td>\n",
       "    </tr>\n",
       "    <tr>\n",
       "      <th>202105030609</th>\n",
       "      <td>8</td>\n",
       "      <td>11</td>\n",
       "      <td>リーブルミノル</td>\n",
       "      <td>2018105809</td>\n",
       "      <td>牡3</td>\n",
       "      <td>53.0</td>\n",
       "      <td>団野</td>\n",
       "      <td>01180</td>\n",
       "      <td>484(+14)</td>\n",
       "      <td>3.4</td>\n",
       "      <td>1</td>\n",
       "    </tr>\n",
       "  </tbody>\n",
       "</table>\n",
       "</div>"
      ],
      "text/plain": [
       "              枠  馬番         馬名    horse_id  性齢    斤量     騎手 jockey_id  \\\n",
       "202105030609  1   1    ベスビアナイト  2017105590  セ4  54.0    菅原明     01179   \n",
       "202105030609  2   2  エドノフェリーチェ  2017104060  牝4  54.0     津村     01092   \n",
       "202105030609  3   3        ライル  2016104868  セ5  55.0     石川     01150   \n",
       "202105030609  4   4       アスティ  2016104998  セ5  54.0    江田照     00689   \n",
       "202105030609  5   5   エカテリンブルク  2017105500  牡4  54.0    石橋脩     01077   \n",
       "202105030609  6   6     ディスカバー  2014105545  セ7  53.0      原     01184   \n",
       "202105030609  6   7  ドリームスピリット  2015102790  牡6  54.0   ルメール     05339   \n",
       "202105030609  7   8    ヒルノダカール  2016100550  牡5  56.0    北村宏     01043   \n",
       "202105030609  7   9         ペレ  2016104614  牝5  54.0  Ｍデムーロ     05212   \n",
       "202105030609  8  10    レッドクーゲル  2016103041  牡5  53.0    吉田豊     00733   \n",
       "202105030609  8  11    リーブルミノル  2018105809  牡3  53.0     団野     01180   \n",
       "\n",
       "                   馬体重  予想オッズ  人気  \n",
       "202105030609   490(+2)    6.7   5  \n",
       "202105030609   448(-4)    5.1   3  \n",
       "202105030609  490(-10)   25.6   7  \n",
       "202105030609   430(+4)   49.4   9  \n",
       "202105030609   510(+4)   35.9   8  \n",
       "202105030609   466(-2)  201.3  11  \n",
       "202105030609   500(-2)    6.5   4  \n",
       "202105030609   512(+4)   11.1   6  \n",
       "202105030609   456(-2)    3.7   2  \n",
       "202105030609   440(-4)   80.7  10  \n",
       "202105030609  484(+14)    3.4   1  "
      ]
     },
     "execution_count": 107,
     "metadata": {},
     "output_type": "execute_result"
    }
   ],
   "source": [
    "et = Entry_table()\n",
    "et.scraping_table(['202105030609'])\n",
    "et.preprocessing()\n",
    "et.entry_table"
   ]
  },
  {
   "cell_type": "code",
   "execution_count": null,
   "metadata": {},
   "outputs": [],
   "source": []
  }
 ],
 "metadata": {
  "kernelspec": {
   "display_name": "Python 3",
   "language": "python",
   "name": "python3"
  },
  "language_info": {
   "codemirror_mode": {
    "name": "ipython",
    "version": 3
   },
   "file_extension": ".py",
   "mimetype": "text/x-python",
   "name": "python",
   "nbconvert_exporter": "python",
   "pygments_lexer": "ipython3",
   "version": "3.7.6"
  },
  "toc": {
   "base_numbering": 1,
   "nav_menu": {},
   "number_sections": true,
   "sideBar": true,
   "skip_h1_title": false,
   "title_cell": "Table of Contents",
   "title_sidebar": "Contents",
   "toc_cell": false,
   "toc_position": {
    "height": "calc(100% - 180px)",
    "left": "10px",
    "top": "150px",
    "width": "273.188px"
   },
   "toc_section_display": true,
   "toc_window_display": true
  }
 },
 "nbformat": 4,
 "nbformat_minor": 4
}
