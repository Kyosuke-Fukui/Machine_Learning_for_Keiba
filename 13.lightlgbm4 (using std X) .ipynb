{
 "cells": [
  {
   "cell_type": "code",
   "execution_count": 4,
   "metadata": {},
   "outputs": [],
   "source": [
    "import pandas as pd\n",
    "\n",
    "results_5R = pd.read_pickle('results_5R.pickle')\n",
    "horse_results = pd.read_pickle('horse_data.pickle')\n",
    "return_tables = pd.read_pickle('return_tables.pickle')\n",
    "peds = pd.read_pickle('peds.pickle')"
   ]
  },
  {
   "cell_type": "code",
   "execution_count": 18,
   "metadata": {},
   "outputs": [
    {
     "name": "stdout",
     "output_type": "stream",
     "text": [
      "<class 'pandas.core.frame.DataFrame'>\n",
      "Index: 43239 entries, 202001010101 to 202010010412\n",
      "Data columns (total 21 columns):\n",
      " #   Column        Non-Null Count  Dtype         \n",
      "---  ------        --------------  -----         \n",
      " 0   着順            43239 non-null  int32         \n",
      " 1   枠番            43239 non-null  int64         \n",
      " 2   馬番            43239 non-null  int64         \n",
      " 3   馬名            43239 non-null  object        \n",
      " 4   斤量            43239 non-null  float64       \n",
      " 5   騎手            43239 non-null  object        \n",
      " 6   単勝            43239 non-null  float64       \n",
      " 7   人気            43239 non-null  float64       \n",
      " 8   horse_id      43239 non-null  object        \n",
      " 9   jockey_id     43239 non-null  object        \n",
      " 10  性             43239 non-null  object        \n",
      " 11  齢             43239 non-null  int32         \n",
      " 12  体重            43239 non-null  int32         \n",
      " 13  体重増減          43239 non-null  int32         \n",
      " 14  course_len    43239 non-null  object        \n",
      " 15  weather       43239 non-null  object        \n",
      " 16  race_type     43239 non-null  object        \n",
      " 17  ground_state  43239 non-null  object        \n",
      " 18  date          43239 non-null  datetime64[ns]\n",
      " 19  着順_ave        38780 non-null  float64       \n",
      " 20  賞金_ave        38780 non-null  float64       \n",
      "dtypes: datetime64[ns](1), float64(5), int32(4), int64(2), object(9)\n",
      "memory usage: 6.6+ MB\n"
     ]
    }
   ],
   "source": [
    "results_5R.info()"
   ]
  },
  {
   "cell_type": "code",
   "execution_count": 15,
   "metadata": {},
   "outputs": [],
   "source": [
    "results_m = results_5R.merge(peds, left_on='horse_id', right_index=True, how='left')\n",
    "results_m.drop(['馬名','騎手'], axis=1,inplace=True)"
   ]
  },
  {
   "cell_type": "code",
   "execution_count": 8,
   "metadata": {},
   "outputs": [],
   "source": [
    "from sklearn.preprocessing import LabelEncoder\n",
    "\n",
    "def process_categorical(df, target_columns):\n",
    "    df2 = df.copy()\n",
    "    for column in target_columns:\n",
    "        df2[column] = LabelEncoder().fit_transform(df2[column].fillna('Na'))\n",
    "        \n",
    "    df2 = pd.get_dummies(df2)\n",
    "    \n",
    "    for column in target_columns:\n",
    "        df2[column] = df2[column].astype('category')\n",
    "        \n",
    "    return df2"
   ]
  },
  {
   "cell_type": "code",
   "execution_count": 16,
   "metadata": {},
   "outputs": [],
   "source": [
    "categorical_columns = ['horse_id']+['peds_{}'.format(i) for i in range(62)]\n",
    "results_d = process_categorical(results_m, categorical_columns)"
   ]
  },
  {
   "cell_type": "code",
   "execution_count": 19,
   "metadata": {},
   "outputs": [],
   "source": [
    "results_d[\"rank\"] = results_5R[\"着順\"].map(lambda x:1 if x <4 else 0)\n",
    "results_d.drop([\"着順\",\"人気\",\"単勝\"],axis=1, inplace=True)"
   ]
  },
  {
   "cell_type": "code",
   "execution_count": 20,
   "metadata": {},
   "outputs": [],
   "source": [
    "def split_data(df, test_size=0.3):\n",
    "    sorted_id_list = df.sort_values('date').index.unique()\n",
    "    train_id_list = sorted_id_list[:round(len(sorted_id_list)*(1-test_size))]\n",
    "    test_id_list = sorted_id_list[round(len(sorted_id_list)*(1-test_size)):]\n",
    "    train =df.loc[train_id_list]\n",
    "    test = df.loc[test_id_list]\n",
    "    train.drop(['date'],axis=1,inplace=True)\n",
    "    test.drop(['date'],axis=1,inplace=True)\n",
    "    return train, test\n",
    "\n",
    "train, test = split_data(results_d)\n",
    "X_train = train.drop(['rank'], axis=1)\n",
    "y_train = train['rank']\n",
    "X_test = test.drop(['rank'], axis=1)\n",
    "y_test = test['rank']"
   ]
  },
  {
   "cell_type": "code",
   "execution_count": 24,
   "metadata": {},
   "outputs": [
    {
     "name": "stdout",
     "output_type": "stream",
     "text": [
      "[LightGBM] [Warning] min_data_in_leaf is set=300, min_child_samples=20 will be ignored. Current value: min_data_in_leaf=300\n"
     ]
    },
    {
     "data": {
      "text/plain": [
       "LGBMClassifier(class_weight='balanced', min_data_in_leaf=300, n_estimators=70,\n",
       "               num_leaves=3, random_state=100)"
      ]
     },
     "execution_count": 24,
     "metadata": {},
     "output_type": "execute_result"
    }
   ],
   "source": [
    "import lightgbm as lgb\n",
    "from sklearn.metrics import roc_curve, roc_auc_score\n",
    "\n",
    "params = {\n",
    "    'num_leaves':3, #デフォルトは34\n",
    "    'n_estimators':70,\n",
    "    'min_data_in_leaf':300,\n",
    "    'class_weight':'balanced',\n",
    "    'random_state':100\n",
    "}\n",
    "\n",
    "lgb_clf = lgb.LGBMClassifier(**params)\n",
    "lgb_clf.fit(X_train.values, y_train.values) #値に日本語が入っているとエラー"
   ]
  },
  {
   "cell_type": "code",
   "execution_count": 21,
   "metadata": {},
   "outputs": [],
   "source": [
    "class ModelEvaluator:\n",
    "    def __init__(self, model, return_table):\n",
    "        self.model = model\n",
    "        self.fuku = Return(return_table).fuku\n",
    "        self.tan = Return(return_table).tan\n",
    "        \n",
    "    def predict_proba(self, X):\n",
    "        return self.model.predict_proba(X)[:,1]\n",
    "    \n",
    "    def predict(self, X, threshold=0.5):\n",
    "        y_pred = self.predict_proba(X)\n",
    "        return [0 if p<threshold else 1 for p in y_pred]\n",
    "    \n",
    "    def score(self, y_true, X):\n",
    "        return roc_auc_score(y_true, self.predict_proba(X))\n",
    "    \n",
    "    def feature_importance(self, X, n_display=20):\n",
    "        importances = pd.DataFrame({'features': X.columns, 'importance': self.model.feature_importances_})\n",
    "        return importances.sort_values('importance', ascending=False)[:n_display]\n",
    "    \n",
    "    def pred_table(self, X, threshold=0.5, bet_only=True):\n",
    "        pred_table = X.copy()[['馬番']]\n",
    "        pred_table['pred'] = self.predict(X, threshold)\n",
    "        if bet_only:\n",
    "            return pred_table[pred_table['pred']==1]['馬番']\n",
    "        else:\n",
    "            return pred_table\n",
    "        \n",
    "    def fuku_return(self, X, threshold=0.5):\n",
    "        pred_table = self.pred_table(X, threshold)\n",
    "        n_bets = len(pred_table)\n",
    "        money = -100*n_bets\n",
    "        df = self.fuku.copy()\n",
    "        df = df.merge(pred_table, left_index=True, right_index=True, how='right')\n",
    "        for i in range(3):\n",
    "            money +=df[df['win_{}'.format(i)]==df['馬番']]['return_{}'.format(i)].sum()\n",
    "        return n_bets, money\n",
    "    \n",
    "    def tan_return(self, X, threshold=0.5):\n",
    "        pred_table = self.pred_table(X, threshold)\n",
    "        n_bets = len(pred_table)\n",
    "        money = -100*n_bets\n",
    "        df = self.tan.copy()\n",
    "        df = df.merge(pred_table, left_index=True, right_index=True, how='right')\n",
    "       \n",
    "        money +=df[df['win']==df['馬番']]['return'].sum()\n",
    "        return n_bets, money"
   ]
  },
  {
   "cell_type": "code",
   "execution_count": 22,
   "metadata": {},
   "outputs": [],
   "source": [
    "class Return:\n",
    "    def __init__(self, return_tables):\n",
    "        self.return_tables = return_tables\n",
    "        \n",
    "    #複勝行の加工 \n",
    "    @property\n",
    "    def fuku(self):\n",
    "        fuku = self.return_tables[self.return_tables[0] == '複勝'][[1,2]]\n",
    "        #勝ち馬の馬番\n",
    "        wins = fuku[1].str.split('br', expand = True).drop([3,4], axis=1)\n",
    "        wins.columns = ['win_0', 'win_1', 'win_2']\n",
    "        #払い戻し\n",
    "        returns = fuku[2].str.split('br', expand = True).drop([3,4], axis=1)\n",
    "        returns.columns = ['return_0', 'return_1', 'return_2']\n",
    "        \n",
    "        df = pd.concat([wins, returns], axis=1)\n",
    "        for column in df.columns:\n",
    "            df[column] = df[column].str.replace(',','')\n",
    "        return df.fillna(0).astype(int)\n",
    "    \n",
    "    @property\n",
    "    def tan(self):\n",
    "        tan = self.return_tables[self.return_tables[0] == '単勝'][[1,2]]\n",
    "        tan.columns = ['win', 'return']\n",
    "        \n",
    "        for column in tan.columns:\n",
    "            tan[column] = pd.to_numeric(tan[column], errors='coerce')\n",
    "        return tan"
   ]
  },
  {
   "cell_type": "code",
   "execution_count": 25,
   "metadata": {},
   "outputs": [
    {
     "data": {
      "text/plain": [
       "array([0.63859213, 0.62145211, 0.54008874, ..., 0.43572901, 0.64329954,\n",
       "       0.46284905])"
      ]
     },
     "execution_count": 25,
     "metadata": {},
     "output_type": "execute_result"
    }
   ],
   "source": [
    "me = ModelEvaluator(lgb_clf, return_tables)\n",
    "me.predict_proba(X_test)"
   ]
  },
  {
   "cell_type": "code",
   "execution_count": 26,
   "metadata": {},
   "outputs": [
    {
     "data": {
      "text/html": [
       "<div>\n",
       "<style scoped>\n",
       "    .dataframe tbody tr th:only-of-type {\n",
       "        vertical-align: middle;\n",
       "    }\n",
       "\n",
       "    .dataframe tbody tr th {\n",
       "        vertical-align: top;\n",
       "    }\n",
       "\n",
       "    .dataframe thead th {\n",
       "        text-align: right;\n",
       "    }\n",
       "</style>\n",
       "<table border=\"1\" class=\"dataframe\">\n",
       "  <thead>\n",
       "    <tr style=\"text-align: right;\">\n",
       "      <th></th>\n",
       "      <th>horse_id</th>\n",
       "      <th>proba</th>\n",
       "    </tr>\n",
       "  </thead>\n",
       "  <tbody>\n",
       "    <tr>\n",
       "      <th>202001020703</th>\n",
       "      <td>6788</td>\n",
       "      <td>0.638592</td>\n",
       "    </tr>\n",
       "    <tr>\n",
       "      <th>202001020703</th>\n",
       "      <td>7634</td>\n",
       "      <td>0.621452</td>\n",
       "    </tr>\n",
       "    <tr>\n",
       "      <th>202001020703</th>\n",
       "      <td>7141</td>\n",
       "      <td>0.540089</td>\n",
       "    </tr>\n",
       "    <tr>\n",
       "      <th>202001020703</th>\n",
       "      <td>6728</td>\n",
       "      <td>0.635257</td>\n",
       "    </tr>\n",
       "    <tr>\n",
       "      <th>202001020703</th>\n",
       "      <td>5918</td>\n",
       "      <td>0.607049</td>\n",
       "    </tr>\n",
       "    <tr>\n",
       "      <th>...</th>\n",
       "      <td>...</td>\n",
       "      <td>...</td>\n",
       "    </tr>\n",
       "    <tr>\n",
       "      <th>202006050807</th>\n",
       "      <td>5083</td>\n",
       "      <td>0.599909</td>\n",
       "    </tr>\n",
       "    <tr>\n",
       "      <th>202006050807</th>\n",
       "      <td>3153</td>\n",
       "      <td>0.399495</td>\n",
       "    </tr>\n",
       "    <tr>\n",
       "      <th>202006050807</th>\n",
       "      <td>4927</td>\n",
       "      <td>0.435729</td>\n",
       "    </tr>\n",
       "    <tr>\n",
       "      <th>202006050807</th>\n",
       "      <td>7496</td>\n",
       "      <td>0.643300</td>\n",
       "    </tr>\n",
       "    <tr>\n",
       "      <th>202006050807</th>\n",
       "      <td>3121</td>\n",
       "      <td>0.462849</td>\n",
       "    </tr>\n",
       "  </tbody>\n",
       "</table>\n",
       "<p>12974 rows × 2 columns</p>\n",
       "</div>"
      ],
      "text/plain": [
       "             horse_id     proba\n",
       "202001020703     6788  0.638592\n",
       "202001020703     7634  0.621452\n",
       "202001020703     7141  0.540089\n",
       "202001020703     6728  0.635257\n",
       "202001020703     5918  0.607049\n",
       "...               ...       ...\n",
       "202006050807     5083  0.599909\n",
       "202006050807     3153  0.399495\n",
       "202006050807     4927  0.435729\n",
       "202006050807     7496  0.643300\n",
       "202006050807     3121  0.462849\n",
       "\n",
       "[12974 rows x 2 columns]"
      ]
     },
     "execution_count": 26,
     "metadata": {},
     "output_type": "execute_result"
    }
   ],
   "source": [
    "proba_table = X_test[['horse_id']].copy()\n",
    "proba_table['proba'] = me.predict_proba(X_test)\n",
    "proba_table"
   ]
  },
  {
   "cell_type": "code",
   "execution_count": 27,
   "metadata": {},
   "outputs": [
    {
     "data": {
      "text/html": [
       "<div>\n",
       "<style scoped>\n",
       "    .dataframe tbody tr th:only-of-type {\n",
       "        vertical-align: middle;\n",
       "    }\n",
       "\n",
       "    .dataframe tbody tr th {\n",
       "        vertical-align: top;\n",
       "    }\n",
       "\n",
       "    .dataframe thead th {\n",
       "        text-align: right;\n",
       "    }\n",
       "</style>\n",
       "<table border=\"1\" class=\"dataframe\">\n",
       "  <thead>\n",
       "    <tr style=\"text-align: right;\">\n",
       "      <th></th>\n",
       "      <th>horse_id</th>\n",
       "      <th>proba</th>\n",
       "      <th>R</th>\n",
       "    </tr>\n",
       "  </thead>\n",
       "  <tbody>\n",
       "    <tr>\n",
       "      <th>202001020703</th>\n",
       "      <td>6788</td>\n",
       "      <td>0.638592</td>\n",
       "      <td>03</td>\n",
       "    </tr>\n",
       "    <tr>\n",
       "      <th>202001020703</th>\n",
       "      <td>7634</td>\n",
       "      <td>0.621452</td>\n",
       "      <td>03</td>\n",
       "    </tr>\n",
       "    <tr>\n",
       "      <th>202001020703</th>\n",
       "      <td>7141</td>\n",
       "      <td>0.540089</td>\n",
       "      <td>03</td>\n",
       "    </tr>\n",
       "    <tr>\n",
       "      <th>202001020703</th>\n",
       "      <td>6728</td>\n",
       "      <td>0.635257</td>\n",
       "      <td>03</td>\n",
       "    </tr>\n",
       "    <tr>\n",
       "      <th>202001020703</th>\n",
       "      <td>5918</td>\n",
       "      <td>0.607049</td>\n",
       "      <td>03</td>\n",
       "    </tr>\n",
       "    <tr>\n",
       "      <th>...</th>\n",
       "      <td>...</td>\n",
       "      <td>...</td>\n",
       "      <td>...</td>\n",
       "    </tr>\n",
       "    <tr>\n",
       "      <th>202006050807</th>\n",
       "      <td>5083</td>\n",
       "      <td>0.599909</td>\n",
       "      <td>07</td>\n",
       "    </tr>\n",
       "    <tr>\n",
       "      <th>202006050807</th>\n",
       "      <td>3153</td>\n",
       "      <td>0.399495</td>\n",
       "      <td>07</td>\n",
       "    </tr>\n",
       "    <tr>\n",
       "      <th>202006050807</th>\n",
       "      <td>4927</td>\n",
       "      <td>0.435729</td>\n",
       "      <td>07</td>\n",
       "    </tr>\n",
       "    <tr>\n",
       "      <th>202006050807</th>\n",
       "      <td>7496</td>\n",
       "      <td>0.643300</td>\n",
       "      <td>07</td>\n",
       "    </tr>\n",
       "    <tr>\n",
       "      <th>202006050807</th>\n",
       "      <td>3121</td>\n",
       "      <td>0.462849</td>\n",
       "      <td>07</td>\n",
       "    </tr>\n",
       "  </tbody>\n",
       "</table>\n",
       "<p>12974 rows × 3 columns</p>\n",
       "</div>"
      ],
      "text/plain": [
       "             horse_id     proba   R\n",
       "202001020703     6788  0.638592  03\n",
       "202001020703     7634  0.621452  03\n",
       "202001020703     7141  0.540089  03\n",
       "202001020703     6728  0.635257  03\n",
       "202001020703     5918  0.607049  03\n",
       "...               ...       ...  ..\n",
       "202006050807     5083  0.599909  07\n",
       "202006050807     3153  0.399495  07\n",
       "202006050807     4927  0.435729  07\n",
       "202006050807     7496  0.643300  07\n",
       "202006050807     3121  0.462849  07\n",
       "\n",
       "[12974 rows x 3 columns]"
      ]
     },
     "execution_count": 27,
     "metadata": {},
     "output_type": "execute_result"
    }
   ],
   "source": [
    "proba_table['R'] = proba_table.index.map(lambda x:str(x)[-2:] )\n",
    "proba_table"
   ]
  },
  {
   "cell_type": "code",
   "execution_count": 32,
   "metadata": {},
   "outputs": [
    {
     "data": {
      "text/plain": [
       "202001020712    0.723945\n",
       "202001020712    0.438068\n",
       "202001020712    0.546473\n",
       "202001020712    0.542867\n",
       "202001020712    0.648654\n",
       "202001020712    0.575452\n",
       "202001020712    0.488532\n",
       "202001020712    0.443360\n",
       "202001020712    0.486070\n",
       "202001020712    0.555755\n",
       "202001020712    0.425145\n",
       "202001020712    0.571681\n",
       "202001020712    0.550946\n",
       "202001020712    0.509932\n",
       "Name: proba, dtype: float64"
      ]
     },
     "execution_count": 32,
     "metadata": {},
     "output_type": "execute_result"
    }
   ],
   "source": [
    "proba_table[proba_table.index=='202001020712']['proba']"
   ]
  },
  {
   "cell_type": "code",
   "execution_count": 28,
   "metadata": {},
   "outputs": [
    {
     "data": {
      "text/plain": [
       "R\n",
       "01    0.415002\n",
       "02    0.438666\n",
       "03    0.462250\n",
       "04    0.481936\n",
       "05    0.501211\n",
       "06    0.522731\n",
       "07    0.534193\n",
       "08    0.543168\n",
       "09    0.573200\n",
       "10    0.546986\n",
       "11    0.556580\n",
       "12    0.543674\n",
       "Name: proba, dtype: float64"
      ]
     },
     "execution_count": 28,
     "metadata": {},
     "output_type": "execute_result"
    }
   ],
   "source": [
    "proba_table.groupby('R')['proba'].mean() #ラウンドによって的中確率の平均が違うのに、一律のthresholdによって掛ける馬を決めている"
   ]
  },
  {
   "cell_type": "code",
   "execution_count": 35,
   "metadata": {},
   "outputs": [],
   "source": [
    "import numpy as np\n",
    "#標準化 X→(X-μ)/σ\n",
    "standard_scaler = lambda x: (x-x.mean())/x.std()\n",
    "proba_std = proba_table.groupby(level=0)['proba'].transform(standard_scaler)"
   ]
  },
  {
   "cell_type": "code",
   "execution_count": 36,
   "metadata": {},
   "outputs": [
    {
     "data": {
      "text/plain": [
       "<matplotlib.axes._subplots.AxesSubplot at 0x266ac871cc8>"
      ]
     },
     "execution_count": 36,
     "metadata": {},
     "output_type": "execute_result"
    },
    {
     "data": {
      "image/png": "[encoded data removed]",
      "text/plain": [
       "<Figure size 432x288 with 1 Axes>"
      ]
     },
     "metadata": {
      "needs_background": "light"
     },
     "output_type": "display_data"
    }
   ],
   "source": [
    "proba_std.hist()"
   ]
  },
  {
   "cell_type": "code",
   "execution_count": 37,
   "metadata": {},
   "outputs": [
    {
     "data": {
      "text/plain": [
       "<matplotlib.axes._subplots.AxesSubplot at 0x266aadb8b08>"
      ]
     },
     "execution_count": 37,
     "metadata": {},
     "output_type": "execute_result"
    },
    {
     "data": {
      "image/png": "[encoded data removed]",
      "text/plain": [
       "<Figure size 432x288 with 1 Axes>"
      ]
     },
     "metadata": {
      "needs_background": "light"
     },
     "output_type": "display_data"
    }
   ],
   "source": [
    "#MinMaxスケーリング：データを0から1までの値にする\n",
    "proba_minmax = (proba_std - proba_std.min())/(proba_std.max() - proba_std.min())\n",
    "proba_minmax.hist()"
   ]
  },
  {
   "cell_type": "code",
   "execution_count": 104,
   "metadata": {},
   "outputs": [],
   "source": [
    "#実装\n",
    "class ModelEvaluator:\n",
    "    def __init__(self, model, return_table, std=True):\n",
    "        self.model = model\n",
    "        self.fuku = Return(return_table).fuku\n",
    "        self.tan = Return(return_table).tan\n",
    "        self.std = std ###\n",
    "        \n",
    "    def predict_proba(self, X):\n",
    "        proba = pd.Series(self.model.predict_proba(X)[:,1], index=X.index)\n",
    "        if self.std:\n",
    "            standard_scaler = lambda x: (x-x.mean())/x.std()\n",
    "            proba = proba.groupby(level=0).transform(standard_scaler) #標準化\n",
    "            proba = (proba - proba.min())/(proba.max() - proba.min()) #MinMaxスケーリング\n",
    "        return proba\n",
    "    \n",
    "    def predict(self, X, threshold=0.5):\n",
    "        y_pred = self.predict_proba(X)\n",
    "        return [0 if p<threshold else 1 for p in y_pred]\n",
    "    \n",
    "    def score(self, y_true, X):\n",
    "        return roc_auc_score(y_true, self.predict_proba(X))\n",
    "    \n",
    "    def feature_importance(self, X, n_display=20):\n",
    "        importances = pd.DataFrame({'features': X.columns, 'importance': self.model.feature_importances_})\n",
    "        return importances.sort_values('importance', ascending=False)[:n_display]\n",
    "    \n",
    "    def pred_table(self, X, threshold=0.5, bet_only=True):\n",
    "        pred_table = X.copy()[['馬番']]\n",
    "        pred_table['pred'] = self.predict(X, threshold)\n",
    "        if bet_only:\n",
    "            return pred_table[pred_table['pred']==1]['馬番']\n",
    "        else:\n",
    "            return pred_table\n",
    "        \n",
    "    def fuku_return(self, X, threshold=0.5):\n",
    "        pred_table = self.pred_table(X, threshold)\n",
    "        n_bets = len(pred_table)\n",
    "        money = -100*n_bets\n",
    "        df = self.fuku.copy()\n",
    "        df = df.merge(pred_table, left_index=True, right_index=True, how='right')\n",
    "        for i in range(3):\n",
    "            money +=df[df['win_{}'.format(i)]==df['馬番']]['return_{}'.format(i)].sum()\n",
    "        return n_bets, money\n",
    "    \n",
    "    def tan_return(self, X, threshold=0.5):\n",
    "        pred_table = self.pred_table(X, threshold)\n",
    "        n_bets = len(pred_table)\n",
    "        money = -100*n_bets\n",
    "        df = self.tan.copy()\n",
    "        df = df.merge(pred_table, left_index=True, right_index=True, how='right')\n",
    "       \n",
    "        money +=df[df['win']==df['馬番']]['return'].sum()\n",
    "        return n_bets, money"
   ]
  },
  {
   "cell_type": "code",
   "execution_count": 111,
   "metadata": {},
   "outputs": [],
   "source": [
    "from tqdm.notebook import tqdm_notebook as tqdm\n",
    "\n",
    "def gain(return_func, X, n_samples=100, lower=50, min_threshold=0.5): #threshold0.5から1までを１００等分\n",
    "    gain = {}\n",
    "    for i in tqdm(range(n_samples)):\n",
    "        threshold = i/n_samples +min_threshold*(1-i/n_samples)\n",
    "        n_bets, money =return_func(X, threshold)\n",
    "        if n_bets>lower:\n",
    "            gain[n_bets] = (n_bets*100+ money)/(n_bets*100)\n",
    "    return pd.Series(gain)"
   ]
  },
  {
   "cell_type": "code",
   "execution_count": 56,
   "metadata": {},
   "outputs": [
    {
     "data": {
      "application/vnd.jupyter.widget-view+json": {
       "model_id": "ded13af264bf4d29a6af190ef27c75ad",
       "version_major": 2,
       "version_minor": 0
      },
      "text/plain": [
       "HBox(children=(FloatProgress(value=0.0), HTML(value='')))"
      ]
     },
     "metadata": {},
     "output_type": "display_data"
    },
    {
     "name": "stdout",
     "output_type": "stream",
     "text": [
      "\n"
     ]
    }
   ],
   "source": [
    "gain_std = gain(me.tan_return, X_test)"
   ]
  },
  {
   "cell_type": "code",
   "execution_count": 58,
   "metadata": {},
   "outputs": [
    {
     "data": {
      "application/vnd.jupyter.widget-view+json": {
       "model_id": "6f2a55ec959b4fb1937c0ad7ea83e237",
       "version_major": 2,
       "version_minor": 0
      },
      "text/plain": [
       "HBox(children=(FloatProgress(value=0.0), HTML(value='')))"
      ]
     },
     "metadata": {},
     "output_type": "display_data"
    },
    {
     "name": "stdout",
     "output_type": "stream",
     "text": [
      "\n"
     ]
    }
   ],
   "source": [
    "me = ModelEvaluator(lgb_clf, return_tables, False)\n",
    "gain = gain(me.tan_return, X_test)"
   ]
  },
  {
   "cell_type": "code",
   "execution_count": 59,
   "metadata": {},
   "outputs": [
    {
     "data": {
      "text/plain": [
       "<matplotlib.axes._subplots.AxesSubplot at 0x266b2bb8648>"
      ]
     },
     "execution_count": 59,
     "metadata": {},
     "output_type": "execute_result"
    },
    {
     "data": {
      "image/png": "[encoded data removed]",
      "text/plain": [
       "<Figure size 432x288 with 1 Axes>"
      ]
     },
     "metadata": {
      "needs_background": "light"
     },
     "output_type": "display_data"
    }
   ],
   "source": [
    "gain_std.rename('tan_std').plot(legend=True)\n",
    "gain.rename('tan').plot(legend=True)"
   ]
  },
  {
   "cell_type": "code",
   "execution_count": 114,
   "metadata": {},
   "outputs": [
    {
     "data": {
      "application/vnd.jupyter.widget-view+json": {
       "model_id": "84f94f7742d6467c80a7214ca1a74f15",
       "version_major": 2,
       "version_minor": 0
      },
      "text/plain": [
       "HBox(children=(FloatProgress(value=0.0), HTML(value='')))"
      ]
     },
     "metadata": {},
     "output_type": "display_data"
    },
    {
     "name": "stdout",
     "output_type": "stream",
     "text": [
      "\n"
     ]
    }
   ],
   "source": [
    "me = ModelEvaluator(lgb_clf, return_tables, True)\n",
    "fuku_std = gain(me.fuku_return, X_test)"
   ]
  },
  {
   "cell_type": "code",
   "execution_count": 115,
   "metadata": {},
   "outputs": [
    {
     "data": {
      "application/vnd.jupyter.widget-view+json": {
       "model_id": "e269fe33389843b6bfd69124fe9bf49b",
       "version_major": 2,
       "version_minor": 0
      },
      "text/plain": [
       "HBox(children=(FloatProgress(value=0.0), HTML(value='')))"
      ]
     },
     "metadata": {},
     "output_type": "display_data"
    },
    {
     "name": "stdout",
     "output_type": "stream",
     "text": [
      "\n"
     ]
    }
   ],
   "source": [
    "me = ModelEvaluator(lgb_clf, return_tables, False)\n",
    "fuku = gain(me.fuku_return, X_test)"
   ]
  },
  {
   "cell_type": "code",
   "execution_count": 116,
   "metadata": {},
   "outputs": [
    {
     "data": {
      "text/plain": [
       "<matplotlib.axes._subplots.AxesSubplot at 0x266ab987a08>"
      ]
     },
     "execution_count": 116,
     "metadata": {},
     "output_type": "execute_result"
    },
    {
     "data": {
      "image/png": "[encoded data removed]",
      "text/plain": [
       "<Figure size 432x288 with 1 Axes>"
      ]
     },
     "metadata": {
      "needs_background": "light"
     },
     "output_type": "display_data"
    }
   ],
   "source": [
    "fuku_std.rename('fuku_std').plot(legend=True)\n",
    "fuku.rename('fuku').plot(legend=True)"
   ]
  },
  {
   "cell_type": "code",
   "execution_count": null,
   "metadata": {},
   "outputs": [],
   "source": []
  }
 ],
 "metadata": {
  "kernelspec": {
   "display_name": "Python 3",
   "language": "python",
   "name": "python3"
  },
  "language_info": {
   "codemirror_mode": {
    "name": "ipython",
    "version": 3
   },
   "file_extension": ".py",
   "mimetype": "text/x-python",
   "name": "python",
   "nbconvert_exporter": "python",
   "pygments_lexer": "ipython3",
   "version": "3.7.6"
  }
 },
 "nbformat": 4,
 "nbformat_minor": 4
}
