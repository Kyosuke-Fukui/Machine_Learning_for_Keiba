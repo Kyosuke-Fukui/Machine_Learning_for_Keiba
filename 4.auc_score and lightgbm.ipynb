{
 "cells": [
  {
   "cell_type": "code",
   "execution_count": 18,
   "metadata": {},
   "outputs": [],
   "source": [
    "import pandas as pd\n",
    "\n",
    "data = pd.read_pickle('result_addinfo.pickle')"
   ]
  },
  {
   "cell_type": "code",
   "execution_count": 19,
   "metadata": {},
   "outputs": [],
   "source": [
    "result = data"
   ]
  },
  {
   "cell_type": "code",
   "execution_count": 20,
   "metadata": {},
   "outputs": [],
   "source": [
    "result[\"rank\"] = result[\"着順\"].map(lambda x: x if x<4 else 4)\n",
    "result.drop([\"着順\"],axis=1,inplace=True)"
   ]
  },
  {
   "cell_type": "code",
   "execution_count": 21,
   "metadata": {},
   "outputs": [
    {
     "data": {
      "text/plain": [
       "4    33869\n",
       "1     3128\n",
       "3     3125\n",
       "2     3117\n",
       "Name: rank, dtype: int64"
      ]
     },
     "execution_count": 21,
     "metadata": {},
     "output_type": "execute_result"
    }
   ],
   "source": [
    "result[\"rank\"].value_counts()"
   ]
  },
  {
   "cell_type": "code",
   "execution_count": 22,
   "metadata": {},
   "outputs": [],
   "source": [
    "result.drop([\"馬名\"], axis=1, inplace=True)\n",
    "result_d = pd.get_dummies(result)"
   ]
  },
  {
   "cell_type": "code",
   "execution_count": 31,
   "metadata": {},
   "outputs": [],
   "source": [
    "result_d[\"rank\"] = result_d[\"rank\"].map(lambda x: 1 if x<4 else 0)"
   ]
  },
  {
   "cell_type": "code",
   "execution_count": 32,
   "metadata": {},
   "outputs": [
    {
     "data": {
      "text/plain": [
       "0    33869\n",
       "1     9370\n",
       "Name: rank, dtype: int64"
      ]
     },
     "execution_count": 32,
     "metadata": {},
     "output_type": "execute_result"
    }
   ],
   "source": [
    "result_d[\"rank\"].value_counts()"
   ]
  },
  {
   "cell_type": "code",
   "execution_count": 25,
   "metadata": {},
   "outputs": [],
   "source": [
    "def split_data(df, test_size=0.3):\n",
    "    sorted_id_list = df.sort_values('date').index.unique()\n",
    "    train_id_list = sorted_id_list[:round(len(sorted_id_list)*(1-test_size))]\n",
    "    test_id_list = sorted_id_list[round(len(sorted_id_list)*(1-test_size)):]\n",
    "    train =df.loc[train_id_list]\n",
    "    test = df.loc[test_id_list]\n",
    "    train.drop(['date'],axis=1,inplace=True)\n",
    "    test.drop(['date'],axis=1,inplace=True)\n",
    "    return train, test"
   ]
  },
  {
   "cell_type": "code",
   "execution_count": 33,
   "metadata": {},
   "outputs": [],
   "source": [
    "train, test = split_data(result_d)"
   ]
  },
  {
   "cell_type": "code",
   "execution_count": 34,
   "metadata": {},
   "outputs": [],
   "source": [
    "X_train = train.drop(['rank'], axis=1)\n",
    "y_train = train['rank']\n",
    "X_test = test.drop(['rank'], axis=1)\n",
    "y_test = test['rank']"
   ]
  },
  {
   "cell_type": "code",
   "execution_count": 35,
   "metadata": {},
   "outputs": [
    {
     "data": {
      "text/plain": [
       "RandomForestClassifier(random_state=0)"
      ]
     },
     "execution_count": 35,
     "metadata": {},
     "output_type": "execute_result"
    }
   ],
   "source": [
    "from sklearn.ensemble import RandomForestClassifier\n",
    "\n",
    "rf = RandomForestClassifier(random_state=0)\n",
    "rf.fit(X_train, y_train)"
   ]
  },
  {
   "cell_type": "code",
   "execution_count": 41,
   "metadata": {},
   "outputs": [],
   "source": [
    "y_pred = rf.predict_proba(X_test)[:,1]"
   ]
  },
  {
   "cell_type": "code",
   "execution_count": 42,
   "metadata": {},
   "outputs": [
    {
     "data": {
      "text/plain": [
       "array([0.21, 0.72, 0.29, ..., 0.02, 0.35, 0.32])"
      ]
     },
     "execution_count": 42,
     "metadata": {},
     "output_type": "execute_result"
    }
   ],
   "source": [
    "y_pred #[0になる確率, 1になる確率]"
   ]
  },
  {
   "cell_type": "code",
   "execution_count": 46,
   "metadata": {},
   "outputs": [
    {
     "data": {
      "image/png": "[encoded data removed]",
      "text/plain": [
       "<Figure size 432x288 with 1 Axes>"
      ]
     },
     "metadata": {
      "needs_background": "light"
     },
     "output_type": "display_data"
    }
   ],
   "source": [
    "#モデルの精度はどのように評価するか\n",
    "\n",
    "from sklearn.metrics import roc_curve, roc_auc_score\n",
    "import matplotlib.pyplot as plt\n",
    "# from jupiterthemes import jtplot\n",
    "# jtplot.style(theme='monokai')\n",
    "\n",
    "fpr, tpr, thresholds = roc_curve(y_test, y_pred)\n",
    "plt.plot(fpr, tpr, marker='o')\n",
    "plt.xlabel('False positive rate') #1以外のデータのうち1と予測したものの割合\n",
    "plt.ylabel('True positive rate')　#実際に1のデータのうち1と予測したものの割合\n",
    "plt.grid()\n",
    "plt.show()\n",
    "# テストデータの場合直角なほど良いモデル（aucとはこの曲線とx軸できた部分の面積を表す）"
   ]
  },
  {
   "cell_type": "code",
   "execution_count": 47,
   "metadata": {},
   "outputs": [
    {
     "data": {
      "text/plain": [
       "0.7959811959387971"
      ]
     },
     "execution_count": 47,
     "metadata": {},
     "output_type": "execute_result"
    }
   ],
   "source": [
    "roc_auc_score(y_test, y_pred)"
   ]
  },
  {
   "cell_type": "code",
   "execution_count": 48,
   "metadata": {},
   "outputs": [
    {
     "data": {
      "text/plain": [
       "1.0"
      ]
     },
     "execution_count": 48,
     "metadata": {},
     "output_type": "execute_result"
    }
   ],
   "source": [
    "y_pred_train = rf.predict_proba(X_train)[:,1]\n",
    "roc_auc_score(y_train, y_pred_train) #過学習"
   ]
  },
  {
   "cell_type": "code",
   "execution_count": 50,
   "metadata": {},
   "outputs": [
    {
     "data": {
      "image/png": "[encoded data removed]",
      "text/plain": [
       "<Figure size 432x288 with 1 Axes>"
      ]
     },
     "metadata": {
      "needs_background": "light"
     },
     "output_type": "display_data"
    }
   ],
   "source": [
    "fpr, tpr, thresholds = roc_curve(y_train, y_pred_train)\n",
    "plt.plot(fpr, tpr, marker='o')\n",
    "plt.xlabel('False positive rate') #1以外のデータのうち1と予測したものの割合\n",
    "plt.ylabel('True positive rate') #実際に1のデータのうち1と予測したものの割合\n",
    "plt.grid()\n",
    "plt.show()"
   ]
  },
  {
   "cell_type": "code",
   "execution_count": 62,
   "metadata": {},
   "outputs": [
    {
     "name": "stdout",
     "output_type": "stream",
     "text": [
      "0.807731992011073\n",
      "0.8040534583190123\n"
     ]
    }
   ],
   "source": [
    "#過学習を抑えるためにパラメータ設定\n",
    "params= {\n",
    "    'min_samples_split':500,\n",
    "    'max_depth':10,\n",
    "#     'n_estimators':70,\n",
    "    'criterion':'entropy',\n",
    "    'class_weight':'balanced', #不均衡データ調整\n",
    "    'random_state':100\n",
    "}\n",
    "\n",
    "rf = RandomForestClassifier(**params)\n",
    "rf.fit(X_train, y_train)\n",
    "y_pred_train = rf.predict_proba(X_train)[:,1]\n",
    "print(roc_auc_score(y_train, y_pred_train))\n",
    "y_pred_test = rf.predict_proba(X_test)[:,1]\n",
    "print(roc_auc_score(y_test, y_pred_test))"
   ]
  },
  {
   "cell_type": "code",
   "execution_count": 65,
   "metadata": {},
   "outputs": [],
   "source": [
    "importances = pd.DataFrame({'features': X_train.columns, 'importance': rf.feature_importances_})"
   ]
  },
  {
   "cell_type": "code",
   "execution_count": 70,
   "metadata": {},
   "outputs": [
    {
     "data": {
      "text/html": [
       "<div>\n",
       "<style scoped>\n",
       "    .dataframe tbody tr th:only-of-type {\n",
       "        vertical-align: middle;\n",
       "    }\n",
       "\n",
       "    .dataframe tbody tr th {\n",
       "        vertical-align: top;\n",
       "    }\n",
       "\n",
       "    .dataframe thead th {\n",
       "        text-align: right;\n",
       "    }\n",
       "</style>\n",
       "<table border=\"1\" class=\"dataframe\">\n",
       "  <thead>\n",
       "    <tr style=\"text-align: right;\">\n",
       "      <th></th>\n",
       "      <th>features</th>\n",
       "      <th>importance</th>\n",
       "    </tr>\n",
       "  </thead>\n",
       "  <tbody>\n",
       "    <tr>\n",
       "      <th>3</th>\n",
       "      <td>単勝</td>\n",
       "      <td>0.409855</td>\n",
       "    </tr>\n",
       "    <tr>\n",
       "      <th>4</th>\n",
       "      <td>人気</td>\n",
       "      <td>0.371505</td>\n",
       "    </tr>\n",
       "    <tr>\n",
       "      <th>83</th>\n",
       "      <td>騎手_川田将雅</td>\n",
       "      <td>0.029780</td>\n",
       "    </tr>\n",
       "    <tr>\n",
       "      <th>14</th>\n",
       "      <td>騎手_ルメール</td>\n",
       "      <td>0.029272</td>\n",
       "    </tr>\n",
       "    <tr>\n",
       "      <th>6</th>\n",
       "      <td>体重</td>\n",
       "      <td>0.022168</td>\n",
       "    </tr>\n",
       "    <tr>\n",
       "      <th>139</th>\n",
       "      <td>騎手_福永祐一</td>\n",
       "      <td>0.013983</td>\n",
       "    </tr>\n",
       "    <tr>\n",
       "      <th>2</th>\n",
       "      <td>斤量</td>\n",
       "      <td>0.009188</td>\n",
       "    </tr>\n",
       "    <tr>\n",
       "      <th>5</th>\n",
       "      <td>齢</td>\n",
       "      <td>0.006499</td>\n",
       "    </tr>\n",
       "    <tr>\n",
       "      <th>115</th>\n",
       "      <td>騎手_武豊</td>\n",
       "      <td>0.005371</td>\n",
       "    </tr>\n",
       "    <tr>\n",
       "      <th>15</th>\n",
       "      <td>騎手_レーン</td>\n",
       "      <td>0.004445</td>\n",
       "    </tr>\n",
       "    <tr>\n",
       "      <th>113</th>\n",
       "      <td>騎手_武士沢友</td>\n",
       "      <td>0.004376</td>\n",
       "    </tr>\n",
       "    <tr>\n",
       "      <th>181</th>\n",
       "      <td>騎手_黛弘人</td>\n",
       "      <td>0.004221</td>\n",
       "    </tr>\n",
       "    <tr>\n",
       "      <th>7</th>\n",
       "      <td>体重増減</td>\n",
       "      <td>0.003703</td>\n",
       "    </tr>\n",
       "    <tr>\n",
       "      <th>118</th>\n",
       "      <td>騎手_江田照男</td>\n",
       "      <td>0.003656</td>\n",
       "    </tr>\n",
       "    <tr>\n",
       "      <th>92</th>\n",
       "      <td>騎手_木幡初也</td>\n",
       "      <td>0.003655</td>\n",
       "    </tr>\n",
       "    <tr>\n",
       "      <th>1</th>\n",
       "      <td>馬番</td>\n",
       "      <td>0.003322</td>\n",
       "    </tr>\n",
       "    <tr>\n",
       "      <th>8</th>\n",
       "      <td>course_len</td>\n",
       "      <td>0.003192</td>\n",
       "    </tr>\n",
       "    <tr>\n",
       "      <th>12</th>\n",
       "      <td>騎手_マーフィ</td>\n",
       "      <td>0.003146</td>\n",
       "    </tr>\n",
       "    <tr>\n",
       "      <th>97</th>\n",
       "      <td>騎手_松山弘平</td>\n",
       "      <td>0.002376</td>\n",
       "    </tr>\n",
       "    <tr>\n",
       "      <th>59</th>\n",
       "      <td>騎手_富田暁</td>\n",
       "      <td>0.002299</td>\n",
       "    </tr>\n",
       "  </tbody>\n",
       "</table>\n",
       "</div>"
      ],
      "text/plain": [
       "       features  importance\n",
       "3            単勝    0.409855\n",
       "4            人気    0.371505\n",
       "83      騎手_川田将雅    0.029780\n",
       "14      騎手_ルメール    0.029272\n",
       "6            体重    0.022168\n",
       "139     騎手_福永祐一    0.013983\n",
       "2            斤量    0.009188\n",
       "5             齢    0.006499\n",
       "115       騎手_武豊    0.005371\n",
       "15       騎手_レーン    0.004445\n",
       "113     騎手_武士沢友    0.004376\n",
       "181      騎手_黛弘人    0.004221\n",
       "7          体重増減    0.003703\n",
       "118     騎手_江田照男    0.003656\n",
       "92      騎手_木幡初也    0.003655\n",
       "1            馬番    0.003322\n",
       "8    course_len    0.003192\n",
       "12      騎手_マーフィ    0.003146\n",
       "97      騎手_松山弘平    0.002376\n",
       "59       騎手_富田暁    0.002299"
      ]
     },
     "execution_count": 70,
     "metadata": {},
     "output_type": "execute_result"
    }
   ],
   "source": [
    "importances.sort_values('importance', ascending=False)[:20]"
   ]
  },
  {
   "cell_type": "code",
   "execution_count": 69,
   "metadata": {},
   "outputs": [
    {
     "data": {
      "text/html": [
       "<div>\n",
       "<style scoped>\n",
       "    .dataframe tbody tr th:only-of-type {\n",
       "        vertical-align: middle;\n",
       "    }\n",
       "\n",
       "    .dataframe tbody tr th {\n",
       "        vertical-align: top;\n",
       "    }\n",
       "\n",
       "    .dataframe thead th {\n",
       "        text-align: right;\n",
       "    }\n",
       "</style>\n",
       "<table border=\"1\" class=\"dataframe\">\n",
       "  <thead>\n",
       "    <tr style=\"text-align: right;\">\n",
       "      <th></th>\n",
       "      <th>枠番</th>\n",
       "      <th>馬番</th>\n",
       "      <th>斤量</th>\n",
       "      <th>騎手</th>\n",
       "      <th>単勝</th>\n",
       "      <th>人気</th>\n",
       "      <th>性</th>\n",
       "      <th>齢</th>\n",
       "      <th>体重</th>\n",
       "      <th>体重増減</th>\n",
       "      <th>course_len</th>\n",
       "      <th>weather</th>\n",
       "      <th>race_type</th>\n",
       "      <th>ground_state</th>\n",
       "      <th>date</th>\n",
       "      <th>rank</th>\n",
       "    </tr>\n",
       "  </thead>\n",
       "  <tbody>\n",
       "    <tr>\n",
       "      <th>202001010101</th>\n",
       "      <td>6</td>\n",
       "      <td>6</td>\n",
       "      <td>54.0</td>\n",
       "      <td>横山武史</td>\n",
       "      <td>16.0</td>\n",
       "      <td>3.0</td>\n",
       "      <td>牝</td>\n",
       "      <td>2</td>\n",
       "      <td>438</td>\n",
       "      <td>4</td>\n",
       "      <td>1800</td>\n",
       "      <td>曇</td>\n",
       "      <td>芝</td>\n",
       "      <td>良</td>\n",
       "      <td>2020-07-25</td>\n",
       "      <td>1</td>\n",
       "    </tr>\n",
       "    <tr>\n",
       "      <th>202001010101</th>\n",
       "      <td>2</td>\n",
       "      <td>2</td>\n",
       "      <td>54.0</td>\n",
       "      <td>ルメール</td>\n",
       "      <td>1.9</td>\n",
       "      <td>2.0</td>\n",
       "      <td>牡</td>\n",
       "      <td>2</td>\n",
       "      <td>510</td>\n",
       "      <td>0</td>\n",
       "      <td>1800</td>\n",
       "      <td>曇</td>\n",
       "      <td>芝</td>\n",
       "      <td>良</td>\n",
       "      <td>2020-07-25</td>\n",
       "      <td>1</td>\n",
       "    </tr>\n",
       "    <tr>\n",
       "      <th>202001010101</th>\n",
       "      <td>3</td>\n",
       "      <td>3</td>\n",
       "      <td>54.0</td>\n",
       "      <td>池添謙一</td>\n",
       "      <td>1.8</td>\n",
       "      <td>1.0</td>\n",
       "      <td>牡</td>\n",
       "      <td>2</td>\n",
       "      <td>482</td>\n",
       "      <td>-6</td>\n",
       "      <td>1800</td>\n",
       "      <td>曇</td>\n",
       "      <td>芝</td>\n",
       "      <td>良</td>\n",
       "      <td>2020-07-25</td>\n",
       "      <td>1</td>\n",
       "    </tr>\n",
       "    <tr>\n",
       "      <th>202001010101</th>\n",
       "      <td>1</td>\n",
       "      <td>1</td>\n",
       "      <td>52.0</td>\n",
       "      <td>亀田温心</td>\n",
       "      <td>22.2</td>\n",
       "      <td>4.0</td>\n",
       "      <td>牝</td>\n",
       "      <td>2</td>\n",
       "      <td>442</td>\n",
       "      <td>0</td>\n",
       "      <td>1800</td>\n",
       "      <td>曇</td>\n",
       "      <td>芝</td>\n",
       "      <td>良</td>\n",
       "      <td>2020-07-25</td>\n",
       "      <td>0</td>\n",
       "    </tr>\n",
       "    <tr>\n",
       "      <th>202001010101</th>\n",
       "      <td>4</td>\n",
       "      <td>4</td>\n",
       "      <td>54.0</td>\n",
       "      <td>藤岡康太</td>\n",
       "      <td>55.7</td>\n",
       "      <td>5.0</td>\n",
       "      <td>牡</td>\n",
       "      <td>2</td>\n",
       "      <td>426</td>\n",
       "      <td>-8</td>\n",
       "      <td>1800</td>\n",
       "      <td>曇</td>\n",
       "      <td>芝</td>\n",
       "      <td>良</td>\n",
       "      <td>2020-07-25</td>\n",
       "      <td>0</td>\n",
       "    </tr>\n",
       "    <tr>\n",
       "      <th>...</th>\n",
       "      <td>...</td>\n",
       "      <td>...</td>\n",
       "      <td>...</td>\n",
       "      <td>...</td>\n",
       "      <td>...</td>\n",
       "      <td>...</td>\n",
       "      <td>...</td>\n",
       "      <td>...</td>\n",
       "      <td>...</td>\n",
       "      <td>...</td>\n",
       "      <td>...</td>\n",
       "      <td>...</td>\n",
       "      <td>...</td>\n",
       "      <td>...</td>\n",
       "      <td>...</td>\n",
       "      <td>...</td>\n",
       "    </tr>\n",
       "    <tr>\n",
       "      <th>202010020812</th>\n",
       "      <td>1</td>\n",
       "      <td>1</td>\n",
       "      <td>57.0</td>\n",
       "      <td>武豊</td>\n",
       "      <td>6.5</td>\n",
       "      <td>4.0</td>\n",
       "      <td>牡</td>\n",
       "      <td>4</td>\n",
       "      <td>476</td>\n",
       "      <td>-2</td>\n",
       "      <td>1700</td>\n",
       "      <td>雨</td>\n",
       "      <td>ダート</td>\n",
       "      <td>重</td>\n",
       "      <td>2020-09-06</td>\n",
       "      <td>0</td>\n",
       "    </tr>\n",
       "    <tr>\n",
       "      <th>202010020812</th>\n",
       "      <td>8</td>\n",
       "      <td>14</td>\n",
       "      <td>57.0</td>\n",
       "      <td>浜中俊</td>\n",
       "      <td>19.8</td>\n",
       "      <td>8.0</td>\n",
       "      <td>牡</td>\n",
       "      <td>4</td>\n",
       "      <td>522</td>\n",
       "      <td>-8</td>\n",
       "      <td>1700</td>\n",
       "      <td>雨</td>\n",
       "      <td>ダート</td>\n",
       "      <td>重</td>\n",
       "      <td>2020-09-06</td>\n",
       "      <td>0</td>\n",
       "    </tr>\n",
       "    <tr>\n",
       "      <th>202010020812</th>\n",
       "      <td>8</td>\n",
       "      <td>15</td>\n",
       "      <td>57.0</td>\n",
       "      <td>国分恭介</td>\n",
       "      <td>75.0</td>\n",
       "      <td>14.0</td>\n",
       "      <td>牡</td>\n",
       "      <td>5</td>\n",
       "      <td>510</td>\n",
       "      <td>0</td>\n",
       "      <td>1700</td>\n",
       "      <td>雨</td>\n",
       "      <td>ダート</td>\n",
       "      <td>重</td>\n",
       "      <td>2020-09-06</td>\n",
       "      <td>0</td>\n",
       "    </tr>\n",
       "    <tr>\n",
       "      <th>202010020812</th>\n",
       "      <td>2</td>\n",
       "      <td>3</td>\n",
       "      <td>55.0</td>\n",
       "      <td>太宰啓介</td>\n",
       "      <td>46.1</td>\n",
       "      <td>10.0</td>\n",
       "      <td>牝</td>\n",
       "      <td>4</td>\n",
       "      <td>488</td>\n",
       "      <td>-12</td>\n",
       "      <td>1700</td>\n",
       "      <td>雨</td>\n",
       "      <td>ダート</td>\n",
       "      <td>重</td>\n",
       "      <td>2020-09-06</td>\n",
       "      <td>0</td>\n",
       "    </tr>\n",
       "    <tr>\n",
       "      <th>202010020812</th>\n",
       "      <td>7</td>\n",
       "      <td>13</td>\n",
       "      <td>52.0</td>\n",
       "      <td>川又賢治</td>\n",
       "      <td>24.7</td>\n",
       "      <td>9.0</td>\n",
       "      <td>牝</td>\n",
       "      <td>3</td>\n",
       "      <td>468</td>\n",
       "      <td>2</td>\n",
       "      <td>1700</td>\n",
       "      <td>雨</td>\n",
       "      <td>ダート</td>\n",
       "      <td>重</td>\n",
       "      <td>2020-09-06</td>\n",
       "      <td>0</td>\n",
       "    </tr>\n",
       "  </tbody>\n",
       "</table>\n",
       "<p>43239 rows × 16 columns</p>\n",
       "</div>"
      ],
      "text/plain": [
       "              枠番  馬番    斤量    騎手    単勝    人気  性  齢   体重  体重増減  course_len  \\\n",
       "202001010101   6   6  54.0  横山武史  16.0   3.0  牝  2  438     4        1800   \n",
       "202001010101   2   2  54.0  ルメール   1.9   2.0  牡  2  510     0        1800   \n",
       "202001010101   3   3  54.0  池添謙一   1.8   1.0  牡  2  482    -6        1800   \n",
       "202001010101   1   1  52.0  亀田温心  22.2   4.0  牝  2  442     0        1800   \n",
       "202001010101   4   4  54.0  藤岡康太  55.7   5.0  牡  2  426    -8        1800   \n",
       "...           ..  ..   ...   ...   ...   ... .. ..  ...   ...         ...   \n",
       "202010020812   1   1  57.0    武豊   6.5   4.0  牡  4  476    -2        1700   \n",
       "202010020812   8  14  57.0   浜中俊  19.8   8.0  牡  4  522    -8        1700   \n",
       "202010020812   8  15  57.0  国分恭介  75.0  14.0  牡  5  510     0        1700   \n",
       "202010020812   2   3  55.0  太宰啓介  46.1  10.0  牝  4  488   -12        1700   \n",
       "202010020812   7  13  52.0  川又賢治  24.7   9.0  牝  3  468     2        1700   \n",
       "\n",
       "             weather race_type ground_state       date  rank  \n",
       "202001010101       曇         芝            良 2020-07-25     1  \n",
       "202001010101       曇         芝            良 2020-07-25     1  \n",
       "202001010101       曇         芝            良 2020-07-25     1  \n",
       "202001010101       曇         芝            良 2020-07-25     0  \n",
       "202001010101       曇         芝            良 2020-07-25     0  \n",
       "...              ...       ...          ...        ...   ...  \n",
       "202010020812       雨       ダート            重 2020-09-06     0  \n",
       "202010020812       雨       ダート            重 2020-09-06     0  \n",
       "202010020812       雨       ダート            重 2020-09-06     0  \n",
       "202010020812       雨       ダート            重 2020-09-06     0  \n",
       "202010020812       雨       ダート            重 2020-09-06     0  \n",
       "\n",
       "[43239 rows x 16 columns]"
      ]
     },
     "execution_count": 69,
     "metadata": {},
     "output_type": "execute_result"
    }
   ],
   "source": [
    "#単勝オッズが良いほど、人気が高いほど3着以内確率が高いという至極当たり前な結果。"
   ]
  },
  {
   "cell_type": "code",
   "execution_count": 88,
   "metadata": {},
   "outputs": [
    {
     "name": "stdout",
     "output_type": "stream",
     "text": [
      "[LightGBM] [Warning] min_data_in_leaf is set=300, min_child_samples=20 will be ignored. Current value: min_data_in_leaf=300\n",
      "0.805986543604988\n",
      "0.8111897683838226\n"
     ]
    }
   ],
   "source": [
    "#勾配ブースティング木\n",
    "import lightgbm as lgb\n",
    "\n",
    "params = {\n",
    "    'num_leaves':3, #デフォルトは34\n",
    "    'n_estimators':70,\n",
    "    'min_data_in_leaf':300,\n",
    "#     'class_weight':'balanced',\n",
    "    'random_state':100\n",
    "}\n",
    "\n",
    "lgb_clf = lgb.LGBMClassifier(**params)\n",
    "lgb_clf.fit(X_train.values, y_train.values) #値に日本語が入っているとエラー\n",
    "\n",
    "y_pred_train = lgb_clf.predict_proba(X_train)[:,1]\n",
    "print(roc_auc_score(y_train, y_pred_train))\n",
    "y_pred = lgb_clf.predict_proba(X_test)[:,1]\n",
    "print(roc_auc_score(y_test, y_pred))"
   ]
  },
  {
   "cell_type": "code",
   "execution_count": 89,
   "metadata": {},
   "outputs": [
    {
     "data": {
      "text/html": [
       "<div>\n",
       "<style scoped>\n",
       "    .dataframe tbody tr th:only-of-type {\n",
       "        vertical-align: middle;\n",
       "    }\n",
       "\n",
       "    .dataframe tbody tr th {\n",
       "        vertical-align: top;\n",
       "    }\n",
       "\n",
       "    .dataframe thead th {\n",
       "        text-align: right;\n",
       "    }\n",
       "</style>\n",
       "<table border=\"1\" class=\"dataframe\">\n",
       "  <thead>\n",
       "    <tr style=\"text-align: right;\">\n",
       "      <th></th>\n",
       "      <th>features</th>\n",
       "      <th>importance</th>\n",
       "    </tr>\n",
       "  </thead>\n",
       "  <tbody>\n",
       "    <tr>\n",
       "      <th>3</th>\n",
       "      <td>単勝</td>\n",
       "      <td>0.409855</td>\n",
       "    </tr>\n",
       "    <tr>\n",
       "      <th>4</th>\n",
       "      <td>人気</td>\n",
       "      <td>0.371505</td>\n",
       "    </tr>\n",
       "    <tr>\n",
       "      <th>83</th>\n",
       "      <td>騎手_川田将雅</td>\n",
       "      <td>0.029780</td>\n",
       "    </tr>\n",
       "    <tr>\n",
       "      <th>14</th>\n",
       "      <td>騎手_ルメール</td>\n",
       "      <td>0.029272</td>\n",
       "    </tr>\n",
       "    <tr>\n",
       "      <th>6</th>\n",
       "      <td>体重</td>\n",
       "      <td>0.022168</td>\n",
       "    </tr>\n",
       "    <tr>\n",
       "      <th>139</th>\n",
       "      <td>騎手_福永祐一</td>\n",
       "      <td>0.013983</td>\n",
       "    </tr>\n",
       "    <tr>\n",
       "      <th>2</th>\n",
       "      <td>斤量</td>\n",
       "      <td>0.009188</td>\n",
       "    </tr>\n",
       "    <tr>\n",
       "      <th>5</th>\n",
       "      <td>齢</td>\n",
       "      <td>0.006499</td>\n",
       "    </tr>\n",
       "    <tr>\n",
       "      <th>115</th>\n",
       "      <td>騎手_武豊</td>\n",
       "      <td>0.005371</td>\n",
       "    </tr>\n",
       "    <tr>\n",
       "      <th>15</th>\n",
       "      <td>騎手_レーン</td>\n",
       "      <td>0.004445</td>\n",
       "    </tr>\n",
       "    <tr>\n",
       "      <th>113</th>\n",
       "      <td>騎手_武士沢友</td>\n",
       "      <td>0.004376</td>\n",
       "    </tr>\n",
       "    <tr>\n",
       "      <th>181</th>\n",
       "      <td>騎手_黛弘人</td>\n",
       "      <td>0.004221</td>\n",
       "    </tr>\n",
       "    <tr>\n",
       "      <th>7</th>\n",
       "      <td>体重増減</td>\n",
       "      <td>0.003703</td>\n",
       "    </tr>\n",
       "    <tr>\n",
       "      <th>118</th>\n",
       "      <td>騎手_江田照男</td>\n",
       "      <td>0.003656</td>\n",
       "    </tr>\n",
       "    <tr>\n",
       "      <th>92</th>\n",
       "      <td>騎手_木幡初也</td>\n",
       "      <td>0.003655</td>\n",
       "    </tr>\n",
       "    <tr>\n",
       "      <th>1</th>\n",
       "      <td>馬番</td>\n",
       "      <td>0.003322</td>\n",
       "    </tr>\n",
       "    <tr>\n",
       "      <th>8</th>\n",
       "      <td>course_len</td>\n",
       "      <td>0.003192</td>\n",
       "    </tr>\n",
       "    <tr>\n",
       "      <th>12</th>\n",
       "      <td>騎手_マーフィ</td>\n",
       "      <td>0.003146</td>\n",
       "    </tr>\n",
       "    <tr>\n",
       "      <th>97</th>\n",
       "      <td>騎手_松山弘平</td>\n",
       "      <td>0.002376</td>\n",
       "    </tr>\n",
       "    <tr>\n",
       "      <th>59</th>\n",
       "      <td>騎手_富田暁</td>\n",
       "      <td>0.002299</td>\n",
       "    </tr>\n",
       "  </tbody>\n",
       "</table>\n",
       "</div>"
      ],
      "text/plain": [
       "       features  importance\n",
       "3            単勝    0.409855\n",
       "4            人気    0.371505\n",
       "83      騎手_川田将雅    0.029780\n",
       "14      騎手_ルメール    0.029272\n",
       "6            体重    0.022168\n",
       "139     騎手_福永祐一    0.013983\n",
       "2            斤量    0.009188\n",
       "5             齢    0.006499\n",
       "115       騎手_武豊    0.005371\n",
       "15       騎手_レーン    0.004445\n",
       "113     騎手_武士沢友    0.004376\n",
       "181      騎手_黛弘人    0.004221\n",
       "7          体重増減    0.003703\n",
       "118     騎手_江田照男    0.003656\n",
       "92      騎手_木幡初也    0.003655\n",
       "1            馬番    0.003322\n",
       "8    course_len    0.003192\n",
       "12      騎手_マーフィ    0.003146\n",
       "97      騎手_松山弘平    0.002376\n",
       "59       騎手_富田暁    0.002299"
      ]
     },
     "execution_count": 89,
     "metadata": {},
     "output_type": "execute_result"
    }
   ],
   "source": [
    "importances = pd.DataFrame({'features': X_train.columns, 'importance': rf.feature_importances_})\n",
    "importances.sort_values('importance', ascending=False)[:20]"
   ]
  },
  {
   "cell_type": "code",
   "execution_count": null,
   "metadata": {},
   "outputs": [],
   "source": []
  }
 ],
 "metadata": {
  "kernelspec": {
   "display_name": "Python 3",
   "language": "python",
   "name": "python3"
  },
  "language_info": {
   "codemirror_mode": {
    "name": "ipython",
    "version": 3
   },
   "file_extension": ".py",
   "mimetype": "text/x-python",
   "name": "python",
   "nbconvert_exporter": "python",
   "pygments_lexer": "ipython3",
   "version": "3.7.6"
  }
 },
 "nbformat": 4,
 "nbformat_minor": 4
}
