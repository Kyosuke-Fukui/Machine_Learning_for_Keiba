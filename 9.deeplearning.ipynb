{
 "cells": [
  {
   "cell_type": "code",
   "execution_count": 1,
   "metadata": {},
   "outputs": [],
   "source": [
    "#ニューラルネットワーク\n",
    "#入力x1,x2,,,,に対してw1x1+w2x2+,,,がΘを超えたら1超えなければ0を出力（つまりy=1(w1x1+w2x2+,,,+b)>=0, y=0(w1x1+w2x2+,,,+b)<0)）\n",
    "#関数はシグモイド関数を使って表す"
   ]
  },
  {
   "cell_type": "code",
   "execution_count": 3,
   "metadata": {},
   "outputs": [
    {
     "data": {
      "text/plain": [
       "[<matplotlib.lines.Line2D at 0x1592690e788>]"
      ]
     },
     "execution_count": 3,
     "metadata": {},
     "output_type": "execute_result"
    },
    {
     "data": {
      "image/png": "[encoded data removed]",
      "text/plain": [
       "<Figure size 432x288 with 1 Axes>"
      ]
     },
     "metadata": {
      "needs_background": "light"
     },
     "output_type": "display_data"
    }
   ],
   "source": [
    "import numpy as np\n",
    "import matplotlib.pyplot as plt\n",
    "\n",
    "def sigmoid(x):\n",
    "    return 1/(1+np.exp(-x))\n",
    "\n",
    "x = np.arange(-10, 10, 0.1)\n",
    "plt.plot(x, sigmoid(x))"
   ]
  },
  {
   "cell_type": "code",
   "execution_count": 5,
   "metadata": {},
   "outputs": [
    {
     "data": {
      "text/plain": [
       "tensor([[0., 0.],\n",
       "        [0., 1.],\n",
       "        [1., 0.],\n",
       "        [1., 1.]])"
      ]
     },
     "execution_count": 5,
     "metadata": {},
     "output_type": "execute_result"
    }
   ],
   "source": [
    "import torch\n",
    "#orゲート\n",
    "#入力\n",
    "X = torch.Tensor([[0,0],[0,1],[1,0],[1,1]]) #[x1,x2]\n",
    "#正解データ\n",
    "t = torch.Tensor([[0],[1],[1],[1]])\n",
    "#入力が[0,0]のとき出力が0.それ以外はすべて1になる\n",
    "X"
   ]
  },
  {
   "cell_type": "code",
   "execution_count": 6,
   "metadata": {},
   "outputs": [
    {
     "data": {
      "text/plain": [
       "tensor([[0.],\n",
       "        [1.],\n",
       "        [1.],\n",
       "        [1.]])"
      ]
     },
     "execution_count": 6,
     "metadata": {},
     "output_type": "execute_result"
    }
   ],
   "source": [
    "t"
   ]
  },
  {
   "cell_type": "code",
   "execution_count": 11,
   "metadata": {},
   "outputs": [],
   "source": [
    "from torch import nn\n",
    "\n",
    "model = nn.Sequential(\n",
    "    nn.Linear(2,1), #入力2,出力1\n",
    "    nn.Sigmoid()\n",
    ")"
   ]
  },
  {
   "cell_type": "code",
   "execution_count": 13,
   "metadata": {},
   "outputs": [
    {
     "data": {
      "text/plain": [
       "tensor([[0.4745],\n",
       "        [0.5271],\n",
       "        [0.3972],\n",
       "        [0.4485]], grad_fn=<SigmoidBackward>)"
      ]
     },
     "execution_count": 13,
     "metadata": {},
     "output_type": "execute_result"
    }
   ],
   "source": [
    "y = model(X)\n",
    "y\n",
    "\n",
    "#正解とは全然違う値が返る"
   ]
  },
  {
   "cell_type": "code",
   "execution_count": 14,
   "metadata": {},
   "outputs": [],
   "source": [
    "#学習させる\n",
    "##平均二乗誤差　E（w1, w2, b）=1/4Σ(tn-yn)^2を最小化するようにw1, w2, bを学習させる。\n",
    "##このEを損失関数という。\n",
    "##勾配降下法（各パラメータの偏微分を使う）　w1←w1-η*(w1の偏微分)　η(エータ):学習率\n",
    "\n",
    "from torch import optim\n",
    "\n",
    "optimizer = optim.SGD(model.parameters(), lr=0.1)"
   ]
  },
  {
   "cell_type": "code",
   "execution_count": 16,
   "metadata": {},
   "outputs": [
    {
     "data": {
      "text/plain": [
       "tensor(0.2791, grad_fn=<MseLossBackward>)"
      ]
     },
     "execution_count": 16,
     "metadata": {},
     "output_type": "execute_result"
    }
   ],
   "source": [
    "loss_fn = nn.MSELoss()\n",
    "loss_fn(y, t)"
   ]
  },
  {
   "cell_type": "code",
   "execution_count": 17,
   "metadata": {},
   "outputs": [
    {
     "name": "stderr",
     "output_type": "stream",
     "text": [
      "C:\\Users\\owner\\anaconda3\\lib\\site-packages\\torch\\autograd\\__init__.py:132: UserWarning: CUDA initialization: Found no NVIDIA driver on your system. Please check that you have an NVIDIA GPU and installed a driver from http://www.nvidia.com/Download/index.aspx (Triggered internally at  ..\\c10\\cuda\\CUDAFunctions.cpp:100.)\n",
      "  allow_unreachable=True)  # allow_unreachable flag\n"
     ]
    }
   ],
   "source": [
    "model.train()\n",
    "for epoch in range(5000):\n",
    "    optimizer.zero_grad() # 一度計算された勾配結果を0にリセット\n",
    "    y = model(X)\n",
    "    loss = loss_fn(y, t) #平均二乗誤差\n",
    "    \n",
    "    loss.backward() #傾きを計算\n",
    "    optimizer.step()"
   ]
  },
  {
   "cell_type": "code",
   "execution_count": 18,
   "metadata": {},
   "outputs": [
    {
     "data": {
      "text/plain": [
       "tensor([[0.1208],\n",
       "        [0.9259],\n",
       "        [0.9258],\n",
       "        [0.9991]], grad_fn=<SigmoidBackward>)"
      ]
     },
     "execution_count": 18,
     "metadata": {},
     "output_type": "execute_result"
    }
   ],
   "source": [
    "model(X)"
   ]
  },
  {
   "cell_type": "code",
   "execution_count": 19,
   "metadata": {},
   "outputs": [
    {
     "data": {
      "text/plain": [
       "tensor(0.0064, grad_fn=<MseLossBackward>)"
      ]
     },
     "execution_count": 19,
     "metadata": {},
     "output_type": "execute_result"
    }
   ],
   "source": [
    "loss_fn(model(X), t)"
   ]
  },
  {
   "cell_type": "code",
   "execution_count": 20,
   "metadata": {},
   "outputs": [],
   "source": [
    "#XORゲート\n",
    "#入力\n",
    "X = torch.Tensor([[0,0],[0,1],[1,0],[1,1]]) #[x1,x2]\n",
    "#正解データ\n",
    "t = torch.Tensor([[0],[1],[1],[0]])\n",
    "\n",
    "model = nn.Sequential(\n",
    "    nn.Linear(2,1), #入力2,出力1\n",
    "    nn.Sigmoid()\n",
    ")\n",
    "\n",
    "optimizer = optim.SGD(model.parameters(), lr=0.1)\n",
    "loss_fn = nn.MSELoss()\n",
    "loss_fn(y, t)\n",
    "\n",
    "model.train()\n",
    "for epoch in range(5000):\n",
    "    optimizer.zero_grad() # 一度計算された勾配結果を0にリセット\n",
    "    y = model(X)\n",
    "    loss = loss_fn(y, t) #平均二乗誤差\n",
    "    \n",
    "    loss.backward() #傾きを計算\n",
    "    optimizer.step()"
   ]
  },
  {
   "cell_type": "code",
   "execution_count": 21,
   "metadata": {},
   "outputs": [
    {
     "data": {
      "text/plain": [
       "tensor([[0.5000],\n",
       "        [0.5000],\n",
       "        [0.5000],\n",
       "        [0.5000]], grad_fn=<SigmoidBackward>)"
      ]
     },
     "execution_count": 21,
     "metadata": {},
     "output_type": "execute_result"
    }
   ],
   "source": [
    "model(X) #一本の直線で1と0を分離できないため学習できない→間に層を入れて値を変換し、分離できるようにする→Deep Learning"
   ]
  },
  {
   "cell_type": "code",
   "execution_count": 23,
   "metadata": {},
   "outputs": [],
   "source": [
    "model = nn.Sequential(\n",
    "    nn.Linear(2,2), #入力2,出力2の層を１つ増やす\n",
    "    nn.Sigmoid(),\n",
    "    nn.Linear(2,1), #入力2,出力1\n",
    "    nn.Sigmoid()\n",
    ")\n",
    "\n",
    "y = model(X)\n",
    "\n",
    "optimizer = optim.SGD(model.parameters(), lr=0.05)\n",
    "loss_fn = nn.MSELoss()\n",
    "loss_fn(y, t)\n",
    "\n",
    "model.train()\n",
    "for epoch in range(30000):\n",
    "    optimizer.zero_grad() # 一度計算された勾配結果を0にリセット\n",
    "    y = model(X)\n",
    "    loss = loss_fn(y, t) #平均二乗誤差\n",
    "    \n",
    "    loss.backward() #傾きを計算\n",
    "    optimizer.step()"
   ]
  },
  {
   "cell_type": "code",
   "execution_count": 24,
   "metadata": {},
   "outputs": [
    {
     "data": {
      "text/plain": [
       "tensor([[0.0747],\n",
       "        [0.9310],\n",
       "        [0.9310],\n",
       "        [0.0741]], grad_fn=<SigmoidBackward>)"
      ]
     },
     "execution_count": 24,
     "metadata": {},
     "output_type": "execute_result"
    }
   ],
   "source": [
    "model(X)"
   ]
  },
  {
   "cell_type": "code",
   "execution_count": 26,
   "metadata": {},
   "outputs": [],
   "source": [
    "##競馬データ\n",
    "import pandas as pd\n",
    "\n",
    "results = pd.read_pickle('result_addinfo_p.pickle')\n",
    "horse_data = pd.read_pickle('horse_data.pickle')"
   ]
  },
  {
   "cell_type": "code",
   "execution_count": 27,
   "metadata": {},
   "outputs": [],
   "source": [
    "from tqdm.notebook import tqdm_notebook as tqdm\n",
    "\n",
    "class HorseResults:\n",
    "    def __init__(self, horse_results):\n",
    "        self.horse_results = horse_results[['日付','R','賞金']]\n",
    "        self.preprocessing()\n",
    "        \n",
    "        \n",
    "    def preprocessing(self): #特に引数がない場合はselfのみ\n",
    "        result = self.horse_results.copy()\n",
    "        #着順の0-9以外の文字を含むデータを除く\n",
    "        #result = result[-result[\"R\"].astype(str).str.contains(\"\\D\")] \n",
    "        result[\"着順\"] = result[\"R\"].astype(float)\n",
    "        result[\"賞金\"].fillna(0, inplace=True)\n",
    "        result[\"賞金\"] = result[\"賞金\"].astype(float)\n",
    "        result[\"日付\"] = pd.to_datetime(result[\"日付\"])\n",
    "        result.drop([\"R\"],axis=1, inplace=True)\n",
    "        \n",
    "        self.horse_results = result\n",
    "        \n",
    "    def average(self, horse_id_list, date, n_samples='all'):\n",
    "        self.horse_results.rename(columns={'着順':'着順_ave','賞金':'賞金_ave'}, inplace=True)\n",
    "        target_df = self.horse_results.loc[horse_id_list]\n",
    "        #平均する対象をレース日付以前のうち直近n_samplesのデータのみに限定する（古いデータを反映させないため）\n",
    "        if n_samples=='all':\n",
    "            filtered_df = target_df[target_df['日付'] < date]\n",
    "        elif n_samples > 0:\n",
    "            filtered_df = target_df[target_df['日付'] < date].\\\n",
    "                sort_values('日付',ascending=False).groupby(level=0).head(n_samples)\n",
    "        else:\n",
    "            raise Exception('n_samples must be >0')\n",
    "        \n",
    "        return filtered_df.groupby(level=0)[['着順_ave','賞金_ave']].mean()\n",
    "    \n",
    "    def merge(self, results, date, n_samples='all'):\n",
    "        df = results[results['date'] == date]\n",
    "        horse_id_list = df['horse_id']\n",
    "        merged_df = df.merge(self.average(horse_id_list, date, n_samples), left_on='horse_id', right_index=True, how='left')\n",
    "        return merged_df\n",
    "    \n",
    "    def merge_all(self, results, n_samples='all'):\n",
    "        date_list = results['date'].unique()\n",
    "        #レース結果の同じ日付のかたまりごとに1行ずつhorse_idにひもづくその日付以前の戦績の平均を算出し（average）、\n",
    "        # レース結果のかたまりにマージする(merge)という意味\n",
    "        merged_df = pd.concat([self.merge(results, date, n_samples) for date in tqdm(date_list)]) \n",
    "        return merged_df"
   ]
  },
  {
   "cell_type": "code",
   "execution_count": 68,
   "metadata": {},
   "outputs": [
    {
     "data": {
      "application/vnd.jupyter.widget-view+json": {
       "model_id": "7c42874366624d34ab32c8e95d629472",
       "version_major": 2,
       "version_minor": 0
      },
      "text/plain": [
       "HBox(children=(FloatProgress(value=0.0, max=104.0), HTML(value='')))"
      ]
     },
     "metadata": {},
     "output_type": "display_data"
    },
    {
     "name": "stdout",
     "output_type": "stream",
     "text": [
      "\n"
     ]
    }
   ],
   "source": [
    "hr = HorseResults(horse_data)\n",
    "results_5R = hr.merge_all(results, 5)"
   ]
  },
  {
   "cell_type": "code",
   "execution_count": 69,
   "metadata": {},
   "outputs": [
    {
     "data": {
      "text/html": [
       "<div>\n",
       "<style scoped>\n",
       "    .dataframe tbody tr th:only-of-type {\n",
       "        vertical-align: middle;\n",
       "    }\n",
       "\n",
       "    .dataframe tbody tr th {\n",
       "        vertical-align: top;\n",
       "    }\n",
       "\n",
       "    .dataframe thead th {\n",
       "        text-align: right;\n",
       "    }\n",
       "</style>\n",
       "<table border=\"1\" class=\"dataframe\">\n",
       "  <thead>\n",
       "    <tr style=\"text-align: right;\">\n",
       "      <th></th>\n",
       "      <th>枠番</th>\n",
       "      <th>馬番</th>\n",
       "      <th>斤量</th>\n",
       "      <th>騎手</th>\n",
       "      <th>単勝</th>\n",
       "      <th>人気</th>\n",
       "      <th>性</th>\n",
       "      <th>齢</th>\n",
       "      <th>体重</th>\n",
       "      <th>体重増減</th>\n",
       "      <th>course_len</th>\n",
       "      <th>weather</th>\n",
       "      <th>race_type</th>\n",
       "      <th>ground_state</th>\n",
       "      <th>date</th>\n",
       "      <th>着順_ave</th>\n",
       "      <th>賞金_ave</th>\n",
       "      <th>rank</th>\n",
       "    </tr>\n",
       "  </thead>\n",
       "  <tbody>\n",
       "    <tr>\n",
       "      <th>202001010101</th>\n",
       "      <td>6</td>\n",
       "      <td>6</td>\n",
       "      <td>54.0</td>\n",
       "      <td>横山武史</td>\n",
       "      <td>16.0</td>\n",
       "      <td>3.0</td>\n",
       "      <td>牝</td>\n",
       "      <td>2</td>\n",
       "      <td>438</td>\n",
       "      <td>4</td>\n",
       "      <td>1800</td>\n",
       "      <td>曇</td>\n",
       "      <td>芝</td>\n",
       "      <td>良</td>\n",
       "      <td>2020-07-25</td>\n",
       "      <td>6.0</td>\n",
       "      <td>0.00</td>\n",
       "      <td>1</td>\n",
       "    </tr>\n",
       "    <tr>\n",
       "      <th>202001010101</th>\n",
       "      <td>2</td>\n",
       "      <td>2</td>\n",
       "      <td>54.0</td>\n",
       "      <td>ルメール</td>\n",
       "      <td>1.9</td>\n",
       "      <td>2.0</td>\n",
       "      <td>牡</td>\n",
       "      <td>2</td>\n",
       "      <td>510</td>\n",
       "      <td>0</td>\n",
       "      <td>1800</td>\n",
       "      <td>曇</td>\n",
       "      <td>芝</td>\n",
       "      <td>良</td>\n",
       "      <td>2020-07-25</td>\n",
       "      <td>5.0</td>\n",
       "      <td>280.00</td>\n",
       "      <td>1</td>\n",
       "    </tr>\n",
       "    <tr>\n",
       "      <th>202001010101</th>\n",
       "      <td>3</td>\n",
       "      <td>3</td>\n",
       "      <td>54.0</td>\n",
       "      <td>池添謙一</td>\n",
       "      <td>1.8</td>\n",
       "      <td>1.0</td>\n",
       "      <td>牡</td>\n",
       "      <td>2</td>\n",
       "      <td>482</td>\n",
       "      <td>-6</td>\n",
       "      <td>1800</td>\n",
       "      <td>曇</td>\n",
       "      <td>芝</td>\n",
       "      <td>良</td>\n",
       "      <td>2020-07-25</td>\n",
       "      <td>5.0</td>\n",
       "      <td>280.00</td>\n",
       "      <td>1</td>\n",
       "    </tr>\n",
       "    <tr>\n",
       "      <th>202001010101</th>\n",
       "      <td>1</td>\n",
       "      <td>1</td>\n",
       "      <td>52.0</td>\n",
       "      <td>亀田温心</td>\n",
       "      <td>22.2</td>\n",
       "      <td>4.0</td>\n",
       "      <td>牝</td>\n",
       "      <td>2</td>\n",
       "      <td>442</td>\n",
       "      <td>0</td>\n",
       "      <td>1800</td>\n",
       "      <td>曇</td>\n",
       "      <td>芝</td>\n",
       "      <td>良</td>\n",
       "      <td>2020-07-25</td>\n",
       "      <td>5.0</td>\n",
       "      <td>70.00</td>\n",
       "      <td>0</td>\n",
       "    </tr>\n",
       "    <tr>\n",
       "      <th>202001010101</th>\n",
       "      <td>4</td>\n",
       "      <td>4</td>\n",
       "      <td>54.0</td>\n",
       "      <td>藤岡康太</td>\n",
       "      <td>55.7</td>\n",
       "      <td>5.0</td>\n",
       "      <td>牡</td>\n",
       "      <td>2</td>\n",
       "      <td>426</td>\n",
       "      <td>-8</td>\n",
       "      <td>1800</td>\n",
       "      <td>曇</td>\n",
       "      <td>芝</td>\n",
       "      <td>良</td>\n",
       "      <td>2020-07-25</td>\n",
       "      <td>5.0</td>\n",
       "      <td>0.00</td>\n",
       "      <td>0</td>\n",
       "    </tr>\n",
       "    <tr>\n",
       "      <th>...</th>\n",
       "      <td>...</td>\n",
       "      <td>...</td>\n",
       "      <td>...</td>\n",
       "      <td>...</td>\n",
       "      <td>...</td>\n",
       "      <td>...</td>\n",
       "      <td>...</td>\n",
       "      <td>...</td>\n",
       "      <td>...</td>\n",
       "      <td>...</td>\n",
       "      <td>...</td>\n",
       "      <td>...</td>\n",
       "      <td>...</td>\n",
       "      <td>...</td>\n",
       "      <td>...</td>\n",
       "      <td>...</td>\n",
       "      <td>...</td>\n",
       "      <td>...</td>\n",
       "    </tr>\n",
       "    <tr>\n",
       "      <th>202010010412</th>\n",
       "      <td>1</td>\n",
       "      <td>1</td>\n",
       "      <td>56.0</td>\n",
       "      <td>中井裕二</td>\n",
       "      <td>114.0</td>\n",
       "      <td>14.0</td>\n",
       "      <td>牡</td>\n",
       "      <td>4</td>\n",
       "      <td>452</td>\n",
       "      <td>-6</td>\n",
       "      <td>1200</td>\n",
       "      <td>曇</td>\n",
       "      <td>芝</td>\n",
       "      <td>重</td>\n",
       "      <td>2020-01-26</td>\n",
       "      <td>8.6</td>\n",
       "      <td>0.00</td>\n",
       "      <td>0</td>\n",
       "    </tr>\n",
       "    <tr>\n",
       "      <th>202010010412</th>\n",
       "      <td>6</td>\n",
       "      <td>12</td>\n",
       "      <td>57.0</td>\n",
       "      <td>黛弘人</td>\n",
       "      <td>110.9</td>\n",
       "      <td>13.0</td>\n",
       "      <td>牡</td>\n",
       "      <td>5</td>\n",
       "      <td>472</td>\n",
       "      <td>-4</td>\n",
       "      <td>1200</td>\n",
       "      <td>曇</td>\n",
       "      <td>芝</td>\n",
       "      <td>重</td>\n",
       "      <td>2020-01-26</td>\n",
       "      <td>7.2</td>\n",
       "      <td>0.00</td>\n",
       "      <td>0</td>\n",
       "    </tr>\n",
       "    <tr>\n",
       "      <th>202010010412</th>\n",
       "      <td>5</td>\n",
       "      <td>9</td>\n",
       "      <td>54.0</td>\n",
       "      <td>横山武史</td>\n",
       "      <td>5.1</td>\n",
       "      <td>2.0</td>\n",
       "      <td>牝</td>\n",
       "      <td>4</td>\n",
       "      <td>478</td>\n",
       "      <td>10</td>\n",
       "      <td>1200</td>\n",
       "      <td>曇</td>\n",
       "      <td>芝</td>\n",
       "      <td>重</td>\n",
       "      <td>2020-01-26</td>\n",
       "      <td>9.4</td>\n",
       "      <td>153.52</td>\n",
       "      <td>0</td>\n",
       "    </tr>\n",
       "    <tr>\n",
       "      <th>202010010412</th>\n",
       "      <td>8</td>\n",
       "      <td>16</td>\n",
       "      <td>54.0</td>\n",
       "      <td>柴田大知</td>\n",
       "      <td>115.3</td>\n",
       "      <td>15.0</td>\n",
       "      <td>牝</td>\n",
       "      <td>4</td>\n",
       "      <td>512</td>\n",
       "      <td>-6</td>\n",
       "      <td>1200</td>\n",
       "      <td>曇</td>\n",
       "      <td>芝</td>\n",
       "      <td>重</td>\n",
       "      <td>2020-01-26</td>\n",
       "      <td>5.2</td>\n",
       "      <td>0.00</td>\n",
       "      <td>0</td>\n",
       "    </tr>\n",
       "    <tr>\n",
       "      <th>202010010412</th>\n",
       "      <td>2</td>\n",
       "      <td>3</td>\n",
       "      <td>57.0</td>\n",
       "      <td>的場勇人</td>\n",
       "      <td>172.3</td>\n",
       "      <td>17.0</td>\n",
       "      <td>牡</td>\n",
       "      <td>8</td>\n",
       "      <td>486</td>\n",
       "      <td>4</td>\n",
       "      <td>1200</td>\n",
       "      <td>曇</td>\n",
       "      <td>芝</td>\n",
       "      <td>重</td>\n",
       "      <td>2020-01-26</td>\n",
       "      <td>8.8</td>\n",
       "      <td>0.00</td>\n",
       "      <td>0</td>\n",
       "    </tr>\n",
       "  </tbody>\n",
       "</table>\n",
       "<p>43239 rows × 18 columns</p>\n",
       "</div>"
      ],
      "text/plain": [
       "              枠番  馬番    斤量    騎手     単勝    人気  性  齢   体重  体重増減 course_len  \\\n",
       "202001010101   6   6  54.0  横山武史   16.0   3.0  牝  2  438     4       1800   \n",
       "202001010101   2   2  54.0  ルメール    1.9   2.0  牡  2  510     0       1800   \n",
       "202001010101   3   3  54.0  池添謙一    1.8   1.0  牡  2  482    -6       1800   \n",
       "202001010101   1   1  52.0  亀田温心   22.2   4.0  牝  2  442     0       1800   \n",
       "202001010101   4   4  54.0  藤岡康太   55.7   5.0  牡  2  426    -8       1800   \n",
       "...           ..  ..   ...   ...    ...   ... .. ..  ...   ...        ...   \n",
       "202010010412   1   1  56.0  中井裕二  114.0  14.0  牡  4  452    -6       1200   \n",
       "202010010412   6  12  57.0   黛弘人  110.9  13.0  牡  5  472    -4       1200   \n",
       "202010010412   5   9  54.0  横山武史    5.1   2.0  牝  4  478    10       1200   \n",
       "202010010412   8  16  54.0  柴田大知  115.3  15.0  牝  4  512    -6       1200   \n",
       "202010010412   2   3  57.0  的場勇人  172.3  17.0  牡  8  486     4       1200   \n",
       "\n",
       "             weather race_type ground_state       date  着順_ave  賞金_ave  rank  \n",
       "202001010101       曇         芝            良 2020-07-25     6.0    0.00     1  \n",
       "202001010101       曇         芝            良 2020-07-25     5.0  280.00     1  \n",
       "202001010101       曇         芝            良 2020-07-25     5.0  280.00     1  \n",
       "202001010101       曇         芝            良 2020-07-25     5.0   70.00     0  \n",
       "202001010101       曇         芝            良 2020-07-25     5.0    0.00     0  \n",
       "...              ...       ...          ...        ...     ...     ...   ...  \n",
       "202010010412       曇         芝            重 2020-01-26     8.6    0.00     0  \n",
       "202010010412       曇         芝            重 2020-01-26     7.2    0.00     0  \n",
       "202010010412       曇         芝            重 2020-01-26     9.4  153.52     0  \n",
       "202010010412       曇         芝            重 2020-01-26     5.2    0.00     0  \n",
       "202010010412       曇         芝            重 2020-01-26     8.8    0.00     0  \n",
       "\n",
       "[43239 rows x 18 columns]"
      ]
     },
     "execution_count": 69,
     "metadata": {},
     "output_type": "execute_result"
    }
   ],
   "source": [
    "results_5R[\"rank\"] = results_5R[\"着順\"].map(lambda x:1 if x <4 else 0)\n",
    "results_5R.drop([\"馬名\",\"着順\",\"horse_id\",\"jockey_id\"],axis=1, inplace=True)\n",
    "results_5R"
   ]
  },
  {
   "cell_type": "code",
   "execution_count": 78,
   "metadata": {},
   "outputs": [],
   "source": [
    "results_d = pd.get_dummies(results_5R).fillna(0)"
   ]
  },
  {
   "cell_type": "code",
   "execution_count": 79,
   "metadata": {},
   "outputs": [
    {
     "data": {
      "text/html": [
       "<div>\n",
       "<style scoped>\n",
       "    .dataframe tbody tr th:only-of-type {\n",
       "        vertical-align: middle;\n",
       "    }\n",
       "\n",
       "    .dataframe tbody tr th {\n",
       "        vertical-align: top;\n",
       "    }\n",
       "\n",
       "    .dataframe thead th {\n",
       "        text-align: right;\n",
       "    }\n",
       "</style>\n",
       "<table border=\"1\" class=\"dataframe\">\n",
       "  <thead>\n",
       "    <tr style=\"text-align: right;\">\n",
       "      <th></th>\n",
       "      <th>枠番</th>\n",
       "      <th>馬番</th>\n",
       "      <th>斤量</th>\n",
       "      <th>単勝</th>\n",
       "      <th>人気</th>\n",
       "      <th>齢</th>\n",
       "      <th>体重</th>\n",
       "      <th>体重増減</th>\n",
       "      <th>date</th>\n",
       "      <th>着順_ave</th>\n",
       "      <th>...</th>\n",
       "      <th>weather_曇</th>\n",
       "      <th>weather_雨</th>\n",
       "      <th>weather_雪</th>\n",
       "      <th>race_type_ダート</th>\n",
       "      <th>race_type_芝</th>\n",
       "      <th>race_type_障害</th>\n",
       "      <th>ground_state_不良</th>\n",
       "      <th>ground_state_稍重</th>\n",
       "      <th>ground_state_良</th>\n",
       "      <th>ground_state_重</th>\n",
       "    </tr>\n",
       "  </thead>\n",
       "  <tbody>\n",
       "    <tr>\n",
       "      <th>202001010101</th>\n",
       "      <td>6</td>\n",
       "      <td>6</td>\n",
       "      <td>54.0</td>\n",
       "      <td>16.0</td>\n",
       "      <td>3.0</td>\n",
       "      <td>2</td>\n",
       "      <td>438</td>\n",
       "      <td>4</td>\n",
       "      <td>2020-07-25</td>\n",
       "      <td>6.0</td>\n",
       "      <td>...</td>\n",
       "      <td>1</td>\n",
       "      <td>0</td>\n",
       "      <td>0</td>\n",
       "      <td>0</td>\n",
       "      <td>1</td>\n",
       "      <td>0</td>\n",
       "      <td>0</td>\n",
       "      <td>0</td>\n",
       "      <td>1</td>\n",
       "      <td>0</td>\n",
       "    </tr>\n",
       "    <tr>\n",
       "      <th>202001010101</th>\n",
       "      <td>2</td>\n",
       "      <td>2</td>\n",
       "      <td>54.0</td>\n",
       "      <td>1.9</td>\n",
       "      <td>2.0</td>\n",
       "      <td>2</td>\n",
       "      <td>510</td>\n",
       "      <td>0</td>\n",
       "      <td>2020-07-25</td>\n",
       "      <td>5.0</td>\n",
       "      <td>...</td>\n",
       "      <td>1</td>\n",
       "      <td>0</td>\n",
       "      <td>0</td>\n",
       "      <td>0</td>\n",
       "      <td>1</td>\n",
       "      <td>0</td>\n",
       "      <td>0</td>\n",
       "      <td>0</td>\n",
       "      <td>1</td>\n",
       "      <td>0</td>\n",
       "    </tr>\n",
       "    <tr>\n",
       "      <th>202001010101</th>\n",
       "      <td>3</td>\n",
       "      <td>3</td>\n",
       "      <td>54.0</td>\n",
       "      <td>1.8</td>\n",
       "      <td>1.0</td>\n",
       "      <td>2</td>\n",
       "      <td>482</td>\n",
       "      <td>-6</td>\n",
       "      <td>2020-07-25</td>\n",
       "      <td>5.0</td>\n",
       "      <td>...</td>\n",
       "      <td>1</td>\n",
       "      <td>0</td>\n",
       "      <td>0</td>\n",
       "      <td>0</td>\n",
       "      <td>1</td>\n",
       "      <td>0</td>\n",
       "      <td>0</td>\n",
       "      <td>0</td>\n",
       "      <td>1</td>\n",
       "      <td>0</td>\n",
       "    </tr>\n",
       "    <tr>\n",
       "      <th>202001010101</th>\n",
       "      <td>1</td>\n",
       "      <td>1</td>\n",
       "      <td>52.0</td>\n",
       "      <td>22.2</td>\n",
       "      <td>4.0</td>\n",
       "      <td>2</td>\n",
       "      <td>442</td>\n",
       "      <td>0</td>\n",
       "      <td>2020-07-25</td>\n",
       "      <td>5.0</td>\n",
       "      <td>...</td>\n",
       "      <td>1</td>\n",
       "      <td>0</td>\n",
       "      <td>0</td>\n",
       "      <td>0</td>\n",
       "      <td>1</td>\n",
       "      <td>0</td>\n",
       "      <td>0</td>\n",
       "      <td>0</td>\n",
       "      <td>1</td>\n",
       "      <td>0</td>\n",
       "    </tr>\n",
       "    <tr>\n",
       "      <th>202001010101</th>\n",
       "      <td>4</td>\n",
       "      <td>4</td>\n",
       "      <td>54.0</td>\n",
       "      <td>55.7</td>\n",
       "      <td>5.0</td>\n",
       "      <td>2</td>\n",
       "      <td>426</td>\n",
       "      <td>-8</td>\n",
       "      <td>2020-07-25</td>\n",
       "      <td>5.0</td>\n",
       "      <td>...</td>\n",
       "      <td>1</td>\n",
       "      <td>0</td>\n",
       "      <td>0</td>\n",
       "      <td>0</td>\n",
       "      <td>1</td>\n",
       "      <td>0</td>\n",
       "      <td>0</td>\n",
       "      <td>0</td>\n",
       "      <td>1</td>\n",
       "      <td>0</td>\n",
       "    </tr>\n",
       "  </tbody>\n",
       "</table>\n",
       "<p>5 rows × 248 columns</p>\n",
       "</div>"
      ],
      "text/plain": [
       "              枠番  馬番    斤量    単勝   人気  齢   体重  体重増減       date  着順_ave  ...  \\\n",
       "202001010101   6   6  54.0  16.0  3.0  2  438     4 2020-07-25     6.0  ...   \n",
       "202001010101   2   2  54.0   1.9  2.0  2  510     0 2020-07-25     5.0  ...   \n",
       "202001010101   3   3  54.0   1.8  1.0  2  482    -6 2020-07-25     5.0  ...   \n",
       "202001010101   1   1  52.0  22.2  4.0  2  442     0 2020-07-25     5.0  ...   \n",
       "202001010101   4   4  54.0  55.7  5.0  2  426    -8 2020-07-25     5.0  ...   \n",
       "\n",
       "              weather_曇  weather_雨  weather_雪  race_type_ダート  race_type_芝  \\\n",
       "202001010101          1          0          0              0            1   \n",
       "202001010101          1          0          0              0            1   \n",
       "202001010101          1          0          0              0            1   \n",
       "202001010101          1          0          0              0            1   \n",
       "202001010101          1          0          0              0            1   \n",
       "\n",
       "              race_type_障害  ground_state_不良  ground_state_稍重  ground_state_良  \\\n",
       "202001010101             0                0                0               1   \n",
       "202001010101             0                0                0               1   \n",
       "202001010101             0                0                0               1   \n",
       "202001010101             0                0                0               1   \n",
       "202001010101             0                0                0               1   \n",
       "\n",
       "              ground_state_重  \n",
       "202001010101               0  \n",
       "202001010101               0  \n",
       "202001010101               0  \n",
       "202001010101               0  \n",
       "202001010101               0  \n",
       "\n",
       "[5 rows x 248 columns]"
      ]
     },
     "execution_count": 79,
     "metadata": {},
     "output_type": "execute_result"
    }
   ],
   "source": [
    "results_d.head()"
   ]
  },
  {
   "cell_type": "code",
   "execution_count": 90,
   "metadata": {},
   "outputs": [],
   "source": [
    "def split_data(df, test_size=0.3):\n",
    "    sorted_id_list = df.sort_values('date').index.unique()\n",
    "    train_id_list = sorted_id_list[:round(len(sorted_id_list)*(1-test_size))]\n",
    "    test_id_list = sorted_id_list[round(len(sorted_id_list)*(1-test_size)):]\n",
    "    train =df.loc[train_id_list]\n",
    "    test = df.loc[test_id_list]\n",
    "    train.drop(['date'],axis=1,inplace=True)\n",
    "    test.drop(['date'],axis=1,inplace=True)\n",
    "    return train, test\n",
    "\n",
    "\n",
    "train, test = split_data(results_d)\n",
    "X_train = train.drop(['rank'], axis=1)\n",
    "t_train = train['rank']\n",
    "X_test = test.drop(['rank'], axis=1)\n",
    "t_test = test['rank']"
   ]
  },
  {
   "cell_type": "code",
   "execution_count": 91,
   "metadata": {},
   "outputs": [],
   "source": [
    "##ここからDeep Learning\n",
    "X_train = torch.Tensor(X_train.values)\n",
    "t_train = torch.Tensor(y_train.values)\n",
    "X_test = torch.Tensor(X_test.values)\n",
    "t_test = torch.Tensor(y_test.values)"
   ]
  },
  {
   "cell_type": "code",
   "execution_count": 92,
   "metadata": {},
   "outputs": [
    {
     "data": {
      "text/plain": [
       "tensor([[ 4.,  7., 54.,  ...,  0.,  1.,  0.],\n",
       "        [ 1.,  1., 54.,  ...,  0.,  1.,  0.],\n",
       "        [ 2.,  3., 54.,  ...,  0.,  1.,  0.],\n",
       "        ...,\n",
       "        [ 8., 15., 54.,  ...,  0.,  1.,  0.],\n",
       "        [ 4.,  8., 52.,  ...,  0.,  1.,  0.],\n",
       "        [ 3.,  5., 54.,  ...,  0.,  1.,  0.]])"
      ]
     },
     "execution_count": 92,
     "metadata": {},
     "output_type": "execute_result"
    }
   ],
   "source": [
    "X_train"
   ]
  },
  {
   "cell_type": "code",
   "execution_count": 93,
   "metadata": {},
   "outputs": [],
   "source": [
    "t_train = t_train.reshape(-1, 1) #n*1次元に変換\n",
    "t_test = t_test.reshape(-1, 1)"
   ]
  },
  {
   "cell_type": "code",
   "execution_count": 98,
   "metadata": {},
   "outputs": [
    {
     "data": {
      "text/plain": [
       "tensor([[1.],\n",
       "        [1.],\n",
       "        [1.],\n",
       "        ...,\n",
       "        [0.],\n",
       "        [0.],\n",
       "        [0.]])"
      ]
     },
     "execution_count": 98,
     "metadata": {},
     "output_type": "execute_result"
    }
   ],
   "source": [
    "t_test"
   ]
  },
  {
   "cell_type": "code",
   "execution_count": 99,
   "metadata": {},
   "outputs": [],
   "source": [
    "model = nn.Sequential(\n",
    "    nn.Linear(246, 1), #入力246(X_trainのカラム数),出力1\n",
    "    nn.Sigmoid()\n",
    ")"
   ]
  },
  {
   "cell_type": "code",
   "execution_count": 100,
   "metadata": {},
   "outputs": [
    {
     "data": {
      "text/plain": [
       "tensor([[0.1297],\n",
       "        [0.5385],\n",
       "        [0.9999],\n",
       "        ...,\n",
       "        [0.8484],\n",
       "        [0.9999],\n",
       "        [0.9999]], grad_fn=<SigmoidBackward>)"
      ]
     },
     "execution_count": 100,
     "metadata": {},
     "output_type": "execute_result"
    }
   ],
   "source": [
    "model(X_train)"
   ]
  },
  {
   "cell_type": "code",
   "execution_count": 101,
   "metadata": {},
   "outputs": [
    {
     "data": {
      "application/vnd.jupyter.widget-view+json": {
       "model_id": "1a4ed3443af2437ea5355593882a31d6",
       "version_major": 2,
       "version_minor": 0
      },
      "text/plain": [
       "HBox(children=(FloatProgress(value=0.0), HTML(value='')))"
      ]
     },
     "metadata": {},
     "output_type": "display_data"
    },
    {
     "name": "stdout",
     "output_type": "stream",
     "text": [
      "\n"
     ]
    }
   ],
   "source": [
    "optimizer = optim.SGD(model.parameters(), lr=0.1)\n",
    "loss_fn = nn.MSELoss()\n",
    "\n",
    "model.train()\n",
    "for epoch in tqdm(range(100)):\n",
    "    optimizer.zero_grad() # 一度計算された勾配結果を0にリセット\n",
    "    y = model(X_train)\n",
    "    loss = loss_fn(y, t_train) #平均二乗誤差\n",
    "    \n",
    "    loss.backward() #それぞれのパラメータについて傾きを計算\n",
    "    optimizer.step() #勾配降下法に基づきパラメータを更新"
   ]
  },
  {
   "cell_type": "code",
   "execution_count": 102,
   "metadata": {},
   "outputs": [
    {
     "data": {
      "text/plain": [
       "tensor([[0.],\n",
       "        [0.],\n",
       "        [0.],\n",
       "        ...,\n",
       "        [0.],\n",
       "        [0.],\n",
       "        [0.]], grad_fn=<SigmoidBackward>)"
      ]
     },
     "execution_count": 102,
     "metadata": {},
     "output_type": "execute_result"
    }
   ],
   "source": [
    "model(X_train)"
   ]
  },
  {
   "cell_type": "code",
   "execution_count": 103,
   "metadata": {},
   "outputs": [],
   "source": [
    "#層を足してみる\n",
    "model = nn.Sequential(\n",
    "    nn.Linear(246, 128), #入力246(X_trainのカラム数),出力128\n",
    "    nn.Sigmoid(),\n",
    "    nn.Linear(128, 1), #入力128,出力1\n",
    "    nn.Sigmoid()\n",
    ")"
   ]
  },
  {
   "cell_type": "code",
   "execution_count": 104,
   "metadata": {},
   "outputs": [
    {
     "data": {
      "application/vnd.jupyter.widget-view+json": {
       "model_id": "928908527ff94ed0ae60afa11e130b85",
       "version_major": 2,
       "version_minor": 0
      },
      "text/plain": [
       "HBox(children=(FloatProgress(value=0.0), HTML(value='')))"
      ]
     },
     "metadata": {},
     "output_type": "display_data"
    },
    {
     "name": "stdout",
     "output_type": "stream",
     "text": [
      "\n"
     ]
    }
   ],
   "source": [
    "optimizer = optim.SGD(model.parameters(), lr=0.1)\n",
    "loss_fn = nn.MSELoss()\n",
    "\n",
    "model.train()\n",
    "for epoch in tqdm(range(100)):\n",
    "    optimizer.zero_grad() # 一度計算された勾配結果を0にリセット\n",
    "    y = model(X_train)\n",
    "    loss = loss_fn(y, t_train) #平均二乗誤差\n",
    "    \n",
    "    loss.backward() #それぞれのパラメータについて傾きを計算\n",
    "    optimizer.step() #勾配降下法に基づきパラメータを更新"
   ]
  },
  {
   "cell_type": "code",
   "execution_count": 105,
   "metadata": {},
   "outputs": [
    {
     "data": {
      "text/plain": [
       "tensor([[0.2420],\n",
       "        [0.2258],\n",
       "        [0.0650],\n",
       "        ...,\n",
       "        [0.2578],\n",
       "        [0.0644],\n",
       "        [0.0641]], grad_fn=<SigmoidBackward>)"
      ]
     },
     "execution_count": 105,
     "metadata": {},
     "output_type": "execute_result"
    }
   ],
   "source": [
    "model(X_train)"
   ]
  },
  {
   "cell_type": "code",
   "execution_count": 106,
   "metadata": {},
   "outputs": [
    {
     "data": {
      "text/plain": [
       "array([[1.],\n",
       "       [1.],\n",
       "       [1.],\n",
       "       ...,\n",
       "       [0.],\n",
       "       [0.],\n",
       "       [0.]], dtype=float32)"
      ]
     },
     "execution_count": 106,
     "metadata": {},
     "output_type": "execute_result"
    }
   ],
   "source": [
    "#tensor型をnumpy型に変換\n",
    "t_train.numpy()"
   ]
  },
  {
   "cell_type": "code",
   "execution_count": 107,
   "metadata": {},
   "outputs": [],
   "source": [
    "y_train = model(X_train)\n",
    "y_test = model(X_test)"
   ]
  },
  {
   "cell_type": "code",
   "execution_count": 108,
   "metadata": {},
   "outputs": [
    {
     "data": {
      "text/plain": [
       "0.760611633308764"
      ]
     },
     "execution_count": 108,
     "metadata": {},
     "output_type": "execute_result"
    }
   ],
   "source": [
    "#モデルを評価\n",
    "from sklearn.metrics import roc_curve, roc_auc_score\n",
    "\n",
    "roc_auc_score(t_train.detach().numpy(), y_train.detach().numpy())"
   ]
  },
  {
   "cell_type": "code",
   "execution_count": 109,
   "metadata": {},
   "outputs": [
    {
     "data": {
      "text/plain": [
       "0.7513597116471344"
      ]
     },
     "execution_count": 109,
     "metadata": {},
     "output_type": "execute_result"
    }
   ],
   "source": [
    "roc_auc_score(t_test.detach().numpy(), y_test.detach().numpy())"
   ]
  }
 ],
 "metadata": {
  "kernelspec": {
   "display_name": "Python 3",
   "language": "python",
   "name": "python3"
  },
  "language_info": {
   "codemirror_mode": {
    "name": "ipython",
    "version": 3
   },
   "file_extension": ".py",
   "mimetype": "text/x-python",
   "name": "python",
   "nbconvert_exporter": "python",
   "pygments_lexer": "ipython3",
   "version": "3.7.6"
  }
 },
 "nbformat": 4,
 "nbformat_minor": 4
}
