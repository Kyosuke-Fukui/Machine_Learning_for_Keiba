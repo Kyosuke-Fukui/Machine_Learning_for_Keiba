{
 "cells": [
  {
   "cell_type": "code",
   "execution_count": 66,
   "metadata": {},
   "outputs": [],
   "source": [
    "import pandas as pd\n",
    "\n",
    "peds = pd.read_pickle('peds.pickle')\n",
    "results_5R = pd.read_pickle('results_5R.pickle')"
   ]
  },
  {
   "cell_type": "code",
   "execution_count": 67,
   "metadata": {},
   "outputs": [],
   "source": [
    "results_5R[\"rank\"] = results_5R[\"着順\"].map(lambda x:1 if x <4 else 0)\n",
    "results_5R.drop([\"馬名\",\"着順\",\"騎手\"],axis=1, inplace=True)"
   ]
  },
  {
   "cell_type": "code",
   "execution_count": 68,
   "metadata": {},
   "outputs": [
    {
     "data": {
      "text/html": [
       "<div>\n",
       "<style scoped>\n",
       "    .dataframe tbody tr th:only-of-type {\n",
       "        vertical-align: middle;\n",
       "    }\n",
       "\n",
       "    .dataframe tbody tr th {\n",
       "        vertical-align: top;\n",
       "    }\n",
       "\n",
       "    .dataframe thead th {\n",
       "        text-align: right;\n",
       "    }\n",
       "</style>\n",
       "<table border=\"1\" class=\"dataframe\">\n",
       "  <thead>\n",
       "    <tr style=\"text-align: right;\">\n",
       "      <th></th>\n",
       "      <th>枠番</th>\n",
       "      <th>馬番</th>\n",
       "      <th>斤量</th>\n",
       "      <th>単勝</th>\n",
       "      <th>人気</th>\n",
       "      <th>horse_id</th>\n",
       "      <th>jockey_id</th>\n",
       "      <th>性</th>\n",
       "      <th>齢</th>\n",
       "      <th>体重</th>\n",
       "      <th>...</th>\n",
       "      <th>peds_52</th>\n",
       "      <th>peds_53</th>\n",
       "      <th>peds_54</th>\n",
       "      <th>peds_55</th>\n",
       "      <th>peds_56</th>\n",
       "      <th>peds_57</th>\n",
       "      <th>peds_58</th>\n",
       "      <th>peds_59</th>\n",
       "      <th>peds_60</th>\n",
       "      <th>peds_61</th>\n",
       "    </tr>\n",
       "  </thead>\n",
       "  <tbody>\n",
       "    <tr>\n",
       "      <th>202001010101</th>\n",
       "      <td>6</td>\n",
       "      <td>6</td>\n",
       "      <td>54.0</td>\n",
       "      <td>16.0</td>\n",
       "      <td>3.0</td>\n",
       "      <td>2018101626</td>\n",
       "      <td>01170</td>\n",
       "      <td>牝</td>\n",
       "      <td>2</td>\n",
       "      <td>438</td>\n",
       "      <td>...</td>\n",
       "      <td>Chieftain</td>\n",
       "      <td>Level Sands</td>\n",
       "      <td>Halo</td>\n",
       "      <td>Wishing Well</td>\n",
       "      <td>Carr de Naskra</td>\n",
       "      <td>Mawgrit</td>\n",
       "      <td>Danzig</td>\n",
       "      <td>Razyana</td>\n",
       "      <td>リアルシャダイ</td>\n",
       "      <td>マックスビューティ</td>\n",
       "    </tr>\n",
       "    <tr>\n",
       "      <th>202001010101</th>\n",
       "      <td>2</td>\n",
       "      <td>2</td>\n",
       "      <td>54.0</td>\n",
       "      <td>1.9</td>\n",
       "      <td>2.0</td>\n",
       "      <td>2018105193</td>\n",
       "      <td>05339</td>\n",
       "      <td>牡</td>\n",
       "      <td>2</td>\n",
       "      <td>510</td>\n",
       "      <td>...</td>\n",
       "      <td>Lithiot</td>\n",
       "      <td>Nenana Road</td>\n",
       "      <td>Kalamoun</td>\n",
       "      <td>State Pension</td>\n",
       "      <td>Hornbeam</td>\n",
       "      <td>Priddy Fair</td>\n",
       "      <td>Nearctic</td>\n",
       "      <td>Natalma</td>\n",
       "      <td>Tom Fool</td>\n",
       "      <td>Brazen</td>\n",
       "    </tr>\n",
       "    <tr>\n",
       "      <th>202001010101</th>\n",
       "      <td>3</td>\n",
       "      <td>3</td>\n",
       "      <td>54.0</td>\n",
       "      <td>1.8</td>\n",
       "      <td>1.0</td>\n",
       "      <td>2018104800</td>\n",
       "      <td>01032</td>\n",
       "      <td>牡</td>\n",
       "      <td>2</td>\n",
       "      <td>482</td>\n",
       "      <td>...</td>\n",
       "      <td>Welsh Pageant</td>\n",
       "      <td>Electric Flash</td>\n",
       "      <td>Sir Gaylord</td>\n",
       "      <td>Little Hut</td>\n",
       "      <td>Claude</td>\n",
       "      <td>Ribasha</td>\n",
       "      <td>Thatch</td>\n",
       "      <td>Last Call</td>\n",
       "      <td>Mummy's Pet</td>\n",
       "      <td>Goosie-Gantlet</td>\n",
       "    </tr>\n",
       "    <tr>\n",
       "      <th>202001010101</th>\n",
       "      <td>1</td>\n",
       "      <td>1</td>\n",
       "      <td>52.0</td>\n",
       "      <td>22.2</td>\n",
       "      <td>4.0</td>\n",
       "      <td>2018102410</td>\n",
       "      <td>01176</td>\n",
       "      <td>牝</td>\n",
       "      <td>2</td>\n",
       "      <td>442</td>\n",
       "      <td>...</td>\n",
       "      <td>Bustino</td>\n",
       "      <td>Zerbinetta</td>\n",
       "      <td>Danzig</td>\n",
       "      <td>Foreign Courier</td>\n",
       "      <td>Ahonoora</td>\n",
       "      <td>Balidaress</td>\n",
       "      <td>Arctic Tern</td>\n",
       "      <td>Beaune</td>\n",
       "      <td>Nureyev</td>\n",
       "      <td>Unite</td>\n",
       "    </tr>\n",
       "    <tr>\n",
       "      <th>202001010101</th>\n",
       "      <td>4</td>\n",
       "      <td>4</td>\n",
       "      <td>54.0</td>\n",
       "      <td>55.7</td>\n",
       "      <td>5.0</td>\n",
       "      <td>2018100828</td>\n",
       "      <td>01116</td>\n",
       "      <td>牡</td>\n",
       "      <td>2</td>\n",
       "      <td>426</td>\n",
       "      <td>...</td>\n",
       "      <td>Lithiot</td>\n",
       "      <td>Nenana Road</td>\n",
       "      <td>Nearctic</td>\n",
       "      <td>Natalma</td>\n",
       "      <td>Victoria Park</td>\n",
       "      <td>Lady Angela</td>\n",
       "      <td>Herbager</td>\n",
       "      <td>Silver Sari</td>\n",
       "      <td>Crimson Satan</td>\n",
       "      <td>Bright Prospect</td>\n",
       "    </tr>\n",
       "  </tbody>\n",
       "</table>\n",
       "<p>5 rows × 81 columns</p>\n",
       "</div>"
      ],
      "text/plain": [
       "              枠番  馬番    斤量    単勝   人気    horse_id jockey_id  性  齢   体重  ...  \\\n",
       "202001010101   6   6  54.0  16.0  3.0  2018101626     01170  牝  2  438  ...   \n",
       "202001010101   2   2  54.0   1.9  2.0  2018105193     05339  牡  2  510  ...   \n",
       "202001010101   3   3  54.0   1.8  1.0  2018104800     01032  牡  2  482  ...   \n",
       "202001010101   1   1  52.0  22.2  4.0  2018102410     01176  牝  2  442  ...   \n",
       "202001010101   4   4  54.0  55.7  5.0  2018100828     01116  牡  2  426  ...   \n",
       "\n",
       "                    peds_52         peds_53      peds_54          peds_55  \\\n",
       "202001010101      Chieftain     Level Sands         Halo     Wishing Well   \n",
       "202001010101        Lithiot     Nenana Road     Kalamoun    State Pension   \n",
       "202001010101  Welsh Pageant  Electric Flash  Sir Gaylord       Little Hut   \n",
       "202001010101        Bustino      Zerbinetta       Danzig  Foreign Courier   \n",
       "202001010101        Lithiot     Nenana Road     Nearctic          Natalma   \n",
       "\n",
       "                     peds_56      peds_57      peds_58      peds_59  \\\n",
       "202001010101  Carr de Naskra      Mawgrit       Danzig      Razyana   \n",
       "202001010101        Hornbeam  Priddy Fair     Nearctic      Natalma   \n",
       "202001010101          Claude      Ribasha       Thatch    Last Call   \n",
       "202001010101        Ahonoora   Balidaress  Arctic Tern       Beaune   \n",
       "202001010101   Victoria Park  Lady Angela     Herbager  Silver Sari   \n",
       "\n",
       "                    peds_60          peds_61  \n",
       "202001010101        リアルシャダイ        マックスビューティ  \n",
       "202001010101       Tom Fool           Brazen  \n",
       "202001010101    Mummy's Pet   Goosie-Gantlet  \n",
       "202001010101        Nureyev            Unite  \n",
       "202001010101  Crimson Satan  Bright Prospect  \n",
       "\n",
       "[5 rows x 81 columns]"
      ]
     },
     "execution_count": 68,
     "metadata": {},
     "output_type": "execute_result"
    }
   ],
   "source": [
    "results_m = results_5R.merge(peds, left_on='horse_id', right_index=True, how='left')\n",
    "results_m.head()"
   ]
  },
  {
   "cell_type": "code",
   "execution_count": 69,
   "metadata": {},
   "outputs": [],
   "source": [
    "categorical_columns = ['horse_id'] + list(peds.columns) #category型にする列名を指定"
   ]
  },
  {
   "cell_type": "code",
   "execution_count": 70,
   "metadata": {},
   "outputs": [],
   "source": [
    "from sklearn.preprocessing import LabelEncoder\n",
    "\n",
    "for column in categorical_columns:\n",
    "    results_m[column] = LabelEncoder().fit_transform(results_m[column].fillna('Na'))"
   ]
  },
  {
   "cell_type": "code",
   "execution_count": 71,
   "metadata": {},
   "outputs": [
    {
     "data": {
      "text/html": [
       "<div>\n",
       "<style scoped>\n",
       "    .dataframe tbody tr th:only-of-type {\n",
       "        vertical-align: middle;\n",
       "    }\n",
       "\n",
       "    .dataframe tbody tr th {\n",
       "        vertical-align: top;\n",
       "    }\n",
       "\n",
       "    .dataframe thead th {\n",
       "        text-align: right;\n",
       "    }\n",
       "</style>\n",
       "<table border=\"1\" class=\"dataframe\">\n",
       "  <thead>\n",
       "    <tr style=\"text-align: right;\">\n",
       "      <th></th>\n",
       "      <th>horse_id</th>\n",
       "      <th>peds_0</th>\n",
       "      <th>peds_1</th>\n",
       "      <th>peds_2</th>\n",
       "      <th>peds_3</th>\n",
       "      <th>peds_4</th>\n",
       "      <th>peds_5</th>\n",
       "      <th>peds_6</th>\n",
       "      <th>peds_7</th>\n",
       "      <th>peds_8</th>\n",
       "      <th>...</th>\n",
       "      <th>peds_52</th>\n",
       "      <th>peds_53</th>\n",
       "      <th>peds_54</th>\n",
       "      <th>peds_55</th>\n",
       "      <th>peds_56</th>\n",
       "      <th>peds_57</th>\n",
       "      <th>peds_58</th>\n",
       "      <th>peds_59</th>\n",
       "      <th>peds_60</th>\n",
       "      <th>peds_61</th>\n",
       "    </tr>\n",
       "  </thead>\n",
       "  <tbody>\n",
       "    <tr>\n",
       "      <th>202001010101</th>\n",
       "      <td>8763</td>\n",
       "      <td>252</td>\n",
       "      <td>2120</td>\n",
       "      <td>164</td>\n",
       "      <td>368</td>\n",
       "      <td>761</td>\n",
       "      <td>4019</td>\n",
       "      <td>95</td>\n",
       "      <td>167</td>\n",
       "      <td>229</td>\n",
       "      <td>...</td>\n",
       "      <td>56</td>\n",
       "      <td>333</td>\n",
       "      <td>62</td>\n",
       "      <td>370</td>\n",
       "      <td>72</td>\n",
       "      <td>483</td>\n",
       "      <td>87</td>\n",
       "      <td>821</td>\n",
       "      <td>1309</td>\n",
       "      <td>3110</td>\n",
       "    </tr>\n",
       "    <tr>\n",
       "      <th>202001010101</th>\n",
       "      <td>10421</td>\n",
       "      <td>336</td>\n",
       "      <td>4795</td>\n",
       "      <td>153</td>\n",
       "      <td>236</td>\n",
       "      <td>748</td>\n",
       "      <td>4438</td>\n",
       "      <td>35</td>\n",
       "      <td>151</td>\n",
       "      <td>6</td>\n",
       "      <td>...</td>\n",
       "      <td>182</td>\n",
       "      <td>415</td>\n",
       "      <td>77</td>\n",
       "      <td>330</td>\n",
       "      <td>178</td>\n",
       "      <td>615</td>\n",
       "      <td>246</td>\n",
       "      <td>668</td>\n",
       "      <td>925</td>\n",
       "      <td>304</td>\n",
       "    </tr>\n",
       "    <tr>\n",
       "      <th>202001010101</th>\n",
       "      <td>10170</td>\n",
       "      <td>288</td>\n",
       "      <td>5960</td>\n",
       "      <td>144</td>\n",
       "      <td>394</td>\n",
       "      <td>279</td>\n",
       "      <td>488</td>\n",
       "      <td>74</td>\n",
       "      <td>3</td>\n",
       "      <td>197</td>\n",
       "      <td>...</td>\n",
       "      <td>374</td>\n",
       "      <td>162</td>\n",
       "      <td>154</td>\n",
       "      <td>190</td>\n",
       "      <td>88</td>\n",
       "      <td>670</td>\n",
       "      <td>389</td>\n",
       "      <td>538</td>\n",
       "      <td>560</td>\n",
       "      <td>920</td>\n",
       "    </tr>\n",
       "    <tr>\n",
       "      <th>202001010101</th>\n",
       "      <td>9127</td>\n",
       "      <td>223</td>\n",
       "      <td>7311</td>\n",
       "      <td>174</td>\n",
       "      <td>255</td>\n",
       "      <td>346</td>\n",
       "      <td>5448</td>\n",
       "      <td>95</td>\n",
       "      <td>161</td>\n",
       "      <td>155</td>\n",
       "      <td>...</td>\n",
       "      <td>51</td>\n",
       "      <td>645</td>\n",
       "      <td>35</td>\n",
       "      <td>106</td>\n",
       "      <td>9</td>\n",
       "      <td>50</td>\n",
       "      <td>19</td>\n",
       "      <td>89</td>\n",
       "      <td>605</td>\n",
       "      <td>2414</td>\n",
       "    </tr>\n",
       "    <tr>\n",
       "      <th>202001010101</th>\n",
       "      <td>8488</td>\n",
       "      <td>444</td>\n",
       "      <td>3240</td>\n",
       "      <td>140</td>\n",
       "      <td>290</td>\n",
       "      <td>748</td>\n",
       "      <td>3515</td>\n",
       "      <td>45</td>\n",
       "      <td>188</td>\n",
       "      <td>202</td>\n",
       "      <td>...</td>\n",
       "      <td>182</td>\n",
       "      <td>415</td>\n",
       "      <td>108</td>\n",
       "      <td>230</td>\n",
       "      <td>451</td>\n",
       "      <td>415</td>\n",
       "      <td>153</td>\n",
       "      <td>930</td>\n",
       "      <td>204</td>\n",
       "      <td>314</td>\n",
       "    </tr>\n",
       "    <tr>\n",
       "      <th>...</th>\n",
       "      <td>...</td>\n",
       "      <td>...</td>\n",
       "      <td>...</td>\n",
       "      <td>...</td>\n",
       "      <td>...</td>\n",
       "      <td>...</td>\n",
       "      <td>...</td>\n",
       "      <td>...</td>\n",
       "      <td>...</td>\n",
       "      <td>...</td>\n",
       "      <td>...</td>\n",
       "      <td>...</td>\n",
       "      <td>...</td>\n",
       "      <td>...</td>\n",
       "      <td>...</td>\n",
       "      <td>...</td>\n",
       "      <td>...</td>\n",
       "      <td>...</td>\n",
       "      <td>...</td>\n",
       "      <td>...</td>\n",
       "      <td>...</td>\n",
       "    </tr>\n",
       "    <tr>\n",
       "      <th>202010010412</th>\n",
       "      <td>3815</td>\n",
       "      <td>404</td>\n",
       "      <td>2155</td>\n",
       "      <td>87</td>\n",
       "      <td>288</td>\n",
       "      <td>573</td>\n",
       "      <td>4102</td>\n",
       "      <td>57</td>\n",
       "      <td>132</td>\n",
       "      <td>145</td>\n",
       "      <td>...</td>\n",
       "      <td>144</td>\n",
       "      <td>658</td>\n",
       "      <td>61</td>\n",
       "      <td>61</td>\n",
       "      <td>444</td>\n",
       "      <td>524</td>\n",
       "      <td>232</td>\n",
       "      <td>191</td>\n",
       "      <td>630</td>\n",
       "      <td>213</td>\n",
       "    </tr>\n",
       "    <tr>\n",
       "      <th>202010010412</th>\n",
       "      <td>2059</td>\n",
       "      <td>306</td>\n",
       "      <td>1393</td>\n",
       "      <td>146</td>\n",
       "      <td>265</td>\n",
       "      <td>71</td>\n",
       "      <td>568</td>\n",
       "      <td>95</td>\n",
       "      <td>178</td>\n",
       "      <td>227</td>\n",
       "      <td>...</td>\n",
       "      <td>49</td>\n",
       "      <td>509</td>\n",
       "      <td>110</td>\n",
       "      <td>288</td>\n",
       "      <td>208</td>\n",
       "      <td>113</td>\n",
       "      <td>260</td>\n",
       "      <td>395</td>\n",
       "      <td>667</td>\n",
       "      <td>662</td>\n",
       "    </tr>\n",
       "    <tr>\n",
       "      <th>202010010412</th>\n",
       "      <td>2656</td>\n",
       "      <td>176</td>\n",
       "      <td>4998</td>\n",
       "      <td>136</td>\n",
       "      <td>372</td>\n",
       "      <td>359</td>\n",
       "      <td>2735</td>\n",
       "      <td>102</td>\n",
       "      <td>13</td>\n",
       "      <td>197</td>\n",
       "      <td>...</td>\n",
       "      <td>132</td>\n",
       "      <td>385</td>\n",
       "      <td>108</td>\n",
       "      <td>230</td>\n",
       "      <td>53</td>\n",
       "      <td>755</td>\n",
       "      <td>343</td>\n",
       "      <td>265</td>\n",
       "      <td>341</td>\n",
       "      <td>402</td>\n",
       "    </tr>\n",
       "    <tr>\n",
       "      <th>202010010412</th>\n",
       "      <td>3031</td>\n",
       "      <td>232</td>\n",
       "      <td>1982</td>\n",
       "      <td>183</td>\n",
       "      <td>266</td>\n",
       "      <td>349</td>\n",
       "      <td>779</td>\n",
       "      <td>95</td>\n",
       "      <td>189</td>\n",
       "      <td>114</td>\n",
       "      <td>...</td>\n",
       "      <td>284</td>\n",
       "      <td>475</td>\n",
       "      <td>22</td>\n",
       "      <td>335</td>\n",
       "      <td>185</td>\n",
       "      <td>274</td>\n",
       "      <td>172</td>\n",
       "      <td>1039</td>\n",
       "      <td>533</td>\n",
       "      <td>545</td>\n",
       "    </tr>\n",
       "    <tr>\n",
       "      <th>202010010412</th>\n",
       "      <td>82</td>\n",
       "      <td>291</td>\n",
       "      <td>5264</td>\n",
       "      <td>153</td>\n",
       "      <td>406</td>\n",
       "      <td>109</td>\n",
       "      <td>1082</td>\n",
       "      <td>35</td>\n",
       "      <td>151</td>\n",
       "      <td>53</td>\n",
       "      <td>...</td>\n",
       "      <td>248</td>\n",
       "      <td>569</td>\n",
       "      <td>128</td>\n",
       "      <td>119</td>\n",
       "      <td>328</td>\n",
       "      <td>39</td>\n",
       "      <td>328</td>\n",
       "      <td>772</td>\n",
       "      <td>103</td>\n",
       "      <td>1104</td>\n",
       "    </tr>\n",
       "  </tbody>\n",
       "</table>\n",
       "<p>43239 rows × 63 columns</p>\n",
       "</div>"
      ],
      "text/plain": [
       "              horse_id  peds_0  peds_1  peds_2  peds_3  peds_4  peds_5  \\\n",
       "202001010101      8763     252    2120     164     368     761    4019   \n",
       "202001010101     10421     336    4795     153     236     748    4438   \n",
       "202001010101     10170     288    5960     144     394     279     488   \n",
       "202001010101      9127     223    7311     174     255     346    5448   \n",
       "202001010101      8488     444    3240     140     290     748    3515   \n",
       "...                ...     ...     ...     ...     ...     ...     ...   \n",
       "202010010412      3815     404    2155      87     288     573    4102   \n",
       "202010010412      2059     306    1393     146     265      71     568   \n",
       "202010010412      2656     176    4998     136     372     359    2735   \n",
       "202010010412      3031     232    1982     183     266     349     779   \n",
       "202010010412        82     291    5264     153     406     109    1082   \n",
       "\n",
       "              peds_6  peds_7  peds_8  ...  peds_52  peds_53  peds_54  peds_55  \\\n",
       "202001010101      95     167     229  ...       56      333       62      370   \n",
       "202001010101      35     151       6  ...      182      415       77      330   \n",
       "202001010101      74       3     197  ...      374      162      154      190   \n",
       "202001010101      95     161     155  ...       51      645       35      106   \n",
       "202001010101      45     188     202  ...      182      415      108      230   \n",
       "...              ...     ...     ...  ...      ...      ...      ...      ...   \n",
       "202010010412      57     132     145  ...      144      658       61       61   \n",
       "202010010412      95     178     227  ...       49      509      110      288   \n",
       "202010010412     102      13     197  ...      132      385      108      230   \n",
       "202010010412      95     189     114  ...      284      475       22      335   \n",
       "202010010412      35     151      53  ...      248      569      128      119   \n",
       "\n",
       "              peds_56  peds_57  peds_58  peds_59  peds_60  peds_61  \n",
       "202001010101       72      483       87      821     1309     3110  \n",
       "202001010101      178      615      246      668      925      304  \n",
       "202001010101       88      670      389      538      560      920  \n",
       "202001010101        9       50       19       89      605     2414  \n",
       "202001010101      451      415      153      930      204      314  \n",
       "...               ...      ...      ...      ...      ...      ...  \n",
       "202010010412      444      524      232      191      630      213  \n",
       "202010010412      208      113      260      395      667      662  \n",
       "202010010412       53      755      343      265      341      402  \n",
       "202010010412      185      274      172     1039      533      545  \n",
       "202010010412      328       39      328      772      103     1104  \n",
       "\n",
       "[43239 rows x 63 columns]"
      ]
     },
     "execution_count": 71,
     "metadata": {},
     "output_type": "execute_result"
    }
   ],
   "source": [
    "results_m[categorical_columns]"
   ]
  },
  {
   "cell_type": "code",
   "execution_count": 72,
   "metadata": {},
   "outputs": [],
   "source": [
    "results_d = pd.get_dummies(results_m)"
   ]
  },
  {
   "cell_type": "code",
   "execution_count": 73,
   "metadata": {},
   "outputs": [],
   "source": [
    "for column in categorical_columns:\n",
    "    results_d[column] = results_d[column].astype('category')"
   ]
  },
  {
   "cell_type": "code",
   "execution_count": 74,
   "metadata": {},
   "outputs": [
    {
     "name": "stdout",
     "output_type": "stream",
     "text": [
      "<class 'pandas.core.frame.DataFrame'>\n",
      "Index: 43239 entries, 202001010101 to 202010010412\n",
      "Columns: 310 entries, 枠番 to ground_state_重\n",
      "dtypes: category(63), datetime64[ns](1), float64(5), int32(3), int64(3), uint8(235)\n",
      "memory usage: 20.7+ MB\n"
     ]
    }
   ],
   "source": [
    "results_d.info()"
   ]
  },
  {
   "cell_type": "code",
   "execution_count": 75,
   "metadata": {},
   "outputs": [],
   "source": [
    "#関数化\n",
    "from sklearn.preprocessing import LabelEncoder\n",
    "\n",
    "def process_categorical(df, target_columns):\n",
    "    df2 = df.copy()\n",
    "    for column in target_columns:\n",
    "        df2[column] = LabelEncoder().fit_transform(df2[column].fillna('Na'))\n",
    "        \n",
    "    df2 = pd.get_dummies(df2)\n",
    "    \n",
    "    for column in target_columns:\n",
    "        df2[column] = df2[column].astype('category')\n",
    "        \n",
    "    return df2"
   ]
  },
  {
   "cell_type": "code",
   "execution_count": 76,
   "metadata": {},
   "outputs": [],
   "source": [
    "def split_data(df, test_size=0.3):\n",
    "    sorted_id_list = df.sort_values('date').index.unique()\n",
    "    train_id_list = sorted_id_list[:round(len(sorted_id_list)*(1-test_size))]\n",
    "    test_id_list = sorted_id_list[round(len(sorted_id_list)*(1-test_size)):]\n",
    "    train =df.loc[train_id_list]\n",
    "    test = df.loc[test_id_list]\n",
    "    train.drop(['date'],axis=1,inplace=True)\n",
    "    test.drop(['date'],axis=1,inplace=True)\n",
    "    return train, test\n",
    "\n",
    "train, test = split_data(results_d)\n",
    "X_train = train.drop(['rank'], axis=1)\n",
    "y_train = train['rank']\n",
    "X_test = test.drop(['rank'], axis=1)\n",
    "y_test = test['rank']"
   ]
  },
  {
   "cell_type": "code",
   "execution_count": 77,
   "metadata": {},
   "outputs": [
    {
     "name": "stdout",
     "output_type": "stream",
     "text": [
      "[LightGBM] [Warning] min_data_in_leaf is set=300, min_child_samples=20 will be ignored. Current value: min_data_in_leaf=300\n"
     ]
    },
    {
     "data": {
      "text/plain": [
       "LGBMClassifier(class_weight='balanced', min_data_in_leaf=300, n_estimators=70,\n",
       "               num_leaves=3, random_state=100)"
      ]
     },
     "execution_count": 77,
     "metadata": {},
     "output_type": "execute_result"
    }
   ],
   "source": [
    "import lightgbm as lgb\n",
    "from sklearn.metrics import roc_curve, roc_auc_score\n",
    "\n",
    "params = {\n",
    "    'num_leaves':3, #デフォルトは34\n",
    "    'n_estimators':70,\n",
    "    'min_data_in_leaf':300,\n",
    "    'class_weight':'balanced',\n",
    "    'random_state':100\n",
    "}\n",
    "\n",
    "lgb_clf = lgb.LGBMClassifier(**params)\n",
    "lgb_clf.fit(X_train.values, y_train.values) #値に日本語が入っているとエラー"
   ]
  },
  {
   "cell_type": "code",
   "execution_count": 91,
   "metadata": {},
   "outputs": [],
   "source": [
    "class ModelEvaluator:\n",
    "    def __init__(self, model, return_table):\n",
    "        self.model = model\n",
    "        self.fuku = Return(return_table).fuku\n",
    "        \n",
    "    def predict_proba(self, X):\n",
    "        return self.model.predict_proba(X)[:,1]\n",
    "    \n",
    "    def predict(self, X, threshold=0.5):\n",
    "        y_pred = self.predict_proba(X)\n",
    "        return [0 if p<threshold else 1 for p in y_pred]\n",
    "    \n",
    "    def score(self, y_true, X):\n",
    "        return roc_auc_score(y_true, self.predict_proba(X))\n",
    "    \n",
    "    def feature_importance(self, X, n_display=20):\n",
    "        importances = pd.DataFrame({'features': X.columns, 'importance': self.model.feature_importances_})\n",
    "        return importances.sort_values('importance', ascending=False)[:n_display]\n",
    "    \n",
    "    def pred_table(self, X, threshold=0.5, bet_only=True):\n",
    "        pred_table = X.copy()[['馬番']]\n",
    "        pred_table['pred'] = self.predict(X, threshold)\n",
    "        if bet_only:\n",
    "            return pred_table[pred_table['pred']==1]['馬番']\n",
    "        else:\n",
    "            return pred_table\n",
    "        \n",
    "    def calc_return(self, X, threshold=0.5):\n",
    "        pred_table = self.pred_table(X, threshold)\n",
    "        n_bets = len(pred_table)\n",
    "        money = -100*n_bets\n",
    "        df = self.fuku.copy()\n",
    "        df = df.merge(pred_table, left_index=True, right_index=True, how='right')\n",
    "        for i in range(3):\n",
    "            money +=df[df['win_{}'.format(i)]==df['馬番']]['return_{}'.format(i)].sum()\n",
    "        return n_bets, money"
   ]
  },
  {
   "cell_type": "code",
   "execution_count": 79,
   "metadata": {},
   "outputs": [],
   "source": [
    "return_tables = pd.read_pickle('return_tables.pickle')\n",
    "\n",
    "class Return:\n",
    "    def __init__(self, return_tables):\n",
    "        self.return_tables = return_tables\n",
    "        \n",
    "    #複勝行の加工 \n",
    "    @property\n",
    "    def fuku(self):\n",
    "        fuku = self.return_tables[self.return_tables[0] == '複勝'][[1,2]]\n",
    "        #勝ち馬の馬番\n",
    "        wins = fuku[1].str.split('br', expand = True).drop([3,4], axis=1)\n",
    "        wins.columns = ['win_0', 'win_1', 'win_2']\n",
    "        #払い戻し\n",
    "        returns = fuku[2].str.split('br', expand = True).drop([3,4], axis=1)\n",
    "        returns.columns = ['return_0', 'return_1', 'return_2']\n",
    "        \n",
    "        df = pd.concat([wins, returns], axis=1)\n",
    "        for column in df.columns:\n",
    "            df[column] = df[column].str.replace(',','')\n",
    "        return df.fillna(0).astype(int)"
   ]
  },
  {
   "cell_type": "code",
   "execution_count": 86,
   "metadata": {},
   "outputs": [
    {
     "data": {
      "text/html": [
       "<div>\n",
       "<style scoped>\n",
       "    .dataframe tbody tr th:only-of-type {\n",
       "        vertical-align: middle;\n",
       "    }\n",
       "\n",
       "    .dataframe tbody tr th {\n",
       "        vertical-align: top;\n",
       "    }\n",
       "\n",
       "    .dataframe thead th {\n",
       "        text-align: right;\n",
       "    }\n",
       "</style>\n",
       "<table border=\"1\" class=\"dataframe\">\n",
       "  <thead>\n",
       "    <tr style=\"text-align: right;\">\n",
       "      <th></th>\n",
       "      <th>features</th>\n",
       "      <th>importance</th>\n",
       "    </tr>\n",
       "  </thead>\n",
       "  <tbody>\n",
       "    <tr>\n",
       "      <th>3</th>\n",
       "      <td>単勝</td>\n",
       "      <td>89</td>\n",
       "    </tr>\n",
       "    <tr>\n",
       "      <th>4</th>\n",
       "      <td>人気</td>\n",
       "      <td>9</td>\n",
       "    </tr>\n",
       "    <tr>\n",
       "      <th>69</th>\n",
       "      <td>peds_58</td>\n",
       "      <td>5</td>\n",
       "    </tr>\n",
       "    <tr>\n",
       "      <th>70</th>\n",
       "      <td>peds_59</td>\n",
       "      <td>4</td>\n",
       "    </tr>\n",
       "    <tr>\n",
       "      <th>22</th>\n",
       "      <td>peds_11</td>\n",
       "      <td>4</td>\n",
       "    </tr>\n",
       "    <tr>\n",
       "      <th>30</th>\n",
       "      <td>peds_19</td>\n",
       "      <td>3</td>\n",
       "    </tr>\n",
       "    <tr>\n",
       "      <th>7</th>\n",
       "      <td>体重</td>\n",
       "      <td>3</td>\n",
       "    </tr>\n",
       "    <tr>\n",
       "      <th>37</th>\n",
       "      <td>peds_26</td>\n",
       "      <td>3</td>\n",
       "    </tr>\n",
       "    <tr>\n",
       "      <th>16</th>\n",
       "      <td>peds_5</td>\n",
       "      <td>2</td>\n",
       "    </tr>\n",
       "    <tr>\n",
       "      <th>15</th>\n",
       "      <td>peds_4</td>\n",
       "      <td>2</td>\n",
       "    </tr>\n",
       "  </tbody>\n",
       "</table>\n",
       "</div>"
      ],
      "text/plain": [
       "   features  importance\n",
       "3        単勝          89\n",
       "4        人気           9\n",
       "69  peds_58           5\n",
       "70  peds_59           4\n",
       "22  peds_11           4\n",
       "30  peds_19           3\n",
       "7        体重           3\n",
       "37  peds_26           3\n",
       "16   peds_5           2\n",
       "15   peds_4           2"
      ]
     },
     "execution_count": 86,
     "metadata": {},
     "output_type": "execute_result"
    }
   ],
   "source": [
    "me = ModelEvaluator(lgb_clf, return_tables)\n",
    "me.feature_importance(X_test).head(10) "
   ]
  },
  {
   "cell_type": "code",
   "execution_count": 87,
   "metadata": {},
   "outputs": [
    {
     "data": {
      "application/vnd.jupyter.widget-view+json": {
       "model_id": "542f822329ee489d9382bf34e639964d",
       "version_major": 2,
       "version_minor": 0
      },
      "text/plain": [
       "HBox(children=(FloatProgress(value=0.0), HTML(value='')))"
      ]
     },
     "metadata": {},
     "output_type": "display_data"
    },
    {
     "name": "stdout",
     "output_type": "stream",
     "text": [
      "\n"
     ]
    }
   ],
   "source": [
    "from tqdm.notebook import tqdm_notebook as tqdm\n",
    "\n",
    "gain = {}\n",
    "n_samples = 100\n",
    "for i in tqdm((range(n_samples))):\n",
    "    threshold = i/n_samples\n",
    "    gain[threshold] = me.calc_return(X_test, threshold)"
   ]
  },
  {
   "cell_type": "code",
   "execution_count": 88,
   "metadata": {},
   "outputs": [
    {
     "data": {
      "text/plain": [
       "<matplotlib.axes._subplots.AxesSubplot at 0x20f8fd615c8>"
      ]
     },
     "execution_count": 88,
     "metadata": {},
     "output_type": "execute_result"
    },
    {
     "data": {
      "image/png": "[encoded data removed]",
      "text/plain": [
       "<Figure size 432x288 with 1 Axes>"
      ]
     },
     "metadata": {
      "needs_background": "light"
     },
     "output_type": "display_data"
    }
   ],
   "source": [
    "pd.Series(gain).plot()"
   ]
  },
  {
   "cell_type": "code",
   "execution_count": 89,
   "metadata": {},
   "outputs": [],
   "source": [
    "def gain(return_func, X, n_samples=100, lower=50, min_threshold=0.5): #threshold0.5から1までを１００等分\n",
    "    gain = {}\n",
    "    for i in tqdm(range(n_samples)):\n",
    "        threshold = i/n_samples +min_threshold*(1-i/n_samples)\n",
    "        n_bets, money =return_func(X, threshold)\n",
    "        if n_bets>lower:\n",
    "            gain[n_bets] = (n_bets*100+ money)/(n_bets*100)\n",
    "    return pd.Series(gain)"
   ]
  },
  {
   "cell_type": "code",
   "execution_count": 92,
   "metadata": {},
   "outputs": [],
   "source": [
    "me = ModelEvaluator(lgb_clf, return_tables)"
   ]
  },
  {
   "cell_type": "code",
   "execution_count": 93,
   "metadata": {},
   "outputs": [
    {
     "data": {
      "application/vnd.jupyter.widget-view+json": {
       "model_id": "78410a28a58548909a4a73089e3ce6e6",
       "version_major": 2,
       "version_minor": 0
      },
      "text/plain": [
       "HBox(children=(FloatProgress(value=0.0), HTML(value='')))"
      ]
     },
     "metadata": {},
     "output_type": "display_data"
    },
    {
     "name": "stdout",
     "output_type": "stream",
     "text": [
      "\n"
     ]
    }
   ],
   "source": [
    "gain_data = gain(me.calc_return, X_test)"
   ]
  },
  {
   "cell_type": "code",
   "execution_count": 94,
   "metadata": {},
   "outputs": [
    {
     "data": {
      "text/plain": [
       "<matplotlib.axes._subplots.AxesSubplot at 0x20f9ecdcd48>"
      ]
     },
     "execution_count": 94,
     "metadata": {},
     "output_type": "execute_result"
    },
    {
     "data": {
      "image/png": "[encoded data removed]",
      "text/plain": [
       "<Figure size 432x288 with 1 Axes>"
      ]
     },
     "metadata": {
      "needs_background": "light"
     },
     "output_type": "display_data"
    }
   ],
   "source": [
    "gain_data.plot()"
   ]
  },
  {
   "cell_type": "code",
   "execution_count": 44,
   "metadata": {},
   "outputs": [
    {
     "data": {
      "text/html": [
       "<div>\n",
       "<style scoped>\n",
       "    .dataframe tbody tr th:only-of-type {\n",
       "        vertical-align: middle;\n",
       "    }\n",
       "\n",
       "    .dataframe tbody tr th {\n",
       "        vertical-align: top;\n",
       "    }\n",
       "\n",
       "    .dataframe thead th {\n",
       "        text-align: right;\n",
       "    }\n",
       "</style>\n",
       "<table border=\"1\" class=\"dataframe\">\n",
       "  <thead>\n",
       "    <tr style=\"text-align: right;\">\n",
       "      <th></th>\n",
       "      <th>0</th>\n",
       "      <th>1</th>\n",
       "      <th>2</th>\n",
       "      <th>3</th>\n",
       "    </tr>\n",
       "  </thead>\n",
       "  <tbody>\n",
       "    <tr>\n",
       "      <th>202010020706</th>\n",
       "      <td>単勝</td>\n",
       "      <td>4</td>\n",
       "      <td>1350</td>\n",
       "      <td>5</td>\n",
       "    </tr>\n",
       "    <tr>\n",
       "      <th>202010020706</th>\n",
       "      <td>複勝</td>\n",
       "      <td>4br12br9</td>\n",
       "      <td>470br160br400</td>\n",
       "      <td>8br2br6</td>\n",
       "    </tr>\n",
       "    <tr>\n",
       "      <th>202010020706</th>\n",
       "      <td>枠連</td>\n",
       "      <td>2 - 6</td>\n",
       "      <td>2460</td>\n",
       "      <td>7</td>\n",
       "    </tr>\n",
       "    <tr>\n",
       "      <th>202010020706</th>\n",
       "      <td>馬連</td>\n",
       "      <td>4 - 12</td>\n",
       "      <td>2630</td>\n",
       "      <td>9</td>\n",
       "    </tr>\n",
       "    <tr>\n",
       "      <th>202010020706</th>\n",
       "      <td>ワイド</td>\n",
       "      <td>4 - 12br4 - 9br9 - 12</td>\n",
       "      <td>890br3,800br930</td>\n",
       "      <td>8br39br10</td>\n",
       "    </tr>\n",
       "    <tr>\n",
       "      <th>...</th>\n",
       "      <td>...</td>\n",
       "      <td>...</td>\n",
       "      <td>...</td>\n",
       "      <td>...</td>\n",
       "    </tr>\n",
       "    <tr>\n",
       "      <th>202006050804</th>\n",
       "      <td>馬連</td>\n",
       "      <td>6 - 11</td>\n",
       "      <td>610</td>\n",
       "      <td>1</td>\n",
       "    </tr>\n",
       "    <tr>\n",
       "      <th>202006050804</th>\n",
       "      <td>ワイド</td>\n",
       "      <td>6 - 11br6 - 9br9 - 11</td>\n",
       "      <td>280br1,010br1,520</td>\n",
       "      <td>1br9br16</td>\n",
       "    </tr>\n",
       "    <tr>\n",
       "      <th>202006050804</th>\n",
       "      <td>馬単</td>\n",
       "      <td>6 → 11</td>\n",
       "      <td>960</td>\n",
       "      <td>1</td>\n",
       "    </tr>\n",
       "    <tr>\n",
       "      <th>202006050804</th>\n",
       "      <td>三連複</td>\n",
       "      <td>6 - 9 - 11</td>\n",
       "      <td>3900</td>\n",
       "      <td>9</td>\n",
       "    </tr>\n",
       "    <tr>\n",
       "      <th>202006050804</th>\n",
       "      <td>三連単</td>\n",
       "      <td>6 → 11 → 9</td>\n",
       "      <td>11450</td>\n",
       "      <td>19</td>\n",
       "    </tr>\n",
       "  </tbody>\n",
       "</table>\n",
       "<p>7451 rows × 4 columns</p>\n",
       "</div>"
      ],
      "text/plain": [
       "                0                      1                  2          3\n",
       "202010020706   単勝                      4               1350          5\n",
       "202010020706   複勝               4br12br9      470br160br400    8br2br6\n",
       "202010020706   枠連                  2 - 6               2460          7\n",
       "202010020706   馬連                 4 - 12               2630          9\n",
       "202010020706  ワイド  4 - 12br4 - 9br9 - 12    890br3,800br930  8br39br10\n",
       "...           ...                    ...                ...        ...\n",
       "202006050804   馬連                 6 - 11                610          1\n",
       "202006050804  ワイド  6 - 11br6 - 9br9 - 11  280br1,010br1,520   1br9br16\n",
       "202006050804   馬単                 6 → 11                960          1\n",
       "202006050804  三連複             6 - 9 - 11               3900          9\n",
       "202006050804  三連単             6 → 11 → 9              11450         19\n",
       "\n",
       "[7451 rows x 4 columns]"
      ]
     },
     "execution_count": 44,
     "metadata": {},
     "output_type": "execute_result"
    }
   ],
   "source": [
    "#単勝でも見てみる\n",
    "return_tables"
   ]
  },
  {
   "cell_type": "code",
   "execution_count": 95,
   "metadata": {},
   "outputs": [],
   "source": [
    "class Return:\n",
    "    def __init__(self, return_tables):\n",
    "        self.return_tables = return_tables\n",
    "        \n",
    "    #複勝行の加工 \n",
    "    @property\n",
    "    def fuku(self):\n",
    "        fuku = self.return_tables[self.return_tables[0] == '複勝'][[1,2]]\n",
    "        #勝ち馬の馬番\n",
    "        wins = fuku[1].str.split('br', expand = True).drop([3,4], axis=1)\n",
    "        wins.columns = ['win_0', 'win_1', 'win_2']\n",
    "        #払い戻し\n",
    "        returns = fuku[2].str.split('br', expand = True).drop([3,4], axis=1)\n",
    "        returns.columns = ['return_0', 'return_1', 'return_2']\n",
    "        \n",
    "        df = pd.concat([wins, returns], axis=1)\n",
    "        for column in df.columns:\n",
    "            df[column] = df[column].str.replace(',','')\n",
    "        return df.fillna(0).astype(int)\n",
    "    \n",
    "    @property\n",
    "    def tan(self):\n",
    "        tan = self.return_tables[self.return_tables[0] == '単勝'][[1,2]]\n",
    "        tan.columns = ['win', 'return']\n",
    "        \n",
    "        for column in tan.columns:\n",
    "            tan[column] = pd.to_numeric(tan[column], errors='coerce')\n",
    "        return tan"
   ]
  },
  {
   "cell_type": "code",
   "execution_count": 96,
   "metadata": {},
   "outputs": [],
   "source": [
    "rt = Return(return_tables)"
   ]
  },
  {
   "cell_type": "code",
   "execution_count": 97,
   "metadata": {},
   "outputs": [
    {
     "data": {
      "text/html": [
       "<div>\n",
       "<style scoped>\n",
       "    .dataframe tbody tr th:only-of-type {\n",
       "        vertical-align: middle;\n",
       "    }\n",
       "\n",
       "    .dataframe tbody tr th {\n",
       "        vertical-align: top;\n",
       "    }\n",
       "\n",
       "    .dataframe thead th {\n",
       "        text-align: right;\n",
       "    }\n",
       "</style>\n",
       "<table border=\"1\" class=\"dataframe\">\n",
       "  <thead>\n",
       "    <tr style=\"text-align: right;\">\n",
       "      <th></th>\n",
       "      <th>win</th>\n",
       "      <th>return</th>\n",
       "    </tr>\n",
       "  </thead>\n",
       "  <tbody>\n",
       "    <tr>\n",
       "      <th>202010020706</th>\n",
       "      <td>4.0</td>\n",
       "      <td>1350.0</td>\n",
       "    </tr>\n",
       "    <tr>\n",
       "      <th>202010020708</th>\n",
       "      <td>10.0</td>\n",
       "      <td>280.0</td>\n",
       "    </tr>\n",
       "    <tr>\n",
       "      <th>202010020709</th>\n",
       "      <td>3.0</td>\n",
       "      <td>180.0</td>\n",
       "    </tr>\n",
       "    <tr>\n",
       "      <th>202010020707</th>\n",
       "      <td>3.0</td>\n",
       "      <td>370.0</td>\n",
       "    </tr>\n",
       "    <tr>\n",
       "      <th>202010020711</th>\n",
       "      <td>12.0</td>\n",
       "      <td>2020.0</td>\n",
       "    </tr>\n",
       "    <tr>\n",
       "      <th>...</th>\n",
       "      <td>...</td>\n",
       "      <td>...</td>\n",
       "    </tr>\n",
       "    <tr>\n",
       "      <th>202006050805</th>\n",
       "      <td>12.0</td>\n",
       "      <td>1050.0</td>\n",
       "    </tr>\n",
       "    <tr>\n",
       "      <th>202006050801</th>\n",
       "      <td>9.0</td>\n",
       "      <td>1060.0</td>\n",
       "    </tr>\n",
       "    <tr>\n",
       "      <th>202006050802</th>\n",
       "      <td>12.0</td>\n",
       "      <td>830.0</td>\n",
       "    </tr>\n",
       "    <tr>\n",
       "      <th>202006050803</th>\n",
       "      <td>1.0</td>\n",
       "      <td>200.0</td>\n",
       "    </tr>\n",
       "    <tr>\n",
       "      <th>202006050804</th>\n",
       "      <td>6.0</td>\n",
       "      <td>230.0</td>\n",
       "    </tr>\n",
       "  </tbody>\n",
       "</table>\n",
       "<p>936 rows × 2 columns</p>\n",
       "</div>"
      ],
      "text/plain": [
       "               win  return\n",
       "202010020706   4.0  1350.0\n",
       "202010020708  10.0   280.0\n",
       "202010020709   3.0   180.0\n",
       "202010020707   3.0   370.0\n",
       "202010020711  12.0  2020.0\n",
       "...            ...     ...\n",
       "202006050805  12.0  1050.0\n",
       "202006050801   9.0  1060.0\n",
       "202006050802  12.0   830.0\n",
       "202006050803   1.0   200.0\n",
       "202006050804   6.0   230.0\n",
       "\n",
       "[936 rows x 2 columns]"
      ]
     },
     "execution_count": 97,
     "metadata": {},
     "output_type": "execute_result"
    }
   ],
   "source": [
    "rt.tan"
   ]
  },
  {
   "cell_type": "code",
   "execution_count": 98,
   "metadata": {},
   "outputs": [
    {
     "name": "stdout",
     "output_type": "stream",
     "text": [
      "<class 'pandas.core.frame.DataFrame'>\n",
      "Index: 936 entries, 202010020706 to 202006050804\n",
      "Data columns (total 2 columns):\n",
      " #   Column  Non-Null Count  Dtype  \n",
      "---  ------  --------------  -----  \n",
      " 0   win     933 non-null    float64\n",
      " 1   return  933 non-null    float64\n",
      "dtypes: float64(2)\n",
      "memory usage: 21.9+ KB\n"
     ]
    }
   ],
   "source": [
    "rt.tan.info()"
   ]
  },
  {
   "cell_type": "code",
   "execution_count": 99,
   "metadata": {},
   "outputs": [],
   "source": [
    "#単勝リターンを計算できるようにクラスを修正\n",
    "class ModelEvaluator:\n",
    "    def __init__(self, model, return_table):\n",
    "        self.model = model\n",
    "        self.fuku = Return(return_table).fuku\n",
    "        self.tan = Return(return_table).tan\n",
    "        \n",
    "    def predict_proba(self, X):\n",
    "        return self.model.predict_proba(X)[:,1]\n",
    "    \n",
    "    def predict(self, X, threshold=0.5):\n",
    "        y_pred = self.predict_proba(X)\n",
    "        return [0 if p<threshold else 1 for p in y_pred]\n",
    "    \n",
    "    def score(self, y_true, X):\n",
    "        return roc_auc_score(y_true, self.predict_proba(X))\n",
    "    \n",
    "    def feature_importance(self, X, n_display=20):\n",
    "        importances = pd.DataFrame({'features': X.columns, 'importance': self.model.feature_importances_})\n",
    "        return importances.sort_values('importance', ascending=False)[:n_display]\n",
    "    \n",
    "    def pred_table(self, X, threshold=0.5, bet_only=True):\n",
    "        pred_table = X.copy()[['馬番']]\n",
    "        pred_table['pred'] = self.predict(X, threshold)\n",
    "        if bet_only:\n",
    "            return pred_table[pred_table['pred']==1]['馬番']\n",
    "        else:\n",
    "            return pred_table\n",
    "        \n",
    "    def fuku_return(self, X, threshold=0.5):\n",
    "        pred_table = self.pred_table(X, threshold)\n",
    "        n_bets = len(pred_table)\n",
    "        money = -100*n_bets\n",
    "        df = self.fuku.copy()\n",
    "        df = df.merge(pred_table, left_index=True, right_index=True, how='right')\n",
    "        for i in range(3):\n",
    "            money +=df[df['win_{}'.format(i)]==df['馬番']]['return_{}'.format(i)].sum()\n",
    "        return n_bets, money\n",
    "    \n",
    "    def tan_return(self, X, threshold=0.5):\n",
    "        pred_table = self.pred_table(X, threshold)\n",
    "        n_bets = len(pred_table)\n",
    "        money = -100*n_bets\n",
    "        df = self.tan.copy()\n",
    "        df = df.merge(pred_table, left_index=True, right_index=True, how='right')\n",
    "       \n",
    "        money +=df[df['win']==df['馬番']]['return'].sum()\n",
    "        return n_bets, money"
   ]
  },
  {
   "cell_type": "code",
   "execution_count": 100,
   "metadata": {},
   "outputs": [
    {
     "data": {
      "text/plain": [
       "(5240, -115940.0)"
      ]
     },
     "execution_count": 100,
     "metadata": {},
     "output_type": "execute_result"
    }
   ],
   "source": [
    "me = ModelEvaluator(lgb_clf, return_tables)\n",
    "me.fuku_return(X_test)"
   ]
  },
  {
   "cell_type": "code",
   "execution_count": 101,
   "metadata": {},
   "outputs": [
    {
     "data": {
      "text/plain": [
       "(5240, -97870.0)"
      ]
     },
     "execution_count": 101,
     "metadata": {},
     "output_type": "execute_result"
    }
   ],
   "source": [
    "me.tan_return(X_test)"
   ]
  },
  {
   "cell_type": "code",
   "execution_count": 104,
   "metadata": {},
   "outputs": [
    {
     "data": {
      "application/vnd.jupyter.widget-view+json": {
       "model_id": "041889d9b5394ffaa1b8705f7975b5a6",
       "version_major": 2,
       "version_minor": 0
      },
      "text/plain": [
       "HBox(children=(FloatProgress(value=0.0), HTML(value='')))"
      ]
     },
     "metadata": {},
     "output_type": "display_data"
    },
    {
     "name": "stdout",
     "output_type": "stream",
     "text": [
      "\n"
     ]
    }
   ],
   "source": [
    "gain_data = gain(me.tan_return, X_test)"
   ]
  },
  {
   "cell_type": "code",
   "execution_count": 105,
   "metadata": {},
   "outputs": [
    {
     "data": {
      "application/vnd.jupyter.widget-view+json": {
       "model_id": "33793157fa25477bbf4d2419798bafa6",
       "version_major": 2,
       "version_minor": 0
      },
      "text/plain": [
       "HBox(children=(FloatProgress(value=0.0), HTML(value='')))"
      ]
     },
     "metadata": {},
     "output_type": "display_data"
    },
    {
     "name": "stdout",
     "output_type": "stream",
     "text": [
      "\n"
     ]
    }
   ],
   "source": [
    "fuku = gain(me.fuku_return, X_test)"
   ]
  },
  {
   "cell_type": "code",
   "execution_count": 106,
   "metadata": {},
   "outputs": [
    {
     "data": {
      "text/plain": [
       "5240    0.778740\n",
       "5167    0.781866\n",
       "5108    0.784984\n",
       "5006    0.790651\n",
       "4895    0.797508\n",
       "          ...   \n",
       "267     0.884644\n",
       "207     0.897101\n",
       "187     0.913369\n",
       "186     0.918280\n",
       "162     0.910494\n",
       "Length: 79, dtype: float64"
      ]
     },
     "execution_count": 106,
     "metadata": {},
     "output_type": "execute_result"
    }
   ],
   "source": [
    "fuku"
   ]
  },
  {
   "cell_type": "code",
   "execution_count": 107,
   "metadata": {},
   "outputs": [
    {
     "data": {
      "text/plain": [
       "<matplotlib.axes._subplots.AxesSubplot at 0x20f93421688>"
      ]
     },
     "execution_count": 107,
     "metadata": {},
     "output_type": "execute_result"
    },
    {
     "data": {
      "image/png": "[encoded data removed]",
      "text/plain": [
       "<Figure size 432x288 with 1 Axes>"
      ]
     },
     "metadata": {
      "needs_background": "light"
     },
     "output_type": "display_data"
    }
   ],
   "source": [
    "gain_data.rename('tan').plot(legend=True)\n",
    "fuku.rename('fuku').plot(legend=True)"
   ]
  },
  {
   "cell_type": "code",
   "execution_count": 109,
   "metadata": {},
   "outputs": [
    {
     "data": {
      "text/html": [
       "<div>\n",
       "<style scoped>\n",
       "    .dataframe tbody tr th:only-of-type {\n",
       "        vertical-align: middle;\n",
       "    }\n",
       "\n",
       "    .dataframe tbody tr th {\n",
       "        vertical-align: top;\n",
       "    }\n",
       "\n",
       "    .dataframe thead th {\n",
       "        text-align: right;\n",
       "    }\n",
       "</style>\n",
       "<table border=\"1\" class=\"dataframe\">\n",
       "  <thead>\n",
       "    <tr style=\"text-align: right;\">\n",
       "      <th></th>\n",
       "      <th>features</th>\n",
       "      <th>importance</th>\n",
       "    </tr>\n",
       "  </thead>\n",
       "  <tbody>\n",
       "    <tr>\n",
       "      <th>3</th>\n",
       "      <td>単勝</td>\n",
       "      <td>89</td>\n",
       "    </tr>\n",
       "    <tr>\n",
       "      <th>4</th>\n",
       "      <td>人気</td>\n",
       "      <td>9</td>\n",
       "    </tr>\n",
       "    <tr>\n",
       "      <th>69</th>\n",
       "      <td>peds_58</td>\n",
       "      <td>5</td>\n",
       "    </tr>\n",
       "    <tr>\n",
       "      <th>70</th>\n",
       "      <td>peds_59</td>\n",
       "      <td>4</td>\n",
       "    </tr>\n",
       "    <tr>\n",
       "      <th>22</th>\n",
       "      <td>peds_11</td>\n",
       "      <td>4</td>\n",
       "    </tr>\n",
       "    <tr>\n",
       "      <th>30</th>\n",
       "      <td>peds_19</td>\n",
       "      <td>3</td>\n",
       "    </tr>\n",
       "    <tr>\n",
       "      <th>7</th>\n",
       "      <td>体重</td>\n",
       "      <td>3</td>\n",
       "    </tr>\n",
       "    <tr>\n",
       "      <th>37</th>\n",
       "      <td>peds_26</td>\n",
       "      <td>3</td>\n",
       "    </tr>\n",
       "    <tr>\n",
       "      <th>16</th>\n",
       "      <td>peds_5</td>\n",
       "      <td>2</td>\n",
       "    </tr>\n",
       "    <tr>\n",
       "      <th>15</th>\n",
       "      <td>peds_4</td>\n",
       "      <td>2</td>\n",
       "    </tr>\n",
       "  </tbody>\n",
       "</table>\n",
       "</div>"
      ],
      "text/plain": [
       "   features  importance\n",
       "3        単勝          89\n",
       "4        人気           9\n",
       "69  peds_58           5\n",
       "70  peds_59           4\n",
       "22  peds_11           4\n",
       "30  peds_19           3\n",
       "7        体重           3\n",
       "37  peds_26           3\n",
       "16   peds_5           2\n",
       "15   peds_4           2"
      ]
     },
     "execution_count": 109,
     "metadata": {},
     "output_type": "execute_result"
    }
   ],
   "source": [
    "me.feature_importance(X_test).head(10)"
   ]
  },
  {
   "cell_type": "code",
   "execution_count": 116,
   "metadata": {},
   "outputs": [
    {
     "data": {
      "text/plain": [
       "0.8097562552089997"
      ]
     },
     "execution_count": 116,
     "metadata": {},
     "output_type": "execute_result"
    }
   ],
   "source": [
    "me.score(y_test,X_test)"
   ]
  },
  {
   "cell_type": "code",
   "execution_count": 117,
   "metadata": {},
   "outputs": [],
   "source": [
    "#回収率に悪影響を出している可能性のある単勝と人気列を削除してみる\n",
    "\n",
    "X_train2 = X_train.drop(['単勝','人気'], axis=1)\n",
    "X_test2 = X_test.drop(['単勝','人気'], axis=1)"
   ]
  },
  {
   "cell_type": "code",
   "execution_count": 120,
   "metadata": {},
   "outputs": [
    {
     "name": "stdout",
     "output_type": "stream",
     "text": [
      "[LightGBM] [Warning] min_data_in_leaf is set=300, min_child_samples=20 will be ignored. Current value: min_data_in_leaf=300\n"
     ]
    },
    {
     "data": {
      "text/plain": [
       "LGBMClassifier(class_weight='balanced', min_data_in_leaf=300, n_estimators=70,\n",
       "               num_leaves=3, random_state=100)"
      ]
     },
     "execution_count": 120,
     "metadata": {},
     "output_type": "execute_result"
    }
   ],
   "source": [
    "import lightgbm as lgb\n",
    "from sklearn.metrics import roc_curve, roc_auc_score\n",
    "\n",
    "params = {\n",
    "    'num_leaves':3, #デフォルトは34\n",
    "    'n_estimators':70,\n",
    "    'min_data_in_leaf':300,\n",
    "    'class_weight':'balanced',\n",
    "    'random_state':100\n",
    "}\n",
    "\n",
    "lgb_clf = lgb.LGBMClassifier(**params)\n",
    "lgb_clf.fit(X_train2.values, y_train.values) #値に日本語が入っているとエラー"
   ]
  },
  {
   "cell_type": "code",
   "execution_count": 121,
   "metadata": {},
   "outputs": [
    {
     "data": {
      "text/plain": [
       "0.6767671684570554"
      ]
     },
     "execution_count": 121,
     "metadata": {},
     "output_type": "execute_result"
    }
   ],
   "source": [
    "me = ModelEvaluator(lgb_clf, return_tables)\n",
    "me.score(y_test, X_test2)"
   ]
  },
  {
   "cell_type": "code",
   "execution_count": 122,
   "metadata": {},
   "outputs": [
    {
     "data": {
      "application/vnd.jupyter.widget-view+json": {
       "model_id": "a103645e00174d1e8128dedb91b04740",
       "version_major": 2,
       "version_minor": 0
      },
      "text/plain": [
       "HBox(children=(FloatProgress(value=0.0), HTML(value='')))"
      ]
     },
     "metadata": {},
     "output_type": "display_data"
    },
    {
     "name": "stdout",
     "output_type": "stream",
     "text": [
      "\n"
     ]
    },
    {
     "data": {
      "application/vnd.jupyter.widget-view+json": {
       "model_id": "0cd61926296e4442b1c88b73be102a1f",
       "version_major": 2,
       "version_minor": 0
      },
      "text/plain": [
       "HBox(children=(FloatProgress(value=0.0), HTML(value='')))"
      ]
     },
     "metadata": {},
     "output_type": "display_data"
    },
    {
     "name": "stdout",
     "output_type": "stream",
     "text": [
      "\n"
     ]
    }
   ],
   "source": [
    "tan2 = gain(me.tan_return, X_test2)\n",
    "fuku2 = gain(me.fuku_return, X_test2)"
   ]
  },
  {
   "cell_type": "code",
   "execution_count": 126,
   "metadata": {},
   "outputs": [
    {
     "data": {
      "text/plain": [
       "<matplotlib.axes._subplots.AxesSubplot at 0x20fa0fe9088>"
      ]
     },
     "execution_count": 126,
     "metadata": {},
     "output_type": "execute_result"
    },
    {
     "data": {
      "image/png": "[encoded data removed]",
      "text/plain": [
       "<Figure size 432x288 with 1 Axes>"
      ]
     },
     "metadata": {
      "needs_background": "light"
     },
     "output_type": "display_data"
    }
   ],
   "source": [
    "tan2.rename('tan2').plot(legend=True)\n",
    "gain_data.rename('tan').plot(legend=True)"
   ]
  },
  {
   "cell_type": "code",
   "execution_count": 127,
   "metadata": {},
   "outputs": [
    {
     "data": {
      "text/plain": [
       "<matplotlib.axes._subplots.AxesSubplot at 0x20f932b4d08>"
      ]
     },
     "execution_count": 127,
     "metadata": {},
     "output_type": "execute_result"
    },
    {
     "data": {
      "image/png": "[encoded data removed]",
      "text/plain": [
       "<Figure size 432x288 with 1 Axes>"
      ]
     },
     "metadata": {
      "needs_background": "light"
     },
     "output_type": "display_data"
    }
   ],
   "source": [
    "fuku2.rename('fuku2').plot(legend=True)\n",
    "fuku.rename('fuku').plot(legend=True)"
   ]
  },
  {
   "cell_type": "code",
   "execution_count": 129,
   "metadata": {},
   "outputs": [
    {
     "data": {
      "text/html": [
       "<div>\n",
       "<style scoped>\n",
       "    .dataframe tbody tr th:only-of-type {\n",
       "        vertical-align: middle;\n",
       "    }\n",
       "\n",
       "    .dataframe tbody tr th {\n",
       "        vertical-align: top;\n",
       "    }\n",
       "\n",
       "    .dataframe thead th {\n",
       "        text-align: right;\n",
       "    }\n",
       "</style>\n",
       "<table border=\"1\" class=\"dataframe\">\n",
       "  <thead>\n",
       "    <tr style=\"text-align: right;\">\n",
       "      <th></th>\n",
       "      <th>features</th>\n",
       "      <th>importance</th>\n",
       "    </tr>\n",
       "  </thead>\n",
       "  <tbody>\n",
       "    <tr>\n",
       "      <th>8</th>\n",
       "      <td>賞金_ave</td>\n",
       "      <td>34</td>\n",
       "    </tr>\n",
       "    <tr>\n",
       "      <th>3</th>\n",
       "      <td>horse_id</td>\n",
       "      <td>26</td>\n",
       "    </tr>\n",
       "    <tr>\n",
       "      <th>127</th>\n",
       "      <td>jockey_id_01088</td>\n",
       "      <td>12</td>\n",
       "    </tr>\n",
       "    <tr>\n",
       "      <th>214</th>\n",
       "      <td>jockey_id_05339</td>\n",
       "      <td>11</td>\n",
       "    </tr>\n",
       "    <tr>\n",
       "      <th>5</th>\n",
       "      <td>体重</td>\n",
       "      <td>10</td>\n",
       "    </tr>\n",
       "    <tr>\n",
       "      <th>2</th>\n",
       "      <td>斤量</td>\n",
       "      <td>8</td>\n",
       "    </tr>\n",
       "    <tr>\n",
       "      <th>92</th>\n",
       "      <td>jockey_id_01014</td>\n",
       "      <td>7</td>\n",
       "    </tr>\n",
       "    <tr>\n",
       "      <th>77</th>\n",
       "      <td>jockey_id_00666</td>\n",
       "      <td>5</td>\n",
       "    </tr>\n",
       "    <tr>\n",
       "      <th>7</th>\n",
       "      <td>着順_ave</td>\n",
       "      <td>4</td>\n",
       "    </tr>\n",
       "    <tr>\n",
       "      <th>4</th>\n",
       "      <td>齢</td>\n",
       "      <td>3</td>\n",
       "    </tr>\n",
       "    <tr>\n",
       "      <th>25</th>\n",
       "      <td>peds_16</td>\n",
       "      <td>3</td>\n",
       "    </tr>\n",
       "    <tr>\n",
       "      <th>41</th>\n",
       "      <td>peds_32</td>\n",
       "      <td>3</td>\n",
       "    </tr>\n",
       "    <tr>\n",
       "      <th>29</th>\n",
       "      <td>peds_20</td>\n",
       "      <td>2</td>\n",
       "    </tr>\n",
       "    <tr>\n",
       "      <th>28</th>\n",
       "      <td>peds_19</td>\n",
       "      <td>2</td>\n",
       "    </tr>\n",
       "    <tr>\n",
       "      <th>153</th>\n",
       "      <td>jockey_id_01126</td>\n",
       "      <td>2</td>\n",
       "    </tr>\n",
       "    <tr>\n",
       "      <th>24</th>\n",
       "      <td>peds_15</td>\n",
       "      <td>1</td>\n",
       "    </tr>\n",
       "    <tr>\n",
       "      <th>35</th>\n",
       "      <td>peds_26</td>\n",
       "      <td>1</td>\n",
       "    </tr>\n",
       "    <tr>\n",
       "      <th>251</th>\n",
       "      <td>course_len_1400</td>\n",
       "      <td>1</td>\n",
       "    </tr>\n",
       "    <tr>\n",
       "      <th>208</th>\n",
       "      <td>jockey_id_05212</td>\n",
       "      <td>1</td>\n",
       "    </tr>\n",
       "    <tr>\n",
       "      <th>13</th>\n",
       "      <td>peds_4</td>\n",
       "      <td>1</td>\n",
       "    </tr>\n",
       "  </tbody>\n",
       "</table>\n",
       "</div>"
      ],
      "text/plain": [
       "            features  importance\n",
       "8             賞金_ave          34\n",
       "3           horse_id          26\n",
       "127  jockey_id_01088          12\n",
       "214  jockey_id_05339          11\n",
       "5                 体重          10\n",
       "2                 斤量           8\n",
       "92   jockey_id_01014           7\n",
       "77   jockey_id_00666           5\n",
       "7             着順_ave           4\n",
       "4                  齢           3\n",
       "25           peds_16           3\n",
       "41           peds_32           3\n",
       "29           peds_20           2\n",
       "28           peds_19           2\n",
       "153  jockey_id_01126           2\n",
       "24           peds_15           1\n",
       "35           peds_26           1\n",
       "251  course_len_1400           1\n",
       "208  jockey_id_05212           1\n",
       "13            peds_4           1"
      ]
     },
     "execution_count": 129,
     "metadata": {},
     "output_type": "execute_result"
    }
   ],
   "source": [
    "me.feature_importance(X_test2)"
   ]
  },
  {
   "cell_type": "code",
   "execution_count": null,
   "metadata": {},
   "outputs": [],
   "source": [
    "#考察\n",
    "#単勝と人気のデータを説明変数から除外することは、単勝、複勝ともに的中率減少の影響がオッズ上昇の効果を上回り、\n",
    "#回収率を低下させる結果となった。"
   ]
  }
 ],
 "metadata": {
  "kernelspec": {
   "display_name": "Python 3",
   "language": "python",
   "name": "python3"
  },
  "language_info": {
   "codemirror_mode": {
    "name": "ipython",
    "version": 3
   },
   "file_extension": ".py",
   "mimetype": "text/x-python",
   "name": "python",
   "nbconvert_exporter": "python",
   "pygments_lexer": "ipython3",
   "version": "3.7.6"
  }
 },
 "nbformat": 4,
 "nbformat_minor": 4
}
