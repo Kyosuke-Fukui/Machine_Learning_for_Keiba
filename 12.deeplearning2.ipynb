{
 "cells": [
  {
   "cell_type": "code",
   "execution_count": 1,
   "metadata": {},
   "outputs": [
    {
     "name": "stdout",
     "output_type": "stream",
     "text": [
      "Downloading http://fashion-mnist.s3-website.eu-central-1.amazonaws.com/train-images-idx3-ubyte.gz to FashionMNIST\\FashionMNIST\\raw\\train-images-idx3-ubyte.gz\n"
     ]
    },
    {
     "data": {
      "application/vnd.jupyter.widget-view+json": {
       "model_id": "d558b2c413fa4126b259b70291aaa4fc",
       "version_major": 2,
       "version_minor": 0
      },
      "text/plain": [
       "HBox(children=(FloatProgress(value=1.0, bar_style='info', max=1.0), HTML(value='')))"
      ]
     },
     "metadata": {},
     "output_type": "display_data"
    },
    {
     "name": "stdout",
     "output_type": "stream",
     "text": [
      "Extracting FashionMNIST\\FashionMNIST\\raw\\train-images-idx3-ubyte.gz to FashionMNIST\\FashionMNIST\\raw\n",
      "Downloading http://fashion-mnist.s3-website.eu-central-1.amazonaws.com/train-labels-idx1-ubyte.gz to FashionMNIST\\FashionMNIST\\raw\\train-labels-idx1-ubyte.gz\n"
     ]
    },
    {
     "data": {
      "application/vnd.jupyter.widget-view+json": {
       "model_id": "2074bcf1ebaf49ce89d5c057c644d101",
       "version_major": 2,
       "version_minor": 0
      },
      "text/plain": [
       "HBox(children=(FloatProgress(value=1.0, bar_style='info', max=1.0), HTML(value='')))"
      ]
     },
     "metadata": {},
     "output_type": "display_data"
    },
    {
     "name": "stdout",
     "output_type": "stream",
     "text": [
      "Extracting FashionMNIST\\FashionMNIST\\raw\\train-labels-idx1-ubyte.gz to FashionMNIST\\FashionMNIST\\raw\n",
      "Downloading http://fashion-mnist.s3-website.eu-central-1.amazonaws.com/t10k-images-idx3-ubyte.gz to FashionMNIST\\FashionMNIST\\raw\\t10k-images-idx3-ubyte.gz\n"
     ]
    },
    {
     "data": {
      "application/vnd.jupyter.widget-view+json": {
       "model_id": "95a236c36a294d2eb4a0b03811c81e7e",
       "version_major": 2,
       "version_minor": 0
      },
      "text/plain": [
       "HBox(children=(FloatProgress(value=1.0, bar_style='info', max=1.0), HTML(value='')))"
      ]
     },
     "metadata": {},
     "output_type": "display_data"
    },
    {
     "name": "stdout",
     "output_type": "stream",
     "text": [
      "Extracting FashionMNIST\\FashionMNIST\\raw\\t10k-images-idx3-ubyte.gz to FashionMNIST\\FashionMNIST\\raw\n",
      "Downloading http://fashion-mnist.s3-website.eu-central-1.amazonaws.com/t10k-labels-idx1-ubyte.gz to FashionMNIST\\FashionMNIST\\raw\\t10k-labels-idx1-ubyte.gz\n"
     ]
    },
    {
     "data": {
      "application/vnd.jupyter.widget-view+json": {
       "model_id": "4527745b967d4822b97c11d6052558cc",
       "version_major": 2,
       "version_minor": 0
      },
      "text/plain": [
       "HBox(children=(FloatProgress(value=1.0, bar_style='info', max=1.0), HTML(value='')))"
      ]
     },
     "metadata": {},
     "output_type": "display_data"
    },
    {
     "name": "stdout",
     "output_type": "stream",
     "text": [
      "Extracting FashionMNIST\\FashionMNIST\\raw\\t10k-labels-idx1-ubyte.gz to FashionMNIST\\FashionMNIST\\raw\n",
      "Processing...\n"
     ]
    },
    {
     "name": "stderr",
     "output_type": "stream",
     "text": [
      "C:\\Users\\owner\\anaconda3\\lib\\site-packages\\torchvision\\datasets\\mnist.py:480: UserWarning: The given NumPy array is not writeable, and PyTorch does not support non-writeable tensors. This means you can write to the underlying (supposedly non-writeable) NumPy array using the tensor. You may want to copy the array to protect its data or make it writeable before converting it to a tensor. This type of warning will be suppressed for the rest of this program. (Triggered internally at  ..\\torch\\csrc\\utils\\tensor_numpy.cpp:141.)\n",
      "  return torch.from_numpy(parsed.astype(m[2], copy=False)).view(*s)\n"
     ]
    },
    {
     "name": "stdout",
     "output_type": "stream",
     "text": [
      "Done!\n"
     ]
    }
   ],
   "source": [
    "#多クラス分類\n",
    "from torchvision.datasets import FashionMNIST\n",
    "from torchvision import transforms\n",
    "\n",
    "train = FashionMNIST('FashionMNIST', train=True, download=True, transform=transforms.ToTensor())\n",
    "test = FashionMNIST('FashionMNIST', train=False, download=True, transform=transforms.ToTensor())"
   ]
  },
  {
   "cell_type": "code",
   "execution_count": 20,
   "metadata": {},
   "outputs": [],
   "source": [
    "import torch\n",
    "#１０種類の画像を分類（判別）できるか\n",
    "X_train = train.data.type(torch.float32)\n",
    "t_train = train.targets\n",
    "X_test = test.data.type(torch.float32)\n",
    "t_test = test.targets"
   ]
  },
  {
   "cell_type": "code",
   "execution_count": 11,
   "metadata": {},
   "outputs": [
    {
     "data": {
      "text/plain": [
       "<matplotlib.image.AxesImage at 0x24a4dcb1748>"
      ]
     },
     "execution_count": 11,
     "metadata": {},
     "output_type": "execute_result"
    },
    {
     "data": {
      "image/png": "[encoded data removed]",
      "text/plain": [
       "<Figure size 432x288 with 1 Axes>"
      ]
     },
     "metadata": {
      "needs_background": "light"
     },
     "output_type": "display_data"
    }
   ],
   "source": [
    "import matplotlib.pyplot as plt\n",
    "\n",
    "plt.imshow(X_train[0], cmap='gray')"
   ]
  },
  {
   "cell_type": "code",
   "execution_count": 12,
   "metadata": {},
   "outputs": [
    {
     "data": {
      "text/plain": [
       "tensor([[  0.,   0.,   0.,   0.,   0.,   0.,   0.,   0.,   0.,   0.,   0.,   0.,\n",
       "           0.,   0.,   0.,   0.,   0.,   0.,   0.,   0.,   0.,   0.,   0.,   0.,\n",
       "           0.,   0.,   0.,   0.],\n",
       "        [  0.,   0.,   0.,   0.,   0.,   0.,   0.,   0.,   0.,   0.,   0.,   0.,\n",
       "           0.,   0.,   0.,   0.,   0.,   0.,   0.,   0.,   0.,   0.,   0.,   0.,\n",
       "           0.,   0.,   0.,   0.],\n",
       "        [  0.,   0.,   0.,   0.,   0.,   0.,   0.,   0.,   0.,   0.,   0.,   0.,\n",
       "           0.,   0.,   0.,   0.,   0.,   0.,   0.,   0.,   0.,   0.,   0.,   0.,\n",
       "           0.,   0.,   0.,   0.],\n",
       "        [  0.,   0.,   0.,   0.,   0.,   0.,   0.,   0.,   0.,   0.,   0.,   0.,\n",
       "           1.,   0.,   0.,  13.,  73.,   0.,   0.,   1.,   4.,   0.,   0.,   0.,\n",
       "           0.,   1.,   1.,   0.],\n",
       "        [  0.,   0.,   0.,   0.,   0.,   0.,   0.,   0.,   0.,   0.,   0.,   0.,\n",
       "           3.,   0.,  36., 136., 127.,  62.,  54.,   0.,   0.,   0.,   1.,   3.,\n",
       "           4.,   0.,   0.,   3.],\n",
       "        [  0.,   0.,   0.,   0.,   0.,   0.,   0.,   0.,   0.,   0.,   0.,   0.,\n",
       "           6.,   0., 102., 204., 176., 134., 144., 123.,  23.,   0.,   0.,   0.,\n",
       "           0.,  12.,  10.,   0.],\n",
       "        [  0.,   0.,   0.,   0.,   0.,   0.,   0.,   0.,   0.,   0.,   0.,   0.,\n",
       "           0.,   0., 155., 236., 207., 178., 107., 156., 161., 109.,  64.,  23.,\n",
       "          77., 130.,  72.,  15.],\n",
       "        [  0.,   0.,   0.,   0.,   0.,   0.,   0.,   0.,   0.,   0.,   0.,   1.,\n",
       "           0.,  69., 207., 223., 218., 216., 216., 163., 127., 121., 122., 146.,\n",
       "         141.,  88., 172.,  66.],\n",
       "        [  0.,   0.,   0.,   0.,   0.,   0.,   0.,   0.,   0.,   1.,   1.,   1.,\n",
       "           0., 200., 232., 232., 233., 229., 223., 223., 215., 213., 164., 127.,\n",
       "         123., 196., 229.,   0.],\n",
       "        [  0.,   0.,   0.,   0.,   0.,   0.,   0.,   0.,   0.,   0.,   0.,   0.,\n",
       "           0., 183., 225., 216., 223., 228., 235., 227., 224., 222., 224., 221.,\n",
       "         223., 245., 173.,   0.],\n",
       "        [  0.,   0.,   0.,   0.,   0.,   0.,   0.,   0.,   0.,   0.,   0.,   0.,\n",
       "           0., 193., 228., 218., 213., 198., 180., 212., 210., 211., 213., 223.,\n",
       "         220., 243., 202.,   0.],\n",
       "        [  0.,   0.,   0.,   0.,   0.,   0.,   0.,   0.,   0.,   1.,   3.,   0.,\n",
       "          12., 219., 220., 212., 218., 192., 169., 227., 208., 218., 224., 212.,\n",
       "         226., 197., 209.,  52.],\n",
       "        [  0.,   0.,   0.,   0.,   0.,   0.,   0.,   0.,   0.,   0.,   6.,   0.,\n",
       "          99., 244., 222., 220., 218., 203., 198., 221., 215., 213., 222., 220.,\n",
       "         245., 119., 167.,  56.],\n",
       "        [  0.,   0.,   0.,   0.,   0.,   0.,   0.,   0.,   0.,   4.,   0.,   0.,\n",
       "          55., 236., 228., 230., 228., 240., 232., 213., 218., 223., 234., 217.,\n",
       "         217., 209.,  92.,   0.],\n",
       "        [  0.,   0.,   1.,   4.,   6.,   7.,   2.,   0.,   0.,   0.,   0.,   0.,\n",
       "         237., 226., 217., 223., 222., 219., 222., 221., 216., 223., 229., 215.,\n",
       "         218., 255.,  77.,   0.],\n",
       "        [  0.,   3.,   0.,   0.,   0.,   0.,   0.,   0.,   0.,  62., 145., 204.,\n",
       "         228., 207., 213., 221., 218., 208., 211., 218., 224., 223., 219., 215.,\n",
       "         224., 244., 159.,   0.],\n",
       "        [  0.,   0.,   0.,   0.,  18.,  44.,  82., 107., 189., 228., 220., 222.,\n",
       "         217., 226., 200., 205., 211., 230., 224., 234., 176., 188., 250., 248.,\n",
       "         233., 238., 215.,   0.],\n",
       "        [  0.,  57., 187., 208., 224., 221., 224., 208., 204., 214., 208., 209.,\n",
       "         200., 159., 245., 193., 206., 223., 255., 255., 221., 234., 221., 211.,\n",
       "         220., 232., 246.,   0.],\n",
       "        [  3., 202., 228., 224., 221., 211., 211., 214., 205., 205., 205., 220.,\n",
       "         240.,  80., 150., 255., 229., 221., 188., 154., 191., 210., 204., 209.,\n",
       "         222., 228., 225.,   0.],\n",
       "        [ 98., 233., 198., 210., 222., 229., 229., 234., 249., 220., 194., 215.,\n",
       "         217., 241.,  65.,  73., 106., 117., 168., 219., 221., 215., 217., 223.,\n",
       "         223., 224., 229.,  29.],\n",
       "        [ 75., 204., 212., 204., 193., 205., 211., 225., 216., 185., 197., 206.,\n",
       "         198., 213., 240., 195., 227., 245., 239., 223., 218., 212., 209., 222.,\n",
       "         220., 221., 230.,  67.],\n",
       "        [ 48., 203., 183., 194., 213., 197., 185., 190., 194., 192., 202., 214.,\n",
       "         219., 221., 220., 236., 225., 216., 199., 206., 186., 181., 177., 172.,\n",
       "         181., 205., 206., 115.],\n",
       "        [  0., 122., 219., 193., 179., 171., 183., 196., 204., 210., 213., 207.,\n",
       "         211., 210., 200., 196., 194., 191., 195., 191., 198., 192., 176., 156.,\n",
       "         167., 177., 210.,  92.],\n",
       "        [  0.,   0.,  74., 189., 212., 191., 175., 172., 175., 181., 185., 188.,\n",
       "         189., 188., 193., 198., 204., 209., 210., 210., 211., 188., 188., 194.,\n",
       "         192., 216., 170.,   0.],\n",
       "        [  2.,   0.,   0.,   0.,  66., 200., 222., 237., 239., 242., 246., 243.,\n",
       "         244., 221., 220., 193., 191., 179., 182., 182., 181., 176., 166., 168.,\n",
       "          99.,  58.,   0.,   0.],\n",
       "        [  0.,   0.,   0.,   0.,   0.,   0.,   0.,  40.,  61.,  44.,  72.,  41.,\n",
       "          35.,   0.,   0.,   0.,   0.,   0.,   0.,   0.,   0.,   0.,   0.,   0.,\n",
       "           0.,   0.,   0.,   0.],\n",
       "        [  0.,   0.,   0.,   0.,   0.,   0.,   0.,   0.,   0.,   0.,   0.,   0.,\n",
       "           0.,   0.,   0.,   0.,   0.,   0.,   0.,   0.,   0.,   0.,   0.,   0.,\n",
       "           0.,   0.,   0.,   0.],\n",
       "        [  0.,   0.,   0.,   0.,   0.,   0.,   0.,   0.,   0.,   0.,   0.,   0.,\n",
       "           0.,   0.,   0.,   0.,   0.,   0.,   0.,   0.,   0.,   0.,   0.,   0.,\n",
       "           0.,   0.,   0.,   0.]])"
      ]
     },
     "execution_count": 12,
     "metadata": {},
     "output_type": "execute_result"
    }
   ],
   "source": [
    "X_train[0]#28*28の配列"
   ]
  },
  {
   "cell_type": "code",
   "execution_count": 21,
   "metadata": {},
   "outputs": [
    {
     "data": {
      "text/plain": [
       "tensor([9, 0, 0,  ..., 3, 0, 5])"
      ]
     },
     "execution_count": 21,
     "metadata": {},
     "output_type": "execute_result"
    }
   ],
   "source": [
    "t_train #X_train[0]の配列なら正解は9となる"
   ]
  },
  {
   "cell_type": "code",
   "execution_count": 22,
   "metadata": {},
   "outputs": [],
   "source": [
    "from torch.utils.data import TensorDataset, DataLoader\n",
    "\n",
    "ds_train = TensorDataset(X_train, t_train)\n",
    "ds_test = TensorDataset(X_test, t_test)\n",
    "\n",
    "loader_train = DataLoader(ds_train, batch_size=64, shuffle=True)\n",
    "loader_test = DataLoader(ds_test, batch_size=64, shuffle=False)"
   ]
  },
  {
   "cell_type": "code",
   "execution_count": 23,
   "metadata": {},
   "outputs": [
    {
     "data": {
      "text/plain": [
       "torch.Size([60000, 28, 28])"
      ]
     },
     "execution_count": 23,
     "metadata": {},
     "output_type": "execute_result"
    }
   ],
   "source": [
    "X_train.shape "
   ]
  },
  {
   "cell_type": "code",
   "execution_count": 24,
   "metadata": {},
   "outputs": [],
   "source": [
    "from torch import nn\n",
    "\n",
    "n_in = 28*28\n",
    "n_mid = 128\n",
    "n_out = 10\n",
    "\n",
    "model = nn.Sequential(\n",
    "    nn.Flatten(),\n",
    "    nn.Linear(n_in, n_mid),\n",
    "    nn.Sigmoid(),\n",
    "    nn.Linear(n_mid, n_out)\n",
    ")"
   ]
  },
  {
   "cell_type": "code",
   "execution_count": 25,
   "metadata": {},
   "outputs": [
    {
     "data": {
      "text/plain": [
       "tensor([[-0.4237, -0.1674, -0.8751,  ...,  0.1653,  0.6152,  0.7895],\n",
       "        [-0.1744,  0.0421, -0.5306,  ...,  0.3412,  0.3141,  0.8778],\n",
       "        [ 0.1035, -0.2449, -0.7750,  ...,  0.4933,  0.1405,  0.9180],\n",
       "        ...,\n",
       "        [ 0.0193,  0.0639, -0.5888,  ...,  0.4397,  0.3247,  0.8677],\n",
       "        [-0.1044,  0.2914, -0.6018,  ...,  0.3503,  0.3211,  0.8146],\n",
       "        [-0.1886,  0.2703, -0.8232,  ...,  0.8169,  0.4797,  0.7427]],\n",
       "       grad_fn=<AddmmBackward>)"
      ]
     },
     "execution_count": 25,
     "metadata": {},
     "output_type": "execute_result"
    }
   ],
   "source": [
    "model(X_train)"
   ]
  },
  {
   "cell_type": "code",
   "execution_count": 26,
   "metadata": {},
   "outputs": [
    {
     "data": {
      "text/plain": [
       "torch.Size([60000, 10])"
      ]
     },
     "execution_count": 26,
     "metadata": {},
     "output_type": "execute_result"
    }
   ],
   "source": [
    "model(X_train).shape"
   ]
  },
  {
   "cell_type": "code",
   "execution_count": 27,
   "metadata": {},
   "outputs": [
    {
     "data": {
      "text/plain": [
       "tensor([[0.0527, 0.0680, 0.0335,  ..., 0.0949, 0.1488, 0.1771],\n",
       "        [0.0651, 0.0808, 0.0456,  ..., 0.1090, 0.1061, 0.1864],\n",
       "        [0.0850, 0.0600, 0.0353,  ..., 0.1255, 0.0882, 0.1919],\n",
       "        ...,\n",
       "        [0.0718, 0.0751, 0.0391,  ..., 0.1093, 0.0974, 0.1677],\n",
       "        [0.0699, 0.1038, 0.0425,  ..., 0.1101, 0.1070, 0.1752],\n",
       "        [0.0606, 0.0958, 0.0321,  ..., 0.1656, 0.1182, 0.1537]],\n",
       "       grad_fn=<SoftmaxBackward>)"
      ]
     },
     "execution_count": 27,
     "metadata": {},
     "output_type": "execute_result"
    }
   ],
   "source": [
    "#ソフトマックス関数(各値が出力される確率を返す)\n",
    "from torch.nn import functional as F\n",
    "\n",
    "F.softmax(model(X_train), dim=1)"
   ]
  },
  {
   "cell_type": "code",
   "execution_count": 19,
   "metadata": {},
   "outputs": [
    {
     "data": {
      "text/plain": [
       "tensor([1.0000, 1.0000, 1.0000,  ..., 1.0000, 1.0000, 1.0000],\n",
       "       grad_fn=<SumBackward1>)"
      ]
     },
     "execution_count": 19,
     "metadata": {},
     "output_type": "execute_result"
    }
   ],
   "source": [
    "F.softmax(model(X_train), dim=1).sum(axis=1)"
   ]
  },
  {
   "cell_type": "code",
   "execution_count": 28,
   "metadata": {},
   "outputs": [
    {
     "data": {
      "text/plain": [
       "tensor([9, 0, 0,  ..., 3, 0, 5])"
      ]
     },
     "execution_count": 28,
     "metadata": {},
     "output_type": "execute_result"
    }
   ],
   "source": [
    "t_train"
   ]
  },
  {
   "cell_type": "code",
   "execution_count": 29,
   "metadata": {},
   "outputs": [],
   "source": [
    "#尤度関数\n",
    "#0.1771*0.0651*0.0850．．．正解の確率を掛け合わせたもの（1に近いほど良い）\n",
    "\n",
    "#損失関数：E＝-log(L) 交差エントロピー誤差関数\n",
    "\n",
    "loss_fn = nn.CrossEntropyLoss()"
   ]
  },
  {
   "cell_type": "code",
   "execution_count": 30,
   "metadata": {},
   "outputs": [
    {
     "data": {
      "text/plain": [
       "tensor(2.3861, grad_fn=<NllLossBackward>)"
      ]
     },
     "execution_count": 30,
     "metadata": {},
     "output_type": "execute_result"
    }
   ],
   "source": [
    "loss_fn(model(X_train), t_train)"
   ]
  },
  {
   "cell_type": "code",
   "execution_count": 31,
   "metadata": {},
   "outputs": [],
   "source": [
    "import torch.optim as optim\n",
    "\n",
    "optimizer = optim.Adam(model.parameters())"
   ]
  },
  {
   "cell_type": "code",
   "execution_count": 36,
   "metadata": {},
   "outputs": [
    {
     "name": "stdout",
     "output_type": "stream",
     "text": [
      "epoch:0, train:[loss=0.899,accuracy=0.712], test:[loss:0.702, accuracy=0.749]\n",
      "epoch:1, train:[loss=0.709,accuracy=0.741], test:[loss:0.733, accuracy=0.739]\n",
      "epoch:2, train:[loss=0.702,accuracy=0.746], test:[loss:0.694, accuracy=0.735]\n",
      "epoch:3, train:[loss=0.664,accuracy=0.755], test:[loss:0.672, accuracy=0.765]\n",
      "epoch:4, train:[loss=0.648,accuracy=0.763], test:[loss:0.619, accuracy=0.780]\n",
      "epoch:5, train:[loss=0.645,accuracy=0.764], test:[loss:0.646, accuracy=0.764]\n",
      "epoch:6, train:[loss=0.637,accuracy=0.769], test:[loss:0.636, accuracy=0.770]\n",
      "epoch:7, train:[loss=0.630,accuracy=0.766], test:[loss:0.651, accuracy=0.753]\n",
      "epoch:8, train:[loss=0.632,accuracy=0.769], test:[loss:0.620, accuracy=0.783]\n",
      "epoch:9, train:[loss=0.617,accuracy=0.776], test:[loss:0.607, accuracy=0.770]\n"
     ]
    }
   ],
   "source": [
    "import numpy as np\n",
    "\n",
    "for epoch in range(10):\n",
    "    loss_train = []\n",
    "    loss_test = []\n",
    "    train_num = 0\n",
    "    train_true_num = 0\n",
    "    test_num = 0\n",
    "    test_true_num = 0\n",
    "    \n",
    "    model.train()\n",
    "    for X, t in loader_train:\n",
    "        optimizer.zero_grad()\n",
    "        y = model(X)\n",
    "        loss = loss_fn(y, t)\n",
    "        loss.backward()\n",
    "        optimizer.step()\n",
    "        #予測値\n",
    "        pred = y.argmax(1) #横方向に最大値をとる（縦に取る場合はargmax(0)）\n",
    "        loss_train.append(loss.tolist())\n",
    "        train_num +=t.shape[0] #データの長さ\n",
    "        train_true_num +=(pred==t).sum().item()\n",
    "        \n",
    "    model.eval()\n",
    "    for X, t in loader_train:\n",
    "        y = model(X)\n",
    "        loss = loss_fn(y, t)\n",
    "        #予測値\n",
    "        pred = y.argmax(1) #横方向に最大値をとる（縦に取る場合はargmax[1]）\n",
    "        loss_test.append(loss.tolist())\n",
    "        test_num +=t.shape[0] #データの長さ\n",
    "        test_true_num +=(pred==t).sum().item()\n",
    "    \n",
    "    print('epoch:{}, train:[loss={:.3F},accuracy={:.3F}], test:[loss:{:.3F}, accuracy={:.3F}]'.\\\n",
    "         format(epoch, np.mean(loss_train), train_true_num/train_num, np.mean(loss_test), test_true_num/test_num))"
   ]
  }
 ],
 "metadata": {
  "kernelspec": {
   "display_name": "Python 3",
   "language": "python",
   "name": "python3"
  },
  "language_info": {
   "codemirror_mode": {
    "name": "ipython",
    "version": 3
   },
   "file_extension": ".py",
   "mimetype": "text/x-python",
   "name": "python",
   "nbconvert_exporter": "python",
   "pygments_lexer": "ipython3",
   "version": "3.7.6"
  }
 },
 "nbformat": 4,
 "nbformat_minor": 4
}
